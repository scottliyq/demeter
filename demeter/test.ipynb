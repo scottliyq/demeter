{
 "cells": [
  {
   "cell_type": "code",
   "execution_count": 1,
   "metadata": {},
   "outputs": [
    {
     "name": "stderr",
     "output_type": "stream",
     "text": [
      "100%|██████████| 15/15 [03:33<00:00, 14.26s/it]\n"
     ]
    }
   ],
   "source": [
    "from download import ChainType, DataSource, downloader\n",
    "from datetime import datetime\n",
    "import os\n",
    "\n",
    "os.environ['GOOGLE_APPLICATION_CREDENTIALS'] = \"../../env/demeter.json\"\n",
    "\n",
    "pool_id_tie500 = '0x88e6a0c2ddd26feeb64f039a2c41296fcb3f5640'\n",
    "\n",
    "pool_id_tie3000 = '0x8ad599c3a0ff1de082011efddc58f1908eb6e6d8'\n",
    "\n",
    "start_date = datetime.strptime(\"2022-1-1\", \"%Y-%m-%d\").date()\n",
    "end_date = datetime.strptime( \"2022-10-31\", \"%Y-%m-%d\").date()\n",
    "# ChainType.Ethereum,0x8ad599c3a0ff1de082011efddc58f1908eb6e6d8,2022-01-01,2022-10-16,DataSource.BigQuery,./data\n",
    "downloader.download_by_day(ChainType.Ethereum,\n",
    "                           pool_id_tie500,\n",
    "                           start_date,\n",
    "                           end_date,\n",
    "                           DataSource.BigQuery,\n",
    "                           \"./data\")\n"
   ]
  },
  {
   "cell_type": "code",
   "execution_count": 4,
   "metadata": {},
   "outputs": [
    {
     "data": {
      "text/plain": [
       "Decimal('50.57')"
      ]
     },
     "execution_count": 4,
     "metadata": {},
     "output_type": "execute_result"
    }
   ],
   "source": [
    "from decimal import Decimal\n",
    "\n",
    "Decimal('50.5679').quantize(Decimal('0.00'))"
   ]
  },
  {
   "cell_type": "code",
   "execution_count": 3,
   "metadata": {},
   "outputs": [
    {
     "name": "stdout",
     "output_type": "stream",
     "text": [
      "2.2880859375\n",
      "2.4130859375\n",
      "2.9130859375\n",
      "2.6630859375\n",
      "2.1630859375\n",
      "2.2255859375\n",
      "2.7255859375\n",
      "2.9755859375\n",
      "2.4755859375\n",
      "2.3505859375\n",
      "2.3580859375\n",
      "2.4830859375\n",
      "2.9232786622069162\n",
      "2.7330859375\n",
      "2.2330859375\n",
      "2.2955859375\n",
      "2.7955859375\n",
      "2.4313258404529137\n",
      "2.4205859375\n",
      "2.4280859374999997\n",
      "2.4370414791316644\n",
      "2.8532786622069164\n",
      "2.3030859374999997\n",
      "2.3655859374999997\n",
      "2.9734721345730333\n",
      "2.376747593439355\n",
      "2.4905859374999997\n",
      "2.484096644697298\n",
      "2.378131349492288\n",
      "2.7832786622069166\n",
      "2.5930859375\n",
      "2.3730859374999995\n",
      "2.4355859374999995\n",
      "2.6555859375\n",
      "2.9034721345730334\n",
      "2.376321731233857\n",
      "2.490151030933513\n",
      "2.433330244158258\n",
      "2.337576539382073\n",
      "2.7132786622069167\n",
      "2.5230859375000003\n",
      "2.4430859374999994\n",
      "2.4776349618311566\n",
      "2.5855859375000003\n",
      "2.8334721345730336\n",
      "2.4463217312338568\n",
      "2.4385950665283405\n",
      "2.3680935278826984\n",
      "2.349403349891609\n",
      "2.643278662206917\n",
      "2.4530859375000005\n",
      "2.494178290863256\n",
      "2.4986017246523846\n",
      "2.5155859375000005\n",
      "2.7634721345730338\n",
      "2.4895917730300217\n",
      "2.386263865094004\n",
      "2.3054555832626042\n",
      "2.377220830645958\n",
      "2.573278662206917\n",
      "2.3830859375000006\n",
      "2.5449203779948224\n",
      "2.4286017246523848\n",
      "2.4455859375000006\n",
      "2.693472134573034\n",
      "2.4250340038639426\n",
      "2.382038489129094\n",
      "2.375455583262604\n",
      "2.447220830645958\n",
      "2.503278662206917\n",
      "2.3475002959179316\n",
      "2.4749203779948226\n",
      "2.358601724652385\n",
      "2.375585937500001\n",
      "2.623472134573034\n",
      "2.355034003863943\n",
      "2.4403425608585314\n",
      "2.445455583262604\n",
      "2.4975487803089678\n",
      "2.4332786622069174\n",
      "2.373677922741623\n",
      "2.4049203779948227\n",
      "2.306533714040306\n",
      "2.3393563240257307\n",
      "2.5534721345730342\n",
      "2.388741885534525\n",
      "2.487110844746785\n",
      "2.4933610146504073\n",
      "2.51699471129819\n",
      "2.3632786622069175\n",
      "2.4331731964078793\n",
      "2.3527691880290345\n",
      "2.376533714040306\n",
      "2.4093563240257305\n",
      "2.4834721345730344\n",
      "2.4449186990768275\n",
      "2.4230984381908414\n"
     ]
    }
   ],
   "source": [
    "from random import random\n",
    "import optunity\n",
    "import optunity.metrics\n",
    "\n",
    "def my_function(x,y):\n",
    "    print(f\"{x}, {y}\")\n",
    "    return random()\n",
    "\n",
    "opt = optunity.maximize(my_function,  num_evals=100,solver_name='particle swarm', x=[1.1, 1.25],y=[2,3])"
   ]
  },
  {
   "cell_type": "code",
   "execution_count": null,
   "metadata": {},
   "outputs": [],
   "source": []
  }
 ],
 "metadata": {
  "kernelspec": {
   "display_name": "Python 3.10.6 ('py310btc')",
   "language": "python",
   "name": "python3"
  },
  "language_info": {
   "codemirror_mode": {
    "name": "ipython",
    "version": 3
   },
   "file_extension": ".py",
   "mimetype": "text/x-python",
   "name": "python",
   "nbconvert_exporter": "python",
   "pygments_lexer": "ipython3",
   "version": "3.10.6"
  },
  "orig_nbformat": 4,
  "vscode": {
   "interpreter": {
    "hash": "abcf340a9bfefc31ecafadbd09739eb19479e953f794e77621cd271022fdffd8"
   }
  }
 },
 "nbformat": 4,
 "nbformat_minor": 2
}
