{
 "cells": [
  {
   "cell_type": "code",
   "execution_count": null,
   "metadata": {},
   "outputs": [],
   "source": [
    "numbers = {1,2,3,4,5,6,7,8,9}\n",
    "\n",
    "ocupied = {1,7,5}\n",
    "target  =175\n",
    "\n",
    "for i in numbers:\n",
    "    first = 0\n",
    "    \n",
    "    if i not in ocupied:\n",
    "\n",
    "        ocupied.add(i)\n",
    "        if len(ocupied) == target:\n",
    "            break\n"
   ]
  }
 ],
 "metadata": {
  "kernelspec": {
   "display_name": "Python 3.10.6 ('py310')",
   "language": "python",
   "name": "python3"
  },
  "language_info": {
   "name": "python",
   "version": "3.10.6"
  },
  "orig_nbformat": 4,
  "vscode": {
   "interpreter": {
    "hash": "40c265f6b8f0318de229e2059f068d3f7a5596d29a8be131186337440a5587fe"
   }
  }
 },
 "nbformat": 4,
 "nbformat_minor": 2
}
