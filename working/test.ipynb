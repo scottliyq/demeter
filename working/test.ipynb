{
 "cells": [
  {
   "cell_type": "code",
   "execution_count": 1,
   "metadata": {},
   "outputs": [
    {
     "ename": "ModuleNotFoundError",
     "evalue": "No module named 'download'",
     "output_type": "error",
     "traceback": [
      "\u001b[0;31m---------------------------------------------------------------------------\u001b[0m",
      "\u001b[0;31mModuleNotFoundError\u001b[0m                       Traceback (most recent call last)",
      "\u001b[1;32m/Users/scottliyq/go/hardhat_space/demeter/working/test.ipynb Cell 1\u001b[0m in \u001b[0;36m<cell line: 1>\u001b[0;34m()\u001b[0m\n\u001b[0;32m----> <a href='vscode-notebook-cell:/Users/scottliyq/go/hardhat_space/demeter/working/test.ipynb#W0sZmlsZQ%3D%3D?line=0'>1</a>\u001b[0m \u001b[39mfrom\u001b[39;00m \u001b[39mdownload\u001b[39;00m \u001b[39mimport\u001b[39;00m ChainType, DataSource, downloader\n\u001b[1;32m      <a href='vscode-notebook-cell:/Users/scottliyq/go/hardhat_space/demeter/working/test.ipynb#W0sZmlsZQ%3D%3D?line=1'>2</a>\u001b[0m \u001b[39mfrom\u001b[39;00m \u001b[39mdatetime\u001b[39;00m \u001b[39mimport\u001b[39;00m datetime\n\u001b[1;32m      <a href='vscode-notebook-cell:/Users/scottliyq/go/hardhat_space/demeter/working/test.ipynb#W0sZmlsZQ%3D%3D?line=2'>3</a>\u001b[0m \u001b[39mimport\u001b[39;00m \u001b[39mos\u001b[39;00m\n",
      "\u001b[0;31mModuleNotFoundError\u001b[0m: No module named 'download'"
     ]
    }
   ],
   "source": [
    "from download import ChainType, DataSource, downloader\n",
    "from datetime import datetime\n",
    "import os\n",
    "\n",
    "os.environ['GOOGLE_APPLICATION_CREDENTIALS'] = \"/Users/scottliyq/Nutstore Files/.symlinks/坚果云/antalpha/Google/demeter-bigquery-6789a6502c06.json\"\n",
    "\n",
    "pool_id_tie500 = '0x88e6a0c2ddd26feeb64f039a2c41296fcb3f5640'\n",
    "\n",
    "pool_id_tie3000 = '0x8ad599c3a0ff1de082011efddc58f1908eb6e6d8'\n",
    "\n",
    "start_date = datetime.strptime(\"2022-10-16\", \"%Y-%m-%d\").date()\n",
    "end_date = datetime.strptime( \"2022-10-30\", \"%Y-%m-%d\").date()\n",
    "# ChainType.Ethereum,0x8ad599c3a0ff1de082011efddc58f1908eb6e6d8,2022-01-01,2022-10-16,DataSource.BigQuery,./data\n",
    "downloader.download_by_day(ChainType.Ethereum,\n",
    "                           pool_id_tie500,\n",
    "                           start_date,\n",
    "                           end_date,\n",
    "                           DataSource.BigQuery,\n",
    "                           \"./data\")\n"
   ]
  },
  {
   "cell_type": "code",
   "execution_count": null,
   "metadata": {},
   "outputs": [],
   "source": []
  }
 ],
 "metadata": {
  "kernelspec": {
   "display_name": "Python 3.10.6 ('py310')",
   "language": "python",
   "name": "python3"
  },
  "language_info": {
   "codemirror_mode": {
    "name": "ipython",
    "version": 3
   },
   "file_extension": ".py",
   "mimetype": "text/x-python",
   "name": "python",
   "nbconvert_exporter": "python",
   "pygments_lexer": "ipython3",
   "version": "3.10.6"
  },
  "orig_nbformat": 4,
  "vscode": {
   "interpreter": {
    "hash": "40c265f6b8f0318de229e2059f068d3f7a5596d29a8be131186337440a5587fe"
   }
  }
 },
 "nbformat": 4,
 "nbformat_minor": 2
}
