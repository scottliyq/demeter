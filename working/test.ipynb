{
 "cells": [
  {
   "cell_type": "code",
   "execution_count": 1,
   "metadata": {},
   "outputs": [
    {
     "name": "stdout",
     "output_type": "stream",
     "text": [
      "Got error from yahoo api for ticker FB, Error: {'code': 'Not Found', 'description': 'No data found, symbol may be delisted'}\n",
      "- FB: No data found for this date range, symbol may be delisted\n"
     ]
    },
    {
     "data": {
      "text/plain": [
       "nan"
      ]
     },
     "execution_count": 1,
     "metadata": {},
     "output_type": "execute_result"
    }
   ],
   "source": [
    "%matplotlib inline\n",
    "import quantstats as qs\n",
    "\n",
    "# extend pandas functionality with metrics, etc.\n",
    "qs.extend_pandas()\n",
    "\n",
    "# fetch the daily returns for a stock\n",
    "stock = qs.utils.download_returns('GOOG')\n",
    "\n",
    "# show sharpe ratio\n",
    "qs.stats.sharpe(stock)\n",
    "\n",
    "# or using extend_pandas() :)\n",
    "stock.sharpe()"
   ]
  },
  {
   "cell_type": "code",
   "execution_count": null,
   "metadata": {},
   "outputs": [],
   "source": []
  }
 ],
 "metadata": {
  "kernelspec": {
   "display_name": "Python 3.10.6 ('py310btc')",
   "language": "python",
   "name": "python3"
  },
  "language_info": {
   "codemirror_mode": {
    "name": "ipython",
    "version": 3
   },
   "file_extension": ".py",
   "mimetype": "text/x-python",
   "name": "python",
   "nbconvert_exporter": "python",
   "pygments_lexer": "ipython3",
   "version": "3.10.6"
  },
  "orig_nbformat": 4,
  "vscode": {
   "interpreter": {
    "hash": "abcf340a9bfefc31ecafadbd09739eb19479e953f794e77621cd271022fdffd8"
   }
  }
 },
 "nbformat": 4,
 "nbformat_minor": 2
}
