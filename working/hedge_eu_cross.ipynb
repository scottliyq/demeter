{
 "cells": [
  {
   "cell_type": "code",
   "execution_count": 14,
   "metadata": {},
   "outputs": [
    {
     "data": {
      "text/plain": [
       "AccountStatus(timestamp=None, base_balance=Decimal('0'), quote_balance=Decimal('9.086246208065263978039615'), base_uncollected=Decimal('0'), quote_uncollected=Decimal('0'), base_in_position=Decimal('9055.640475875471429384830753'), quote_in_position=Decimal('8566.247379617237520956535244'), net_value=Decimal('19320.31482598835941133420817'), price=Decimal('1.19700000000000006394884621840901672840118408203125'))"
      ]
     },
     "execution_count": 14,
     "metadata": {},
     "output_type": "execute_result"
    }
   ],
   "source": [
    "from hedge_stand import HedgeST\n",
    "from datetime import date, datetime\n",
    "from demeter import Broker,PoolStatus, TokenInfo, PoolBaseInfo, Runner, Strategy, Asset, AccountStatus, BuyAction, SellAction, RowData, \\\n",
    "    ChainType\n",
    "import optunity\n",
    "import optunity.metrics\n",
    "from decimal import Decimal\n",
    "import pandas as pd\n",
    "import  matplotlib.pylab as plt\n",
    "\n",
    "from demeter._typing import PositionInfo, ZelosError, AddLiquidityAction, RemoveLiquidityAction, BuyAction, SellAction, \\\n",
    "    CollectFeeAction, AccountStatus, DECIMAL_ZERO, UnitDecimal\n",
    "# import logging \n",
    "# from logging import handlers\n",
    "\n",
    "from strategy_ploter import  plot_position_return_decomposition\n",
    "\n",
    "\n",
    "%matplotlib inline\n",
    "usdc_flow = 9688.17\n",
    "token_flow = 8050\n",
    "\n",
    "\n",
    "token = TokenInfo(name=\"token\", decimal=18)\n",
    "usdc = TokenInfo(name=\"usdc\", decimal=6)\n",
    "pool = PoolBaseInfo(usdc, token, 0.3, usdc)\n",
    "#收益计算基础参数\n",
    "# net_value_base = 'ETH'\n",
    "broker = Broker(pool)\n",
    "current_price = Decimal(1.211)\n",
    "current_tick = broker.price_to_tick(current_price)\n",
    "current_status = PoolStatus(None, current_tick, DECIMAL_ZERO, DECIMAL_ZERO, DECIMAL_ZERO, current_price)\n",
    "\n",
    "asset = Asset(usdc, usdc_flow)\n",
    "asset1 = Asset(token, token_flow)\n",
    "broker.pool_status = current_status\n",
    "broker.set_asset(usdc, usdc_flow)\n",
    "broker.set_asset(token, token_flow)\n",
    "pos  = broker.add_liquidity(1.006,1.4593,usdc_flow,token_flow)\n",
    "\n",
    "# runner_instance.enable_notify = False\n",
    "# runner_instance.strategy = HedgeST(decimal_a,decimal_hedge_spread_split,decimal_hedge_spread_rate,alpha,ema_max_spread_rate)\n",
    "# runner_instance.set_assets([Asset(usdc, 10000)])\n",
    "# save_path = f\"../demeter/data/ETH/{pool_id_1_eth_u_500}\"\n",
    "# runner_instance.data_path = save_path\n",
    "# runner_instance.load_data(ChainType.Ethereum.name,\n",
    "#                             pool_id_1_eth_u_500,\n",
    "#                             DATE_START,\n",
    "#                            DATE_END)\n",
    "# runner_instance.run(enable_notify=False)\n",
    "status = broker.get_account_status(Decimal(1.197))\n",
    "\n",
    "status\n"
   ]
  },
  {
   "cell_type": "code",
   "execution_count": null,
   "metadata": {},
   "outputs": [],
   "source": []
  },
  {
   "cell_type": "code",
   "execution_count": 15,
   "metadata": {},
   "outputs": [
    {
     "data": {
      "text/plain": [
       "PoolStatus(timestamp=None, current_tick=274409, current_liquidity=Decimal('0'), in_amount0=Decimal('0'), in_amount1=Decimal('0'), price=Decimal('1.2110000000000000763833440942107699811458587646484375'))"
      ]
     },
     "execution_count": 15,
     "metadata": {},
     "output_type": "execute_result"
    }
   ],
   "source": [
    "broker.pool_status"
   ]
  },
  {
   "cell_type": "code",
   "execution_count": 16,
   "metadata": {},
   "outputs": [
    {
     "data": {
      "text/plain": [
       "PoolStatus(timestamp=None, current_tick=274409, current_liquidity=Decimal('0'), in_amount0=Decimal('0'), in_amount1=Decimal('0'), price=Decimal('1.2110000000000000763833440942107699811458587646484375'))"
      ]
     },
     "execution_count": 16,
     "metadata": {},
     "output_type": "execute_result"
    }
   ],
   "source": [
    "\n",
    "current_status"
   ]
  },
  {
   "cell_type": "code",
   "execution_count": 17,
   "metadata": {},
   "outputs": [
    {
     "data": {
      "text/plain": [
       "AccountStatus(timestamp=None, base_balance=Decimal('1251.667069580659184868770439'), quote_balance=Decimal('0'), base_uncollected=Decimal('0'), quote_uncollected=Decimal('0'), base_in_position=Decimal('2748.332930419340815131229561'), quote_in_position=Decimal('0.9999999999999996079931020275'), net_value=Decimal('5201.999999999999528807708637'), price=Decimal('1202'))"
      ]
     },
     "execution_count": 17,
     "metadata": {},
     "output_type": "execute_result"
    }
   ],
   "source": [
    "eth = TokenInfo(name=\"eth\", decimal=18)\n",
    "usdc = TokenInfo(name=\"usdc\", decimal=6)\n",
    "pool = PoolBaseInfo(usdc, eth, 0.3, usdc)\n",
    "#收益计算基础参数\n",
    "# net_value_base = 'ETH'\n",
    "broker = Broker(pool)\n",
    "current_price = Decimal(1202)\n",
    "current_tick = broker.price_to_tick(current_price)\n",
    "broker.set_asset(usdc, 4000)\n",
    "broker.set_asset(eth, 1)\n",
    "\n",
    "current_status = PoolStatus(None, current_tick, DECIMAL_ZERO, DECIMAL_ZERO, DECIMAL_ZERO,current_price)\n",
    "\n",
    "# asset = Asset(usdc, 3000)\n",
    "# asset1 = Asset(eth, 1)\n",
    "broker.pool_status = current_status\n",
    "\n",
    "pos  = broker.add_liquidity(1000,1300,2800,1)\n",
    "status = broker.get_account_status(current_price)\n",
    "\n",
    "status"
   ]
  },
  {
   "cell_type": "code",
   "execution_count": null,
   "metadata": {},
   "outputs": [],
   "source": []
  }
 ],
 "metadata": {
  "kernelspec": {
   "display_name": "Python 3.10.6 ('py310btc')",
   "language": "python",
   "name": "python3"
  },
  "language_info": {
   "codemirror_mode": {
    "name": "ipython",
    "version": 3
   },
   "file_extension": ".py",
   "mimetype": "text/x-python",
   "name": "python",
   "nbconvert_exporter": "python",
   "pygments_lexer": "ipython3",
   "version": "3.10.6"
  },
  "orig_nbformat": 4,
  "vscode": {
   "interpreter": {
    "hash": "abcf340a9bfefc31ecafadbd09739eb19479e953f794e77621cd271022fdffd8"
   }
  }
 },
 "nbformat": 4,
 "nbformat_minor": 2
}
