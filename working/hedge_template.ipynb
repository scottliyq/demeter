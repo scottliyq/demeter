{
 "cells": [
  {
   "cell_type": "code",
   "execution_count": 13,
   "metadata": {},
   "outputs": [
    {
     "name": "stderr",
     "output_type": "stream",
     "text": [
      "2022-11-02 18:02:25,381 - INFO - start load files...\n",
      "2022-11-02 18:02:25,437 - INFO - load file complete, preparing...\n",
      "2022-11-02 18:02:26,020 - INFO - data has benn prepared\n",
      "2022-11-02 18:02:26,021 - INFO - init strategy...\n",
      "2022-11-02 18:02:26,036 - INFO - start main loop...\n"
     ]
    },
    {
     "name": "stdout",
     "output_type": "stream",
     "text": [
      "hedge rebalance ETH -3.214455619277130386236457047 1555.473334276241900134790886 profit: 0E-51\n",
      "prepare to add LP: rate:1.07548828125 price:1555.473334276241900134790886 down:1446.295009805567697937007053 up:1672.893342810962113885200393 init symbol amount:7.714693486265112998342749713,init usdc amount:12000.00000000000011102230246\n",
      "eth_value 0 usdc value 4.244064950286770310748806\n"
     ]
    },
    {
     "name": "stderr",
     "output_type": "stream",
     "text": [
      "  8%|████████▌                                                                                                    | 226/2880 [00:01<00:11, 223.27it/s]"
     ]
    },
    {
     "name": "stdout",
     "output_type": "stream",
     "text": [
      "2022-10-29 03:16:00 hedge buy ETH, 1588.958594157874233603513626, 0.6569215883489938057494809375, 107.64\n"
     ]
    },
    {
     "name": "stderr",
     "output_type": "stream",
     "text": [
      " 17%|██████████████████▋                                                                                          | 494/2880 [00:01<00:07, 311.04it/s]"
     ]
    },
    {
     "name": "stdout",
     "output_type": "stream",
     "text": [
      "2022-10-29 08:16:00 hedge buy ETH, 1614.585115863849898336975405, 0.6569215883489938057494809375, 206.85\n",
      "2022-10-29 08:33:00 hedge buy ETH, 1638.165969072530402583769608, 0.6569215883489938057494809375, 313.63\n"
     ]
    },
    {
     "name": "stderr",
     "output_type": "stream",
     "text": [
      " 77%|███████████████████████████████████████████████████████████████████████████████████▎                        | 2222/2880 [00:08<00:02, 277.46it/s]"
     ]
    },
    {
     "name": "stdout",
     "output_type": "stream",
     "text": [
      "2022-10-30 12:31:00 hedge sell ETH,trade price: 1589.912207689939532189550797,trade amount: 0.6569215883489938057494809375, profit: 63.42\n"
     ]
    },
    {
     "name": "stderr",
     "output_type": "stream",
     "text": [
      "100%|████████████████████████████████████████████████████████████████████████████████████████████████████████████| 2880/2880 [00:11<00:00, 258.17it/s]\n",
      "2022-11-02 18:02:37,200 - INFO - main loop finished, start calculate evaluating indicator...\n",
      "2022-11-02 18:02:37,207 - INFO - run evaluating indicator\n",
      "2022-11-02 18:02:37,208 - INFO - back testing finish\n",
      "2022-11-02 18:02:37,492 - INFO - start load files...\n",
      "2022-11-02 18:02:37,528 - INFO - load file complete, preparing...\n",
      "2022-11-02 18:02:37,784 - INFO - data has benn prepared\n",
      "2022-11-02 18:02:37,785 - INFO - init strategy...\n",
      "2022-11-02 18:02:37,793 - INFO - start main loop...\n"
     ]
    },
    {
     "name": "stdout",
     "output_type": "stream",
     "text": [
      "hedge rebalance ETH -3.214455619277130386236457047 1555.473334276241900134790886 profit: 0E-51\n",
      "prepare to add LP: rate:1.08798828125 price:1555.473334276241900134790886 down:1429.678389999884844931357928 up:1692.336759489415137636885279 init symbol amount:7.714693486265112998342749713,init usdc amount:12000.00000000000011102230246\n",
      "eth_value 0 usdc value 3.300200914941604676244732\n"
     ]
    },
    {
     "name": "stderr",
     "output_type": "stream",
     "text": [
      " 13%|██████████████                                                                                               | 370/2880 [00:01<00:08, 296.91it/s]"
     ]
    },
    {
     "name": "stdout",
     "output_type": "stream",
     "text": [
      "2022-10-29 05:27:00 hedge buy ETH, 1596.124661092682605511575589, 0.9062709337684969786449772449, 130.67\n"
     ]
    },
    {
     "name": "stderr",
     "output_type": "stream",
     "text": [
      " 21%|██████████████████████▍                                                                                      | 594/2880 [00:02<00:09, 249.41it/s]"
     ]
    },
    {
     "name": "stdout",
     "output_type": "stream",
     "text": [
      "2022-10-29 08:30:00 hedge buy ETH, 1633.912482152750495973072601, 0.9062709337684969786449772449, 286.39\n"
     ]
    },
    {
     "name": "stderr",
     "output_type": "stream",
     "text": [
      " 79%|█████████████████████████████████████████████████████████████████████████████████████▌                      | 2283/2880 [00:12<00:03, 192.95it/s]"
     ]
    },
    {
     "name": "stdout",
     "output_type": "stream",
     "text": [
      "2022-10-30 13:32:00 hedge sell ETH,trade price: 1585.942589738150362880451008,trade amount: 0.9062709337684969786449772449, profit: 45.24\n"
     ]
    },
    {
     "name": "stderr",
     "output_type": "stream",
     "text": [
      "100%|████████████████████████████████████████████████████████████████████████████████████████████████████████████| 2880/2880 [00:15<00:00, 186.13it/s]\n",
      "2022-11-02 18:02:53,270 - INFO - main loop finished, start calculate evaluating indicator...\n",
      "2022-11-02 18:02:53,276 - INFO - run evaluating indicator\n",
      "2022-11-02 18:02:53,279 - INFO - back testing finish\n",
      "2022-11-02 18:02:53,606 - INFO - start load files...\n",
      "2022-11-02 18:02:53,645 - INFO - load file complete, preparing...\n",
      "2022-11-02 18:02:53,881 - INFO - data has benn prepared\n",
      "2022-11-02 18:02:53,883 - INFO - init strategy...\n",
      "2022-11-02 18:02:53,893 - INFO - start main loop...\n"
     ]
    },
    {
     "name": "stdout",
     "output_type": "stream",
     "text": [
      "hedge rebalance ETH -3.214455619277130386236457047 1555.473334276241900134790886 profit: 0E-51\n",
      "prepare to add LP: rate:1.18798828125 price:1555.473334276241900134790886 down:1309.333904068123062669976052 up:1847.884092917039327650364368 init symbol amount:7.714693486265112998342749713,init usdc amount:12000.00000000000011102230246\n",
      "eth_value 0 usdc value 0.278785369524274709045875\n"
     ]
    },
    {
     "name": "stderr",
     "output_type": "stream",
     "text": [
      " 20%|█████████████████████▍                                                                                       | 565/2880 [00:02<00:08, 257.84it/s]"
     ]
    },
    {
     "name": "stdout",
     "output_type": "stream",
     "text": [
      "2022-10-29 08:16:00 hedge buy ETH, 1614.585115863849898336975405, 0.4569489350255500797555933210, 190.01\n"
     ]
    },
    {
     "name": "stderr",
     "output_type": "stream",
     "text": [
      " 37%|████████████████████████████████████████▍                                                                   | 1077/2880 [00:04<00:06, 268.74it/s]"
     ]
    },
    {
     "name": "stdout",
     "output_type": "stream",
     "text": [
      "2022-10-29 16:32:00 hedge buy ETH, 1650.002733441001540211788261, 0.4569489350255500797555933210, 320.04\n"
     ]
    },
    {
     "name": "stderr",
     "output_type": "stream",
     "text": [
      "100%|████████████████████████████████████████████████████████████████████████████████████████████████████████████| 2880/2880 [00:13<00:00, 208.91it/s]\n",
      "2022-11-02 18:03:07,693 - INFO - main loop finished, start calculate evaluating indicator...\n",
      "2022-11-02 18:03:07,698 - INFO - run evaluating indicator\n",
      "2022-11-02 18:03:07,700 - INFO - back testing finish\n",
      "2022-11-02 18:03:07,819 - INFO - start load files...\n",
      "2022-11-02 18:03:07,856 - INFO - load file complete, preparing...\n",
      "2022-11-02 18:03:08,402 - INFO - data has benn prepared\n",
      "2022-11-02 18:03:08,403 - INFO - init strategy...\n",
      "2022-11-02 18:03:08,411 - INFO - start main loop...\n"
     ]
    },
    {
     "name": "stdout",
     "output_type": "stream",
     "text": [
      "hedge rebalance ETH -3.214455619277130386236457047 1555.473334276241900134790886 profit: 0E-51\n",
      "prepare to add LP: rate:1.23798828125 price:1555.473334276241900134790886 down:1256.452389602328394523961400 up:1925.657759630851422657103912 init symbol amount:7.714693486265112998342749713,init usdc amount:12000.00000000000011102230246\n",
      "eth_value 0.000180600504269710907124033 usdc value 0\n"
     ]
    },
    {
     "name": "stderr",
     "output_type": "stream",
     "text": [
      "100%|████████████████████████████████████████████████████████████████████████████████████████████████████████████| 2880/2880 [00:15<00:00, 191.78it/s]\n",
      "2022-11-02 18:03:23,433 - INFO - main loop finished, start calculate evaluating indicator...\n",
      "2022-11-02 18:03:23,441 - INFO - run evaluating indicator\n",
      "2022-11-02 18:03:23,445 - INFO - back testing finish\n",
      "2022-11-02 18:03:23,595 - INFO - start load files...\n",
      "2022-11-02 18:03:23,627 - INFO - load file complete, preparing...\n",
      "2022-11-02 18:03:23,904 - INFO - data has benn prepared\n",
      "2022-11-02 18:03:23,906 - INFO - init strategy...\n",
      "2022-11-02 18:03:23,915 - INFO - start main loop...\n"
     ]
    },
    {
     "name": "stdout",
     "output_type": "stream",
     "text": [
      "hedge rebalance ETH -3.214455619277130386236457047 1555.473334276241900134790886 profit: 0E-51\n",
      "prepare to add LP: rate:1.13798828125 price:1555.473334276241900134790886 down:1366.862348149722565638055322 up:1770.110426203227232643624824 init symbol amount:7.714693486265112998342749713,init usdc amount:12000.00000000000011102230246\n",
      "eth_value 0 usdc value 1.243422500963215899557651\n"
     ]
    },
    {
     "name": "stderr",
     "output_type": "stream",
     "text": [
      " 18%|███████████████████▋                                                                                         | 520/2880 [00:03<00:16, 146.64it/s]"
     ]
    },
    {
     "name": "stdout",
     "output_type": "stream",
     "text": [
      "2022-10-29 08:15:00 hedge buy ETH, 1605.569158247220056348744299, 0.6401490074434511132028027821, 161.03\n"
     ]
    },
    {
     "name": "stderr",
     "output_type": "stream",
     "text": [
      " 22%|████████████████████████                                                                                     | 637/2880 [00:04<00:15, 142.64it/s]"
     ]
    },
    {
     "name": "stdout",
     "output_type": "stream",
     "text": [
      "2022-10-29 10:18:00 hedge buy ETH, 1648.683325057287031998776265, 0.6401490074434511132028027821, 327.22\n"
     ]
    },
    {
     "name": "stderr",
     "output_type": "stream",
     "text": [
      " 84%|███████████████████████████████████████████████████████████████████████████████████████████▎                 | 2414/2880 [00:20<00:05, 89.93it/s]"
     ]
    },
    {
     "name": "stdout",
     "output_type": "stream",
     "text": [
      "2022-10-30 16:03:00 hedge sell ETH,trade price: 1584.674406415431500710637582,trade amount: 0.6401490074434511132028027821, profit: 39.51\n"
     ]
    },
    {
     "name": "stderr",
     "output_type": "stream",
     "text": [
      "100%|████████████████████████████████████████████████████████████████████████████████████████████████████████████| 2880/2880 [00:23<00:00, 122.76it/s]\n",
      "2022-11-02 18:03:47,386 - INFO - main loop finished, start calculate evaluating indicator...\n",
      "2022-11-02 18:03:47,393 - INFO - run evaluating indicator\n",
      "2022-11-02 18:03:47,395 - INFO - back testing finish\n"
     ]
    },
    {
     "name": "stdout",
     "output_type": "stream",
     "text": [
      "Optimal Parameters:\n",
      "a = 107.55\n",
      "hedge_spread_split = 35.01\n",
      "hedge_spread_rate = 71.56\n"
     ]
    }
   ],
   "source": [
    "from datetime import date, datetime\n",
    "from typing import Union\n",
    "# import  matplotlib.pylab as plt\n",
    "import demeter as dt\n",
    "import demeter.indicator\n",
    "from demeter import TokenInfo, PoolBaseInfo, Runner, Strategy, Asset, AccountStatus, BuyAction, SellAction, RowData, \\\n",
    "    ChainType\n",
    "import numpy as np\n",
    "import pandas as pd\n",
    "from decimal import Decimal\n",
    "\n",
    "import optunity\n",
    "import optunity.metrics\n",
    "\n",
    "\n",
    "# import logging \n",
    "# from logging import handlers\n",
    "\n",
    "from strategy_ploter import  plot_position_return_decomposition\n",
    "\n",
    "%matplotlib inline\n",
    "\n",
    "# logger = logging.getLogger()\n",
    "# logger.setLevel(logging.INFO) \n",
    "# logFile = './temp/hedge.log'\n",
    "\n",
    "\n",
    "# # 创建一个FileHandler,并将日志写入指定的日志文件中\n",
    "# fileHandler = logging.FileHandler(logFile, mode='a')\n",
    "# fileHandler.setLevel(logging.INFO) \n",
    " \n",
    "# #  或者创建一个StreamHandler,将日志输出到控制台\n",
    "# streamHandler = logging.StreamHandler()\n",
    "# streamHandler.setLevel(logging.INFO)\n",
    "\n",
    "# # 定义Handler的日志输出格式\n",
    "# formatter = logging.Formatter('%(asctime)s - %(name)s - %(levelname)s - %(message)s')\n",
    "# fileHandler.setFormatter(formatter)\n",
    " \n",
    "# # 定义日志滚动条件，这里按日期-天保留日志\n",
    "# timedRotatingFileHandler = handlers.TimedRotatingFileHandler(filename=logFile, when='D')\n",
    "# timedRotatingFileHandler.setLevel(logging.INFO)\n",
    "# timedRotatingFileHandler.setFormatter(formatter)\n",
    "\n",
    "# # 添加Handler\n",
    "# logger.addHandler(fileHandler)\n",
    "# logger.addHandler(streamHandler)\n",
    "# logger.addHandler(timedRotatingFileHandler)\n",
    "\n",
    "class Exchange:\n",
    "\n",
    "\n",
    "    def __init__(self, trade_symbols, leverage=20, commission=0.00005,  initial_balance=10000, log=False):\n",
    "        self.initial_balance = initial_balance #初始的资产\n",
    "        self.commission = Decimal(commission)\n",
    "        self.leverage = leverage\n",
    "        self.trade_symbols = trade_symbols\n",
    "        self.date = ''\n",
    "        self.log = log\n",
    "        self.df = pd.DataFrame(columns=['margin','total','leverage','realised_profit','unrealised_profit'])\n",
    "        self.df.index.name='timestamp'\n",
    "        self.account = {'USDT':{'realised_profit':0, 'margin':0, 'unrealised_profit':0, 'total':initial_balance, 'leverage':0, 'fee':0}}\n",
    "        #保存symbol的eth price和diff\n",
    "        self.symbol_diff = {}\n",
    "        self.symbol_single_diff = {}\n",
    "        self.symbol_boll = {}\n",
    "        for symbol in trade_symbols:\n",
    "            self.account[symbol] = {'amount':0, 'hold_price':0, 'value':0, 'price':0, 'realised_profit':0, 'margin':0, 'unrealised_profit':0,'fee':0}\n",
    "            self.symbol_diff[symbol] = pd.DataFrame(columns=['symbol','index_price','symbol_index_price','diff'])\n",
    "            # self.symbol_diff[symbol].index = pd.to_datetime(price_usdt.index)\n",
    "\n",
    "            self.symbol_single_diff[symbol] = pd.DataFrame(columns=['symbol','normal_index_price','ema_index_price','symbol_price','diff_norm','diff_ewa'])\n",
    "            # self.symbol_single_diff[symbol].index = pd.to_datetime(price_usdt.index)\n",
    "            self.symbol_boll[symbol] = pd.DataFrame(columns=['symbol','normal_index_price','symbol_price','std'])\n",
    "\n",
    "    def Trade(self, symbol, direction, price, amount, msg=''):\n",
    "        if self.date and self.log:\n",
    "            print('%-20s%-5s%-5s%-10.8s%-8.6s %s'%(str(self.date), symbol, 'buy' if direction == 1 else 'sell', price, amount, msg))\n",
    "            \n",
    "        cover_amount = 0 if direction*self.account[symbol]['amount'] >=0 else min(abs(self.account[symbol]['amount']), amount)\n",
    "        open_amount = amount - cover_amount\n",
    "        \n",
    "        self.account['USDT']['realised_profit'] -= price*amount*self.commission #扣除手续费\n",
    "        self.account['USDT']['fee'] += price*amount*self.commission\n",
    "        self.account[symbol]['fee'] += price*amount*self.commission\n",
    "        \n",
    "        if cover_amount > 0: #先平仓\n",
    "            self.account['USDT']['realised_profit'] += -direction*(price - self.account[symbol]['hold_price'])*cover_amount  #利润\n",
    "            self.account['USDT']['margin'] -= cover_amount*self.account[symbol]['hold_price']/self.leverage #释放保证金\n",
    "            \n",
    "            self.account[symbol]['realised_profit'] += -direction*(price - self.account[symbol]['hold_price'])*cover_amount\n",
    "            self.account[symbol]['amount'] -= -direction*cover_amount\n",
    "            self.account[symbol]['margin'] -=  cover_amount*self.account[symbol]['hold_price']/self.leverage\n",
    "            self.account[symbol]['hold_price'] = 0 if self.account[symbol]['amount'] == 0 else self.account[symbol]['hold_price']\n",
    "            \n",
    "        if open_amount > 0:\n",
    "            total_cost = self.account[symbol]['hold_price']*direction*self.account[symbol]['amount'] + price*open_amount\n",
    "            total_amount = direction*self.account[symbol]['amount']+open_amount\n",
    "            \n",
    "            self.account['USDT']['margin'] +=  open_amount*price/self.leverage            \n",
    "            self.account[symbol]['hold_price'] = total_cost/total_amount\n",
    "            self.account[symbol]['amount'] += direction*open_amount\n",
    "            self.account[symbol]['margin'] +=  open_amount*price/self.leverage\n",
    "            \n",
    "        self.account[symbol]['unrealised_profit'] = (price - self.account[symbol]['hold_price'])*self.account[symbol]['amount']\n",
    "        self.account[symbol]['price'] = price\n",
    "        self.account[symbol]['value'] = abs(self.account[symbol]['amount'])*price\n",
    "        \n",
    "        return True\n",
    "    \n",
    "    def Buy(self, symbol, price, amount, msg=''):\n",
    "        self.Trade(symbol, 1, price, amount, msg)\n",
    "        \n",
    "    def Sell(self, symbol, price, amount, msg=''):\n",
    "        self.Trade(symbol, -1, price, amount, msg)\n",
    "        \n",
    "    def Update(self, date, close_price): #对资产进行更新\n",
    "        self.date = date\n",
    "        # todo close price为单个close price\n",
    "        self.close = close_price\n",
    "        self.account['USDT']['unrealised_profit'] = 0\n",
    "        for symbol in self.trade_symbols:\n",
    "            # if np.isnan(close_price[symbol]):\n",
    "            #     continue\n",
    "            self.account[symbol]['unrealised_profit'] = (close_price - self.account[symbol]['hold_price'])*self.account[symbol]['amount']\n",
    "            self.account[symbol]['price'] = close_price\n",
    "            self.account[symbol]['value'] = abs(self.account[symbol]['amount'])*close_price\n",
    "            self.account['USDT']['unrealised_profit'] += self.account[symbol]['unrealised_profit']\n",
    "        \n",
    "        self.account['USDT']['total'] = round(self.account['USDT']['realised_profit'] + self.initial_balance + self.account['USDT']['unrealised_profit'],6)\n",
    "        self.account['USDT']['leverage'] = round(self.account['USDT']['margin']/self.account['USDT']['total'],4)*self.leverage\n",
    "        self.df.loc[self.date] = [self.account['USDT']['margin'],self.account['USDT']['total'],self.account['USDT']['leverage'],self.account['USDT']['realised_profit'],self.account['USDT']['unrealised_profit']]\n",
    "\n",
    "    def UpdateDiff(self, date, symbol,index_price,symbol_index_price,diff): \n",
    "        \n",
    "        self.symbol_diff[symbol].loc[self.date] = [symbol,index_price,symbol_index_price,diff]\n",
    "\n",
    "    def UpdateSingleDiff(self, date, symbol,normal_index_price,ema_index_price, symbol_price, diff_norm, diff_ewa): \n",
    "        \n",
    "        self.symbol_single_diff[symbol].loc[self.date] = [symbol,normal_index_price,ema_index_price,symbol_price, diff_norm, diff_ewa]\n",
    "\n",
    "    def UpdateBoll(self, date, symbol, normal_index_price, symbol_price, std): \n",
    "        \n",
    "        self.symbol_boll[symbol].loc[self.date] = [symbol,normal_index_price,symbol_price, std]\n",
    "\n",
    "ETH = TokenInfo(name=\"eth\", decimal=18)\n",
    "usdc = TokenInfo(name=\"usdc\", decimal=6)\n",
    "\n",
    "\n",
    "class HedgeSpread(dt.Strategy):\n",
    "    MIN_TRADE_AMOUNT = 0.01\n",
    "\n",
    "    def __init__(self, a, hedge_spread_split,hedge_spread_rate,trade_symbol='ETH'):\n",
    "        super().__init__()\n",
    "        self.a = Decimal(a)\n",
    "        self.trade_symbol = trade_symbol\n",
    "        self.init_quote_number = 0\n",
    "        self.hedge_spread_split = hedge_spread_split\n",
    "        self.hedge_spread_rate = hedge_spread_rate\n",
    "        self.hedge_spread = 0\n",
    "        self.hedge_amount = 0\n",
    "        #init balance\n",
    "        self.init_total_symbol = 0\n",
    "        self.init_total_usdc = 0\n",
    "        self.up_price = 0\n",
    "        self.down_price = 0\n",
    "\n",
    "    def initialize(self):\n",
    "        P0 = self.broker.pool_status.price\n",
    "\n",
    "        status: AccountStatus = self.broker.get_account_status(P0)\n",
    "\n",
    "        \n",
    "        future_init_net_value = status.net_value * Decimal(0.2)\n",
    "        \n",
    "        self.e = Exchange({self.trade_symbol},initial_balance=future_init_net_value,commission=0.00075,log=False)\n",
    "\n",
    "\n",
    "        self.init_total_usdc = status.net_value + future_init_net_value\n",
    "        self.init_total_symbol =  self.init_total_usdc / P0\n",
    "       \n",
    "        self.rebalance(P0)#rebalance all reserve token#\n",
    "        # new_position(self, baseToken, quoteToken, usd_price_a, usd_price_b):\n",
    "        #what is  base/quote \"https://corporatefinanceinstitute.com/resources/knowledge/economics/currency-pair/\"\n",
    "        # print(P0)\n",
    "        self.down_price = P0 / self.a\n",
    "        self.up_price = P0 * self.a\n",
    "        print(f\"prepare to add LP: rate:{self.a} price:{P0} down:{self.down_price} up:{self.up_price} init symbol amount:{self.init_total_symbol},init usdc amount:{self.init_total_usdc}\")\n",
    "        self.add_liquidity(self.down_price, self.up_price)\n",
    "\n",
    "        print(\"eth_value\",self.broker.quote_asset.balance, \"usdc value\", self.broker.base_asset.balance)\n",
    "        account_status = self.broker.get_account_status()\n",
    "        self.init_quote_number = account_status.quote_in_position\n",
    "\n",
    "        self.hedge_spread = self.init_quote_number / self.hedge_spread_split \n",
    "        self.hedge_amount = self.hedge_spread * Decimal(self.hedge_spread_rate)\n",
    "\n",
    "        # price = self.broker.pool_status.price\n",
    "        # self.hedge_rebalance(price, self.init_quote_number)\n",
    "        # symbol = self.trade_symbol\n",
    "        # print(f\"{symbol}, {self.hedge_spread}\")\n",
    "        # e = self.e\n",
    "        # e.Buy(symbol, price, trade_amount, round(e.account[symbol]['realised_profit']+e.account[symbol]['unrealised_profit'],2))\n",
    "\n",
    "\n",
    "        # print(self.broker.get_account_status())\n",
    "        # super().__init__()\n",
    "    # def initialize(self):\n",
    "    #     P0 = self.broker.pool_status.price\n",
    "    #     self.rebalance(P0)#rebalance all reserve token#\n",
    "    #     # new_position(self, baseToken, quoteToken, usd_price_a, usd_price_b):\n",
    "    #     #what is  base/quote \"https://corporatefinanceinstitute.com/resources/knowledge/economics/currency-pair/\"\n",
    "    #     self.add_liquidity(P0 - self.a,\n",
    "    #                        P0 + self.a)\n",
    "    #     print(\"eth_value\",self.broker.quote_asset.balance)\n",
    "    #     super().__init__()\n",
    "    def hedge_rebalance(self, price, spot_amount_traded):\n",
    "        e = self.e\n",
    "        symbol = self.trade_symbol\n",
    "        future_amount = e.account[symbol]['amount']\n",
    "        amount_diff = future_amount - spot_amount_traded\n",
    "        if amount_diff > 0:\n",
    "            \n",
    "            e.Sell(symbol, price, abs(amount_diff), round(e.account[symbol]['realised_profit']+e.account[symbol]['unrealised_profit'],2))\n",
    "        elif amount_diff < 0:\n",
    "            e.Buy(symbol, price, abs(amount_diff), round(e.account[symbol]['realised_profit']+e.account[symbol]['unrealised_profit'],2))\n",
    "\n",
    "        print(f\"hedge rebalance {symbol} {amount_diff} {price} profit: {e.account[symbol]['realised_profit']+e.account[symbol]['unrealised_profit']}\")\n",
    "        # print(self.broker.get_account_status())\n",
    "\n",
    "\n",
    "    def next(self, row_data: Union[RowData, pd.Series]):\n",
    "        # print(row_data.price)\n",
    "        # if row_data.timestamp.minute != 0:\n",
    "        #     return\n",
    "        # print(\"eth_value\",self.broker.quote_asset.balance, \"usdc value\", self.broker.base_asset.balance)\n",
    "        # for position_info, position in self.broker.positions.items():\n",
    "        #         print(position_info, position)  # show all position\n",
    "        e = self.e\n",
    "\n",
    "        e.Update(row_data.timestamp,row_data.price)\n",
    "\n",
    "        current_amount = self.broker.get_account_status().quote_in_position\n",
    "        usdc_amount = self.broker.get_account_status().base_in_position\n",
    "        future_amount = self.e.account[self.trade_symbol]['amount']\n",
    "        spread = self.init_quote_number*2 -current_amount - future_amount\n",
    "        symbol = self.trade_symbol\n",
    "        price = row_data.price\n",
    "\n",
    "        # todo 处理价格跑出范围\n",
    "        # print(f\"====>rowdata.low:{row_data.low} rowdata.high:{row_data.high} rowdata.price:{row_data.price} rowdata.timestamp:{row_data.timestamp}\")\n",
    "        # todo row_data.low 大于 row_data.high\n",
    "        if row_data.high < self.down_price:\n",
    "            print(f\"====>high:{row_data.high}, self.down_price:{self.down_price}\")\n",
    "            amount_down = self.broker.get_account_status(self.down_price).quote_in_position\n",
    "            trade_amount = abs(self.init_quote_number*2 - amount_down - future_amount)\n",
    "            if trade_amount >= self.MIN_TRADE_AMOUNT:\n",
    "                trade_price = self.down_price\n",
    "                e.Sell(symbol, trade_price, trade_amount, round(e.account[symbol]['realised_profit']+e.account[symbol]['unrealised_profit'],2))\n",
    "                print(f\"{row_data.timestamp } last hedge sell {symbol}, trade_price:{trade_price}, trade_amount: {trade_amount}, current_amount: {current_amount}\")\n",
    "        elif row_data.low > self.up_price:\n",
    "            print(f\"====>low:{row_data.low}, self.up_price:{self.up_price}\")\n",
    "\n",
    "            amount_up = 0\n",
    "            trade_amount = self.init_quote_number*2 - future_amount\n",
    "            if trade_amount >= self.MIN_TRADE_AMOUNT:\n",
    "                trade_price = self.up_price\n",
    "\n",
    "                e.Buy(symbol, trade_price, abs(trade_amount), round(e.account[symbol]['realised_profit']+e.account[symbol]['unrealised_profit'],2))\n",
    "                print(f\"{row_data.timestamp } last hedge buy {symbol}, {trade_price}, trade_amount: {trade_amount}, current_amount: {current_amount}\")\n",
    " \n",
    "        if current_amount == 0 or usdc_amount == 0:\n",
    "            # out of range, hedge at first\n",
    "            # if spread > 0:\n",
    "            #     trade_amount = spread\n",
    "            #     e.Buy(symbol, price, trade_amount, round(e.account[symbol]['realised_profit']+e.account[symbol]['unrealised_profit'],2))\n",
    "            #     print(f\"{row_data.timestamp} last hedge buy {symbol}, {price}, {trade_amount}, {round(e.account[symbol]['realised_profit']+e.account[symbol]['unrealised_profit'],2)}\")\n",
    "            # else:\n",
    "            #     trade_amount = spread * -1\n",
    "            #     e.Sell(symbol, price, trade_amount, round(e.account[symbol]['realised_profit']+e.account[symbol]['unrealised_profit'],2))\n",
    "            #     print(f\"{row_data.timestamp } last hedge sell {symbol}, {price}, {trade_amount}, {round(e.account[symbol]['realised_profit']+e.account[symbol]['unrealised_profit'],2)}\")\n",
    "\n",
    "\n",
    "            if len(self.broker.positions) > 0:\n",
    "                keys = list(self.broker.positions.keys())\n",
    "                for k in keys:\n",
    "                    print(f\"remove lp position {k}\")\n",
    "                    self.remove_liquidity(k)\n",
    "            print(f\"{row_data.timestamp} out of range, {price}, symbol:{current_amount}, usdc:{usdc_amount}\")\n",
    "            self.rebalance(price)\n",
    "            self.down_price = price / self.a\n",
    "            self.up_price = price * self.a\n",
    "            print(f\"prepare to add LP: rate:{self.a} price:{price} {self.down_price} { self.up_price} \")\n",
    "            self.add_liquidity(self.down_price, self.up_price)\n",
    "        else:\n",
    "            if spread > self.hedge_spread:\n",
    "                trade_amount = self.hedge_amount\n",
    "                e.Buy(symbol, price, trade_amount, round(e.account[symbol]['realised_profit']+e.account[symbol]['unrealised_profit'],2))\n",
    "                print(f\"{row_data.timestamp} hedge buy {symbol}, {price}, {trade_amount}, {round(e.account[symbol]['realised_profit']+e.account[symbol]['unrealised_profit'],2)}\")\n",
    "            elif Decimal(-1)*self.hedge_spread >= spread:\n",
    "                trade_amount = self.hedge_amount\n",
    "                e.Sell(symbol, price, trade_amount, round(e.account[symbol]['realised_profit']+e.account[symbol]['unrealised_profit'],2))\n",
    "                print(f\"{row_data.timestamp } hedge sell {symbol},trade price: {price},trade amount: {trade_amount}, profit: {round(e.account[symbol]['realised_profit']+e.account[symbol]['unrealised_profit'],2)}\")\n",
    "\n",
    "        # print(f\"spread:{spread}, {self.hedge_spread}\")\n",
    "        # print(f\"spread: {spread},{self.init_quote_number},{current_amount},{future_amount}\")\n",
    "        # print(self.data.timestamp[row_data.row_id]) \n",
    "            # if row_data.timestamp.minute != 0:\n",
    "            #     return\n",
    "            # if len(self.broker.positions) > 0:\n",
    "            #     keys = list(self.broker.positions.keys())\n",
    "            #     for k in keys:\n",
    "            #         self.remove_liquidity(k)\n",
    "            #     self.rebalance(row_data.price)\n",
    "            # ma_price = row_data.ma5 if row_data.ma5 > 0 else row_data.price\n",
    "            # self.add_liquidity(ma_price - self.price_width,\n",
    "            #                 ma_price + self.price_width)\n",
    "    #重新计算并全仓入池\n",
    "    def rebalance(self, price):\n",
    "        status: AccountStatus = self.broker.get_account_status(price)\n",
    "        # self.init_total_symbol =  status.net_value / price\n",
    "        # self.init_total_usdc = status.net_value\n",
    "        # print(f\"net value rebalance:{status.net_value}\")\n",
    "        base_amount = status.net_value / 2\n",
    "        quote_amount = base_amount / price\n",
    "        quote_amount_diff = quote_amount - status.quote_balance\n",
    "        # print(f\"rebalance: {status}, \")\n",
    "        if quote_amount_diff > 0:\n",
    "            self.buy(quote_amount_diff)\n",
    "        elif quote_amount_diff < 0:\n",
    "            self.sell(0 - quote_amount_diff)\n",
    "        \n",
    "        self.hedge_rebalance(price, quote_amount)\n",
    "\n",
    "\n",
    "# if __name__ == \"__main__\":\n",
    "# a[105,125],hedge_spread_split[20,50], hedge_spread_rate[50,100]\n",
    "def backtest(a, hedge_spread_split,hedge_spread_rate):\n",
    "    pool_id_tie500 = '0x88e6a0c2ddd26feeb64f039a2c41296fcb3f5640'\n",
    "\n",
    "    pool_id_tie3000 = '0x8ad599c3a0ff1de082011efddc58f1908eb6e6d8'\n",
    "\n",
    "    eth = TokenInfo(name=\"eth\", decimal=18)\n",
    "    usdc = TokenInfo(name=\"usdc\", decimal=6)\n",
    "    pool = PoolBaseInfo(usdc, eth, 0.05, usdc)\n",
    "\n",
    "    #收益计算基础参数\n",
    "    # net_value_base = 'ETH'\n",
    "\n",
    "    runner_instance = Runner(pool)\n",
    "    # runner_instance.enable_notify = False\n",
    "    runner_instance.strategy = HedgeSpread(Decimal(a)/Decimal(100),Decimal(hedge_spread_split)/Decimal(10),Decimal(hedge_spread_rate)/Decimal(100))\n",
    "    runner_instance.set_assets([Asset(usdc, 10000)])\n",
    "    runner_instance.data_path = \"../demeter/data\"\n",
    "    runner_instance.load_data(ChainType.Ethereum.name,\n",
    "                                pool_id_tie500,\n",
    "                                DATE_START,\n",
    "                               DATE_END)\n",
    "    runner_instance.run(enable_notify=False)\n",
    "\n",
    "    df_status = pd.DataFrame(runner_instance.account_status_list)\n",
    "\n",
    "    total_net_value = runner_instance.final_status.net_value + runner_instance.final_status.uncollect_fee_base + runner_instance.final_status.uncollect_fee_quote * runner_instance.final_status.price\n",
    "    \n",
    "    final_total_usdc_value = total_net_value + runner_instance.strategy.e.df['total'].iloc[-1]\n",
    "    \n",
    "    final_price = runner_instance.final_status.price\n",
    "    if NET_VALUE_BASE == 'USDC':\n",
    "        return float(final_total_usdc_value)\n",
    "        # profit_rate_usdc = profit_usdc / runner_instance.strategy.init_total_usdc\n",
    "    else:\n",
    "        return float(final_total_usdc_value / final_price)\n",
    "        # profit_rate_eth = profit_eth / runner_instance.strategy.init_total_symbol\n",
    "# df_status\n",
    "# df\n",
    "NET_VALUE_BASE = 'ETH'\n",
    "DATE_START = date(2022, 9, 1)\n",
    "DATE_END = date(2022, 10, 30)\n",
    "# profit  = backtest(120,30,80)\n",
    "\n",
    "# profit\n",
    "opt = optunity.maximize(backtest,  num_evals=100,solver_name='particle swarm', a=[105, 125], hedge_spread_split=[20, 50],hedge_spread_rate=[50, 100])\n",
    "\n",
    "\n",
    "\n",
    "########################################\n",
    "# 优化完成，得到最优参数结果\n",
    "optimal_pars, details, _ = opt\n",
    "print('Optimal Parameters:')\n",
    "print('a = %.2f' % optimal_pars['a'])\n",
    "print('hedge_spread_split = %.2f' % optimal_pars['hedge_spread_split'])\n",
    "print('hedge_spread_rate = %.2f' % optimal_pars['hedge_spread_rate'])\n"
   ]
  },
  {
   "cell_type": "code",
   "execution_count": null,
   "metadata": {},
   "outputs": [],
   "source": []
  },
  {
   "cell_type": "code",
   "execution_count": 3,
   "metadata": {},
   "outputs": [
    {
     "name": "stdout",
     "output_type": "stream",
     "text": [
      "USDC profit: -1589.28277347927928702084938, profit_rate: -0.1324402311232732726930858319\n",
      "ETH profit: -1.180137172708710344663544244, profit_rate: -0.1527586573917002054151386868\n"
     ]
    }
   ],
   "source": [
    "# e = runner_instance.strategy.e\n",
    "\n",
    "# total_net_value = runner_instance.final_status.net_value + runner_instance.final_status.uncollect_fee_base + runner_instance.final_status.uncollect_fee_quote * runner_instance.final_status.price\n",
    "# final_price = runner_instance.final_status.price\n",
    "# # if net_value_base == 'USDC':\n",
    "# profit_usdc = total_net_value- runner_instance.strategy.init_total_usdc\n",
    "# profit_rate_usdc = profit_usdc / runner_instance.strategy.init_total_usdc\n",
    "# # else:\n",
    "# profit_eth = total_net_value/final_price - runner_instance.strategy.init_total_symbol\n",
    "# profit_rate_eth = profit_eth / runner_instance.strategy.init_total_symbol\n",
    "\n",
    "# df_merge = pd.merge(e.df, df_status, on='timestamp', how='inner')\n",
    "\n",
    "# df_merge['total_value'] = df_merge['total'] + df_merge['uncollect_fee_base'] + df_merge['uncollect_fee_quote'] * df_merge['price'] + df_merge['net_value']\n",
    "\n",
    "# df_merge.set_index('timestamp', inplace=True)\n",
    "\n",
    "# df_merge['total_value_eth'] = df_merge['total_value'] / df_merge['price']\n",
    "\n",
    "# df_merge['total_value_eth_profit_rate'] = df_merge['total_value_eth'] / runner_instance.strategy.init_total_symbol\n",
    "\n",
    "# print(f\"USDC profit: {profit_usdc}, profit_rate: {profit_rate_usdc}\")\n",
    "\n",
    "# print(f\"ETH profit: {profit_eth}, profit_rate: {profit_rate_eth}\")"
   ]
  },
  {
   "cell_type": "code",
   "execution_count": null,
   "metadata": {},
   "outputs": [],
   "source": []
  }
 ],
 "metadata": {
  "kernelspec": {
   "display_name": "Python 3.10.6 ('py310btc')",
   "language": "python",
   "name": "python3"
  },
  "language_info": {
   "codemirror_mode": {
    "name": "ipython",
    "version": 3
   },
   "file_extension": ".py",
   "mimetype": "text/x-python",
   "name": "python",
   "nbconvert_exporter": "python",
   "pygments_lexer": "ipython3",
   "version": "3.10.6"
  },
  "orig_nbformat": 4,
  "vscode": {
   "interpreter": {
    "hash": "abcf340a9bfefc31ecafadbd09739eb19479e953f794e77621cd271022fdffd8"
   }
  }
 },
 "nbformat": 4,
 "nbformat_minor": 2
}
