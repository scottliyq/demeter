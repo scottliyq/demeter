{
 "cells": [
  {
   "cell_type": "code",
   "execution_count": 22,
   "metadata": {},
   "outputs": [
    {
     "name": "stderr",
     "output_type": "stream",
     "text": [
      "2022-11-02 15:18:28,367 - INFO - start load files...\n",
      "start load files...\n",
      "start load files...\n",
      "start load files...\n",
      "2022-11-02 15:18:29,275 - INFO - load file complete, preparing...\n",
      "load file complete, preparing...\n",
      "load file complete, preparing...\n",
      "load file complete, preparing...\n",
      "2022-11-02 15:18:35,095 - INFO - data has benn prepared\n",
      "data has benn prepared\n",
      "data has benn prepared\n",
      "data has benn prepared\n",
      "2022-11-02 15:18:35,102 - INFO - init strategy...\n",
      "init strategy...\n",
      "init strategy...\n",
      "init strategy...\n",
      "2022-11-02 15:18:35,121 - INFO - start main loop...\n",
      "start main loop...\n",
      "start main loop...\n",
      "start main loop...\n"
     ]
    },
    {
     "name": "stdout",
     "output_type": "stream",
     "text": [
      "hedge rebalance ETH -3.218958783469115091478799439 1553.297303984561393232200930 profit: 0E-51\n",
      "prepare to add LP: rate:1.1999999999999999555910790149937383830547332763671875 price:1553.297303984561393232200930 down:1294.414419987134542263123858 up:1863.956764781473602898383877 init symbol amount:7.725501080325876291024361786,init usdc amount:12000.00000000000011102230246\n",
      "eth_value 0 usdc value 0.118199317661621369446356\n"
     ]
    },
    {
     "name": "stderr",
     "output_type": "stream",
     "text": [
      "  8%|█████████                                                                                                  | 7285/86400 [00:26<06:57, 189.29it/s]"
     ]
    },
    {
     "name": "stdout",
     "output_type": "stream",
     "text": [
      "2022-09-06 00:45:00 hedge buy ETH, 1648.188818964285043205740360, 0.8583890089250974053778419393, 305.45\n"
     ]
    },
    {
     "name": "stderr",
     "output_type": "stream",
     "text": [
      " 10%|██████████▊                                                                                                | 8717/86400 [00:32<04:43, 273.63it/s]"
     ]
    },
    {
     "name": "stdout",
     "output_type": "stream",
     "text": [
      "2022-09-07 00:21:00 hedge sell ETH,trade price: 1530.325884747905319582988915,trade amount: 0.8583890089250974053778419393, profit: -175.12\n"
     ]
    },
    {
     "name": "stderr",
     "output_type": "stream",
     "text": [
      " 11%|████████████▎                                                                                              | 9923/86400 [00:37<07:13, 176.27it/s]"
     ]
    },
    {
     "name": "stdout",
     "output_type": "stream",
     "text": [
      "2022-09-07 20:49:00 hedge buy ETH, 1653.140561738705663028663412, 0.8583890089250974053778419393, 220.22\n"
     ]
    },
    {
     "name": "stderr",
     "output_type": "stream",
     "text": [
      " 14%|███████████████                                                                                           | 12327/86400 [00:50<04:50, 254.89it/s]"
     ]
    },
    {
     "name": "stdout",
     "output_type": "stream",
     "text": [
      "2022-09-09 12:37:00 hedge buy ETH, 1735.289788823240471746622295, 0.8583890089250974053778419393, 555.17\n"
     ]
    },
    {
     "name": "stderr",
     "output_type": "stream",
     "text": [
      " 21%|██████████████████████▏                                                                                   | 18103/86400 [01:25<07:34, 150.12it/s]"
     ]
    },
    {
     "name": "stdout",
     "output_type": "stream",
     "text": [
      "2022-09-13 13:17:00 hedge sell ETH,trade price: 1606.211482251090805641989279,trade amount: 0.8583890089250974053778419393, profit: -81.93\n"
     ]
    },
    {
     "name": "stderr",
     "output_type": "stream",
     "text": [
      " 24%|█████████████████████████▊                                                                                | 21077/86400 [01:44<06:11, 176.01it/s]"
     ]
    },
    {
     "name": "stdout",
     "output_type": "stream",
     "text": [
      "2022-09-15 14:36:00 hedge sell ETH,trade price: 1531.703729090063450161456898,trade amount: 0.8583890089250974053778419393, profit: -385.72\n",
      "2022-09-15 15:16:00 hedge sell ETH,trade price: 1465.333525692250687303728236,trade amount: 0.8583890089250974053778419393, profit: -599.36\n"
     ]
    },
    {
     "name": "stderr",
     "output_type": "stream",
     "text": [
      " 29%|███████████████████████████████▎                                                                          | 25485/86400 [02:16<07:25, 136.70it/s]"
     ]
    },
    {
     "name": "stdout",
     "output_type": "stream",
     "text": [
      "2022-09-18 16:16:00 hedge sell ETH,trade price: 1399.878103629018299367289161,trade amount: 0.8583890089250974053778419393, profit: -753.88\n"
     ]
    },
    {
     "name": "stderr",
     "output_type": "stream",
     "text": [
      " 30%|███████████████████████████████▌                                                                          | 25776/86400 [02:18<07:32, 134.05it/s]"
     ]
    },
    {
     "name": "stdout",
     "output_type": "stream",
     "text": [
      "2022-09-18 21:10:00 hedge sell ETH,trade price: 1337.881548272906751137845774,trade amount: 0.8583890089250974053778419393, profit: -847.01\n"
     ]
    },
    {
     "name": "stderr",
     "output_type": "stream",
     "text": [
      " 30%|████████████████████████████████                                                                          | 26121/86400 [02:21<08:11, 122.52it/s]"
     ]
    },
    {
     "name": "stdout",
     "output_type": "stream",
     "text": [
      "====>low:1293.160379365134677055374732, self.down_price:1294.414419987134542263123858\n",
      "2022-09-19 03:01:00 last hedge sell ETH, trade_price:1294.414419987134542263123858, trade_amount: 0.9491251454191329676098397737, current_amount: 6.73111670364963402498401519\n"
     ]
    },
    {
     "name": "stderr",
     "output_type": "stream",
     "text": [
      " 30%|████████████████████████████████                                                                          | 26150/86400 [02:21<07:58, 125.89it/s]"
     ]
    },
    {
     "name": "stdout",
     "output_type": "stream",
     "text": [
      "====>low:1291.738756063969104407114015, self.down_price:1294.414419987134542263123858\n",
      "====>low:1292.643244503567934387942742, self.down_price:1294.414419987134542263123858\n",
      "remove lp position tick:201015,204662, liquidity:1455532611141913\n",
      "2022-09-19 03:44:00 out of range, 1292.901786078901064534826108, symbol:6.743250955663540275222165026, usdc:0\n",
      "hedge rebalance ETH -3.817588694353917139817897425 1292.901786078901064534826108 profit: -874.5275112621326342776195360\n",
      "prepare to add LP: rate:1.1999999999999999555910790149937383830547332763671875 price:1292.901786078901064534826108 1077.418155065750926984836520 1551.482143294681220025418070 \n"
     ]
    },
    {
     "name": "stderr",
     "output_type": "stream",
     "text": [
      " 35%|████████████████████████████████████▉                                                                     | 30108/86400 [02:55<07:54, 118.59it/s]"
     ]
    },
    {
     "name": "stdout",
     "output_type": "stream",
     "text": [
      "2022-09-21 21:27:00 hedge sell ETH,trade price: 1256.450357460141512958499123,trade amount: 0.8583890089250974053778419393, profit: -1002.55\n"
     ]
    },
    {
     "name": "stderr",
     "output_type": "stream",
     "text": [
      " 35%|█████████████████████████████████████▏                                                                    | 30320/86400 [02:56<06:42, 139.32it/s]"
     ]
    },
    {
     "name": "stdout",
     "output_type": "stream",
     "text": [
      "2022-09-22 01:00:00 hedge sell ETH,trade price: 1112.707954773385056588259532,trade amount: 0.8583890089250974053778419393, profit: -1384.03\n"
     ]
    },
    {
     "name": "stderr",
     "output_type": "stream",
     "text": [
      " 36%|█████████████████████████████████████▊                                                                    | 30773/86400 [03:00<06:40, 138.76it/s]"
     ]
    },
    {
     "name": "stdout",
     "output_type": "stream",
     "text": [
      "2022-09-22 08:29:00 hedge buy ETH, 1289.286905014016281264190699, 0.8583890089250974053778419393, -1066.98\n"
     ]
    },
    {
     "name": "stderr",
     "output_type": "stream",
     "text": [
      " 37%|███████████████████████████████████████▏                                                                  | 31946/86400 [03:09<06:28, 140.02it/s]"
     ]
    },
    {
     "name": "stdout",
     "output_type": "stream",
     "text": [
      "2022-09-23 04:26:00 hedge buy ETH, 1346.067157169958579055478783, 0.8583890089250974053778419393, -916.30\n"
     ]
    },
    {
     "name": "stderr",
     "output_type": "stream",
     "text": [
      " 46%|████████████████████████████████████████████████▍                                                         | 39505/86400 [04:22<06:27, 120.99it/s]"
     ]
    },
    {
     "name": "stdout",
     "output_type": "stream",
     "text": [
      "2022-09-28 10:05:00 hedge sell ETH,trade price: 1259.721215121849415131787264,trade amount: 0.8583890089250974053778419393, profit: -1219.57\n"
     ]
    },
    {
     "name": "stderr",
     "output_type": "stream",
     "text": [
      " 46%|████████████████████████████████████████████████▉                                                         | 39876/86400 [04:25<06:20, 122.39it/s]"
     ]
    },
    {
     "name": "stdout",
     "output_type": "stream",
     "text": [
      "2022-09-28 16:14:00 hedge buy ETH, 1354.302848372952955366291444, 0.8583890089250974053778419393, -968.56\n"
     ]
    },
    {
     "name": "stderr",
     "output_type": "stream",
     "text": [
      " 53%|████████████████████████████████████████████████████████▉                                                  | 45926/86400 [05:35<08:02, 83.88it/s]"
     ]
    },
    {
     "name": "stdout",
     "output_type": "stream",
     "text": [
      "2022-10-02 21:12:00 hedge sell ETH,trade price: 1216.152514180674217192774510,trade amount: 0.8583890089250974053778419393, profit: -1453.78\n"
     ]
    },
    {
     "name": "stderr",
     "output_type": "stream",
     "text": [
      " 56%|███████████████████████████████████████████████████████████▍                                               | 47978/86400 [05:58<06:53, 92.90it/s]"
     ]
    },
    {
     "name": "stdout",
     "output_type": "stream",
     "text": [
      "2022-10-04 07:19:00 hedge buy ETH, 1347.009686901197513934972620, 0.8583890089250974053778419393, -1106.50\n"
     ]
    },
    {
     "name": "stderr",
     "output_type": "stream",
     "text": [
      " 71%|███████████████████████████████████████████████████████████████████████████▋                               | 61108/86400 [09:14<05:36, 75.26it/s]"
     ]
    },
    {
     "name": "stdout",
     "output_type": "stream",
     "text": [
      "2022-10-13 10:20:00 hedge sell ETH,trade price: 1260.351201714129624651819840,trade amount: 0.8583890089250974053778419393, profit: -1410.87\n"
     ]
    },
    {
     "name": "stderr",
     "output_type": "stream",
     "text": [
      " 71%|███████████████████████████████████████████████████████████████████████████▊                               | 61242/86400 [09:16<05:19, 78.68it/s]"
     ]
    },
    {
     "name": "stdout",
     "output_type": "stream",
     "text": [
      "2022-10-13 12:31:00 hedge sell ETH,trade price: 1206.100723528044203114698292,trade amount: 0.8583890089250974053778419393, profit: -1554.84\n"
     ]
    },
    {
     "name": "stderr",
     "output_type": "stream",
     "text": [
      " 71%|████████████████████████████████████████████████████████████████████████████▎                              | 61629/86400 [09:22<06:37, 62.39it/s]"
     ]
    },
    {
     "name": "stdout",
     "output_type": "stream",
     "text": [
      "2022-10-13 18:57:00 hedge buy ETH, 1289.415833704517668692868728, 0.8583890089250974053778419393, -1405.25\n"
     ]
    },
    {
     "name": "stderr",
     "output_type": "stream",
     "text": [
      " 78%|███████████████████████████████████████████████████████████████████████████████████▉                       | 67734/86400 [10:58<03:57, 78.73it/s]"
     ]
    },
    {
     "name": "stdout",
     "output_type": "stream",
     "text": [
      "2022-10-18 00:40:00 hedge buy ETH, 1352.543486469698932871275838, 0.8583890089250974053778419393, -1237.72\n"
     ]
    },
    {
     "name": "stderr",
     "output_type": "stream",
     "text": [
      " 84%|██████████████████████████████████████████████████████████████████████████████████████████                 | 72745/86400 [12:58<03:55, 57.88it/s]"
     ]
    },
    {
     "name": "stdout",
     "output_type": "stream",
     "text": [
      "2022-10-21 12:13:00 hedge sell ETH,trade price: 1256.701660096137088184126490,trade amount: 0.8583890089250974053778419393, profit: -1574.34\n"
     ]
    },
    {
     "name": "stderr",
     "output_type": "stream",
     "text": [
      " 88%|██████████████████████████████████████████████████████████████████████████████████████████████▍            | 76218/86400 [13:54<02:24, 70.56it/s]"
     ]
    },
    {
     "name": "stdout",
     "output_type": "stream",
     "text": [
      "2022-10-23 22:01:00 hedge buy ETH, 1349.436366362012565717183855, 0.8583890089250974053778419393, -1328.23\n"
     ]
    },
    {
     "name": "stderr",
     "output_type": "stream",
     "text": [
      " 91%|█████████████████████████████████████████████████████████████████████████████████████████████████▍         | 78714/86400 [14:39<03:48, 33.67it/s]"
     ]
    },
    {
     "name": "stdout",
     "output_type": "stream",
     "text": [
      "2022-10-25 15:50:00 hedge buy ETH, 1408.443028285200422886694133, 0.8583890089250974053778419393, -1120.99\n"
     ]
    },
    {
     "name": "stderr",
     "output_type": "stream",
     "text": [
      " 91%|█████████████████████████████████████████████████████████████████████████████████████████████████▌         | 78798/86400 [14:40<01:36, 78.54it/s]"
     ]
    },
    {
     "name": "stdout",
     "output_type": "stream",
     "text": [
      "2022-10-25 17:08:00 hedge buy ETH, 1472.825440227956720144154117, 0.8583890089250974053778419393, -839.59\n"
     ]
    },
    {
     "name": "stderr",
     "output_type": "stream",
     "text": [
      " 91%|█████████████████████████████████████████████████████████████████████████████████████████████████▋         | 78910/86400 [14:42<01:52, 66.54it/s]"
     ]
    },
    {
     "name": "stdout",
     "output_type": "stream",
     "text": [
      "====>up:1587.053082654424332579145169, self.up_price:1551.482143294681220025418070\n",
      "2022-10-25 18:56:00 last hedge buy ETH, 1551.482143294681220025418070, trade_amount: 1.208884243459428324648583723, current_amount: 0.6231609013144499735963554722\n"
     ]
    },
    {
     "name": "stderr",
     "output_type": "stream",
     "text": [
      " 91%|█████████████████████████████████████████████████████████████████████████████████████████████████▊         | 78992/86400 [14:43<01:45, 70.22it/s]"
     ]
    },
    {
     "name": "stdout",
     "output_type": "stream",
     "text": [
      "2022-10-25 20:19:00 hedge sell ETH,trade price: 1462.844699239669913762965746,trade amount: 0.8583890089250974053778419393, profit: -998.94\n"
     ]
    },
    {
     "name": "stderr",
     "output_type": "stream",
     "text": [
      " 92%|██████████████████████████████████████████████████████████████████████████████████████████████████▉        | 79856/86400 [14:57<01:30, 72.32it/s]"
     ]
    },
    {
     "name": "stdout",
     "output_type": "stream",
     "text": [
      "====>up:1571.891025464279860359396120, self.up_price:1551.482143294681220025418070\n",
      "2022-10-26 10:44:00 last hedge buy ETH, 1551.482143294681220025418070, trade_amount: 0.858389008925097405377841939, current_amount: 0.1363462800130178116826715217\n"
     ]
    },
    {
     "name": "stderr",
     "output_type": "stream",
     "text": [
      " 93%|███████████████████████████████████████████████████████████████████████████████████████████████████▏       | 80059/86400 [15:00<01:26, 73.10it/s]"
     ]
    },
    {
     "name": "stdout",
     "output_type": "stream",
     "text": [
      "====>up:1551.900035138545047913795616, self.up_price:1551.482143294681220025418070\n",
      "====>up:1556.873820378170063992228821, self.up_price:1551.482143294681220025418070\n",
      "remove lp position tick:202850,206497, liquidity:1448932236964495\n",
      "2022-10-26 14:13:00 out of range, 1556.251226506268874114418743, symbol:0, usdc:9513.213269953754593491365977\n",
      "hedge rebalance ETH 3.185692045039551954638765283 1556.251226506268874114418743 profit: -473.6782399189075079863834858\n",
      "prepare to add LP: rate:1.1999999999999999555910790149937383830547332763671875 price:1556.251226506268874114418743 1296.876022088557443089402946 1867.501471807522579825864741 \n"
     ]
    },
    {
     "name": "stderr",
     "output_type": "stream",
     "text": [
      " 95%|█████████████████████████████████████████████████████████████████████████████████████████████████████▊     | 82201/86400 [15:38<01:19, 52.86it/s]"
     ]
    },
    {
     "name": "stdout",
     "output_type": "stream",
     "text": [
      "2022-10-28 01:53:00 hedge sell ETH,trade price: 1474.888736651682159165831070,trade amount: 0.8583890089250974053778419393, profit: -738.29\n"
     ]
    },
    {
     "name": "stderr",
     "output_type": "stream",
     "text": [
      " 97%|███████████████████████████████████████████████████████████████████████████████████████████████████████▋   | 83727/86400 [16:05<00:30, 86.28it/s]"
     ]
    },
    {
     "name": "stdout",
     "output_type": "stream",
     "text": [
      "2022-10-29 03:16:00 hedge buy ETH, 1588.958594157874233603513626, 0.8583890089250974053778419393, -465.22\n"
     ]
    },
    {
     "name": "stderr",
     "output_type": "stream",
     "text": [
      " 98%|████████████████████████████████████████████████████████████████████████████████████████████████████████▊  | 84600/86400 [16:19<00:40, 44.39it/s]"
     ]
    },
    {
     "name": "stdout",
     "output_type": "stream",
     "text": [
      "2022-10-29 17:51:00 hedge buy ETH, 1660.264014435278814979427078, 0.8583890089250974053778419393, -233.32\n"
     ]
    },
    {
     "name": "stderr",
     "output_type": "stream",
     "text": [
      "100%|███████████████████████████████████████████████████████████████████████████████████████████████████████████| 86400/86400 [16:59<00:00, 84.76it/s]\n",
      "2022-11-02 15:35:34,455 - INFO - main loop finished, start calculate evaluating indicator...\n",
      "main loop finished, start calculate evaluating indicator...\n",
      "main loop finished, start calculate evaluating indicator...\n",
      "main loop finished, start calculate evaluating indicator...\n",
      "2022-11-02 15:35:34,641 - INFO - run evaluating indicator\n",
      "run evaluating indicator\n",
      "run evaluating indicator\n",
      "run evaluating indicator\n",
      "2022-11-02 15:35:34,663 - INFO - back testing finish\n",
      "back testing finish\n",
      "back testing finish\n",
      "back testing finish\n"
     ]
    },
    {
     "name": "stdout",
     "output_type": "stream",
     "text": [
      "10317.739usdc\n"
     ]
    },
    {
     "data": {
      "text/html": [
       "<div>\n",
       "<style scoped>\n",
       "    .dataframe tbody tr th:only-of-type {\n",
       "        vertical-align: middle;\n",
       "    }\n",
       "\n",
       "    .dataframe tbody tr th {\n",
       "        vertical-align: top;\n",
       "    }\n",
       "\n",
       "    .dataframe thead th {\n",
       "        text-align: right;\n",
       "    }\n",
       "</style>\n",
       "<table border=\"1\" class=\"dataframe\">\n",
       "  <thead>\n",
       "    <tr style=\"text-align: right;\">\n",
       "      <th></th>\n",
       "      <th>timestamp</th>\n",
       "      <th>base_balance</th>\n",
       "      <th>quote_balance</th>\n",
       "      <th>uncollect_fee_base</th>\n",
       "      <th>uncollect_fee_quote</th>\n",
       "      <th>base_in_position</th>\n",
       "      <th>quote_in_position</th>\n",
       "      <th>net_value</th>\n",
       "      <th>price</th>\n",
       "    </tr>\n",
       "  </thead>\n",
       "  <tbody>\n",
       "    <tr>\n",
       "      <th>0</th>\n",
       "      <td>2022-09-01 00:00:00</td>\n",
       "      <td>0.11819932usdc</td>\n",
       "      <td>0eth</td>\n",
       "      <td>0.000080093972usdc</td>\n",
       "      <td>0.0000084771250eth</td>\n",
       "      <td>4997.3818usdc</td>\n",
       "      <td>3.2189588eth</td>\n",
       "      <td>9997.5132usdc</td>\n",
       "      <td>1553.2973usdc/eth</td>\n",
       "    </tr>\n",
       "    <tr>\n",
       "      <th>1</th>\n",
       "      <td>2022-09-01 00:01:00</td>\n",
       "      <td>0.11819932usdc</td>\n",
       "      <td>0eth</td>\n",
       "      <td>0.016173098usdc</td>\n",
       "      <td>0.000022416509eth</td>\n",
       "      <td>4985.9105usdc</td>\n",
       "      <td>3.2263454eth</td>\n",
       "      <td>9995.5492usdc</td>\n",
       "      <td>1552.6761usdc/eth</td>\n",
       "    </tr>\n",
       "    <tr>\n",
       "      <th>2</th>\n",
       "      <td>2022-09-01 00:02:00</td>\n",
       "      <td>0.11819932usdc</td>\n",
       "      <td>0eth</td>\n",
       "      <td>0.078993946usdc</td>\n",
       "      <td>0.000022416509eth</td>\n",
       "      <td>5115.0954usdc</td>\n",
       "      <td>3.1433309eth</td>\n",
       "      <td>10017.913usdc</td>\n",
       "      <td>1559.6786usdc/eth</td>\n",
       "    </tr>\n",
       "    <tr>\n",
       "      <th>3</th>\n",
       "      <td>2022-09-01 00:03:00</td>\n",
       "      <td>0.11819932usdc</td>\n",
       "      <td>0eth</td>\n",
       "      <td>0.078993946usdc</td>\n",
       "      <td>0.000022416509eth</td>\n",
       "      <td>5115.0954usdc</td>\n",
       "      <td>3.1433309eth</td>\n",
       "      <td>10017.913usdc</td>\n",
       "      <td>1559.6786usdc/eth</td>\n",
       "    </tr>\n",
       "    <tr>\n",
       "      <th>4</th>\n",
       "      <td>2022-09-01 00:04:00</td>\n",
       "      <td>0.11819932usdc</td>\n",
       "      <td>0eth</td>\n",
       "      <td>0.094755417usdc</td>\n",
       "      <td>0.000034517663eth</td>\n",
       "      <td>5106.4740usdc</td>\n",
       "      <td>3.1488594eth</td>\n",
       "      <td>10016.476usdc</td>\n",
       "      <td>1559.2108usdc/eth</td>\n",
       "    </tr>\n",
       "    <tr>\n",
       "      <th>...</th>\n",
       "      <td>...</td>\n",
       "      <td>...</td>\n",
       "      <td>...</td>\n",
       "      <td>...</td>\n",
       "      <td>...</td>\n",
       "      <td>...</td>\n",
       "      <td>...</td>\n",
       "      <td>...</td>\n",
       "      <td>...</td>\n",
       "    </tr>\n",
       "    <tr>\n",
       "      <th>86395</th>\n",
       "      <td>2022-10-30 23:55:00</td>\n",
       "      <td>0.28401298usdc</td>\n",
       "      <td>0eth</td>\n",
       "      <td>46.623945usdc</td>\n",
       "      <td>0.029123392eth</td>\n",
       "      <td>5709.6822usdc</td>\n",
       "      <td>2.8385172eth</td>\n",
       "      <td>10319.992usdc</td>\n",
       "      <td>1591.3437usdc/eth</td>\n",
       "    </tr>\n",
       "    <tr>\n",
       "      <th>86396</th>\n",
       "      <td>2022-10-30 23:56:00</td>\n",
       "      <td>0.28401298usdc</td>\n",
       "      <td>0eth</td>\n",
       "      <td>46.631504usdc</td>\n",
       "      <td>0.029123544eth</td>\n",
       "      <td>5724.3632usdc</td>\n",
       "      <td>2.8292940eth</td>\n",
       "      <td>10322.278usdc</td>\n",
       "      <td>1592.1395usdc/eth</td>\n",
       "    </tr>\n",
       "    <tr>\n",
       "      <th>86397</th>\n",
       "      <td>2022-10-30 23:57:00</td>\n",
       "      <td>0.28401298usdc</td>\n",
       "      <td>0eth</td>\n",
       "      <td>46.631504usdc</td>\n",
       "      <td>0.029129247eth</td>\n",
       "      <td>5724.3632usdc</td>\n",
       "      <td>2.8292940eth</td>\n",
       "      <td>10322.287usdc</td>\n",
       "      <td>1592.1395usdc/eth</td>\n",
       "    </tr>\n",
       "    <tr>\n",
       "      <th>86398</th>\n",
       "      <td>2022-10-30 23:58:00</td>\n",
       "      <td>0.28401298usdc</td>\n",
       "      <td>0eth</td>\n",
       "      <td>46.634030usdc</td>\n",
       "      <td>0.029137090eth</td>\n",
       "      <td>5695.0050usdc</td>\n",
       "      <td>2.8477427eth</td>\n",
       "      <td>10317.739usdc</td>\n",
       "      <td>1590.5483usdc/eth</td>\n",
       "    </tr>\n",
       "    <tr>\n",
       "      <th>86399</th>\n",
       "      <td>2022-10-30 23:59:00</td>\n",
       "      <td>0.28401298usdc</td>\n",
       "      <td>0eth</td>\n",
       "      <td>46.634030usdc</td>\n",
       "      <td>0.029137090eth</td>\n",
       "      <td>5695.0050usdc</td>\n",
       "      <td>2.8477427eth</td>\n",
       "      <td>10317.739usdc</td>\n",
       "      <td>1590.5483usdc/eth</td>\n",
       "    </tr>\n",
       "  </tbody>\n",
       "</table>\n",
       "<p>86400 rows × 9 columns</p>\n",
       "</div>"
      ],
      "text/plain": [
       "                timestamp    base_balance quote_balance  uncollect_fee_base  \\\n",
       "0     2022-09-01 00:00:00  0.11819932usdc          0eth  0.000080093972usdc   \n",
       "1     2022-09-01 00:01:00  0.11819932usdc          0eth     0.016173098usdc   \n",
       "2     2022-09-01 00:02:00  0.11819932usdc          0eth     0.078993946usdc   \n",
       "3     2022-09-01 00:03:00  0.11819932usdc          0eth     0.078993946usdc   \n",
       "4     2022-09-01 00:04:00  0.11819932usdc          0eth     0.094755417usdc   \n",
       "...                   ...             ...           ...                 ...   \n",
       "86395 2022-10-30 23:55:00  0.28401298usdc          0eth       46.623945usdc   \n",
       "86396 2022-10-30 23:56:00  0.28401298usdc          0eth       46.631504usdc   \n",
       "86397 2022-10-30 23:57:00  0.28401298usdc          0eth       46.631504usdc   \n",
       "86398 2022-10-30 23:58:00  0.28401298usdc          0eth       46.634030usdc   \n",
       "86399 2022-10-30 23:59:00  0.28401298usdc          0eth       46.634030usdc   \n",
       "\n",
       "      uncollect_fee_quote base_in_position quote_in_position      net_value  \\\n",
       "0      0.0000084771250eth    4997.3818usdc      3.2189588eth  9997.5132usdc   \n",
       "1       0.000022416509eth    4985.9105usdc      3.2263454eth  9995.5492usdc   \n",
       "2       0.000022416509eth    5115.0954usdc      3.1433309eth  10017.913usdc   \n",
       "3       0.000022416509eth    5115.0954usdc      3.1433309eth  10017.913usdc   \n",
       "4       0.000034517663eth    5106.4740usdc      3.1488594eth  10016.476usdc   \n",
       "...                   ...              ...               ...            ...   \n",
       "86395      0.029123392eth    5709.6822usdc      2.8385172eth  10319.992usdc   \n",
       "86396      0.029123544eth    5724.3632usdc      2.8292940eth  10322.278usdc   \n",
       "86397      0.029129247eth    5724.3632usdc      2.8292940eth  10322.287usdc   \n",
       "86398      0.029137090eth    5695.0050usdc      2.8477427eth  10317.739usdc   \n",
       "86399      0.029137090eth    5695.0050usdc      2.8477427eth  10317.739usdc   \n",
       "\n",
       "                   price  \n",
       "0      1553.2973usdc/eth  \n",
       "1      1552.6761usdc/eth  \n",
       "2      1559.6786usdc/eth  \n",
       "3      1559.6786usdc/eth  \n",
       "4      1559.2108usdc/eth  \n",
       "...                  ...  \n",
       "86395  1591.3437usdc/eth  \n",
       "86396  1592.1395usdc/eth  \n",
       "86397  1592.1395usdc/eth  \n",
       "86398  1590.5483usdc/eth  \n",
       "86399  1590.5483usdc/eth  \n",
       "\n",
       "[86400 rows x 9 columns]"
      ]
     },
     "execution_count": 22,
     "metadata": {},
     "output_type": "execute_result"
    }
   ],
   "source": [
    "from datetime import date, datetime\n",
    "from typing import Union\n",
    "import  matplotlib.pylab as plt\n",
    "import demeter as dt\n",
    "import demeter.indicator\n",
    "from demeter import TokenInfo, PoolBaseInfo, Runner, Strategy, Asset, AccountStatus, BuyAction, SellAction, RowData, \\\n",
    "    ChainType\n",
    "import numpy as np\n",
    "import pandas as pd\n",
    "from decimal import Decimal\n",
    "\n",
    "# import logging \n",
    "# from logging import handlers\n",
    "\n",
    "from strategy_ploter import  plot_position_return_decomposition\n",
    "\n",
    "%matplotlib inline\n",
    "\n",
    "# logger = logging.getLogger()\n",
    "# logger.setLevel(logging.INFO) \n",
    "# logFile = './temp/hedge.log'\n",
    "\n",
    "\n",
    "# # 创建一个FileHandler,并将日志写入指定的日志文件中\n",
    "# fileHandler = logging.FileHandler(logFile, mode='a')\n",
    "# fileHandler.setLevel(logging.INFO) \n",
    " \n",
    "# #  或者创建一个StreamHandler,将日志输出到控制台\n",
    "# streamHandler = logging.StreamHandler()\n",
    "# streamHandler.setLevel(logging.INFO)\n",
    "\n",
    "# # 定义Handler的日志输出格式\n",
    "# formatter = logging.Formatter('%(asctime)s - %(name)s - %(levelname)s - %(message)s')\n",
    "# fileHandler.setFormatter(formatter)\n",
    " \n",
    "# # 定义日志滚动条件，这里按日期-天保留日志\n",
    "# timedRotatingFileHandler = handlers.TimedRotatingFileHandler(filename=logFile, when='D')\n",
    "# timedRotatingFileHandler.setLevel(logging.INFO)\n",
    "# timedRotatingFileHandler.setFormatter(formatter)\n",
    "\n",
    "# # 添加Handler\n",
    "# logger.addHandler(fileHandler)\n",
    "# logger.addHandler(streamHandler)\n",
    "# logger.addHandler(timedRotatingFileHandler)\n",
    "\n",
    "class Exchange:\n",
    "\n",
    "\n",
    "    def __init__(self, trade_symbols, leverage=20, commission=0.00005,  initial_balance=10000, log=False):\n",
    "        self.initial_balance = initial_balance #初始的资产\n",
    "        self.commission = Decimal(commission)\n",
    "        self.leverage = leverage\n",
    "        self.trade_symbols = trade_symbols\n",
    "        self.date = ''\n",
    "        self.log = log\n",
    "        self.df = pd.DataFrame(columns=['margin','total','leverage','realised_profit','unrealised_profit'])\n",
    "        self.df.index.name='timestamp'\n",
    "        self.account = {'USDT':{'realised_profit':0, 'margin':0, 'unrealised_profit':0, 'total':initial_balance, 'leverage':0, 'fee':0}}\n",
    "        #保存symbol的eth price和diff\n",
    "        self.symbol_diff = {}\n",
    "        self.symbol_single_diff = {}\n",
    "        self.symbol_boll = {}\n",
    "        for symbol in trade_symbols:\n",
    "            self.account[symbol] = {'amount':0, 'hold_price':0, 'value':0, 'price':0, 'realised_profit':0, 'margin':0, 'unrealised_profit':0,'fee':0}\n",
    "            self.symbol_diff[symbol] = pd.DataFrame(columns=['symbol','index_price','symbol_index_price','diff'])\n",
    "            # self.symbol_diff[symbol].index = pd.to_datetime(price_usdt.index)\n",
    "\n",
    "            self.symbol_single_diff[symbol] = pd.DataFrame(columns=['symbol','normal_index_price','ema_index_price','symbol_price','diff_norm','diff_ewa'])\n",
    "            # self.symbol_single_diff[symbol].index = pd.to_datetime(price_usdt.index)\n",
    "            self.symbol_boll[symbol] = pd.DataFrame(columns=['symbol','normal_index_price','symbol_price','std'])\n",
    "\n",
    "    def Trade(self, symbol, direction, price, amount, msg=''):\n",
    "        if self.date and self.log:\n",
    "            print('%-20s%-5s%-5s%-10.8s%-8.6s %s'%(str(self.date), symbol, 'buy' if direction == 1 else 'sell', price, amount, msg))\n",
    "            \n",
    "        cover_amount = 0 if direction*self.account[symbol]['amount'] >=0 else min(abs(self.account[symbol]['amount']), amount)\n",
    "        open_amount = amount - cover_amount\n",
    "        \n",
    "        self.account['USDT']['realised_profit'] -= price*amount*self.commission #扣除手续费\n",
    "        self.account['USDT']['fee'] += price*amount*self.commission\n",
    "        self.account[symbol]['fee'] += price*amount*self.commission\n",
    "        \n",
    "        if cover_amount > 0: #先平仓\n",
    "            self.account['USDT']['realised_profit'] += -direction*(price - self.account[symbol]['hold_price'])*cover_amount  #利润\n",
    "            self.account['USDT']['margin'] -= cover_amount*self.account[symbol]['hold_price']/self.leverage #释放保证金\n",
    "            \n",
    "            self.account[symbol]['realised_profit'] += -direction*(price - self.account[symbol]['hold_price'])*cover_amount\n",
    "            self.account[symbol]['amount'] -= -direction*cover_amount\n",
    "            self.account[symbol]['margin'] -=  cover_amount*self.account[symbol]['hold_price']/self.leverage\n",
    "            self.account[symbol]['hold_price'] = 0 if self.account[symbol]['amount'] == 0 else self.account[symbol]['hold_price']\n",
    "            \n",
    "        if open_amount > 0:\n",
    "            total_cost = self.account[symbol]['hold_price']*direction*self.account[symbol]['amount'] + price*open_amount\n",
    "            total_amount = direction*self.account[symbol]['amount']+open_amount\n",
    "            \n",
    "            self.account['USDT']['margin'] +=  open_amount*price/self.leverage            \n",
    "            self.account[symbol]['hold_price'] = total_cost/total_amount\n",
    "            self.account[symbol]['amount'] += direction*open_amount\n",
    "            self.account[symbol]['margin'] +=  open_amount*price/self.leverage\n",
    "            \n",
    "        self.account[symbol]['unrealised_profit'] = (price - self.account[symbol]['hold_price'])*self.account[symbol]['amount']\n",
    "        self.account[symbol]['price'] = price\n",
    "        self.account[symbol]['value'] = abs(self.account[symbol]['amount'])*price\n",
    "        \n",
    "        return True\n",
    "    \n",
    "    def Buy(self, symbol, price, amount, msg=''):\n",
    "        self.Trade(symbol, 1, price, amount, msg)\n",
    "        \n",
    "    def Sell(self, symbol, price, amount, msg=''):\n",
    "        self.Trade(symbol, -1, price, amount, msg)\n",
    "        \n",
    "    def Update(self, date, close_price): #对资产进行更新\n",
    "        self.date = date\n",
    "        # todo close price为单个close price\n",
    "        self.close = close_price\n",
    "        self.account['USDT']['unrealised_profit'] = 0\n",
    "        for symbol in self.trade_symbols:\n",
    "            # if np.isnan(close_price[symbol]):\n",
    "            #     continue\n",
    "            self.account[symbol]['unrealised_profit'] = (close_price - self.account[symbol]['hold_price'])*self.account[symbol]['amount']\n",
    "            self.account[symbol]['price'] = close_price\n",
    "            self.account[symbol]['value'] = abs(self.account[symbol]['amount'])*close_price\n",
    "            self.account['USDT']['unrealised_profit'] += self.account[symbol]['unrealised_profit']\n",
    "        \n",
    "        self.account['USDT']['total'] = round(self.account['USDT']['realised_profit'] + self.initial_balance + self.account['USDT']['unrealised_profit'],6)\n",
    "        self.account['USDT']['leverage'] = round(self.account['USDT']['margin']/self.account['USDT']['total'],4)*self.leverage\n",
    "        self.df.loc[self.date] = [self.account['USDT']['margin'],self.account['USDT']['total'],self.account['USDT']['leverage'],self.account['USDT']['realised_profit'],self.account['USDT']['unrealised_profit']]\n",
    "\n",
    "    def UpdateDiff(self, date, symbol,index_price,symbol_index_price,diff): \n",
    "        \n",
    "        self.symbol_diff[symbol].loc[self.date] = [symbol,index_price,symbol_index_price,diff]\n",
    "\n",
    "    def UpdateSingleDiff(self, date, symbol,normal_index_price,ema_index_price, symbol_price, diff_norm, diff_ewa): \n",
    "        \n",
    "        self.symbol_single_diff[symbol].loc[self.date] = [symbol,normal_index_price,ema_index_price,symbol_price, diff_norm, diff_ewa]\n",
    "\n",
    "    def UpdateBoll(self, date, symbol, normal_index_price, symbol_price, std): \n",
    "        \n",
    "        self.symbol_boll[symbol].loc[self.date] = [symbol,normal_index_price,symbol_price, std]\n",
    "\n",
    "ETH = TokenInfo(name=\"eth\", decimal=18)\n",
    "usdc = TokenInfo(name=\"usdc\", decimal=6)\n",
    "\n",
    "\n",
    "class ConstantInterval(dt.Strategy):\n",
    "    MIN_TRADE_AMOUNT = 0.01\n",
    "\n",
    "    def __init__(self, a=1.25, trade_symbol='ETH'):\n",
    "        super().__init__()\n",
    "        self.a = Decimal(a)\n",
    "        self.trade_symbol = trade_symbol\n",
    "        self.init_quote_number = 0\n",
    "        self.hedge_spread = 0\n",
    "        self.hedge_amount = 0\n",
    "        #init balance\n",
    "        self.init_total_symbol = 0\n",
    "        self.init_total_usdc = 0\n",
    "        self.up_price = 0\n",
    "        self.down_price = 0\n",
    "\n",
    "    def initialize(self):\n",
    "        P0 = self.broker.pool_status.price\n",
    "\n",
    "        status: AccountStatus = self.broker.get_account_status(P0)\n",
    "\n",
    "        \n",
    "        future_init_net_value = status.net_value * Decimal(0.2)\n",
    "        \n",
    "        self.e = Exchange({self.trade_symbol},initial_balance=future_init_net_value,commission=0.00075,log=False)\n",
    "\n",
    "\n",
    "        self.init_total_usdc = status.net_value + future_init_net_value\n",
    "        self.init_total_symbol =  self.init_total_usdc / P0\n",
    "       \n",
    "        self.rebalance(P0)#rebalance all reserve token#\n",
    "        # new_position(self, baseToken, quoteToken, usd_price_a, usd_price_b):\n",
    "        #what is  base/quote \"https://corporatefinanceinstitute.com/resources/knowledge/economics/currency-pair/\"\n",
    "        # print(P0)\n",
    "        self.down_price = P0 / self.a\n",
    "        self.up_price = P0 * self.a\n",
    "        print(f\"prepare to add LP: rate:{self.a} price:{P0} down:{self.down_price} up:{self.up_price} init symbol amount:{self.init_total_symbol},init usdc amount:{self.init_total_usdc}\")\n",
    "        self.add_liquidity(self.down_price, self.up_price)\n",
    "\n",
    "        print(\"eth_value\",self.broker.quote_asset.balance, \"usdc value\", self.broker.base_asset.balance)\n",
    "        account_status = self.broker.get_account_status()\n",
    "        self.init_quote_number = account_status.quote_in_position\n",
    "\n",
    "        self.hedge_spread = self.init_quote_number / 3 \n",
    "        self.hedge_amount = self.hedge_spread * Decimal(0.8)\n",
    "\n",
    "        # price = self.broker.pool_status.price\n",
    "        # self.hedge_rebalance(price, self.init_quote_number)\n",
    "        # symbol = self.trade_symbol\n",
    "        # print(f\"{symbol}, {self.hedge_spread}\")\n",
    "        # e = self.e\n",
    "        # e.Buy(symbol, price, trade_amount, round(e.account[symbol]['realised_profit']+e.account[symbol]['unrealised_profit'],2))\n",
    "\n",
    "\n",
    "        # print(self.broker.get_account_status())\n",
    "        # super().__init__()\n",
    "    # def initialize(self):\n",
    "    #     P0 = self.broker.pool_status.price\n",
    "    #     self.rebalance(P0)#rebalance all reserve token#\n",
    "    #     # new_position(self, baseToken, quoteToken, usd_price_a, usd_price_b):\n",
    "    #     #what is  base/quote \"https://corporatefinanceinstitute.com/resources/knowledge/economics/currency-pair/\"\n",
    "    #     self.add_liquidity(P0 - self.a,\n",
    "    #                        P0 + self.a)\n",
    "    #     print(\"eth_value\",self.broker.quote_asset.balance)\n",
    "    #     super().__init__()\n",
    "    def hedge_rebalance(self, price, spot_amount_traded):\n",
    "        e = self.e\n",
    "        symbol = self.trade_symbol\n",
    "        future_amount = e.account[symbol]['amount']\n",
    "        amount_diff = future_amount - spot_amount_traded\n",
    "        if amount_diff > 0:\n",
    "            \n",
    "            e.Sell(symbol, price, abs(amount_diff), round(e.account[symbol]['realised_profit']+e.account[symbol]['unrealised_profit'],2))\n",
    "        elif amount_diff < 0:\n",
    "            e.Buy(symbol, price, abs(amount_diff), round(e.account[symbol]['realised_profit']+e.account[symbol]['unrealised_profit'],2))\n",
    "\n",
    "        print(f\"hedge rebalance {symbol} {amount_diff} {price} profit: {e.account[symbol]['realised_profit']+e.account[symbol]['unrealised_profit']}\")\n",
    "        # print(self.broker.get_account_status())\n",
    "\n",
    "\n",
    "    def next(self, row_data: Union[RowData, pd.Series]):\n",
    "        # print(row_data.price)\n",
    "        # if row_data.timestamp.minute != 0:\n",
    "        #     return\n",
    "        # print(\"eth_value\",self.broker.quote_asset.balance, \"usdc value\", self.broker.base_asset.balance)\n",
    "        # for position_info, position in self.broker.positions.items():\n",
    "        #         print(position_info, position)  # show all position\n",
    "        e = self.e\n",
    "\n",
    "        e.Update(row_data.timestamp,row_data.price)\n",
    "\n",
    "        current_amount = self.broker.get_account_status().quote_in_position\n",
    "        usdc_amount = self.broker.get_account_status().base_in_position\n",
    "        future_amount = self.e.account[self.trade_symbol]['amount']\n",
    "        spread = self.init_quote_number*2 -current_amount - future_amount\n",
    "        symbol = self.trade_symbol\n",
    "        price = row_data.price\n",
    "\n",
    "        # todo 处理价格跑出范围\n",
    "        # print(f\"====>rowdata.low:{row_data.low} rowdata.high:{row_data.high} rowdata.price:{row_data.price} rowdata.timestamp:{row_data.timestamp}\")\n",
    "        # todo row_data.low 大于 row_data.high\n",
    "        if row_data.high < self.down_price:\n",
    "            print(f\"====>high:{row_data.high}, self.down_price:{self.down_price}\")\n",
    "            amount_down = self.broker.get_account_status(self.down_price).quote_in_position\n",
    "            trade_amount = abs(self.init_quote_number*2 - amount_down - future_amount)\n",
    "            if trade_amount >= self.MIN_TRADE_AMOUNT:\n",
    "                trade_price = self.down_price\n",
    "                e.Sell(symbol, trade_price, trade_amount, round(e.account[symbol]['realised_profit']+e.account[symbol]['unrealised_profit'],2))\n",
    "                print(f\"{row_data.timestamp } last hedge sell {symbol}, trade_price:{trade_price}, trade_amount: {trade_amount}, current_amount: {current_amount}\")\n",
    "        elif row_data.low > self.up_price:\n",
    "            print(f\"====>low:{row_data.low}, self.up_price:{self.up_price}\")\n",
    "\n",
    "            amount_up = 0\n",
    "            trade_amount = self.init_quote_number*2 - future_amount\n",
    "            if trade_amount >= self.MIN_TRADE_AMOUNT:\n",
    "                trade_price = self.up_price\n",
    "\n",
    "                e.Buy(symbol, trade_price, abs(trade_amount), round(e.account[symbol]['realised_profit']+e.account[symbol]['unrealised_profit'],2))\n",
    "                print(f\"{row_data.timestamp } last hedge buy {symbol}, {trade_price}, trade_amount: {trade_amount}, current_amount: {current_amount}\")\n",
    " \n",
    "        if current_amount == 0 or usdc_amount == 0:\n",
    "            # out of range, hedge at first\n",
    "            # if spread > 0:\n",
    "            #     trade_amount = spread\n",
    "            #     e.Buy(symbol, price, trade_amount, round(e.account[symbol]['realised_profit']+e.account[symbol]['unrealised_profit'],2))\n",
    "            #     print(f\"{row_data.timestamp} last hedge buy {symbol}, {price}, {trade_amount}, {round(e.account[symbol]['realised_profit']+e.account[symbol]['unrealised_profit'],2)}\")\n",
    "            # else:\n",
    "            #     trade_amount = spread * -1\n",
    "            #     e.Sell(symbol, price, trade_amount, round(e.account[symbol]['realised_profit']+e.account[symbol]['unrealised_profit'],2))\n",
    "            #     print(f\"{row_data.timestamp } last hedge sell {symbol}, {price}, {trade_amount}, {round(e.account[symbol]['realised_profit']+e.account[symbol]['unrealised_profit'],2)}\")\n",
    "\n",
    "\n",
    "            if len(self.broker.positions) > 0:\n",
    "                keys = list(self.broker.positions.keys())\n",
    "                for k in keys:\n",
    "                    print(f\"remove lp position {k}\")\n",
    "                    self.remove_liquidity(k)\n",
    "            print(f\"{row_data.timestamp} out of range, {price}, symbol:{current_amount}, usdc:{usdc_amount}\")\n",
    "            self.rebalance(price)\n",
    "            self.down_price = price / self.a\n",
    "            self.up_price = price * self.a\n",
    "            print(f\"prepare to add LP: rate:{self.a} price:{price} {self.down_price} { self.up_price} \")\n",
    "            self.add_liquidity(self.down_price, self.up_price)\n",
    "        else:\n",
    "            if spread > self.hedge_spread:\n",
    "                trade_amount = self.hedge_amount\n",
    "                e.Buy(symbol, price, trade_amount, round(e.account[symbol]['realised_profit']+e.account[symbol]['unrealised_profit'],2))\n",
    "                print(f\"{row_data.timestamp} hedge buy {symbol}, {price}, {trade_amount}, {round(e.account[symbol]['realised_profit']+e.account[symbol]['unrealised_profit'],2)}\")\n",
    "            elif Decimal(-1)*self.hedge_spread >= spread:\n",
    "                trade_amount = self.hedge_amount\n",
    "                e.Sell(symbol, price, trade_amount, round(e.account[symbol]['realised_profit']+e.account[symbol]['unrealised_profit'],2))\n",
    "                print(f\"{row_data.timestamp } hedge sell {symbol},trade price: {price},trade amount: {trade_amount}, profit: {round(e.account[symbol]['realised_profit']+e.account[symbol]['unrealised_profit'],2)}\")\n",
    "\n",
    "        # print(f\"spread:{spread}, {self.hedge_spread}\")\n",
    "        # print(f\"spread: {spread},{self.init_quote_number},{current_amount},{future_amount}\")\n",
    "        # print(self.data.timestamp[row_data.row_id]) \n",
    "            # if row_data.timestamp.minute != 0:\n",
    "            #     return\n",
    "            # if len(self.broker.positions) > 0:\n",
    "            #     keys = list(self.broker.positions.keys())\n",
    "            #     for k in keys:\n",
    "            #         self.remove_liquidity(k)\n",
    "            #     self.rebalance(row_data.price)\n",
    "            # ma_price = row_data.ma5 if row_data.ma5 > 0 else row_data.price\n",
    "            # self.add_liquidity(ma_price - self.price_width,\n",
    "            #                 ma_price + self.price_width)\n",
    "    #重新计算并全仓入池\n",
    "    def rebalance(self, price):\n",
    "        status: AccountStatus = self.broker.get_account_status(price)\n",
    "        # self.init_total_symbol =  status.net_value / price\n",
    "        # self.init_total_usdc = status.net_value\n",
    "        # print(f\"net value rebalance:{status.net_value}\")\n",
    "        base_amount = status.net_value / 2\n",
    "        quote_amount = base_amount / price\n",
    "        quote_amount_diff = quote_amount - status.quote_balance\n",
    "        # print(f\"rebalance: {status}, \")\n",
    "        if quote_amount_diff > 0:\n",
    "            self.buy(quote_amount_diff)\n",
    "        elif quote_amount_diff < 0:\n",
    "            self.sell(0 - quote_amount_diff)\n",
    "        \n",
    "        self.hedge_rebalance(price, quote_amount)\n",
    "\n",
    "pool_id_tie500 = '0x88e6a0c2ddd26feeb64f039a2c41296fcb3f5640'\n",
    "\n",
    "pool_id_tie3000 = '0x8ad599c3a0ff1de082011efddc58f1908eb6e6d8'\n",
    "\n",
    "eth = TokenInfo(name=\"eth\", decimal=18)\n",
    "usdc = TokenInfo(name=\"usdc\", decimal=6)\n",
    "pool = PoolBaseInfo(usdc, eth, 0.05, usdc)\n",
    "\n",
    "net_value_base = 'ETH'\n",
    "\n",
    "runner_instance = Runner(pool)\n",
    "# runner_instance.enable_notify = False\n",
    "runner_instance.strategy = ConstantInterval(a=1.20)\n",
    "runner_instance.set_assets([Asset(usdc, 10000)])\n",
    "runner_instance.data_path = \"../demeter/data\"\n",
    "runner_instance.load_data(ChainType.Ethereum.name,\n",
    "                              pool_id_tie500,\n",
    "                              date(2022, 9, 1),\n",
    "                              date(2022, 10, 30))\n",
    "runner_instance.run(enable_notify=False)\n",
    "print(runner_instance.final_status.net_value)\n",
    "# plot_position_return_decomposition(runner_instance.account_status_list)\n",
    "\n",
    "# df = pd.DataFrame(runner_instance.account_status_list)\n",
    "\n",
    "# exchange = runner_instance.strategy.e\n",
    "\n",
    "# exchange\n",
    "df_status = pd.DataFrame(runner_instance.account_status_list)\n",
    "\n",
    "df_status\n",
    "# df\n",
    "\n"
   ]
  },
  {
   "cell_type": "code",
   "execution_count": 23,
   "metadata": {},
   "outputs": [],
   "source": [
    "e = runner_instance.strategy.e"
   ]
  },
  {
   "cell_type": "code",
   "execution_count": 24,
   "metadata": {},
   "outputs": [
    {
     "data": {
      "text/plain": [
       "Decimal('-0.1527586573917002054151386868')"
      ]
     },
     "execution_count": 24,
     "metadata": {},
     "output_type": "execute_result"
    }
   ],
   "source": [
    "total_net_value = runner_instance.final_status.net_value + runner_instance.final_status.uncollect_fee_base + runner_instance.final_status.uncollect_fee_quote * runner_instance.final_status.price\n",
    "final_price = runner_instance.final_status.price\n",
    "if net_value_base == 'USDC':\n",
    "    profit = total_net_value- runner_instance.strategy.init_total_usdc\n",
    "    profit_rate = profit / runner_instance.strategy.init_total_usdc\n",
    "else:\n",
    "    profit = total_net_value/final_price - runner_instance.strategy.init_total_symbol\n",
    "    profit_rate = profit / runner_instance.strategy.init_total_symbol\n",
    "\n",
    "profit_rate"
   ]
  },
  {
   "cell_type": "code",
   "execution_count": 26,
   "metadata": {},
   "outputs": [
    {
     "data": {
      "text/html": [
       "<div>\n",
       "<style scoped>\n",
       "    .dataframe tbody tr th:only-of-type {\n",
       "        vertical-align: middle;\n",
       "    }\n",
       "\n",
       "    .dataframe tbody tr th {\n",
       "        vertical-align: top;\n",
       "    }\n",
       "\n",
       "    .dataframe thead th {\n",
       "        text-align: right;\n",
       "    }\n",
       "</style>\n",
       "<table border=\"1\" class=\"dataframe\">\n",
       "  <thead>\n",
       "    <tr style=\"text-align: right;\">\n",
       "      <th></th>\n",
       "      <th>timestamp</th>\n",
       "      <th>base_balance</th>\n",
       "      <th>quote_balance</th>\n",
       "      <th>uncollect_fee_base</th>\n",
       "      <th>uncollect_fee_quote</th>\n",
       "      <th>base_in_position</th>\n",
       "      <th>quote_in_position</th>\n",
       "      <th>net_value</th>\n",
       "      <th>price</th>\n",
       "    </tr>\n",
       "  </thead>\n",
       "  <tbody>\n",
       "    <tr>\n",
       "      <th>0</th>\n",
       "      <td>2022-09-01 00:00:00</td>\n",
       "      <td>0.11819932usdc</td>\n",
       "      <td>0eth</td>\n",
       "      <td>0.000080093972usdc</td>\n",
       "      <td>0.0000084771250eth</td>\n",
       "      <td>4997.3818usdc</td>\n",
       "      <td>3.2189588eth</td>\n",
       "      <td>9997.5132usdc</td>\n",
       "      <td>1553.2973usdc/eth</td>\n",
       "    </tr>\n",
       "    <tr>\n",
       "      <th>1</th>\n",
       "      <td>2022-09-01 00:01:00</td>\n",
       "      <td>0.11819932usdc</td>\n",
       "      <td>0eth</td>\n",
       "      <td>0.016173098usdc</td>\n",
       "      <td>0.000022416509eth</td>\n",
       "      <td>4985.9105usdc</td>\n",
       "      <td>3.2263454eth</td>\n",
       "      <td>9995.5492usdc</td>\n",
       "      <td>1552.6761usdc/eth</td>\n",
       "    </tr>\n",
       "    <tr>\n",
       "      <th>2</th>\n",
       "      <td>2022-09-01 00:02:00</td>\n",
       "      <td>0.11819932usdc</td>\n",
       "      <td>0eth</td>\n",
       "      <td>0.078993946usdc</td>\n",
       "      <td>0.000022416509eth</td>\n",
       "      <td>5115.0954usdc</td>\n",
       "      <td>3.1433309eth</td>\n",
       "      <td>10017.913usdc</td>\n",
       "      <td>1559.6786usdc/eth</td>\n",
       "    </tr>\n",
       "    <tr>\n",
       "      <th>3</th>\n",
       "      <td>2022-09-01 00:03:00</td>\n",
       "      <td>0.11819932usdc</td>\n",
       "      <td>0eth</td>\n",
       "      <td>0.078993946usdc</td>\n",
       "      <td>0.000022416509eth</td>\n",
       "      <td>5115.0954usdc</td>\n",
       "      <td>3.1433309eth</td>\n",
       "      <td>10017.913usdc</td>\n",
       "      <td>1559.6786usdc/eth</td>\n",
       "    </tr>\n",
       "    <tr>\n",
       "      <th>4</th>\n",
       "      <td>2022-09-01 00:04:00</td>\n",
       "      <td>0.11819932usdc</td>\n",
       "      <td>0eth</td>\n",
       "      <td>0.094755417usdc</td>\n",
       "      <td>0.000034517663eth</td>\n",
       "      <td>5106.4740usdc</td>\n",
       "      <td>3.1488594eth</td>\n",
       "      <td>10016.476usdc</td>\n",
       "      <td>1559.2108usdc/eth</td>\n",
       "    </tr>\n",
       "    <tr>\n",
       "      <th>...</th>\n",
       "      <td>...</td>\n",
       "      <td>...</td>\n",
       "      <td>...</td>\n",
       "      <td>...</td>\n",
       "      <td>...</td>\n",
       "      <td>...</td>\n",
       "      <td>...</td>\n",
       "      <td>...</td>\n",
       "      <td>...</td>\n",
       "    </tr>\n",
       "    <tr>\n",
       "      <th>86395</th>\n",
       "      <td>2022-10-30 23:55:00</td>\n",
       "      <td>0.28401298usdc</td>\n",
       "      <td>0eth</td>\n",
       "      <td>46.623945usdc</td>\n",
       "      <td>0.029123392eth</td>\n",
       "      <td>5709.6822usdc</td>\n",
       "      <td>2.8385172eth</td>\n",
       "      <td>10319.992usdc</td>\n",
       "      <td>1591.3437usdc/eth</td>\n",
       "    </tr>\n",
       "    <tr>\n",
       "      <th>86396</th>\n",
       "      <td>2022-10-30 23:56:00</td>\n",
       "      <td>0.28401298usdc</td>\n",
       "      <td>0eth</td>\n",
       "      <td>46.631504usdc</td>\n",
       "      <td>0.029123544eth</td>\n",
       "      <td>5724.3632usdc</td>\n",
       "      <td>2.8292940eth</td>\n",
       "      <td>10322.278usdc</td>\n",
       "      <td>1592.1395usdc/eth</td>\n",
       "    </tr>\n",
       "    <tr>\n",
       "      <th>86397</th>\n",
       "      <td>2022-10-30 23:57:00</td>\n",
       "      <td>0.28401298usdc</td>\n",
       "      <td>0eth</td>\n",
       "      <td>46.631504usdc</td>\n",
       "      <td>0.029129247eth</td>\n",
       "      <td>5724.3632usdc</td>\n",
       "      <td>2.8292940eth</td>\n",
       "      <td>10322.287usdc</td>\n",
       "      <td>1592.1395usdc/eth</td>\n",
       "    </tr>\n",
       "    <tr>\n",
       "      <th>86398</th>\n",
       "      <td>2022-10-30 23:58:00</td>\n",
       "      <td>0.28401298usdc</td>\n",
       "      <td>0eth</td>\n",
       "      <td>46.634030usdc</td>\n",
       "      <td>0.029137090eth</td>\n",
       "      <td>5695.0050usdc</td>\n",
       "      <td>2.8477427eth</td>\n",
       "      <td>10317.739usdc</td>\n",
       "      <td>1590.5483usdc/eth</td>\n",
       "    </tr>\n",
       "    <tr>\n",
       "      <th>86399</th>\n",
       "      <td>2022-10-30 23:59:00</td>\n",
       "      <td>0.28401298usdc</td>\n",
       "      <td>0eth</td>\n",
       "      <td>46.634030usdc</td>\n",
       "      <td>0.029137090eth</td>\n",
       "      <td>5695.0050usdc</td>\n",
       "      <td>2.8477427eth</td>\n",
       "      <td>10317.739usdc</td>\n",
       "      <td>1590.5483usdc/eth</td>\n",
       "    </tr>\n",
       "  </tbody>\n",
       "</table>\n",
       "<p>86400 rows × 9 columns</p>\n",
       "</div>"
      ],
      "text/plain": [
       "                timestamp    base_balance quote_balance  uncollect_fee_base  \\\n",
       "0     2022-09-01 00:00:00  0.11819932usdc          0eth  0.000080093972usdc   \n",
       "1     2022-09-01 00:01:00  0.11819932usdc          0eth     0.016173098usdc   \n",
       "2     2022-09-01 00:02:00  0.11819932usdc          0eth     0.078993946usdc   \n",
       "3     2022-09-01 00:03:00  0.11819932usdc          0eth     0.078993946usdc   \n",
       "4     2022-09-01 00:04:00  0.11819932usdc          0eth     0.094755417usdc   \n",
       "...                   ...             ...           ...                 ...   \n",
       "86395 2022-10-30 23:55:00  0.28401298usdc          0eth       46.623945usdc   \n",
       "86396 2022-10-30 23:56:00  0.28401298usdc          0eth       46.631504usdc   \n",
       "86397 2022-10-30 23:57:00  0.28401298usdc          0eth       46.631504usdc   \n",
       "86398 2022-10-30 23:58:00  0.28401298usdc          0eth       46.634030usdc   \n",
       "86399 2022-10-30 23:59:00  0.28401298usdc          0eth       46.634030usdc   \n",
       "\n",
       "      uncollect_fee_quote base_in_position quote_in_position      net_value  \\\n",
       "0      0.0000084771250eth    4997.3818usdc      3.2189588eth  9997.5132usdc   \n",
       "1       0.000022416509eth    4985.9105usdc      3.2263454eth  9995.5492usdc   \n",
       "2       0.000022416509eth    5115.0954usdc      3.1433309eth  10017.913usdc   \n",
       "3       0.000022416509eth    5115.0954usdc      3.1433309eth  10017.913usdc   \n",
       "4       0.000034517663eth    5106.4740usdc      3.1488594eth  10016.476usdc   \n",
       "...                   ...              ...               ...            ...   \n",
       "86395      0.029123392eth    5709.6822usdc      2.8385172eth  10319.992usdc   \n",
       "86396      0.029123544eth    5724.3632usdc      2.8292940eth  10322.278usdc   \n",
       "86397      0.029129247eth    5724.3632usdc      2.8292940eth  10322.287usdc   \n",
       "86398      0.029137090eth    5695.0050usdc      2.8477427eth  10317.739usdc   \n",
       "86399      0.029137090eth    5695.0050usdc      2.8477427eth  10317.739usdc   \n",
       "\n",
       "                   price  \n",
       "0      1553.2973usdc/eth  \n",
       "1      1552.6761usdc/eth  \n",
       "2      1559.6786usdc/eth  \n",
       "3      1559.6786usdc/eth  \n",
       "4      1559.2108usdc/eth  \n",
       "...                  ...  \n",
       "86395  1591.3437usdc/eth  \n",
       "86396  1592.1395usdc/eth  \n",
       "86397  1592.1395usdc/eth  \n",
       "86398  1590.5483usdc/eth  \n",
       "86399  1590.5483usdc/eth  \n",
       "\n",
       "[86400 rows x 9 columns]"
      ]
     },
     "execution_count": 26,
     "metadata": {},
     "output_type": "execute_result"
    }
   ],
   "source": [
    "df_status"
   ]
  },
  {
   "cell_type": "code",
   "execution_count": 27,
   "metadata": {},
   "outputs": [
    {
     "data": {
      "text/plain": [
       "{'USDT': {'realised_profit': Decimal('-908.6070187563639094275813986'),\n",
       "  'margin': Decimal('309.5115127791661256668335682'),\n",
       "  'unrealised_profit': Decimal('347.9005667276331988688620358'),\n",
       "  'total': Decimal('1439.293548'),\n",
       "  'leverage': Decimal('4.3000'),\n",
       "  'fee': Decimal('40.81038325290062880464964104')},\n",
       " 'ETH': {'amount': Decimal('4.110614530823775633696675530'),\n",
       "  'hold_price': Decimal('1505.913582790451430964273897'),\n",
       "  'value': Decimal('6538.130822310955712205533405'),\n",
       "  'price': Decimal('1590.548267974107707158329230'),\n",
       "  'realised_profit': Decimal('-867.7966355034632806229317575'),\n",
       "  'margin': Decimal('309.5115127791661256668335682'),\n",
       "  'unrealised_profit': Decimal('347.9005667276331988688620358'),\n",
       "  'fee': Decimal('40.81038325290062880464964104')}}"
      ]
     },
     "execution_count": 27,
     "metadata": {},
     "output_type": "execute_result"
    }
   ],
   "source": [
    "e.account"
   ]
  },
  {
   "cell_type": "code",
   "execution_count": 28,
   "metadata": {},
   "outputs": [
    {
     "data": {
      "text/html": [
       "<div>\n",
       "<style scoped>\n",
       "    .dataframe tbody tr th:only-of-type {\n",
       "        vertical-align: middle;\n",
       "    }\n",
       "\n",
       "    .dataframe tbody tr th {\n",
       "        vertical-align: top;\n",
       "    }\n",
       "\n",
       "    .dataframe thead th {\n",
       "        text-align: right;\n",
       "    }\n",
       "</style>\n",
       "<table border=\"1\" class=\"dataframe\">\n",
       "  <thead>\n",
       "    <tr style=\"text-align: right;\">\n",
       "      <th></th>\n",
       "      <th>margin</th>\n",
       "      <th>total</th>\n",
       "      <th>leverage</th>\n",
       "      <th>realised_profit</th>\n",
       "      <th>unrealised_profit</th>\n",
       "      <th>base_balance</th>\n",
       "      <th>quote_balance</th>\n",
       "      <th>uncollect_fee_base</th>\n",
       "      <th>uncollect_fee_quote</th>\n",
       "      <th>base_in_position</th>\n",
       "      <th>quote_in_position</th>\n",
       "      <th>net_value</th>\n",
       "      <th>price</th>\n",
       "      <th>total_value</th>\n",
       "      <th>total_value_eth</th>\n",
       "      <th>total_value_eth_profit_rate</th>\n",
       "    </tr>\n",
       "    <tr>\n",
       "      <th>timestamp</th>\n",
       "      <th></th>\n",
       "      <th></th>\n",
       "      <th></th>\n",
       "      <th></th>\n",
       "      <th></th>\n",
       "      <th></th>\n",
       "      <th></th>\n",
       "      <th></th>\n",
       "      <th></th>\n",
       "      <th></th>\n",
       "      <th></th>\n",
       "      <th></th>\n",
       "      <th></th>\n",
       "      <th></th>\n",
       "      <th></th>\n",
       "      <th></th>\n",
       "    </tr>\n",
       "  </thead>\n",
       "  <tbody>\n",
       "    <tr>\n",
       "      <th>2022-09-01 00:00:00</th>\n",
       "      <td>250.000000000000000000000000</td>\n",
       "      <td>1996.250000</td>\n",
       "      <td>2.5040</td>\n",
       "      <td>-3.750000000000000078062556419</td>\n",
       "      <td>0E-51</td>\n",
       "      <td>0.11819932usdc</td>\n",
       "      <td>0eth</td>\n",
       "      <td>0.000080093972usdc</td>\n",
       "      <td>0.0000084771250eth</td>\n",
       "      <td>4997.3818usdc</td>\n",
       "      <td>3.2189588eth</td>\n",
       "      <td>9997.5132usdc</td>\n",
       "      <td>1553.2973usdc/eth</td>\n",
       "      <td>11993.77649517863822492782092</td>\n",
       "      <td>7.721494439224139245164588016</td>\n",
       "      <td>0.9994813745982198428302581206</td>\n",
       "    </tr>\n",
       "    <tr>\n",
       "      <th>2022-09-01 00:01:00</th>\n",
       "      <td>250.000000000000000000000000</td>\n",
       "      <td>1994.250500</td>\n",
       "      <td>2.5080</td>\n",
       "      <td>-3.750000000000000078062556419</td>\n",
       "      <td>-1.999500099982282641433086133</td>\n",
       "      <td>0.11819932usdc</td>\n",
       "      <td>0eth</td>\n",
       "      <td>0.016173098usdc</td>\n",
       "      <td>0.000022416509eth</td>\n",
       "      <td>4985.9105usdc</td>\n",
       "      <td>3.2263454eth</td>\n",
       "      <td>9995.5492usdc</td>\n",
       "      <td>1552.6761usdc/eth</td>\n",
       "      <td>11989.85066332852319688330112</td>\n",
       "      <td>7.722055071018183039888550687</td>\n",
       "      <td>0.9995539435860711973486576286</td>\n",
       "    </tr>\n",
       "    <tr>\n",
       "      <th>2022-09-01 00:02:00</th>\n",
       "      <td>250.000000000000000000000000</td>\n",
       "      <td>2016.791053</td>\n",
       "      <td>2.4800</td>\n",
       "      <td>-3.750000000000000078062556419</td>\n",
       "      <td>20.54105335067022559501212468</td>\n",
       "      <td>0.11819932usdc</td>\n",
       "      <td>0eth</td>\n",
       "      <td>0.078993946usdc</td>\n",
       "      <td>0.000022416509eth</td>\n",
       "      <td>5115.0954usdc</td>\n",
       "      <td>3.1433309eth</td>\n",
       "      <td>10017.913usdc</td>\n",
       "      <td>1559.6786usdc/eth</td>\n",
       "      <td>12034.81847106563155733583005</td>\n",
       "      <td>7.716217079638968835030010923</td>\n",
       "      <td>0.9987982655635696527229777192</td>\n",
       "    </tr>\n",
       "    <tr>\n",
       "      <th>2022-09-01 00:03:00</th>\n",
       "      <td>250.000000000000000000000000</td>\n",
       "      <td>2016.791053</td>\n",
       "      <td>2.4800</td>\n",
       "      <td>-3.750000000000000078062556419</td>\n",
       "      <td>20.54105335067022559501212468</td>\n",
       "      <td>0.11819932usdc</td>\n",
       "      <td>0eth</td>\n",
       "      <td>0.078993946usdc</td>\n",
       "      <td>0.000022416509eth</td>\n",
       "      <td>5115.0954usdc</td>\n",
       "      <td>3.1433309eth</td>\n",
       "      <td>10017.913usdc</td>\n",
       "      <td>1559.6786usdc/eth</td>\n",
       "      <td>12034.81847106563155733583005</td>\n",
       "      <td>7.716217079638968835030010923</td>\n",
       "      <td>0.9987982655635696527229777192</td>\n",
       "    </tr>\n",
       "    <tr>\n",
       "      <th>2022-09-01 00:04:00</th>\n",
       "      <td>250.000000000000000000000000</td>\n",
       "      <td>2015.285192</td>\n",
       "      <td>2.4820</td>\n",
       "      <td>-3.750000000000000078062556419</td>\n",
       "      <td>19.03519221693051060497938620</td>\n",
       "      <td>0.11819932usdc</td>\n",
       "      <td>0eth</td>\n",
       "      <td>0.094755417usdc</td>\n",
       "      <td>0.000034517663eth</td>\n",
       "      <td>5106.4740usdc</td>\n",
       "      <td>3.1488594eth</td>\n",
       "      <td>10016.476usdc</td>\n",
       "      <td>1559.2108usdc/eth</td>\n",
       "      <td>12031.91007382073226731627144</td>\n",
       "      <td>7.716666875357863521606167084</td>\n",
       "      <td>0.9988564877700282289140589306</td>\n",
       "    </tr>\n",
       "    <tr>\n",
       "      <th>...</th>\n",
       "      <td>...</td>\n",
       "      <td>...</td>\n",
       "      <td>...</td>\n",
       "      <td>...</td>\n",
       "      <td>...</td>\n",
       "      <td>...</td>\n",
       "      <td>...</td>\n",
       "      <td>...</td>\n",
       "      <td>...</td>\n",
       "      <td>...</td>\n",
       "      <td>...</td>\n",
       "      <td>...</td>\n",
       "      <td>...</td>\n",
       "      <td>...</td>\n",
       "      <td>...</td>\n",
       "      <td>...</td>\n",
       "    </tr>\n",
       "    <tr>\n",
       "      <th>2022-10-30 23:55:00</th>\n",
       "      <td>309.5115127791661256668335682</td>\n",
       "      <td>1442.563267</td>\n",
       "      <td>4.2920</td>\n",
       "      <td>-908.6070187563639094275813986</td>\n",
       "      <td>351.1702860172551249947467144</td>\n",
       "      <td>0.28401298usdc</td>\n",
       "      <td>0eth</td>\n",
       "      <td>46.623945usdc</td>\n",
       "      <td>0.029123392eth</td>\n",
       "      <td>5709.6822usdc</td>\n",
       "      <td>2.8385172eth</td>\n",
       "      <td>10319.992usdc</td>\n",
       "      <td>1591.3437usdc/eth</td>\n",
       "      <td>11855.52460207852309532755202</td>\n",
       "      <td>7.450008815378001606550728856</td>\n",
       "      <td>0.9643398839656554810652020043</td>\n",
       "    </tr>\n",
       "    <tr>\n",
       "      <th>2022-10-30 23:56:00</th>\n",
       "      <td>309.5115127791661256668335682</td>\n",
       "      <td>1445.834622</td>\n",
       "      <td>4.2820</td>\n",
       "      <td>-908.6070187563639094275813986</td>\n",
       "      <td>354.4416404935264896935496486</td>\n",
       "      <td>0.28401298usdc</td>\n",
       "      <td>0eth</td>\n",
       "      <td>46.631504usdc</td>\n",
       "      <td>0.029123544eth</td>\n",
       "      <td>5724.3632usdc</td>\n",
       "      <td>2.8292940eth</td>\n",
       "      <td>10322.278usdc</td>\n",
       "      <td>1592.1395usdc/eth</td>\n",
       "      <td>11861.11322192216776612682229</td>\n",
       "      <td>7.449795060162747704246797513</td>\n",
       "      <td>0.9643122151823582705620027359</td>\n",
       "    </tr>\n",
       "    <tr>\n",
       "      <th>2022-10-30 23:57:00</th>\n",
       "      <td>309.5115127791661256668335682</td>\n",
       "      <td>1445.834622</td>\n",
       "      <td>4.2820</td>\n",
       "      <td>-908.6070187563639094275813986</td>\n",
       "      <td>354.4416404935264896935496486</td>\n",
       "      <td>0.28401298usdc</td>\n",
       "      <td>0eth</td>\n",
       "      <td>46.631504usdc</td>\n",
       "      <td>0.029129247eth</td>\n",
       "      <td>5724.3632usdc</td>\n",
       "      <td>2.8292940eth</td>\n",
       "      <td>10322.287usdc</td>\n",
       "      <td>1592.1395usdc/eth</td>\n",
       "      <td>11861.13138279088136623443640</td>\n",
       "      <td>7.449806466743858555232644214</td>\n",
       "      <td>0.9643136916666655344003008330</td>\n",
       "    </tr>\n",
       "    <tr>\n",
       "      <th>2022-10-30 23:58:00</th>\n",
       "      <td>309.5115127791661256668335682</td>\n",
       "      <td>1439.293548</td>\n",
       "      <td>4.3000</td>\n",
       "      <td>-908.6070187563639094275813986</td>\n",
       "      <td>347.9005667276331988688620358</td>\n",
       "      <td>0.28401298usdc</td>\n",
       "      <td>0eth</td>\n",
       "      <td>46.634030usdc</td>\n",
       "      <td>0.029137090eth</td>\n",
       "      <td>5695.0050usdc</td>\n",
       "      <td>2.8477427eth</td>\n",
       "      <td>10317.739usdc</td>\n",
       "      <td>1590.5483usdc/eth</td>\n",
       "      <td>11850.01077452072082400145308</td>\n",
       "      <td>7.450267944156238170422162158</td>\n",
       "      <td>0.9643734259683737867272593231</td>\n",
       "    </tr>\n",
       "    <tr>\n",
       "      <th>2022-10-30 23:59:00</th>\n",
       "      <td>309.5115127791661256668335682</td>\n",
       "      <td>1439.293548</td>\n",
       "      <td>4.3000</td>\n",
       "      <td>-908.6070187563639094275813986</td>\n",
       "      <td>347.9005667276331988688620358</td>\n",
       "      <td>0.28401298usdc</td>\n",
       "      <td>0eth</td>\n",
       "      <td>46.634030usdc</td>\n",
       "      <td>0.029137090eth</td>\n",
       "      <td>5695.0050usdc</td>\n",
       "      <td>2.8477427eth</td>\n",
       "      <td>10317.739usdc</td>\n",
       "      <td>1590.5483usdc/eth</td>\n",
       "      <td>11850.01077452072082400145308</td>\n",
       "      <td>7.450267944156238170422162158</td>\n",
       "      <td>0.9643734259683737867272593231</td>\n",
       "    </tr>\n",
       "  </tbody>\n",
       "</table>\n",
       "<p>86400 rows × 16 columns</p>\n",
       "</div>"
      ],
      "text/plain": [
       "                                            margin        total leverage  \\\n",
       "timestamp                                                                  \n",
       "2022-09-01 00:00:00   250.000000000000000000000000  1996.250000   2.5040   \n",
       "2022-09-01 00:01:00   250.000000000000000000000000  1994.250500   2.5080   \n",
       "2022-09-01 00:02:00   250.000000000000000000000000  2016.791053   2.4800   \n",
       "2022-09-01 00:03:00   250.000000000000000000000000  2016.791053   2.4800   \n",
       "2022-09-01 00:04:00   250.000000000000000000000000  2015.285192   2.4820   \n",
       "...                                            ...          ...      ...   \n",
       "2022-10-30 23:55:00  309.5115127791661256668335682  1442.563267   4.2920   \n",
       "2022-10-30 23:56:00  309.5115127791661256668335682  1445.834622   4.2820   \n",
       "2022-10-30 23:57:00  309.5115127791661256668335682  1445.834622   4.2820   \n",
       "2022-10-30 23:58:00  309.5115127791661256668335682  1439.293548   4.3000   \n",
       "2022-10-30 23:59:00  309.5115127791661256668335682  1439.293548   4.3000   \n",
       "\n",
       "                                    realised_profit  \\\n",
       "timestamp                                             \n",
       "2022-09-01 00:00:00  -3.750000000000000078062556419   \n",
       "2022-09-01 00:01:00  -3.750000000000000078062556419   \n",
       "2022-09-01 00:02:00  -3.750000000000000078062556419   \n",
       "2022-09-01 00:03:00  -3.750000000000000078062556419   \n",
       "2022-09-01 00:04:00  -3.750000000000000078062556419   \n",
       "...                                             ...   \n",
       "2022-10-30 23:55:00  -908.6070187563639094275813986   \n",
       "2022-10-30 23:56:00  -908.6070187563639094275813986   \n",
       "2022-10-30 23:57:00  -908.6070187563639094275813986   \n",
       "2022-10-30 23:58:00  -908.6070187563639094275813986   \n",
       "2022-10-30 23:59:00  -908.6070187563639094275813986   \n",
       "\n",
       "                                  unrealised_profit    base_balance  \\\n",
       "timestamp                                                             \n",
       "2022-09-01 00:00:00                           0E-51  0.11819932usdc   \n",
       "2022-09-01 00:01:00  -1.999500099982282641433086133  0.11819932usdc   \n",
       "2022-09-01 00:02:00   20.54105335067022559501212468  0.11819932usdc   \n",
       "2022-09-01 00:03:00   20.54105335067022559501212468  0.11819932usdc   \n",
       "2022-09-01 00:04:00   19.03519221693051060497938620  0.11819932usdc   \n",
       "...                                             ...             ...   \n",
       "2022-10-30 23:55:00   351.1702860172551249947467144  0.28401298usdc   \n",
       "2022-10-30 23:56:00   354.4416404935264896935496486  0.28401298usdc   \n",
       "2022-10-30 23:57:00   354.4416404935264896935496486  0.28401298usdc   \n",
       "2022-10-30 23:58:00   347.9005667276331988688620358  0.28401298usdc   \n",
       "2022-10-30 23:59:00   347.9005667276331988688620358  0.28401298usdc   \n",
       "\n",
       "                    quote_balance  uncollect_fee_base uncollect_fee_quote  \\\n",
       "timestamp                                                                   \n",
       "2022-09-01 00:00:00          0eth  0.000080093972usdc  0.0000084771250eth   \n",
       "2022-09-01 00:01:00          0eth     0.016173098usdc   0.000022416509eth   \n",
       "2022-09-01 00:02:00          0eth     0.078993946usdc   0.000022416509eth   \n",
       "2022-09-01 00:03:00          0eth     0.078993946usdc   0.000022416509eth   \n",
       "2022-09-01 00:04:00          0eth     0.094755417usdc   0.000034517663eth   \n",
       "...                           ...                 ...                 ...   \n",
       "2022-10-30 23:55:00          0eth       46.623945usdc      0.029123392eth   \n",
       "2022-10-30 23:56:00          0eth       46.631504usdc      0.029123544eth   \n",
       "2022-10-30 23:57:00          0eth       46.631504usdc      0.029129247eth   \n",
       "2022-10-30 23:58:00          0eth       46.634030usdc      0.029137090eth   \n",
       "2022-10-30 23:59:00          0eth       46.634030usdc      0.029137090eth   \n",
       "\n",
       "                    base_in_position quote_in_position      net_value  \\\n",
       "timestamp                                                               \n",
       "2022-09-01 00:00:00    4997.3818usdc      3.2189588eth  9997.5132usdc   \n",
       "2022-09-01 00:01:00    4985.9105usdc      3.2263454eth  9995.5492usdc   \n",
       "2022-09-01 00:02:00    5115.0954usdc      3.1433309eth  10017.913usdc   \n",
       "2022-09-01 00:03:00    5115.0954usdc      3.1433309eth  10017.913usdc   \n",
       "2022-09-01 00:04:00    5106.4740usdc      3.1488594eth  10016.476usdc   \n",
       "...                              ...               ...            ...   \n",
       "2022-10-30 23:55:00    5709.6822usdc      2.8385172eth  10319.992usdc   \n",
       "2022-10-30 23:56:00    5724.3632usdc      2.8292940eth  10322.278usdc   \n",
       "2022-10-30 23:57:00    5724.3632usdc      2.8292940eth  10322.287usdc   \n",
       "2022-10-30 23:58:00    5695.0050usdc      2.8477427eth  10317.739usdc   \n",
       "2022-10-30 23:59:00    5695.0050usdc      2.8477427eth  10317.739usdc   \n",
       "\n",
       "                                 price                    total_value  \\\n",
       "timestamp                                                               \n",
       "2022-09-01 00:00:00  1553.2973usdc/eth  11993.77649517863822492782092   \n",
       "2022-09-01 00:01:00  1552.6761usdc/eth  11989.85066332852319688330112   \n",
       "2022-09-01 00:02:00  1559.6786usdc/eth  12034.81847106563155733583005   \n",
       "2022-09-01 00:03:00  1559.6786usdc/eth  12034.81847106563155733583005   \n",
       "2022-09-01 00:04:00  1559.2108usdc/eth  12031.91007382073226731627144   \n",
       "...                                ...                            ...   \n",
       "2022-10-30 23:55:00  1591.3437usdc/eth  11855.52460207852309532755202   \n",
       "2022-10-30 23:56:00  1592.1395usdc/eth  11861.11322192216776612682229   \n",
       "2022-10-30 23:57:00  1592.1395usdc/eth  11861.13138279088136623443640   \n",
       "2022-10-30 23:58:00  1590.5483usdc/eth  11850.01077452072082400145308   \n",
       "2022-10-30 23:59:00  1590.5483usdc/eth  11850.01077452072082400145308   \n",
       "\n",
       "                                   total_value_eth  \\\n",
       "timestamp                                            \n",
       "2022-09-01 00:00:00  7.721494439224139245164588016   \n",
       "2022-09-01 00:01:00  7.722055071018183039888550687   \n",
       "2022-09-01 00:02:00  7.716217079638968835030010923   \n",
       "2022-09-01 00:03:00  7.716217079638968835030010923   \n",
       "2022-09-01 00:04:00  7.716666875357863521606167084   \n",
       "...                                            ...   \n",
       "2022-10-30 23:55:00  7.450008815378001606550728856   \n",
       "2022-10-30 23:56:00  7.449795060162747704246797513   \n",
       "2022-10-30 23:57:00  7.449806466743858555232644214   \n",
       "2022-10-30 23:58:00  7.450267944156238170422162158   \n",
       "2022-10-30 23:59:00  7.450267944156238170422162158   \n",
       "\n",
       "                        total_value_eth_profit_rate  \n",
       "timestamp                                            \n",
       "2022-09-01 00:00:00  0.9994813745982198428302581206  \n",
       "2022-09-01 00:01:00  0.9995539435860711973486576286  \n",
       "2022-09-01 00:02:00  0.9987982655635696527229777192  \n",
       "2022-09-01 00:03:00  0.9987982655635696527229777192  \n",
       "2022-09-01 00:04:00  0.9988564877700282289140589306  \n",
       "...                                             ...  \n",
       "2022-10-30 23:55:00  0.9643398839656554810652020043  \n",
       "2022-10-30 23:56:00  0.9643122151823582705620027359  \n",
       "2022-10-30 23:57:00  0.9643136916666655344003008330  \n",
       "2022-10-30 23:58:00  0.9643734259683737867272593231  \n",
       "2022-10-30 23:59:00  0.9643734259683737867272593231  \n",
       "\n",
       "[86400 rows x 16 columns]"
      ]
     },
     "execution_count": 28,
     "metadata": {},
     "output_type": "execute_result"
    }
   ],
   "source": [
    "df_merge = pd.merge(e.df, df_status, on='timestamp', how='inner')\n",
    "\n",
    "df_merge['total_value'] = df_merge['total'] + df_merge['uncollect_fee_base'] + df_merge['uncollect_fee_quote'] * df_merge['price'] + df_merge['net_value']\n",
    "\n",
    "df_merge.set_index('timestamp', inplace=True)\n",
    "\n",
    "df_merge['total_value_eth'] = df_merge['total_value'] / df_merge['price']\n",
    "\n",
    "df_merge['total_value_eth_profit_rate'] = df_merge['total_value_eth'] / runner_instance.strategy.init_total_symbol\n",
    "\n",
    "df_merge"
   ]
  },
  {
   "cell_type": "code",
   "execution_count": 29,
   "metadata": {},
   "outputs": [
    {
     "name": "stderr",
     "output_type": "stream",
     "text": [
      "/var/folders/jx/963_5qrj3ld11sfdq7x6c69m0000gn/T/ipykernel_42901/777635673.py:24: UserWarning: Matplotlib is currently using module://matplotlib_inline.backend_inline, which is a non-GUI backend, so cannot show the figure.\n",
      "  fig.show()\n"
     ]
    },
    {
     "data": {
      "image/png": "[encoded data removed]",
      "text/plain": [
       "<Figure size 640x480 with 2 Axes>"
      ]
     },
     "metadata": {},
     "output_type": "display_data"
    }
   ],
   "source": [
    "import matplotlib.dates as mdates\n",
    "\n",
    "fig, value_ax = plt.subplots()\n",
    "day = mdates.DayLocator(interval=2)\n",
    "price_ax = value_ax.twinx()\n",
    "price_ax.xaxis.set_major_locator(day)\n",
    "price_ax.xaxis.set_major_formatter(mdates.DateFormatter('%m-%d'))\n",
    "\n",
    "value_ax.set_xlabel('time')\n",
    "# value_ax.set_ylabel('value', color='g')\n",
    "# price_ax.set_ylabel('price', color='b')\n",
    "# net_value_ts = df_merge['net_value']\n",
    "\n",
    "time_ts = df_merge.index\n",
    "total_value_ts = df_merge['total_value_eth_profit_rate']\n",
    "\n",
    "# value_in_account = [status.base_balance+status.quote_balance*status.price for status in account_status_list]\n",
    "# value_in_position = [ status.base_in_position+status.quote_in_position*status.price for status in account_status_list]\n",
    "# value_ax.plot(time_ts[1:],net_value_ts[1:],'g-',label=\"net value\")\n",
    "value_ax.plot(time_ts,total_value_ts,'r-',label=\"total value profit rate\")\n",
    "#value_ax.plot(time_ts,value_in_account,'b-',label=\" value_in broker account\")\n",
    "# price_ax.plot(time_ts,total_value_ts,label=\"total value\")\n",
    "fig.legend()\n",
    "fig.show()"
   ]
  },
  {
   "cell_type": "code",
   "execution_count": null,
   "metadata": {},
   "outputs": [],
   "source": []
  }
 ],
 "metadata": {
  "kernelspec": {
   "display_name": "Python 3.10.6 ('py310btc')",
   "language": "python",
   "name": "python3"
  },
  "language_info": {
   "codemirror_mode": {
    "name": "ipython",
    "version": 3
   },
   "file_extension": ".py",
   "mimetype": "text/x-python",
   "name": "python",
   "nbconvert_exporter": "python",
   "pygments_lexer": "ipython3",
   "version": "3.10.6"
  },
  "orig_nbformat": 4,
  "vscode": {
   "interpreter": {
    "hash": "abcf340a9bfefc31ecafadbd09739eb19479e953f794e77621cd271022fdffd8"
   }
  }
 },
 "nbformat": 4,
 "nbformat_minor": 2
}
