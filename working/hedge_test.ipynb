{
 "cells": [
  {
   "cell_type": "code",
   "execution_count": 1,
   "metadata": {},
   "outputs": [],
   "source": [
    "from hedge_stand import HedgeST,HedgeSTBoll\n",
    "from datetime import date, datetime\n",
    "from demeter import TokenInfo, PoolBaseInfo, Actuator, Strategy, Asset, AccountStatus, BuyAction, SellAction, RowData, \\\n",
    "    ChainType\n",
    "import optunity\n",
    "import optunity.metrics\n",
    "from decimal import Decimal\n",
    "import pandas as pd\n",
    "import  matplotlib.pylab as plt\n",
    "# import logging \n",
    "# from logging import handlers\n",
    "from load_data import pool_id_1_eth_u_500,pool_id_1_wbtc_u_3000\n",
    "\n",
    "from strategy_ploter import  plot_position_return_decomposition\n",
    "\n",
    "import quantstats as qs\n",
    "qs.extend_pandas()\n",
    "\n",
    "%matplotlib inline\n",
    "\n",
    "def backtest_boll(a, hedge_spread_split,hedge_spread_rate,alpha,boll_period_n):\n",
    "    # global RUNNING_TIME\n",
    "    # print(f\"==================spread running time {RUNNING_TIME}==================\")\n",
    "\n",
    "    decimal_a = Decimal(a).quantize(Decimal('0.00'))\n",
    "    decimal_hedge_spread_split = Decimal(hedge_spread_split).quantize(Decimal('0.0'))\n",
    "    decimal_hedge_spread_rate = Decimal(hedge_spread_rate).quantize(Decimal('0.00'))\n",
    "\n",
    "    ema_max_spread_rate = round(0.2,4)\n",
    "\n",
    "\n",
    "\n",
    "    #收益计算基础参数\n",
    "    # net_value_base = 'ETH'\n",
    "\n",
    "    runner_instance = Actuator(PAIR_POOL)\n",
    "    # runner_instance.enable_notify = False\n",
    "    runner_instance.strategy = HedgeSTBoll(a=decimal_a,hedge_spread_split = decimal_hedge_spread_split,hedge_spread_rate=decimal_hedge_spread_rate,alpha=alpha,ema_max_spread_rate=ema_max_spread_rate,period_n=int(boll_period_n))\n",
    "    runner_instance.set_assets([Asset(USDC, 1000000)])\n",
    "    save_path = f\"../demeter/data/ETH/{POOL_ID}\"\n",
    "    runner_instance.data_path = save_path\n",
    "    runner_instance.load_data(ChainType.Ethereum.name,\n",
    "                                POOL_ID,\n",
    "                                DATE_START,\n",
    "                               DATE_END)\n",
    "    runner_instance.run(enable_notify=False)\n",
    "\n",
    "    hedge_count = runner_instance.strategy.hedge_count\n",
    "    outside_ema_count = runner_instance.strategy.outside_ema_count\n",
    "\n",
    "    # df_status = pd.DataFrame(runner_instance.account_status_list)\n",
    "\n",
    "    total_net_value = runner_instance.final_status.net_value\n",
    "    \n",
    "    final_total_usdc_value = round(total_net_value + runner_instance.strategy.e.df['total'].iloc[-1],3)\n",
    "    \n",
    "    final_price = runner_instance.final_status.price\n",
    "\n",
    "    final_total_eth_value = round(final_total_usdc_value / final_price,3)\n",
    "\n",
    "\n",
    "    notice = f\"ema+alpha:{RUNNING_TIME} times, a:{decimal_a}, hedge_spread_split:{decimal_hedge_spread_split}, hedge_spread_rate:{decimal_hedge_spread_rate},alpa:{alpha}\"\n",
    "    result =f\" result: outside_ema_count:{outside_ema_count},hedge count:{hedge_count} final_total_eth_value:{final_total_eth_value},final_total_usdc_value:{final_total_usdc_value}\"  \n",
    "    print(notice)\n",
    "    print(result)\n",
    "    # if SEND_NOTICE:\n",
    "    #     send_notice('CEX_Notify',notice)\n",
    "\n",
    "    # RUNNING_TIME +=1\n",
    "\n",
    "    # if NET_VALUE_BASE == 'USDC':\n",
    "    #     print(final_total_usdc_value)\n",
    "    #     return float(final_total_usdc_value)\n",
    "    #     # profit_rate_usdc = profit_usdc / runner_instance.strategy.init_total_usdc\n",
    "    # else:\n",
    "    #     print(float(final_total_usdc_value / final_price))\n",
    "    #     return float(final_total_usdc_value / final_price)\n",
    "\n",
    "\n",
    "    return runner_instance\n",
    "\n",
    "\n",
    "def backtest_instance(a, hedge_spread_split,hedge_spread_rate,alpha):\n",
    "    # global RUNNING_TIME\n",
    "    # print(f\"==================spread running time {RUNNING_TIME}==================\")\n",
    "\n",
    "    decimal_a = Decimal(a).quantize(Decimal('0.00'))\n",
    "    decimal_hedge_spread_split = Decimal(hedge_spread_split).quantize(Decimal('0.0'))\n",
    "    decimal_hedge_spread_rate = Decimal(hedge_spread_rate).quantize(Decimal('0.00'))\n",
    "\n",
    "    alpha = round(alpha,4)\n",
    "    # ema_max_spread_rate = round(ema_max_spread_rate,4)\n",
    "\n",
    "    eth = TokenInfo(name=\"eth\", decimal=18)\n",
    "    usdc = TokenInfo(name=\"usdc\", decimal=6)\n",
    "    pool = PoolBaseInfo(usdc, eth, 0.05, usdc)\n",
    "\n",
    "    #收益计算基础参数\n",
    "    # net_value_base = 'ETH'\n",
    "\n",
    "    runner_instance = Actuator(pool)\n",
    "    # runner_instance.enable_notify = False\n",
    "    runner_instance.strategy = HedgeST(decimal_a,decimal_hedge_spread_split,decimal_hedge_spread_rate,alpha)\n",
    "    runner_instance.set_assets([Asset(usdc, 1000000)])\n",
    "    save_path = f\"../demeter/data/ETH/{pool_id_1_eth_u_500}\"\n",
    "    runner_instance.data_path = save_path\n",
    "    runner_instance.load_data(ChainType.Ethereum.name,\n",
    "                                pool_id_1_eth_u_500,\n",
    "                                DATE_START,\n",
    "                               DATE_END)\n",
    "    runner_instance.run(enable_notify=False)\n",
    "\n",
    "    hedge_count = runner_instance.strategy.hedge_count\n",
    "    outside_ema_count = runner_instance.strategy.outside_ema_count\n",
    "\n",
    "    # df_status = pd.DataFrame(runner_instance.account_status_list)\n",
    "\n",
    "    total_net_value = runner_instance.final_status.net_value\n",
    "    \n",
    "    final_total_usdc_value = round(total_net_value + runner_instance.strategy.e.df['total'].iloc[-1],3)\n",
    "    \n",
    "    final_price = runner_instance.final_status.price\n",
    "\n",
    "    final_total_eth_value = round(final_total_usdc_value / final_price,3)\n",
    "\n",
    "    #处理df_status\n",
    "    df_status = pd.DataFrame(runner_instance.account_status_list)\n",
    "    df_merge = pd.merge(e.df, df_status, on='timestamp', how='inner')\n",
    "\n",
    "    df_merge['total_value'] = df_merge['total'] + df_merge['net_value']\n",
    "    df_merge['total_value_eth'] = df_merge['total_value'] / df_merge['price']\n",
    "\n",
    "    df_merge.set_index('timestamp', inplace=True)\n",
    "\n",
    "\n",
    "\n",
    "\n",
    "    notice = f\"ema+alpha:{RUNNING_TIME} times, a:{decimal_a}, hedge_spread_split:{decimal_hedge_spread_split}, hedge_spread_rate:{decimal_hedge_spread_rate},alpa:{alpha}\"\n",
    "    result =f\" result: outside_ema_count:{outside_ema_count},hedge count:{hedge_count} final_total_eth_value:{final_total_eth_value},final_total_usdc_value:{final_total_usdc_value}\"  \n",
    "    print(notice)\n",
    "    print(result)\n",
    "    # if SEND_NOTICE:\n",
    "    #     send_notice('CEX_Notify',notice)\n",
    "\n",
    "    # RUNNING_TIME +=1\n",
    "\n",
    "    # if NET_VALUE_BASE == 'USDC':\n",
    "    #     print(final_total_usdc_value)\n",
    "    #     return float(final_total_usdc_value)\n",
    "    #     # profit_rate_usdc = profit_usdc / runner_instance.strategy.init_total_usdc\n",
    "    # else:\n",
    "    #     print(float(final_total_usdc_value / final_price))\n",
    "    #     return float(final_total_usdc_value / final_price)\n",
    "\n",
    "\n",
    "    return runner_instance\n",
    "\n",
    "\n",
    "\n"
   ]
  },
  {
   "cell_type": "code",
   "execution_count": 2,
   "metadata": {},
   "outputs": [],
   "source": [
    "\n",
    "def generate_dfmerge(runner_instance):\n",
    "    e = runner_instance.strategy.e\n",
    "\n",
    "    total_net_value = runner_instance.final_status.net_value\n",
    "        \n",
    "    final_total_usdc_value = total_net_value + runner_instance.strategy.e.df['total'].iloc[-1]\n",
    "\n",
    "\n",
    "    final_price = runner_instance.final_status.price\n",
    "    # if net_value_base == 'USDC':\n",
    "    profit_usdc = round(final_total_usdc_value- runner_instance.strategy.init_total_usdc,3)\n",
    "    profit_rate_usdc = round(profit_usdc / runner_instance.strategy.init_total_usdc,3)\n",
    "    # else:\n",
    "    profit_eth = round(final_total_usdc_value/final_price - runner_instance.strategy.init_total_symbol,3)\n",
    "    profit_rate_eth = round(profit_eth / runner_instance.strategy.init_total_symbol,3)\n",
    "\n",
    "    print(f\"USDC profit: {profit_usdc}, profit_rate: {profit_rate_usdc}\")\n",
    "\n",
    "    print(f\"ETH profit: {profit_eth}, profit_rate: {profit_rate_eth}\")\n",
    "\n",
    "    df_status = pd.DataFrame(runner_instance.account_status_list)\n",
    "    df_merge = pd.merge(e.df, df_status, on='timestamp', how='inner')\n",
    "\n",
    "    df_merge['total_value'] = df_merge['total'] + df_merge['net_value']\n",
    "\n",
    "    df_merge.set_index('timestamp', inplace=True)\n",
    "\n",
    "    df_merge['total_value_profit_rate'] = df_merge['total_value'] / runner_instance.strategy.init_total_usdc\n",
    "\n",
    "\n",
    "    df_merge['total_value_eth'] = df_merge['total_value'] / df_merge['price']\n",
    "\n",
    "    df_merge['net_value_eth'] = df_merge['net_value'] / df_merge['price']\n",
    "\n",
    "    df_merge['total_value_eth_profit_rate'] = df_merge['total_value_eth'] / runner_instance.strategy.init_total_symbol\n",
    "\n",
    "    df_merge_f = df_merge.apply(pd.to_numeric, downcast='float')\n",
    "   \n",
    "    df_merge_f['net_value_rate'] = df_merge_f['net_value'] / df_merge_f['net_value'].iloc[0]\n",
    "\n",
    "    df_merge_f['price_rate'] = df_merge_f['price'] / df_merge_f['price'].iloc[0]\n",
    "    return df_merge_f"
   ]
  },
  {
   "cell_type": "code",
   "execution_count": 3,
   "metadata": {},
   "outputs": [],
   "source": [
    "# pd.options.plotting.backend = \"plotly\"\n",
    "\n",
    "CHAIN_ID = 'ETH'\n",
    "NET_VALUE_BASE = 'WBTC'\n",
    "RUNNING_TIME = 1\n",
    "SEND_NOTICE = False\n",
    "str_date_start = '2022-9-1'\n",
    "str_date_end = '2022-11-30'\n",
    "POOL_ID = pool_id_1_wbtc_u_3000\n",
    "#eth pool\n",
    "# eth = TokenInfo(name='eth', decimal=18)\n",
    "# USDC = TokenInfo(name=\"usdc\", decimal=6)\n",
    "# PAIR_POOL = PoolBaseInfo(USDC, eth, 0.05, USDC)\n",
    "\n",
    "# wbtc pool\n",
    "wbtc = TokenInfo(name='wbtc', decimal=8)\n",
    "USDC = TokenInfo(name=\"usdc\", decimal=6)\n",
    "PAIR_POOL = PoolBaseInfo(wbtc, USDC, 0.3, USDC)\n",
    "\n",
    "DATE_START = datetime.strptime(str_date_start, \"%Y-%m-%d\").date()\n",
    "\n",
    "DATE_END = datetime.strptime(str_date_end, \"%Y-%m-%d\").date()"
   ]
  },
  {
   "cell_type": "markdown",
   "metadata": {},
   "source": [
    "# A1 test"
   ]
  },
  {
   "cell_type": "code",
   "execution_count": 4,
   "metadata": {},
   "outputs": [
    {
     "name": "stderr",
     "output_type": "stream",
     "text": [
      "2022-12-26 14:24:17,105 - INFO - start load files from 2022-09-01 to 2022-11-30...\n"
     ]
    },
    {
     "name": "stdout",
     "output_type": "stream",
     "text": [
      "init parameters: a:1.15, hedge_spread_split:2.7, hedge_spread_rate:0.90,alpa:0.037,period_n:19\n",
      "\n"
     ]
    },
    {
     "name": "stderr",
     "output_type": "stream",
     "text": [
      "2022-12-26 14:24:19,000 - INFO - load file complete, preparing...\n",
      "2022-12-26 14:24:23,153 - INFO - data has benn prepared\n",
      "2022-12-26 14:24:23,154 - INFO - init strategy...\n"
     ]
    },
    {
     "name": "stdout",
     "output_type": "stream",
     "text": [
      "add ema column with alpha 0.037\n",
      "130976\n"
     ]
    },
    {
     "name": "stderr",
     "output_type": "stream",
     "text": [
      "2022-12-26 14:24:24,488 - INFO - start main loop...\n"
     ]
    },
    {
     "name": "stdout",
     "output_type": "stream",
     "text": [
      "hedge rebalance ETH -24.80777935392767014527344056 20124.73558706320389991576924 profit: 0E-49\n",
      "after rebalance=> lp total symbol:49.61555870785534029054688112, future amount:24.80777935392767014527344056, status:AccountStatus(timestamp=None, base_balance=Decimal('498500.0000000000000000000001'), quote_balance=Decimal('24.84504692431414135730940466'), base_uncollected=Decimal('0'), quote_uncollected=Decimal('0'), base_in_position=Decimal('0'), quote_in_position=Decimal('0'), net_value=Decimal('998500.0000000000000000000000'), price=Decimal('20124.73558706320389991576924'))\n",
      "prepare to add LP: rate:1.15 price:20124.73558706320389991576924 down:17499.77007570713382601371238 up:23143.44592512268448490313463 init symbol amount:59.62811261835393980921343405,init usdc amount:1200000.000000000011102230246\n",
      "eth_value 0.09164208460049842032122299 usdc value 0\n"
     ]
    },
    {
     "name": "stderr",
     "output_type": "stream",
     "text": [
      " 76%|████████████████████████████████████████████████████████████████████████████████▎                        | 100187/130976 [15:35<07:18, 70.15it/s]"
     ]
    },
    {
     "name": "stdout",
     "output_type": "stream",
     "text": [
      "2022-11-09 14:40:00  => last hedge sell ETH,price: 17418.91882260936842959775224,c_amount:51.31723202202516888093038184,f_amount:24.80777935392767014527344056,ema:17497.727890580845, trade amoutn: 26.50945266809749873565694128, hedge count:1\n",
      "2022-11-09 14:40:00 out of range, price:17418.91882260936842959775224,ema:17497.727890580845 symbol:51.31723202202516888093038184, usdc:0\n",
      "hedge rebalance ETH -32.45048114450310700204336053 17418.91882260936842959775224 profit: -67125.30526472922933317854692\n",
      "after rebalance=> lp total symbol:61.49761566066655682331971962, future amount:30.74880783033327841165985981, status:AccountStatus(timestamp=None, base_balance=Decimal('534948.1451746326011959507682'), quote_balance=Decimal('30.78686084158548786855186008'), base_uncollected=Decimal('0'), quote_uncollected=Decimal('0'), base_in_position=Decimal('0'), quote_in_position=Decimal('0'), net_value=Decimal('1071221.974977181357194802907'), price=Decimal('17418.91882260936842959775224'))\n",
      "prepare to add LP: rate:1.15 price:17418.91882260936842959775224,ema:17497.727890580845, self.down_price:15146.88593270379863443282803,self.up_price 20031.75664600077369403741508 \n",
      "after add LP: AccountStatus(timestamp=None, base_balance=Decimal('0'), quote_balance=Decimal('0.09731540097237278761514978'), base_uncollected=Decimal('0'), quote_uncollected=Decimal('0'), base_in_position=Decimal('534948.1451731480604779101734'), quote_in_position=Decimal('30.68954544061311508093671022'), net_value=Decimal('1071221.974975696816476762311'), price=Decimal('17418.91882260936842959775224'))\n"
     ]
    },
    {
     "name": "stderr",
     "output_type": "stream",
     "text": [
      "100%|█████████████████████████████████████████████████████████████████████████████████████████████████████████| 130976/130976 [23:28<00:00, 92.98it/s]\n",
      "2022-12-26 14:47:53,273 - INFO - main loop finished, start calculate evaluating indicator...\n",
      "2022-12-26 14:47:53,478 - INFO - run evaluating indicator\n",
      "2022-12-26 14:47:53,543 - INFO - back testing finish\n"
     ]
    },
    {
     "name": "stdout",
     "output_type": "stream",
     "text": [
      "ema+alpha:1 times, a:1.15, hedge_spread_split:2.7, hedge_spread_rate:0.90,alpa:0.037\n",
      " result: outside_ema_count:0,hedge count:1 final_total_eth_value:94.394,final_total_usdc_value:1621699.449\n",
      "USDC profit: 421699.449, profit_rate: 0.351\n",
      "ETH profit: 34.765, profit_rate: 0.583\n"
     ]
    }
   ],
   "source": [
    "a = 1.15\n",
    "hedge_spread_split = 2.7\n",
    "hedge_spread_rate = 0.9\n",
    "alpha = 0.037\n",
    "ema_max_spread_rate=0.2\n",
    "period_n = 19\n",
    "\n",
    "instance=backtest_boll(a=a,hedge_spread_split=hedge_spread_split,hedge_spread_rate=hedge_spread_rate,alpha=alpha,boll_period_n=period_n)\n",
    "\n",
    "df_merge = generate_dfmerge(instance)\n",
    "\n",
    "# fig = df_merge[['price_rate','total_value_eth_profit_rate','total_value_profit_rate']].plot().get_figure()\n",
    "\n",
    "# fig.savefig('./fig/test.pdf')\n",
    "\n",
    "# plot = df_merge[['price_rate','total_value_eth_profit_rate','net_value_rate','total_value_profit_rate']].plot()\n",
    "\n",
    "# plot.write_image(f\"./fig/{NET_VALUE_BASE}_{DATE_START}_{DATE_END}_{a}_{hedge_spread_split}_{hedge_spread_rate}_{alpha}_{period_n}.png\")\n",
    "\n",
    "# plot.show()"
   ]
  },
  {
   "cell_type": "code",
   "execution_count": 5,
   "metadata": {},
   "outputs": [],
   "source": [
    "# qs.plots.snapshot(df_merge['total_value_eth'])"
   ]
  },
  {
   "cell_type": "code",
   "execution_count": 6,
   "metadata": {},
   "outputs": [],
   "source": [
    "\n",
    "\n",
    "filename = f\"{NET_VALUE_BASE}_{DATE_START}_{DATE_END}_{a}_{hedge_spread_split}_{hedge_spread_rate}_{alpha}_{period_n}.html\"\n",
    "# df_merge['total_value'].plot_snapshot()\n",
    "qs.reports.html(df_merge['total_value_eth'],benchmark=df_merge['net_value_eth'],mode='full',periods_per_year=365, download_filename=f\"./reports/{filename}\",output='report')\n"
   ]
  },
  {
   "cell_type": "markdown",
   "metadata": {},
   "source": [
    "# A2 test"
   ]
  },
  {
   "cell_type": "code",
   "execution_count": 7,
   "metadata": {},
   "outputs": [
    {
     "name": "stderr",
     "output_type": "stream",
     "text": [
      "2022-12-26 14:48:38,163 - INFO - start load files from 2022-09-01 to 2022-11-30...\n"
     ]
    },
    {
     "name": "stdout",
     "output_type": "stream",
     "text": [
      "init parameters: a:1.15, hedge_spread_split:2.7, hedge_spread_rate:0.90,alpa:0.037,period_n:9\n",
      "\n"
     ]
    },
    {
     "name": "stderr",
     "output_type": "stream",
     "text": [
      "2022-12-26 14:48:39,973 - INFO - load file complete, preparing...\n",
      "2022-12-26 14:48:44,341 - INFO - data has benn prepared\n",
      "2022-12-26 14:48:44,342 - INFO - init strategy...\n"
     ]
    },
    {
     "name": "stdout",
     "output_type": "stream",
     "text": [
      "add ema column with alpha 0.037\n",
      "130976\n"
     ]
    },
    {
     "name": "stderr",
     "output_type": "stream",
     "text": [
      "2022-12-26 14:48:45,721 - INFO - start main loop...\n"
     ]
    },
    {
     "name": "stdout",
     "output_type": "stream",
     "text": [
      "hedge rebalance ETH -24.80777935392767014527344056 20124.73558706320389991576924 profit: 0E-49\n",
      "after rebalance=> lp total symbol:49.61555870785534029054688112, future amount:24.80777935392767014527344056, status:AccountStatus(timestamp=None, base_balance=Decimal('498500.0000000000000000000001'), quote_balance=Decimal('24.84504692431414135730940466'), base_uncollected=Decimal('0'), quote_uncollected=Decimal('0'), base_in_position=Decimal('0'), quote_in_position=Decimal('0'), net_value=Decimal('998500.0000000000000000000000'), price=Decimal('20124.73558706320389991576924'))\n",
      "prepare to add LP: rate:1.15 price:20124.73558706320389991576924 down:17499.77007570713382601371238 up:23143.44592512268448490313463 init symbol amount:59.62811261835393980921343405,init usdc amount:1200000.000000000011102230246\n",
      "eth_value 0.09164208460049842032122299 usdc value 0\n"
     ]
    },
    {
     "name": "stderr",
     "output_type": "stream",
     "text": [
      " 56%|██████████████████████████████████████████████████████████▎                                              | 72726/130976 [09:33<09:42, 100.04it/s]"
     ]
    },
    {
     "name": "stdout",
     "output_type": "stream",
     "text": [
      "2022-10-21 12:51:00 hedge lower sell ETH,c_amount:37.36318270837650877843171637,f_amount:24.80777935392767014527344056, upper:19746.05,middle:19278.18,lower,18810.31, trade price: 18783.01744990400949945981387,ema:18809.665752944442,trade amount: 8.251134946571214312329393847, hedge count:1\n"
     ]
    },
    {
     "name": "stderr",
     "output_type": "stream",
     "text": [
      " 60%|███████████████████████████████████████████████████████████████▊                                          | 78849/130976 [10:35<08:44, 99.47it/s]"
     ]
    },
    {
     "name": "stdout",
     "output_type": "stream",
     "text": [
      "2022-10-25 18:54:00 hedge up buy ETH, c_amount:23.86747794292849790555993859,f_amount:16.55664440735645583294404671,upper:19514.99,middle:19195.06,lower:,18875.12, trade price:20320.88550412355398678115114,ema:20222.271431691275, trade amount:8.251134946571214312329393847, hedge count:2\n"
     ]
    },
    {
     "name": "stderr",
     "output_type": "stream",
     "text": [
      " 71%|███████████████████████████████████████████████████████████████████████████▋                              | 93489/130976 [13:57<07:23, 84.50it/s]"
     ]
    },
    {
     "name": "stdout",
     "output_type": "stream",
     "text": [
      "2022-11-04 22:57:00 hedge up buy ETH, c_amount:15.63509660004293197868064746,f_amount:24.80777935392767014527344056,upper:21116.11,middle:20616.62,lower:,20117.13, trade price:21184.01991516581063114495117,ema:21163.53922910098, trade amount:8.251134946571214312329393847, hedge count:3\n"
     ]
    },
    {
     "name": "stderr",
     "output_type": "stream",
     "text": [
      " 75%|███████████████████████████████████████████████████████████████████████████████▍                          | 98136/130976 [14:57<07:18, 74.85it/s]"
     ]
    },
    {
     "name": "stdout",
     "output_type": "stream",
     "text": [
      "2022-11-08 04:27:00 hedge lower sell ETH,c_amount:25.76652907994941755046452299,f_amount:33.05891430049888445760283441, upper:21643.08,middle:20858.01,lower,20072.95, trade price: 19702.60271670920658000981677,ema:20014.05840714075,trade amount: 8.251134946571214312329393847, hedge count:4\n"
     ]
    },
    {
     "name": "stderr",
     "output_type": "stream",
     "text": [
      " 76%|████████████████████████████████████████████████████████████████████████████████                          | 98979/130976 [15:09<07:17, 73.17it/s]"
     ]
    },
    {
     "name": "stdout",
     "output_type": "stream",
     "text": [
      "2022-11-08 18:33:00 hedge lower sell ETH,c_amount:34.00708456097070611054876302,f_amount:24.80777935392767014527344056, upper:21866.21,middle:20902.65,lower,19939.09, trade price: 18852.63985543305063810850370,ema:19146.79211735279,trade amount: 8.251134946571214312329393847, hedge count:5\n"
     ]
    },
    {
     "name": "stderr",
     "output_type": "stream",
     "text": [
      " 76%|████████████████████████████████████████████████████████████████████████████████▏                         | 99040/130976 [15:10<07:34, 70.32it/s]"
     ]
    },
    {
     "name": "stdout",
     "output_type": "stream",
     "text": [
      "2022-11-08 19:35:00 hedge lower sell ETH,c_amount:42.24388676933572722944225322,f_amount:16.55664440735645583294404671, upper:21866.21,middle:20902.65,lower,19939.09, trade price: 17960.14927397383833165671094,ema:18335.058009262986,trade amount: 8.251134946571214312329393847, hedge count:6\n"
     ]
    },
    {
     "name": "stderr",
     "output_type": "stream",
     "text": [
      " 76%|████████████████████████████████████████████████████████████████████████████████▉                         | 99938/130976 [15:23<07:01, 73.62it/s]"
     ]
    },
    {
     "name": "stdout",
     "output_type": "stream",
     "text": [
      "2022-11-09 10:30:00 hedge lower sell ETH,c_amount:50.48652019688430518922920601,f_amount:8.305509460785241520614652863, upper:22725.15,middle:20889.79,lower,19054.43, trade price: 17488.73053772484640766256557,ema:17573.349168269917,trade amount: 8.251134946571214312329393847, hedge count:7\n"
     ]
    },
    {
     "name": "stderr",
     "output_type": "stream",
     "text": [
      " 76%|████████████████████████████████████████████████████████████████████████████████▎                        | 100190/130976 [15:27<07:47, 65.82it/s]"
     ]
    },
    {
     "name": "stdout",
     "output_type": "stream",
     "text": [
      "2022-11-09 14:40:00  => last hedge sell ETH,price: 17418.91882260936842959775224,c_amount:51.31723202202516888093038184,f_amount:0.054374514214027208285259016,ema:17497.727890580845, trade amoutn: 1.756047828383855798668759736, hedge count:8\n",
      "2022-11-09 14:40:00 out of range, price:17418.91882260936842959775224,ema:17497.727890580845 symbol:51.31723202202516888093038184, usdc:0\n",
      "hedge rebalance ETH -32.45048114450310700204336053 17418.91882260936842959775224 profit: -75166.21823551555441510118280\n",
      "after rebalance=> lp total symbol:61.49761566066655682331971962, future amount:30.74880783033327841165985981, status:AccountStatus(timestamp=None, base_balance=Decimal('534948.1451746326011959507682'), quote_balance=Decimal('30.78686084158548786855186008'), base_uncollected=Decimal('0'), quote_uncollected=Decimal('0'), base_in_position=Decimal('0'), quote_in_position=Decimal('0'), net_value=Decimal('1071221.974977181357194802907'), price=Decimal('17418.91882260936842959775224'))\n",
      "prepare to add LP: rate:1.15 price:17418.91882260936842959775224,ema:17497.727890580845, self.down_price:15146.88593270379863443282803,self.up_price 20031.75664600077369403741508 \n",
      "after add LP: AccountStatus(timestamp=None, base_balance=Decimal('0'), quote_balance=Decimal('0.09731540097237278761514978'), base_uncollected=Decimal('0'), quote_uncollected=Decimal('0'), base_in_position=Decimal('534948.1451731480604779101734'), quote_in_position=Decimal('30.68954544061311508093671022'), net_value=Decimal('1071221.974975696816476762311'), price=Decimal('17418.91882260936842959775224'))\n"
     ]
    },
    {
     "name": "stderr",
     "output_type": "stream",
     "text": [
      " 77%|████████████████████████████████████████████████████████████████████████████████▌                        | 100436/130976 [15:30<06:23, 79.63it/s]"
     ]
    },
    {
     "name": "stdout",
     "output_type": "stream",
     "text": [
      "2022-11-09 18:48:00 hedge lower sell ETH,c_amount:39.9200596752547054957166155,f_amount:30.74880783033327841165985981, upper:22725.15,middle:20889.79,lower,19054.43, trade price: 16595.96052768995695644365038,ema:16732.975062409772,trade amount: 8.251134946571214312329393847, hedge count:9\n"
     ]
    },
    {
     "name": "stderr",
     "output_type": "stream",
     "text": [
      " 77%|████████████████████████████████████████████████████████████████████████████████▋                        | 100602/130976 [15:32<06:22, 79.48it/s]"
     ]
    },
    {
     "name": "stdout",
     "output_type": "stream",
     "text": [
      "2022-11-09 21:33:00 hedge lower sell ETH,c_amount:48.22736823720877206598374379,f_amount:22.49767288376206409933046596, upper:23279.05,middle:20847.25,lower,18415.45, trade price: 15899.08354525309891943991550,ema:16149.697157952492,trade amount: 8.251134946571214312329393847, hedge count:10\n"
     ]
    },
    {
     "name": "stderr",
     "output_type": "stream",
     "text": [
      " 78%|█████████████████████████████████████████████████████████████████████████████████▍                       | 101627/130976 [15:46<06:31, 74.90it/s]"
     ]
    },
    {
     "name": "stdout",
     "output_type": "stream",
     "text": [
      "2022-11-10 14:40:00 hedge mid buy ETH,c_amount:31.38615104107084834105076922,f_amount:14.24653793719084978700107211, upper:23977.50,middle:20671.25,lower:,17365.00, trade price:17401.50948036119445940295321,ema:17365.693656486088, trade amount:8.251134946571214312329393847, hedge count:11\n"
     ]
    },
    {
     "name": "stderr",
     "output_type": "stream",
     "text": [
      " 78%|█████████████████████████████████████████████████████████████████████████████████▍                       | 101659/130976 [15:47<06:47, 71.86it/s]"
     ]
    },
    {
     "name": "stdout",
     "output_type": "stream",
     "text": [
      "2022-11-10 15:11:00 hedge mid buy ETH,c_amount:29.69796527298333982060664412,f_amount:22.49767288376206409933046596, upper:23977.50,middle:20671.25,lower:,17365.00, trade price:17802.80117464143726549109693,ema:17495.105027640864, trade amount:8.251134946571214312329393847, hedge count:12\n"
     ]
    },
    {
     "name": "stderr",
     "output_type": "stream",
     "text": [
      " 84%|████████████████████████████████████████████████████████████████████████████████████████▎                | 110224/130976 [17:49<05:02, 68.56it/s]"
     ]
    },
    {
     "name": "stdout",
     "output_type": "stream",
     "text": [
      "2022-11-16 13:59:00 hedge lower sell ETH,c_amount:42.72395063814111852965500971,f_amount:30.74880783033327841165985981, upper:18513.87,middle:17524.62,lower,16535.37, trade price: 16442.34121258966295585135984,ema:16532.62281428734,trade amount: 8.251134946571214312329393847, hedge count:13\n"
     ]
    },
    {
     "name": "stderr",
     "output_type": "stream",
     "text": [
      " 89%|█████████████████████████████████████████████████████████████████████████████████████████████▌           | 116783/130976 [19:52<04:26, 53.22it/s]"
     ]
    },
    {
     "name": "stdout",
     "output_type": "stream",
     "text": [
      "2022-11-21 03:15:00 hedge lower sell ETH,c_amount:52.00325566661011433189135152,f_amount:22.49767288376206409933046596, upper:16539.69,middle:16217.35,lower,15895.01, trade price: 15865.73216855066591037549036,ema:15894.61608448083,trade amount: 8.251134946571214312329393847, hedge count:14\n"
     ]
    },
    {
     "name": "stderr",
     "output_type": "stream",
     "text": [
      " 99%|███████████████████████████████████████████████████████████████████████████████████████████████████████▉ | 129691/130976 [24:28<00:26, 48.09it/s]"
     ]
    },
    {
     "name": "stdout",
     "output_type": "stream",
     "text": [
      "2022-11-30 02:25:00 hedge up buy ETH, c_amount:38.05037064506926946116564036,f_amount:14.24653793719084978700107211,upper:16396.72,middle:15965.96,lower:,15535.20, trade price:16992.26336213316807798421694,ema:16868.60465147823, trade amount:8.251134946571214312329393847, hedge count:15\n"
     ]
    },
    {
     "name": "stderr",
     "output_type": "stream",
     "text": [
      "100%|█████████████████████████████████████████████████████████████████████████████████████████████████████████| 130976/130976 [24:54<00:00, 87.66it/s]\n",
      "2022-12-26 15:13:39,871 - INFO - main loop finished, start calculate evaluating indicator...\n",
      "2022-12-26 15:13:40,982 - INFO - run evaluating indicator\n",
      "2022-12-26 15:13:41,072 - INFO - back testing finish\n"
     ]
    },
    {
     "name": "stdout",
     "output_type": "stream",
     "text": [
      "ema+alpha:1 times, a:1.15, hedge_spread_split:2.7, hedge_spread_rate:0.90,alpa:0.037\n",
      " result: outside_ema_count:0,hedge count:15 final_total_eth_value:91.657,final_total_usdc_value:1574688.975\n",
      "USDC profit: 374688.975, profit_rate: 0.312\n",
      "ETH profit: 32.029, profit_rate: 0.537\n"
     ]
    }
   ],
   "source": [
    "a = 1.15\n",
    "hedge_spread_split = 2.7\n",
    "hedge_spread_rate = 0.9\n",
    "alpha = 0.037\n",
    "ema_max_spread_rate=0.2\n",
    "period_n2 = 9\n",
    "\n",
    "instance2=backtest_boll(a=a,hedge_spread_split=hedge_spread_split,hedge_spread_rate=hedge_spread_rate,alpha=alpha,boll_period_n=period_n2)\n",
    "\n",
    "df_merge2 = generate_dfmerge(instance2)\n",
    "\n",
    "# fig = df_merge[['price_rate','total_value_eth_profit_rate','total_value_profit_rate']].plot().get_figure()\n",
    "\n",
    "# fig.savefig('./fig/test.pdf')\n",
    "\n",
    "# plot2 = df_merge2[['price_rate','total_value_eth_profit_rate','net_value_rate','total_value_profit_rate']].plot()\n",
    "\n",
    "# plot2.write_image(f\"./fig/{NET_VALUE_BASE}_{DATE_START}_{DATE_END}_{a}_{hedge_spread_split}_{hedge_spread_rate}_{alpha}_{period_n2}.png\")\n",
    "\n",
    "# plot2.show()\n",
    "filename = f\"{NET_VALUE_BASE}_{DATE_START}_{DATE_END}_{a}_{hedge_spread_split}_{hedge_spread_rate}_{alpha}_{period_n2}.html\"\n",
    "# df_merge['total_value'].plot_snapshot()\n",
    "qs.reports.html(df_merge2['total_value_eth'],benchmark=df_merge2['net_value_eth'],mode='full',periods_per_year=365, download_filename=f\"./reports/{filename}\",output='report')"
   ]
  },
  {
   "cell_type": "code",
   "execution_count": 8,
   "metadata": {},
   "outputs": [],
   "source": [
    "qs.reports.html(df_merge2['total_value_eth'],benchmark=df_merge2['net_value_eth'],mode='full',periods_per_year=365, download_filename=f\"./reports/{filename}\",output='report')"
   ]
  },
  {
   "cell_type": "markdown",
   "metadata": {},
   "source": [
    "# a3 ema hedge"
   ]
  },
  {
   "cell_type": "code",
   "execution_count": 9,
   "metadata": {},
   "outputs": [
    {
     "name": "stderr",
     "output_type": "stream",
     "text": [
      "2022-12-26 15:15:15,122 - INFO - start load files from 2022-09-01 to 2022-11-30...\n"
     ]
    },
    {
     "name": "stdout",
     "output_type": "stream",
     "text": [
      "init parameters: a:1.20, hedge_spread_split:2.5, hedge_spread_rate:0.86,alpa:0.037,period_n:1440\n",
      "\n"
     ]
    },
    {
     "name": "stderr",
     "output_type": "stream",
     "text": [
      "2022-12-26 15:15:16,990 - INFO - load file complete, preparing...\n",
      "2022-12-26 15:15:22,650 - INFO - data has benn prepared\n",
      "2022-12-26 15:15:22,651 - INFO - init strategy...\n"
     ]
    },
    {
     "name": "stdout",
     "output_type": "stream",
     "text": [
      "add ema column with alpha 0.037\n",
      "131040\n"
     ]
    },
    {
     "name": "stderr",
     "output_type": "stream",
     "text": [
      "2022-12-26 15:15:24,098 - INFO - start main loop...\n"
     ]
    },
    {
     "name": "stdout",
     "output_type": "stream",
     "text": [
      "hedge rebalance ETH -321.8154043780436287663634364 1553.297303981091752369874038 profit: 0E-49\n",
      "after rebalance=> lp total symbol:643.6308087560872575327268727, future amount:321.8154043780436287663634364, status:AccountStatus(timestamp=None, base_balance=Decimal('499750.0000000000000000000001'), quote_balance=Decimal('321.8958783476305364004635522'), base_uncollected=Decimal('0'), quote_uncollected=Decimal('0'), base_in_position=Decimal('0'), quote_in_position=Decimal('0'), net_value=Decimal('999750.0000000000000000000000'), price=Decimal('1553.297303981091752369874038'))\n",
      "prepare to add LP: rate:1.20 price:1553.297303981091752369874038 down:1294.414419984243126974895032 up:1863.956764777310102843848846 init symbol amount:772.5501080343132945086368387,init usdc amount:1200000.000000000011102230246\n",
      "eth_value 0 usdc value 11.8199317660554027834697\n"
     ]
    },
    {
     "name": "stderr",
     "output_type": "stream",
     "text": [
      "  6%|██████▍                                                                                                   | 7964/131040 [00:28<07:22, 277.83it/s]"
     ]
    },
    {
     "name": "stdout",
     "output_type": "stream",
     "text": [
      "2022-09-06 12:09:00 hedge buy ETH, trade price:1675.775711791770835610247670,ema:1667.8087291725346, trade amount:110.7321821515849039496553313, hedge count:1\n"
     ]
    },
    {
     "name": "stderr",
     "output_type": "stream",
     "text": [
      "  7%|███████                                                                                                   | 8747/131040 [00:31<06:57, 292.82it/s]"
     ]
    },
    {
     "name": "stdout",
     "output_type": "stream",
     "text": [
      "2022-09-07 01:11:00 hedge sell ETH,trade price: 1534.770048528782825098658181,ema:1538.1945558847003,trade amount: 110.7321821515849039496553313, hedge count:2\n"
     ]
    },
    {
     "name": "stderr",
     "output_type": "stream",
     "text": [
      "  9%|█████████▍                                                                                               | 11819/131040 [00:43<07:15, 273.77it/s]"
     ]
    },
    {
     "name": "stdout",
     "output_type": "stream",
     "text": [
      "2022-09-09 04:13:00 hedge buy ETH, trade price:1692.109007971374084796751929,ema:1667.6407871428721, trade amount:110.7321821515849039496553313, hedge count:3\n"
     ]
    },
    {
     "name": "stderr",
     "output_type": "stream",
     "text": [
      " 11%|███████████▌                                                                                             | 14380/131040 [00:52<07:53, 246.46it/s]"
     ]
    },
    {
     "name": "stdout",
     "output_type": "stream",
     "text": [
      "2022-09-10 23:20:00 hedge buy ETH, trade price:1782.421948691238813585069436,ema:1776.4656637676537, trade amount:110.7321821515849039496553313, hedge count:4\n"
     ]
    },
    {
     "name": "stderr",
     "output_type": "stream",
     "text": [
      " 14%|██████████████▌                                                                                          | 18119/131040 [01:08<09:50, 191.36it/s]"
     ]
    },
    {
     "name": "stdout",
     "output_type": "stream",
     "text": [
      "2022-09-13 13:35:00 hedge sell ETH,trade price: 1608.139996479230234822565655,ema:1634.1372721461935,trade amount: 110.7321821515849039496553313, hedge count:5\n"
     ]
    },
    {
     "name": "stderr",
     "output_type": "stream",
     "text": [
      " 16%|████████████████▉                                                                                        | 21089/131040 [01:24<09:06, 201.17it/s]"
     ]
    },
    {
     "name": "stdout",
     "output_type": "stream",
     "text": [
      "2022-09-15 14:58:00 hedge sell ETH,trade price: 1495.531794853859099405385570,ema:1537.0973423718829,trade amount: 110.7321821515849039496553313, hedge count:6\n"
     ]
    },
    {
     "name": "stderr",
     "output_type": "stream",
     "text": [
      " 17%|██████████████████                                                                                       | 22465/131040 [01:31<09:28, 190.82it/s]"
     ]
    },
    {
     "name": "stdout",
     "output_type": "stream",
     "text": [
      "2022-09-16 13:59:00 hedge sell ETH,trade price: 1430.585897746923009831379409,ema:1450.227613519987,trade amount: 110.7321821515849039496553313, hedge count:7\n"
     ]
    },
    {
     "name": "stderr",
     "output_type": "stream",
     "text": [
      " 20%|████████████████████▋                                                                                    | 25787/131040 [01:52<10:19, 169.84it/s]"
     ]
    },
    {
     "name": "stdout",
     "output_type": "stream",
     "text": [
      "2022-09-18 21:11:00 hedge sell ETH,trade price: 1337.346529411990212813352365,ema:1369.8450693103994,trade amount: 110.7321821515849039496553313, hedge count:8\n"
     ]
    },
    {
     "name": "stderr",
     "output_type": "stream",
     "text": [
      " 20%|█████████████████████                                                                                    | 26350/131040 [01:55<10:11, 171.07it/s]"
     ]
    },
    {
     "name": "stdout",
     "output_type": "stream",
     "text": [
      "2022-09-19 06:44:00 hedge sell ETH,trade price: 1281.702886320159053127375735,ema:1295.4022277345698,trade amount: 110.7321821515849039496553313, hedge count:9\n",
      "2022-09-19 07:03:00 => last hedge sell,ema:1294.2618547655863 ETH,price: 1288.127126763038636276523478,ema:1294.2618547655863, trade amoutn: 20.3131447350655313721068431, hedge count:10\n",
      "2022-09-19 07:03:00 out of range, price:1288.127126763038636276523478,ema:1294.2618547655863 symbol:674.3250955678638719874362733, usdc:0\n",
      "prepare to add LP: rate:1.20 price:1288.127126763038636276523478,ema:1294.2618547655863, self.down_price:1073.439272302532196897102898,self.up_price 1545.752552115646363531828174 \n",
      "after add LP: AccountStatus(timestamp=None, base_balance=Decimal('20.7129873250758124337902'), quote_balance=Decimal('0'), base_uncollected=Decimal('0'), quote_uncollected=Decimal('0'), base_in_position=Decimal('452425.4242450297707541202625'), quote_in_position=Decimal('351.4113218696083662619865424'), net_value=Decimal('905108.5935842548339566785592'), price=Decimal('1288.127126763038636276523478'))\n",
      "2022-09-19 07:04:00 hedge buy ETH, trade price:1288.642454906524094833117094,ema:1294.0539369708013, trade amount:110.7321821515849039496553313, hedge count:11\n",
      "2022-09-19 07:05:00 hedge buy ETH, trade price:1288.384765069662511634165145,ema:1293.8441776104592, trade amount:110.7321821515849039496553313, hedge count:12\n"
     ]
    },
    {
     "name": "stderr",
     "output_type": "stream",
     "text": [
      " 20%|█████████████████████▎                                                                                   | 26589/131040 [01:56<09:56, 175.18it/s]"
     ]
    },
    {
     "name": "stdout",
     "output_type": "stream",
     "text": [
      "2022-09-19 10:50:00 hedge buy ETH, trade price:1315.199392988095803716071794,ema:1305.9134841565385, trade amount:110.7321821515849039496553313, hedge count:13\n"
     ]
    },
    {
     "name": "stderr",
     "output_type": "stream",
     "text": [
      " 21%|█████████████████████▉                                                                                   | 27321/131040 [02:02<09:54, 174.34it/s]"
     ]
    },
    {
     "name": "stdout",
     "output_type": "stream",
     "text": [
      "2022-09-19 22:54:00 hedge buy ETH, trade price:1387.752592839425489813995104,ema:1381.1113178636128, trade amount:110.7321821515849039496553313, hedge count:14\n"
     ]
    },
    {
     "name": "stderr",
     "output_type": "stream",
     "text": [
      " 23%|████████████████████████▏                                                                                | 30115/131040 [02:18<09:20, 180.22it/s]"
     ]
    },
    {
     "name": "stdout",
     "output_type": "stream",
     "text": [
      "2022-09-21 21:35:00 hedge sell ETH,trade price: 1259.847187240518380748690446,ema:1282.255708269002,trade amount: 110.7321821515849039496553313, hedge count:15\n"
     ]
    },
    {
     "name": "stderr",
     "output_type": "stream",
     "text": [
      " 29%|██████████████████████████████▏                                                                          | 37677/131040 [03:55<14:12, 109.57it/s]"
     ]
    },
    {
     "name": "stdout",
     "output_type": "stream",
     "text": [
      "2022-09-27 03:50:00 hedge buy ETH, trade price:1388.307777147267979522067078,ema:1381.160463295699, trade amount:110.7321821515849039496553313, hedge count:16\n"
     ]
    },
    {
     "name": "stderr",
     "output_type": "stream",
     "text": [
      " 30%|███████████████████████████████▌                                                                          | 39062/131040 [04:17<41:55, 36.56it/s]"
     ]
    },
    {
     "name": "stdout",
     "output_type": "stream",
     "text": [
      "2022-09-28 02:57:00 hedge sell ETH,trade price: 1276.076063045514273320589031,ema:1282.4301807230454,trade amount: 110.7321821515849039496553313, hedge count:17\n"
     ]
    },
    {
     "name": "stderr",
     "output_type": "stream",
     "text": [
      " 47%|█████████████████████████████████████████████████                                                        | 61298/131040 [08:46<10:48, 107.57it/s]"
     ]
    },
    {
     "name": "stdout",
     "output_type": "stream",
     "text": [
      "2022-10-13 13:26:00 hedge sell ETH,trade price: 1207.065941879889425183250353,ema:1214.94015298988,trade amount: 110.7321821515849039496553313, hedge count:18\n"
     ]
    },
    {
     "name": "stderr",
     "output_type": "stream",
     "text": [
      " 47%|█████████████████████████████████████████████████▋                                                       | 62047/131040 [08:53<09:55, 115.80it/s]"
     ]
    },
    {
     "name": "stdout",
     "output_type": "stream",
     "text": [
      "2022-10-14 01:46:00 hedge buy ETH, trade price:1329.479807865437776849246403,ema:1306.065558428438, trade amount:110.7321821515849039496553313, hedge count:19\n"
     ]
    },
    {
     "name": "stderr",
     "output_type": "stream",
     "text": [
      " 60%|███████████████████████████████████████████████████████████████▋                                          | 78676/131040 [12:08<09:15, 94.34it/s]"
     ]
    },
    {
     "name": "stdout",
     "output_type": "stream",
     "text": [
      "2022-10-25 15:01:00 hedge buy ETH, trade price:1383.457435489336946851275978,ema:1381.0906787885156, trade amount:110.7321821515849039496553313, hedge count:20\n"
     ]
    },
    {
     "name": "stderr",
     "output_type": "stream",
     "text": [
      " 60%|███████████████████████████████████████████████████████████████▊                                          | 78859/131040 [12:10<09:51, 88.26it/s]"
     ]
    },
    {
     "name": "stdout",
     "output_type": "stream",
     "text": [
      "2022-10-25 18:02:00 hedge buy ETH, trade price:1478.284714824508703937179906,ema:1463.2864491804817, trade amount:110.7321821515849039496553313, hedge count:21\n"
     ]
    },
    {
     "name": "stderr",
     "output_type": "stream",
     "text": [
      " 61%|████████████████████████████████████████████████████████████████▊                                         | 80079/131040 [12:23<09:53, 85.92it/s]"
     ]
    },
    {
     "name": "stdout",
     "output_type": "stream",
     "text": [
      "2022-10-26 14:23:00 => last hedge buy ETH,ema:1545.982987170475, price: 1575.037795897358257073427291,ema:1545.982987170475, trade amount:120.6641848099393522391596168, hedge count:22\n",
      "2022-10-26 14:23:00 out of range, price:1575.037795897358257073427291,ema:1545.982987170475 symbol:0, usdc:948309.4887937384816533654\n",
      "prepare to add LP: rate:1.20 price:1575.037795897358257073427291,ema:1545.982987170475, self.down_price:1312.531496581131880894522742,self.up_price 1890.045355076829908488112749 \n",
      "after add LP: AccountStatus(timestamp=None, base_balance=Decimal('28.3623061130904125271293'), quote_balance=Decimal('0'), base_uncollected=Decimal('0'), quote_uncollected=Decimal('0'), base_in_position=Decimal('504188.0220960009235674928469'), quote_in_position=Decimal('320.2794083273499746033118498'), net_value=Decimal('1008668.557765333327805665580'), price=Decimal('1575.037795897358257073427291'))\n",
      "2022-10-26 14:24:00 hedge sell ETH,trade price: 1570.005981733263841845064817,ema:1546.8718379692982,trade amount: 110.7321821515849039496553313, hedge count:23\n",
      "2022-10-26 14:25:00 hedge sell ETH,trade price: 1572.048214563316823197338813,ema:1547.8033639032767,trade amount: 110.7321821515849039496553313, hedge count:24\n",
      "2022-10-26 14:26:00 hedge sell ETH,trade price: 1577.086574012079067849553855,ema:1548.8868426773022,trade amount: 110.7321821515849039496553313, hedge count:25\n"
     ]
    },
    {
     "name": "stderr",
     "output_type": "stream",
     "text": [
      " 75%|███████████████████████████████████████████████████████████████████████████████▍                          | 98269/131040 [16:33<07:12, 75.85it/s]"
     ]
    },
    {
     "name": "stdout",
     "output_type": "stream",
     "text": [
      "2022-11-08 05:34:00 hedge sell ETH,trade price: 1453.512853503222227488289628,ema:1460.9702873647086,trade amount: 110.7321821515849039496553313, hedge count:26\n"
     ]
    },
    {
     "name": "stderr",
     "output_type": "stream",
     "text": [
      " 76%|████████████████████████████████████████████████████████████████████████████████▏                         | 99080/131040 [16:44<06:54, 77.07it/s]"
     ]
    },
    {
     "name": "stdout",
     "output_type": "stream",
     "text": [
      "2022-11-08 19:07:00 hedge sell ETH,trade price: 1354.302848369907366530288531,ema:1378.850581463586,trade amount: 110.7321821515849039496553313, hedge count:27\n"
     ]
    },
    {
     "name": "stderr",
     "output_type": "stream",
     "text": [
      " 76%|████████████████████████████████████████████████████████████████████████████████▏                         | 99164/131040 [16:45<06:50, 77.68it/s]"
     ]
    },
    {
     "name": "stdout",
     "output_type": "stream",
     "text": [
      "2022-11-08 20:28:00 => last hedge sell,ema:1312.2248331707858 ETH,price: 1293.677721108760428248560773,ema:1312.2248331707858, trade amoutn: 117.2779149810007388272747626, hedge count:28\n",
      "2022-11-08 20:28:00 out of range, price:1293.677721108760428248560773,ema:1312.2248331707858 symbol:670.9388257389252585755514191, usdc:0\n",
      "prepare to add LP: rate:1.20 price:1293.677721108760428248560773,ema:1312.2248331707858, self.down_price:1078.064767590633690207133978,self.up_price 1552.413265330512513898272928 \n",
      "after add LP: AccountStatus(timestamp=None, base_balance=Decimal('17.1755184102392208042121'), quote_balance=Decimal('0'), base_uncollected=Decimal('0'), quote_uncollected=Decimal('0'), base_in_position=Decimal('446001.9353382902436384506602'), quote_in_position=Decimal('344.9356781885520744418179023'), net_value=Decimal('892254.7129447712908909628704'), price=Decimal('1293.677721108760428248560773'))\n",
      "2022-11-08 20:29:00 hedge buy ETH, trade price:1295.490047636067115346883582,ema:1311.6056461060014, trade amount:110.7321821515849039496553313, hedge count:29\n",
      "2022-11-08 20:30:00 hedge buy ETH, trade price:1303.676987379268906270527354,ema:1311.312285733112, trade amount:110.7321821515849039496553313, hedge count:30\n",
      "2022-11-08 20:31:00 hedge buy ETH, trade price:1305.764435701757030742393483,ema:1311.107015281952, trade amount:110.7321821515849039496553313, hedge count:31\n"
     ]
    },
    {
     "name": "stderr",
     "output_type": "stream",
     "text": [
      " 76%|████████████████████████████████████████████████████████████████████████████████▊                         | 99979/131040 [16:57<12:06, 42.73it/s]"
     ]
    },
    {
     "name": "stdout",
     "output_type": "stream",
     "text": [
      "2022-11-09 10:13:00 hedge sell ETH,trade price: 1179.975538788221626077842653,ema:1216.3603475555424,trade amount: 110.7321821515849039496553313, hedge count:32\n"
     ]
    },
    {
     "name": "stderr",
     "output_type": "stream",
     "text": [
      " 77%|████████████████████████████████████████████████████████████████████████████████▋                        | 100654/131040 [17:08<07:53, 64.22it/s]"
     ]
    },
    {
     "name": "stdout",
     "output_type": "stream",
     "text": [
      "2022-11-09 21:25:00 hedge sell ETH,trade price: 1122.991585955058104081237020,ema:1153.3514455105508,trade amount: 110.7321821515849039496553313, hedge count:33\n"
     ]
    },
    {
     "name": "stderr",
     "output_type": "stream",
     "text": [
      " 78%|█████████████████████████████████████████████████████████████████████████████████▍                       | 101645/131040 [17:29<07:53, 62.13it/s]"
     ]
    },
    {
     "name": "stdout",
     "output_type": "stream",
     "text": [
      "2022-11-10 13:51:00 hedge buy ETH, trade price:1290.963984000238523415418854,ema:1239.8800038829554, trade amount:110.7321821515849039496553313, hedge count:34\n"
     ]
    },
    {
     "name": "stderr",
     "output_type": "stream",
     "text": [
      " 78%|█████████████████████████████████████████████████████████████████████████████████▌                       | 101730/131040 [17:31<07:27, 65.45it/s]"
     ]
    },
    {
     "name": "stdout",
     "output_type": "stream",
     "text": [
      "2022-11-10 15:18:00 hedge buy ETH, trade price:1326.823638111081204125235878,ema:1310.1257500740805, trade amount:110.7321821515849039496553313, hedge count:35\n"
     ]
    },
    {
     "name": "stderr",
     "output_type": "stream",
     "text": [
      " 81%|█████████████████████████████████████████████████████████████████████████████████████▎                   | 106411/131040 [19:04<05:39, 72.62it/s]"
     ]
    },
    {
     "name": "stdout",
     "output_type": "stream",
     "text": [
      "2022-11-13 21:17:00 hedge sell ETH,trade price: 1206.100723525316500995900776,ema:1216.9950159995424,trade amount: 110.7321821515849039496553313, hedge count:36\n"
     ]
    },
    {
     "name": "stderr",
     "output_type": "stream",
     "text": [
      " 89%|█████████████████████████████████████████████████████████████████████████████████████████████▍           | 116547/131040 [21:35<03:50, 62.80it/s]"
     ]
    },
    {
     "name": "stdout",
     "output_type": "stream",
     "text": [
      "2022-11-20 22:16:00 hedge sell ETH,trade price: 1147.051943278335342945425531,ema:1153.56347027663,trade amount: 110.7321821515849039496553313, hedge count:37\n"
     ]
    },
    {
     "name": "stderr",
     "output_type": "stream",
     "text": [
      " 90%|██████████████████████████████████████████████████████████████████████████████████████████████▍          | 117835/131040 [21:54<03:30, 62.81it/s]"
     ]
    },
    {
     "name": "stdout",
     "output_type": "stream",
     "text": [
      "2022-11-21 19:42:00 hedge sell ETH,trade price: 1084.260229303934648208613155,ema:1094.765987816063,trade amount: 110.7321821515849039496553313, hedge count:38\n"
     ]
    },
    {
     "name": "stderr",
     "output_type": "stream",
     "text": [
      " 92%|████████████████████████████████████████████████████████████████████████████████████████████████▉        | 120922/131040 [22:46<06:15, 26.98it/s]"
     ]
    },
    {
     "name": "stdout",
     "output_type": "stream",
     "text": [
      "2022-11-23 23:17:00 hedge buy ETH, trade price:1179.975538788221626077842653,ema:1173.8675417382785, trade amount:110.7321821515849039496553313, hedge count:39\n"
     ]
    },
    {
     "name": "stderr",
     "output_type": "stream",
     "text": [
      " 99%|███████████████████████████████████████████████████████████████████████████████████████████████████████▉ | 129659/131040 [26:02<00:24, 55.67it/s]"
     ]
    },
    {
     "name": "stdout",
     "output_type": "stream",
     "text": [
      "2022-11-30 00:52:00 hedge buy ETH, trade price:1275.565760202385316453503081,ema:1239.1540996537217, trade amount:110.7321821515849039496553313, hedge count:40\n"
     ]
    },
    {
     "name": "stderr",
     "output_type": "stream",
     "text": [
      "100%|█████████████████████████████████████████████████████████████████████████████████████████████████████████| 131040/131040 [26:29<00:00, 82.44it/s]\n",
      "2022-12-26 15:41:53,669 - INFO - main loop finished, start calculate evaluating indicator...\n",
      "2022-12-26 15:41:55,146 - INFO - run evaluating indicator\n",
      "2022-12-26 15:41:55,227 - INFO - back testing finish\n"
     ]
    },
    {
     "ename": "NameError",
     "evalue": "name 'e' is not defined",
     "output_type": "error",
     "traceback": [
      "\u001b[0;31m---------------------------------------------------------------------------\u001b[0m",
      "\u001b[0;31mNameError\u001b[0m                                 Traceback (most recent call last)",
      "\u001b[1;32m/Users/scottliyq/go/hardhat_space/demeter/working/hedge_test.ipynb Cell 12\u001b[0m in \u001b[0;36m<cell line: 7>\u001b[0;34m()\u001b[0m\n\u001b[1;32m      <a href='vscode-notebook-cell:/Users/scottliyq/go/hardhat_space/demeter/working/hedge_test.ipynb#X16sZmlsZQ%3D%3D?line=3'>4</a>\u001b[0m alpha3 \u001b[39m=\u001b[39m \u001b[39m0.037\u001b[39m\n\u001b[1;32m      <a href='vscode-notebook-cell:/Users/scottliyq/go/hardhat_space/demeter/working/hedge_test.ipynb#X16sZmlsZQ%3D%3D?line=4'>5</a>\u001b[0m ema_max_spread_rate2\u001b[39m=\u001b[39m\u001b[39m0.2\u001b[39m\n\u001b[0;32m----> <a href='vscode-notebook-cell:/Users/scottliyq/go/hardhat_space/demeter/working/hedge_test.ipynb#X16sZmlsZQ%3D%3D?line=6'>7</a>\u001b[0m instance3\u001b[39m=\u001b[39mbacktest_instance(a,hedge_spread_split,hedge_spread_rate,alpha3)\n\u001b[1;32m      <a href='vscode-notebook-cell:/Users/scottliyq/go/hardhat_space/demeter/working/hedge_test.ipynb#X16sZmlsZQ%3D%3D?line=8'>9</a>\u001b[0m df_merge3 \u001b[39m=\u001b[39m generate_dfmerge(instance3)\n\u001b[1;32m     <a href='vscode-notebook-cell:/Users/scottliyq/go/hardhat_space/demeter/working/hedge_test.ipynb#X16sZmlsZQ%3D%3D?line=10'>11</a>\u001b[0m filename \u001b[39m=\u001b[39m \u001b[39mf\u001b[39m\u001b[39m\"\u001b[39m\u001b[39m{\u001b[39;00mNET_VALUE_BASE\u001b[39m}\u001b[39;00m\u001b[39m_\u001b[39m\u001b[39m{\u001b[39;00mDATE_START\u001b[39m}\u001b[39;00m\u001b[39m_\u001b[39m\u001b[39m{\u001b[39;00mDATE_END\u001b[39m}\u001b[39;00m\u001b[39m_\u001b[39m\u001b[39m{\u001b[39;00ma\u001b[39m}\u001b[39;00m\u001b[39m_\u001b[39m\u001b[39m{\u001b[39;00mhedge_spread_split\u001b[39m}\u001b[39;00m\u001b[39m_\u001b[39m\u001b[39m{\u001b[39;00mhedge_spread_rate\u001b[39m}\u001b[39;00m\u001b[39m_\u001b[39m\u001b[39m{\u001b[39;00malpha\u001b[39m}\u001b[39;00m\u001b[39m.html\u001b[39m\u001b[39m\"\u001b[39m\n",
      "\u001b[1;32m/Users/scottliyq/go/hardhat_space/demeter/working/hedge_test.ipynb Cell 12\u001b[0m in \u001b[0;36mbacktest_instance\u001b[0;34m(a, hedge_spread_split, hedge_spread_rate, alpha)\u001b[0m\n\u001b[1;32m    <a href='vscode-notebook-cell:/Users/scottliyq/go/hardhat_space/demeter/working/hedge_test.ipynb#X16sZmlsZQ%3D%3D?line=125'>126</a>\u001b[0m \u001b[39m#处理df_status\u001b[39;00m\n\u001b[1;32m    <a href='vscode-notebook-cell:/Users/scottliyq/go/hardhat_space/demeter/working/hedge_test.ipynb#X16sZmlsZQ%3D%3D?line=126'>127</a>\u001b[0m df_status \u001b[39m=\u001b[39m pd\u001b[39m.\u001b[39mDataFrame(runner_instance\u001b[39m.\u001b[39maccount_status_list)\n\u001b[0;32m--> <a href='vscode-notebook-cell:/Users/scottliyq/go/hardhat_space/demeter/working/hedge_test.ipynb#X16sZmlsZQ%3D%3D?line=127'>128</a>\u001b[0m df_merge \u001b[39m=\u001b[39m pd\u001b[39m.\u001b[39mmerge(e\u001b[39m.\u001b[39mdf, df_status, on\u001b[39m=\u001b[39m\u001b[39m'\u001b[39m\u001b[39mtimestamp\u001b[39m\u001b[39m'\u001b[39m, how\u001b[39m=\u001b[39m\u001b[39m'\u001b[39m\u001b[39minner\u001b[39m\u001b[39m'\u001b[39m)\n\u001b[1;32m    <a href='vscode-notebook-cell:/Users/scottliyq/go/hardhat_space/demeter/working/hedge_test.ipynb#X16sZmlsZQ%3D%3D?line=129'>130</a>\u001b[0m df_merge[\u001b[39m'\u001b[39m\u001b[39mtotal_value\u001b[39m\u001b[39m'\u001b[39m] \u001b[39m=\u001b[39m df_merge[\u001b[39m'\u001b[39m\u001b[39mtotal\u001b[39m\u001b[39m'\u001b[39m] \u001b[39m+\u001b[39m df_merge[\u001b[39m'\u001b[39m\u001b[39mnet_value\u001b[39m\u001b[39m'\u001b[39m]\n\u001b[1;32m    <a href='vscode-notebook-cell:/Users/scottliyq/go/hardhat_space/demeter/working/hedge_test.ipynb#X16sZmlsZQ%3D%3D?line=130'>131</a>\u001b[0m df_merge[\u001b[39m'\u001b[39m\u001b[39mtotal_value_eth\u001b[39m\u001b[39m'\u001b[39m] \u001b[39m=\u001b[39m df_merge[\u001b[39m'\u001b[39m\u001b[39mtotal_value\u001b[39m\u001b[39m'\u001b[39m] \u001b[39m/\u001b[39m df_merge[\u001b[39m'\u001b[39m\u001b[39mprice\u001b[39m\u001b[39m'\u001b[39m]\n",
      "\u001b[0;31mNameError\u001b[0m: name 'e' is not defined"
     ]
    }
   ],
   "source": [
    "a = 1.20\n",
    "hedge_spread_split = 2.5\n",
    "hedge_spread_rate = 0.86\n",
    "alpha3 = 0.037\n",
    "ema_max_spread_rate2=0.2\n",
    "\n",
    "instance3=backtest_instance(a,hedge_spread_split,hedge_spread_rate,alpha3)\n",
    "\n",
    "df_merge3 = generate_dfmerge(instance3)\n",
    "\n",
    "filename = f\"{NET_VALUE_BASE}_{DATE_START}_{DATE_END}_{a}_{hedge_spread_split}_{hedge_spread_rate}_{alpha}.html\"\n",
    "# df_merge['total_value'].plot_snapshot()\n",
    "qs.reports.html(df_merge['total_value'],benchmark=df_merge['price'],mode='full',periods_per_year=365, download_filename=f\"./reports/{filename}\",output='report')\n",
    "\n",
    "# plot3 = df_merge3[['price_rate','total_value_eth_profit_rate','net_value_rate','total_value_profit_rate']].plot()\n",
    "\n",
    "# plot3.write_image(f\"./fig/{NET_VALUE_BASE}_{DATE_START}_{DATE_END}_{a}_{hedge_spread_split}_{hedge_spread_rate}_{alpha3}.png\")\n",
    "\n",
    "# plot3.show()\n",
    "filename = f\"{NET_VALUE_BASE}_{DATE_START}_{DATE_END}_{a}_{hedge_spread_split}_{hedge_spread_rate}_{alpha3}.html\"\n",
    "# df_merge['total_value'].plot_snapshot()\n",
    "qs.reports.html(df_merge3['total_value_eth'],benchmark=df_merge3['net_value_eth'],mode='full',periods_per_year=365, download_filename=f\"./reports/{filename}\",output='report')"
   ]
  },
  {
   "cell_type": "code",
   "execution_count": null,
   "metadata": {},
   "outputs": [],
   "source": []
  }
 ],
 "metadata": {
  "kernelspec": {
   "display_name": "Python 3.10.6 ('py310btc')",
   "language": "python",
   "name": "python3"
  },
  "language_info": {
   "codemirror_mode": {
    "name": "ipython",
    "version": 3
   },
   "file_extension": ".py",
   "mimetype": "text/x-python",
   "name": "python",
   "nbconvert_exporter": "python",
   "pygments_lexer": "ipython3",
   "version": "3.10.6"
  },
  "orig_nbformat": 4,
  "vscode": {
   "interpreter": {
    "hash": "abcf340a9bfefc31ecafadbd09739eb19479e953f794e77621cd271022fdffd8"
   }
  }
 },
 "nbformat": 4,
 "nbformat_minor": 2
}
