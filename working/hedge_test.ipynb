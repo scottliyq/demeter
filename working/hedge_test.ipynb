{
 "cells": [
  {
   "cell_type": "code",
   "execution_count": 4,
   "metadata": {},
   "outputs": [
    {
     "name": "stderr",
     "output_type": "stream",
     "text": [
      "2022-11-05 21:03:12,989 - INFO - start load files from 2022-10-30 to 2022-10-30...\n",
      "2022-11-05 21:03:13,036 - INFO - load file complete, preparing...\n",
      "2022-11-05 21:03:13,343 - INFO - data has benn prepared\n",
      "2022-11-05 21:03:13,348 - INFO - init strategy...\n",
      "2022-11-05 21:03:13,432 - INFO - start main loop...\n"
     ]
    },
    {
     "name": "stdout",
     "output_type": "stream",
     "text": [
      "add ema column with alpha 0.05\n",
      "hedge rebalance ETH -3.085951562567321304925725713 1620.245781123119277642385174 profit: 0E-51\n",
      "prepare to add LP: rate:1.2 price:1620.245781123119277642385174 down:1350.204817602599398035320978 up:1944.294937347743133170862209 init symbol amount:7.406283750161571200343631264,init usdc amount:12000.00000000000011102230246\n",
      "eth_value 0 usdc value 0.118199317662911314067050\n"
     ]
    },
    {
     "name": "stderr",
     "output_type": "stream",
     "text": [
      "100%|████████████████████████████████████████████████████████████████████████████████████████████████████████████| 1440/1440 [00:10<00:00, 139.38it/s]\n",
      "2022-11-05 21:03:23,782 - INFO - main loop finished, start calculate evaluating indicator...\n",
      "2022-11-05 21:03:23,785 - INFO - run evaluating indicator\n",
      "2022-11-05 21:03:23,787 - INFO - back testing finish\n"
     ]
    },
    {
     "data": {
      "text/plain": [
       "AccountStatus(timestamp=datetime.datetime(2022, 10, 30, 23, 59), base_balance=Decimal('0.118199317662911314067050'), quote_balance=Decimal('0'), base_uncollected=Decimal('6.594577470331889910010032299'), quote_uncollected=Decimal('0.004318149580993659543551636520'), base_in_position=Decimal('4469.225712985192038054987863'), quote_in_position=Decimal('3.414953468451397665893127801'), net_value=Decimal('9914.455039555497685062679938'), price=Decimal('1590.548267970559009042443905'))"
      ]
     },
     "execution_count": 4,
     "metadata": {},
     "output_type": "execute_result"
    }
   ],
   "source": [
    "from hedge_stand import HedgeST,send_notice\n",
    "from datetime import date, datetime\n",
    "from demeter import TokenInfo, PoolBaseInfo, Runner, Strategy, Asset, AccountStatus, BuyAction, SellAction, RowData, \\\n",
    "    ChainType\n",
    "import optunity\n",
    "import optunity.metrics\n",
    "from decimal import Decimal\n",
    "import pandas as pd\n",
    "import  matplotlib.pylab as plt\n",
    "# import logging \n",
    "# from logging import handlers\n",
    "\n",
    "from strategy_ploter import  plot_position_return_decomposition\n",
    "\n",
    "%matplotlib inline\n",
    "\n",
    "\n",
    "NET_VALUE_BASE = 'ETH'\n",
    "DATE_START = date(2022, 10, 30)\n",
    "DATE_END = date(2022, 10, 30)\n",
    "\n",
    "a=120\n",
    "hedge_spread_split=30\n",
    "hedge_spread_rate =80\n",
    "\n",
    "# if __name__ == \"__main__\":\n",
    "# a[105,125],hedge_spread_split[20,50], hedge_spread_rate[50,100]\n",
    "# def backtest(a, hedge_spread_split,hedge_spread_rate):\n",
    "pool_id_tie500 = '0x88e6a0c2ddd26feeb64f039a2c41296fcb3f5640'\n",
    "pool_id_tie3000 = '0x8ad599c3a0ff1de082011efddc58f1908eb6e6d8'\n",
    "eth = TokenInfo(name=\"eth\", decimal=18)\n",
    "usdc = TokenInfo(name=\"usdc\", decimal=6)\n",
    "pool = PoolBaseInfo(usdc, eth, 0.05, usdc)\n",
    "#收益计算基础参数\n",
    "# net_value_base = 'ETH'\n",
    "runner_instance = Runner(pool)\n",
    "# runner_instance.enable_notify = False\n",
    "runner_instance.strategy = HedgeST(Decimal(a)/Decimal(100),Decimal(hedge_spread_split)/Decimal(10),Decimal(hedge_spread_rate)/Decimal(100))\n",
    "runner_instance.set_assets([Asset(usdc, 10000)])\n",
    "runner_instance.data_path = \"../demeter/data\"\n",
    "runner_instance.load_data(ChainType.Ethereum.name,\n",
    "                            pool_id_tie500,\n",
    "                            DATE_START,\n",
    "                           DATE_END)\n",
    "runner_instance.run(enable_notify=False)\n",
    "df_status = pd.DataFrame(runner_instance.account_status_list)\n",
    "total_net_value = runner_instance.final_status.net_value\n",
    "\n",
    "final_total_usdc_value = total_net_value + runner_instance.strategy.e.df['total'].iloc[-1]\n",
    "\n",
    "# final_price = runner_instance.final_status.price\n",
    "# if NET_VALUE_BASE == 'USDC':\n",
    "#     return float(final_total_usdc_value)\n",
    "#     # profit_rate_usdc = profit_usdc / runner_instance.strategy.init_total_usdc\n",
    "# else:\n",
    "#     return float(final_total_usdc_value / final_price)\n",
    "    # profit_rate_eth = profit_eth / runner_instance.strategy.init_total_symbol\n",
    "\n",
    "# df_status\n",
    "# df\n",
    "runner_instance.final_status\n",
    "\n",
    "\n",
    "\n"
   ]
  },
  {
   "cell_type": "code",
   "execution_count": 7,
   "metadata": {},
   "outputs": [
    {
     "name": "stdout",
     "output_type": "stream",
     "text": [
      "USDC profit: -180.94004744450242595962252, profit_rate: -0.01507833728704186869046589976\n",
      "ETH profit: 0.024524978224826978200946418, profit_rate: 0.003311374375076023176721826663\n"
     ]
    },
    {
     "ename": "KeyError",
     "evalue": "'uncollect_fee_base'",
     "output_type": "error",
     "traceback": [
      "\u001b[0;31m---------------------------------------------------------------------------\u001b[0m",
      "\u001b[0;31mKeyError\u001b[0m                                  Traceback (most recent call last)",
      "File \u001b[0;32m~/opt/miniconda3/envs/py310btc/lib/python3.10/site-packages/pandas/core/indexes/base.py:3629\u001b[0m, in \u001b[0;36mIndex.get_loc\u001b[0;34m(self, key, method, tolerance)\u001b[0m\n\u001b[1;32m   3628\u001b[0m \u001b[39mtry\u001b[39;00m:\n\u001b[0;32m-> 3629\u001b[0m     \u001b[39mreturn\u001b[39;00m \u001b[39mself\u001b[39;49m\u001b[39m.\u001b[39;49m_engine\u001b[39m.\u001b[39;49mget_loc(casted_key)\n\u001b[1;32m   3630\u001b[0m \u001b[39mexcept\u001b[39;00m \u001b[39mKeyError\u001b[39;00m \u001b[39mas\u001b[39;00m err:\n",
      "File \u001b[0;32m~/opt/miniconda3/envs/py310btc/lib/python3.10/site-packages/pandas/_libs/index.pyx:136\u001b[0m, in \u001b[0;36mpandas._libs.index.IndexEngine.get_loc\u001b[0;34m()\u001b[0m\n",
      "File \u001b[0;32m~/opt/miniconda3/envs/py310btc/lib/python3.10/site-packages/pandas/_libs/index.pyx:163\u001b[0m, in \u001b[0;36mpandas._libs.index.IndexEngine.get_loc\u001b[0;34m()\u001b[0m\n",
      "File \u001b[0;32mpandas/_libs/hashtable_class_helper.pxi:5198\u001b[0m, in \u001b[0;36mpandas._libs.hashtable.PyObjectHashTable.get_item\u001b[0;34m()\u001b[0m\n",
      "File \u001b[0;32mpandas/_libs/hashtable_class_helper.pxi:5206\u001b[0m, in \u001b[0;36mpandas._libs.hashtable.PyObjectHashTable.get_item\u001b[0;34m()\u001b[0m\n",
      "\u001b[0;31mKeyError\u001b[0m: 'uncollect_fee_base'",
      "\nThe above exception was the direct cause of the following exception:\n",
      "\u001b[0;31mKeyError\u001b[0m                                  Traceback (most recent call last)",
      "\u001b[1;32m/Users/scottliyq/go/hardhat_space/demeter/working/hedge_test.ipynb Cell 2\u001b[0m in \u001b[0;36m<cell line: 22>\u001b[0;34m()\u001b[0m\n\u001b[1;32m     <a href='vscode-notebook-cell:/Users/scottliyq/go/hardhat_space/demeter/working/hedge_test.ipynb#X12sZmlsZQ%3D%3D?line=17'>18</a>\u001b[0m \u001b[39mprint\u001b[39m(\u001b[39mf\u001b[39m\u001b[39m\"\u001b[39m\u001b[39mETH profit: \u001b[39m\u001b[39m{\u001b[39;00mprofit_eth\u001b[39m}\u001b[39;00m\u001b[39m, profit_rate: \u001b[39m\u001b[39m{\u001b[39;00mprofit_rate_eth\u001b[39m}\u001b[39;00m\u001b[39m\"\u001b[39m)\n\u001b[1;32m     <a href='vscode-notebook-cell:/Users/scottliyq/go/hardhat_space/demeter/working/hedge_test.ipynb#X12sZmlsZQ%3D%3D?line=19'>20</a>\u001b[0m df_merge \u001b[39m=\u001b[39m pd\u001b[39m.\u001b[39mmerge(e\u001b[39m.\u001b[39mdf, df_status, on\u001b[39m=\u001b[39m\u001b[39m'\u001b[39m\u001b[39mtimestamp\u001b[39m\u001b[39m'\u001b[39m, how\u001b[39m=\u001b[39m\u001b[39m'\u001b[39m\u001b[39minner\u001b[39m\u001b[39m'\u001b[39m)\n\u001b[0;32m---> <a href='vscode-notebook-cell:/Users/scottliyq/go/hardhat_space/demeter/working/hedge_test.ipynb#X12sZmlsZQ%3D%3D?line=21'>22</a>\u001b[0m df_merge[\u001b[39m'\u001b[39m\u001b[39mtotal_value\u001b[39m\u001b[39m'\u001b[39m] \u001b[39m=\u001b[39m df_merge[\u001b[39m'\u001b[39m\u001b[39mtotal\u001b[39m\u001b[39m'\u001b[39m] \u001b[39m+\u001b[39m df_merge[\u001b[39m'\u001b[39;49m\u001b[39muncollect_fee_base\u001b[39;49m\u001b[39m'\u001b[39;49m] \u001b[39m+\u001b[39m df_merge[\u001b[39m'\u001b[39m\u001b[39muncollect_fee_quote\u001b[39m\u001b[39m'\u001b[39m] \u001b[39m*\u001b[39m df_merge[\u001b[39m'\u001b[39m\u001b[39mprice\u001b[39m\u001b[39m'\u001b[39m] \u001b[39m+\u001b[39m df_merge[\u001b[39m'\u001b[39m\u001b[39mnet_value\u001b[39m\u001b[39m'\u001b[39m]\n\u001b[1;32m     <a href='vscode-notebook-cell:/Users/scottliyq/go/hardhat_space/demeter/working/hedge_test.ipynb#X12sZmlsZQ%3D%3D?line=23'>24</a>\u001b[0m df_merge\u001b[39m.\u001b[39mset_index(\u001b[39m'\u001b[39m\u001b[39mtimestamp\u001b[39m\u001b[39m'\u001b[39m, inplace\u001b[39m=\u001b[39m\u001b[39mTrue\u001b[39;00m)\n\u001b[1;32m     <a href='vscode-notebook-cell:/Users/scottliyq/go/hardhat_space/demeter/working/hedge_test.ipynb#X12sZmlsZQ%3D%3D?line=25'>26</a>\u001b[0m df_merge[\u001b[39m'\u001b[39m\u001b[39mtotal_value_profit_rate\u001b[39m\u001b[39m'\u001b[39m] \u001b[39m=\u001b[39m df_merge[\u001b[39m'\u001b[39m\u001b[39mtotal_value\u001b[39m\u001b[39m'\u001b[39m] \u001b[39m/\u001b[39m runner_instance\u001b[39m.\u001b[39mstrategy\u001b[39m.\u001b[39minit_total_usdc\n",
      "File \u001b[0;32m~/opt/miniconda3/envs/py310btc/lib/python3.10/site-packages/pandas/core/frame.py:3505\u001b[0m, in \u001b[0;36mDataFrame.__getitem__\u001b[0;34m(self, key)\u001b[0m\n\u001b[1;32m   3503\u001b[0m \u001b[39mif\u001b[39;00m \u001b[39mself\u001b[39m\u001b[39m.\u001b[39mcolumns\u001b[39m.\u001b[39mnlevels \u001b[39m>\u001b[39m \u001b[39m1\u001b[39m:\n\u001b[1;32m   3504\u001b[0m     \u001b[39mreturn\u001b[39;00m \u001b[39mself\u001b[39m\u001b[39m.\u001b[39m_getitem_multilevel(key)\n\u001b[0;32m-> 3505\u001b[0m indexer \u001b[39m=\u001b[39m \u001b[39mself\u001b[39;49m\u001b[39m.\u001b[39;49mcolumns\u001b[39m.\u001b[39;49mget_loc(key)\n\u001b[1;32m   3506\u001b[0m \u001b[39mif\u001b[39;00m is_integer(indexer):\n\u001b[1;32m   3507\u001b[0m     indexer \u001b[39m=\u001b[39m [indexer]\n",
      "File \u001b[0;32m~/opt/miniconda3/envs/py310btc/lib/python3.10/site-packages/pandas/core/indexes/base.py:3631\u001b[0m, in \u001b[0;36mIndex.get_loc\u001b[0;34m(self, key, method, tolerance)\u001b[0m\n\u001b[1;32m   3629\u001b[0m     \u001b[39mreturn\u001b[39;00m \u001b[39mself\u001b[39m\u001b[39m.\u001b[39m_engine\u001b[39m.\u001b[39mget_loc(casted_key)\n\u001b[1;32m   3630\u001b[0m \u001b[39mexcept\u001b[39;00m \u001b[39mKeyError\u001b[39;00m \u001b[39mas\u001b[39;00m err:\n\u001b[0;32m-> 3631\u001b[0m     \u001b[39mraise\u001b[39;00m \u001b[39mKeyError\u001b[39;00m(key) \u001b[39mfrom\u001b[39;00m \u001b[39merr\u001b[39;00m\n\u001b[1;32m   3632\u001b[0m \u001b[39mexcept\u001b[39;00m \u001b[39mTypeError\u001b[39;00m:\n\u001b[1;32m   3633\u001b[0m     \u001b[39m# If we have a listlike key, _check_indexing_error will raise\u001b[39;00m\n\u001b[1;32m   3634\u001b[0m     \u001b[39m#  InvalidIndexError. Otherwise we fall through and re-raise\u001b[39;00m\n\u001b[1;32m   3635\u001b[0m     \u001b[39m#  the TypeError.\u001b[39;00m\n\u001b[1;32m   3636\u001b[0m     \u001b[39mself\u001b[39m\u001b[39m.\u001b[39m_check_indexing_error(key)\n",
      "\u001b[0;31mKeyError\u001b[0m: 'uncollect_fee_base'"
     ]
    }
   ],
   "source": [
    "e = runner_instance.strategy.e\n",
    "\n",
    "total_net_value = runner_instance.final_status.net_value\n",
    "    \n",
    "final_total_usdc_value = total_net_value + runner_instance.strategy.e.df['total'].iloc[-1]\n",
    "\n",
    "\n",
    "final_price = runner_instance.final_status.price\n",
    "# if net_value_base == 'USDC':\n",
    "profit_usdc = final_total_usdc_value- runner_instance.strategy.init_total_usdc\n",
    "profit_rate_usdc = profit_usdc / runner_instance.strategy.init_total_usdc\n",
    "# else:\n",
    "profit_eth = final_total_usdc_value/final_price - runner_instance.strategy.init_total_symbol\n",
    "profit_rate_eth = profit_eth / runner_instance.strategy.init_total_symbol\n",
    "\n",
    "print(f\"USDC profit: {profit_usdc}, profit_rate: {profit_rate_usdc}\")\n",
    "\n",
    "print(f\"ETH profit: {profit_eth}, profit_rate: {profit_rate_eth}\")\n",
    "\n",
    "df_merge = pd.merge(e.df, df_status, on='timestamp', how='inner')\n",
    "\n",
    "df_merge['total_value'] = df_merge['total'] + df_merge['net_value']\n",
    "\n",
    "df_merge.set_index('timestamp', inplace=True)\n",
    "\n",
    "df_merge['total_value_profit_rate'] = df_merge['total_value'] / runner_instance.strategy.init_total_usdc\n",
    "\n",
    "\n",
    "df_merge['total_value_eth'] = df_merge['total_value'] / df_merge['price']\n",
    "\n",
    "df_merge['total_value_eth_profit_rate'] = df_merge['total_value_eth'] / runner_instance.strategy.init_total_symbol\n",
    "\n",
    "df_merge"
   ]
  },
  {
   "cell_type": "code",
   "execution_count": 5,
   "metadata": {},
   "outputs": [
    {
     "ename": "NameError",
     "evalue": "name 'df_merge' is not defined",
     "output_type": "error",
     "traceback": [
      "\u001b[0;31m---------------------------------------------------------------------------\u001b[0m",
      "\u001b[0;31mNameError\u001b[0m                                 Traceback (most recent call last)",
      "\u001b[1;32m/Users/scottliyq/go/hardhat_space/demeter/working/hedge_test.ipynb Cell 2\u001b[0m in \u001b[0;36m<cell line: 14>\u001b[0;34m()\u001b[0m\n\u001b[1;32m     <a href='vscode-notebook-cell:/Users/scottliyq/go/hardhat_space/demeter/working/hedge_test.ipynb#X10sZmlsZQ%3D%3D?line=10'>11</a>\u001b[0m price_ax\u001b[39m.\u001b[39mset_ylabel(\u001b[39m'\u001b[39m\u001b[39mprice\u001b[39m\u001b[39m'\u001b[39m, color\u001b[39m=\u001b[39m\u001b[39m'\u001b[39m\u001b[39mb\u001b[39m\u001b[39m'\u001b[39m)\n\u001b[1;32m     <a href='vscode-notebook-cell:/Users/scottliyq/go/hardhat_space/demeter/working/hedge_test.ipynb#X10sZmlsZQ%3D%3D?line=11'>12</a>\u001b[0m \u001b[39m# net_value_ts = df_merge['net_value']\u001b[39;00m\n\u001b[0;32m---> <a href='vscode-notebook-cell:/Users/scottliyq/go/hardhat_space/demeter/working/hedge_test.ipynb#X10sZmlsZQ%3D%3D?line=13'>14</a>\u001b[0m time_ts \u001b[39m=\u001b[39m df_merge\u001b[39m.\u001b[39mindex\n\u001b[1;32m     <a href='vscode-notebook-cell:/Users/scottliyq/go/hardhat_space/demeter/working/hedge_test.ipynb#X10sZmlsZQ%3D%3D?line=14'>15</a>\u001b[0m price_ts \u001b[39m=\u001b[39m [ status\u001b[39m.\u001b[39mprice \u001b[39mfor\u001b[39;00m status \u001b[39min\u001b[39;00m runner_instance\u001b[39m.\u001b[39maccount_status_list ]\n\u001b[1;32m     <a href='vscode-notebook-cell:/Users/scottliyq/go/hardhat_space/demeter/working/hedge_test.ipynb#X10sZmlsZQ%3D%3D?line=15'>16</a>\u001b[0m total_value_eth_profit_rate_ts \u001b[39m=\u001b[39m df_merge[\u001b[39m'\u001b[39m\u001b[39mtotal_value_eth_profit_rate\u001b[39m\u001b[39m'\u001b[39m]\n",
      "\u001b[0;31mNameError\u001b[0m: name 'df_merge' is not defined"
     ]
    },
    {
     "data": {
      "image/png": "[encoded data removed]",
      "text/plain": [
       "<Figure size 640x480 with 2 Axes>"
      ]
     },
     "metadata": {},
     "output_type": "display_data"
    }
   ],
   "source": [
    "import matplotlib.dates as mdates\n",
    "\n",
    "fig, value_ax = plt.subplots()\n",
    "day = mdates.DayLocator(interval=7)\n",
    "price_ax = value_ax.twinx()\n",
    "price_ax.xaxis.set_major_locator(day)\n",
    "price_ax.xaxis.set_major_formatter(mdates.DateFormatter('%m-%d'))\n",
    "\n",
    "value_ax.set_xlabel('time')\n",
    "value_ax.set_ylabel('value', color='g')\n",
    "price_ax.set_ylabel('price', color='b')\n",
    "# net_value_ts = df_merge['net_value']\n",
    "\n",
    "time_ts = df_merge.index\n",
    "price_ts = [ status.price for status in runner_instance.account_status_list ]\n",
    "total_value_eth_profit_rate_ts = df_merge['total_value_eth_profit_rate']\n",
    "total_value_profit_rate_ts = df_merge['total_value_profit_rate']\n",
    "\n",
    "\n",
    "value_ax.plot(time_ts,total_value_eth_profit_rate_ts,'g-',label=\"total_value_eth_profit_rate_ts\")\n",
    "value_ax.plot(time_ts,total_value_profit_rate_ts,'r-',label=\"total_value_profit_rate_ts\")\n",
    "#value_ax.plot(time_ts,value_in_account,'b-',label=\" value_in broker account\")\n",
    "price_ax.plot(time_ts,price_ts,label=\"price\")\n",
    "fig.legend()\n",
    "fig.show()"
   ]
  },
  {
   "cell_type": "code",
   "execution_count": null,
   "metadata": {},
   "outputs": [],
   "source": []
  }
 ],
 "metadata": {
  "kernelspec": {
   "display_name": "Python 3.10.6 ('py310btc')",
   "language": "python",
   "name": "python3"
  },
  "language_info": {
   "codemirror_mode": {
    "name": "ipython",
    "version": 3
   },
   "file_extension": ".py",
   "mimetype": "text/x-python",
   "name": "python",
   "nbconvert_exporter": "python",
   "pygments_lexer": "ipython3",
   "version": "3.10.6"
  },
  "orig_nbformat": 4,
  "vscode": {
   "interpreter": {
    "hash": "abcf340a9bfefc31ecafadbd09739eb19479e953f794e77621cd271022fdffd8"
   }
  }
 },
 "nbformat": 4,
 "nbformat_minor": 2
}
