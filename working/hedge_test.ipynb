{
 "cells": [
  {
   "cell_type": "code",
   "execution_count": null,
   "metadata": {},
   "outputs": [],
   "source": [
    "from hedge_stand import HedgeST,HedgeSTBoll\n",
    "from datetime import date, datetime\n",
    "from demeter import TokenInfo, PoolBaseInfo, Actuator, Strategy, Asset, AccountStatus, BuyAction, SellAction, RowData, \\\n",
    "    ChainType\n",
    "import optunity\n",
    "import optunity.metrics\n",
    "from decimal import Decimal\n",
    "import pandas as pd\n",
    "import  matplotlib.pylab as plt\n",
    "# import logging \n",
    "# from logging import handlers\n",
    "from load_data import pool_id_1_eth_u_500,pool_id_1_wbtc_u_3000,pool_id_1_wbtc_u_500\n",
    "\n",
    "from strategy_ploter import  plot_position_return_decomposition\n",
    "\n",
    "import quantstats as qs\n",
    "qs.extend_pandas()\n",
    "\n",
    "%matplotlib inline\n",
    "\n",
    "def backtest_boll(a, hedge_spread_split,hedge_spread_rate,alpha,boll_period_n):\n",
    "    # global RUNNING_TIME\n",
    "    # print(f\"==================spread running time {RUNNING_TIME}==================\")\n",
    "\n",
    "    decimal_a = Decimal(a).quantize(Decimal('0.00'))\n",
    "    decimal_hedge_spread_split = Decimal(hedge_spread_split).quantize(Decimal('0.0'))\n",
    "    decimal_hedge_spread_rate = Decimal(hedge_spread_rate).quantize(Decimal('0.00'))\n",
    "\n",
    "    ema_max_spread_rate = round(0.2,4)\n",
    "\n",
    "\n",
    "\n",
    "    #收益计算基础参数\n",
    "    # net_value_base = 'ETH'\n",
    "\n",
    "    runner_instance = Actuator(PAIR_POOL)\n",
    "    # runner_instance.enable_notify = False\n",
    "    runner_instance.strategy = HedgeSTBoll(a=decimal_a,hedge_spread_split = decimal_hedge_spread_split,hedge_spread_rate=decimal_hedge_spread_rate,alpha=alpha,ema_max_spread_rate=ema_max_spread_rate,period_n=int(boll_period_n))\n",
    "    runner_instance.set_assets([Asset(USDC, 1000000)])\n",
    "    save_path = f\"../demeter/data/ETH/{POOL_ID}\"\n",
    "    runner_instance.data_path = save_path\n",
    "    runner_instance.load_data(ChainType.Ethereum.name,\n",
    "                                POOL_ID,\n",
    "                                DATE_START,\n",
    "                               DATE_END)\n",
    "    runner_instance.run(enable_notify=False)\n",
    "\n",
    "    hedge_count = runner_instance.strategy.hedge_count\n",
    "    outside_ema_count = runner_instance.strategy.outside_ema_count\n",
    "\n",
    "    # df_status = pd.DataFrame(runner_instance.account_status_list)\n",
    "\n",
    "    total_net_value = runner_instance.final_status.net_value\n",
    "    \n",
    "    final_total_usdc_value = round(total_net_value + runner_instance.strategy.e.df['total'].iloc[-1],3)\n",
    "    \n",
    "    final_price = runner_instance.final_status.price\n",
    "\n",
    "    final_total_eth_value = round(final_total_usdc_value / final_price,3)\n",
    "\n",
    "\n",
    "    notice = f\"ema+alpha:{RUNNING_TIME} times, a:{decimal_a}, hedge_spread_split:{decimal_hedge_spread_split}, hedge_spread_rate:{decimal_hedge_spread_rate},alpa:{alpha}\"\n",
    "    result =f\" result: outside_ema_count:{outside_ema_count},hedge count:{hedge_count} final_total_eth_value:{final_total_eth_value},final_total_usdc_value:{final_total_usdc_value}\"  \n",
    "    print(notice)\n",
    "    print(result)\n",
    "    # if SEND_NOTICE:\n",
    "    #     send_notice('CEX_Notify',notice)\n",
    "\n",
    "    # RUNNING_TIME +=1\n",
    "\n",
    "    # if NET_VALUE_BASE == 'USDC':\n",
    "    #     print(final_total_usdc_value)\n",
    "    #     return float(final_total_usdc_value)\n",
    "    #     # profit_rate_usdc = profit_usdc / runner_instance.strategy.init_total_usdc\n",
    "    # else:\n",
    "    #     print(float(final_total_usdc_value / final_price))\n",
    "    #     return float(final_total_usdc_value / final_price)\n",
    "\n",
    "\n",
    "    return runner_instance\n",
    "\n",
    "\n",
    "def backtest_instance(a, hedge_spread_split,hedge_spread_rate,alpha):\n",
    "    # global RUNNING_TIME\n",
    "    # print(f\"==================spread running time {RUNNING_TIME}==================\")\n",
    "\n",
    "    decimal_a = Decimal(a).quantize(Decimal('0.00'))\n",
    "    decimal_hedge_spread_split = Decimal(hedge_spread_split).quantize(Decimal('0.0'))\n",
    "    decimal_hedge_spread_rate = Decimal(hedge_spread_rate).quantize(Decimal('0.00'))\n",
    "\n",
    "    alpha = round(alpha,4)\n",
    "    # ema_max_spread_rate = round(ema_max_spread_rate,4)\n",
    "\n",
    "    eth = TokenInfo(name=\"eth\", decimal=18)\n",
    "    usdc = TokenInfo(name=\"usdc\", decimal=6)\n",
    "    pool = PoolBaseInfo(usdc, eth, 0.05, usdc)\n",
    "\n",
    "    #收益计算基础参数\n",
    "    # net_value_base = 'ETH'\n",
    "\n",
    "    runner_instance = Actuator(pool)\n",
    "    # runner_instance.enable_notify = False\n",
    "    runner_instance.strategy = HedgeST(decimal_a,decimal_hedge_spread_split,decimal_hedge_spread_rate,alpha)\n",
    "    runner_instance.set_assets([Asset(usdc, 1000000)])\n",
    "    save_path = f\"../demeter/data/ETH/{pool_id_1_eth_u_500}\"\n",
    "    runner_instance.data_path = save_path\n",
    "    runner_instance.load_data(ChainType.Ethereum.name,\n",
    "                                pool_id_1_eth_u_500,\n",
    "                                DATE_START,\n",
    "                               DATE_END)\n",
    "    runner_instance.run(enable_notify=False)\n",
    "\n",
    "    hedge_count = runner_instance.strategy.hedge_count\n",
    "    outside_ema_count = runner_instance.strategy.outside_ema_count\n",
    "\n",
    "    # df_status = pd.DataFrame(runner_instance.account_status_list)\n",
    "\n",
    "    total_net_value = runner_instance.final_status.net_value\n",
    "    \n",
    "    final_total_usdc_value = round(total_net_value + runner_instance.strategy.e.df['total'].iloc[-1],3)\n",
    "    \n",
    "    final_price = runner_instance.final_status.price\n",
    "\n",
    "    final_total_eth_value = round(final_total_usdc_value / final_price,3)\n",
    "\n",
    "    #处理df_status\n",
    "    df_status = pd.DataFrame(runner_instance.account_status_list)\n",
    "    df_merge = pd.merge(e.df, df_status, on='timestamp', how='inner')\n",
    "\n",
    "    df_merge['total_value'] = df_merge['total'] + df_merge['net_value']\n",
    "    df_merge['total_value_eth'] = df_merge['total_value'] / df_merge['price']\n",
    "\n",
    "    df_merge.set_index('timestamp', inplace=True)\n",
    "\n",
    "\n",
    "\n",
    "\n",
    "    notice = f\"ema+alpha:{RUNNING_TIME} times, a:{decimal_a}, hedge_spread_split:{decimal_hedge_spread_split}, hedge_spread_rate:{decimal_hedge_spread_rate},alpa:{alpha}\"\n",
    "    result =f\" result: outside_ema_count:{outside_ema_count},hedge count:{hedge_count} final_total_eth_value:{final_total_eth_value},final_total_usdc_value:{final_total_usdc_value}\"  \n",
    "    print(notice)\n",
    "    print(result)\n",
    "    # if SEND_NOTICE:\n",
    "    #     send_notice('CEX_Notify',notice)\n",
    "\n",
    "    # RUNNING_TIME +=1\n",
    "\n",
    "    # if NET_VALUE_BASE == 'USDC':\n",
    "    #     print(final_total_usdc_value)\n",
    "    #     return float(final_total_usdc_value)\n",
    "    #     # profit_rate_usdc = profit_usdc / runner_instance.strategy.init_total_usdc\n",
    "    # else:\n",
    "    #     print(float(final_total_usdc_value / final_price))\n",
    "    #     return float(final_total_usdc_value / final_price)\n",
    "\n",
    "\n",
    "    return runner_instance\n",
    "\n",
    "\n",
    "\n"
   ]
  },
  {
   "cell_type": "code",
   "execution_count": null,
   "metadata": {},
   "outputs": [],
   "source": [
    "\n",
    "def generate_dfmerge(runner_instance):\n",
    "    e = runner_instance.strategy.e\n",
    "\n",
    "    total_net_value = runner_instance.final_status.net_value\n",
    "        \n",
    "    final_total_usdc_value = total_net_value + runner_instance.strategy.e.df['total'].iloc[-1]\n",
    "\n",
    "\n",
    "    final_price = runner_instance.final_status.price\n",
    "    # if net_value_base == 'USDC':\n",
    "    profit_usdc = round(final_total_usdc_value- runner_instance.strategy.init_total_usdc,3)\n",
    "    profit_rate_usdc = round(profit_usdc / runner_instance.strategy.init_total_usdc,3)\n",
    "    # else:\n",
    "    profit_eth = round(final_total_usdc_value/final_price - runner_instance.strategy.init_total_symbol,3)\n",
    "    profit_rate_eth = round(profit_eth / runner_instance.strategy.init_total_symbol,3)\n",
    "\n",
    "    print(f\"USDC profit: {profit_usdc}, profit_rate: {profit_rate_usdc}\")\n",
    "\n",
    "    print(f\"ETH profit: {profit_eth}, profit_rate: {profit_rate_eth}\")\n",
    "\n",
    "    df_status = pd.DataFrame(runner_instance.account_status_list)\n",
    "    df_merge = pd.merge(e.df, df_status, on='timestamp', how='inner')\n",
    "\n",
    "    df_merge['total_value'] = df_merge['total'] + df_merge['net_value']\n",
    "\n",
    "    df_merge.set_index('timestamp', inplace=True)\n",
    "\n",
    "    df_merge['total_value_profit_rate'] = df_merge['total_value'] / runner_instance.strategy.init_total_usdc\n",
    "\n",
    "\n",
    "    df_merge['total_value_eth'] = df_merge['total_value'] / df_merge['price']\n",
    "\n",
    "    df_merge['net_value_eth'] = df_merge['net_value'] / df_merge['price']\n",
    "\n",
    "    df_merge['total_value_eth_profit_rate'] = df_merge['total_value_eth'] / runner_instance.strategy.init_total_symbol\n",
    "\n",
    "    df_merge_f = df_merge.apply(pd.to_numeric, downcast='float')\n",
    "   \n",
    "    df_merge_f['net_value_rate'] = df_merge_f['net_value'] / df_merge_f['net_value'].iloc[0]\n",
    "\n",
    "    df_merge_f['price_rate'] = df_merge_f['price'] / df_merge_f['price'].iloc[0]\n",
    "    return df_merge_f"
   ]
  },
  {
   "cell_type": "code",
   "execution_count": null,
   "metadata": {},
   "outputs": [],
   "source": [
    "# pd.options.plotting.backend = \"plotly\"\n",
    "\n",
    "CHAIN_ID = 'ETH'\n",
    "NET_VALUE_BASE = 'WBTC'\n",
    "RUNNING_TIME = 1\n",
    "SEND_NOTICE = False\n",
    "str_date_start = '2022-9-1'\n",
    "str_date_end = '2022-11-30'\n",
    "POOL_ID = pool_id_1_wbtc_u_3000\n",
    "#eth pool\n",
    "# eth = TokenInfo(name='eth', decimal=18)\n",
    "# USDC = TokenInfo(name=\"usdc\", decimal=6)\n",
    "# PAIR_POOL = PoolBaseInfo(USDC, eth, 0.05, USDC)\n",
    "\n",
    "# wbtc pool\n",
    "wbtc = TokenInfo(name='wbtc', decimal=8)\n",
    "USDC = TokenInfo(name=\"usdc\", decimal=6)\n",
    "PAIR_POOL = PoolBaseInfo(wbtc, USDC, 0.3, USDC)\n",
    "\n",
    "DATE_START = datetime.strptime(str_date_start, \"%Y-%m-%d\").date()\n",
    "\n",
    "DATE_END = datetime.strptime(str_date_end, \"%Y-%m-%d\").date()"
   ]
  },
  {
   "cell_type": "markdown",
   "metadata": {},
   "source": [
    "# A1 test"
   ]
  },
  {
   "cell_type": "code",
   "execution_count": 5,
   "metadata": {},
   "outputs": [
    {
     "name": "stderr",
     "output_type": "stream",
     "text": [
      "2023-01-10 14:01:51,931 - INFO - start load files from 2022-06-01 to 2022-12-30...\n"
     ]
    },
    {
     "name": "stdout",
     "output_type": "stream",
     "text": [
      "init parameters: a:1.15, hedge_spread_split:2.7, hedge_spread_rate:0.90,alpa:0.037,period_n:19\n",
      "\n"
     ]
    },
    {
     "name": "stderr",
     "output_type": "stream",
     "text": [
      "2023-01-10 14:01:59,273 - INFO - load file complete, preparing...\n",
      "2023-01-10 14:02:08,793 - INFO - data has benn prepared\n",
      "2023-01-10 14:02:08,794 - INFO - init strategy...\n"
     ]
    },
    {
     "name": "stdout",
     "output_type": "stream",
     "text": [
      "add ema column with alpha 0.037\n",
      "306718\n"
     ]
    },
    {
     "name": "stderr",
     "output_type": "stream",
     "text": [
      "2023-01-10 14:02:11,419 - INFO - start main loop...\n"
     ]
    },
    {
     "name": "stdout",
     "output_type": "stream",
     "text": [
      "hedge rebalance ETH -15.70030534802216861646349027 31798.74460612911296270199417 profit: 0E-49\n",
      "after rebalance=> lp total symbol:31.40061069604433723292698055, future amount:15.70030534802216861646349027, status:AccountStatus(timestamp=None, base_balance=Decimal('498500.0000000000000000000001'), quote_balance=Decimal('15.72389118479936766796543843'), base_uncollected=Decimal('0'), quote_uncollected=Decimal('0'), base_in_position=Decimal('0'), quote_in_position=Decimal('0'), net_value=Decimal('998500.0000000000000000000000'), price=Decimal('31798.74460612911296270199417'))\n",
      "prepare to add LP: rate:1.15 price:31798.74460612911296270199417 down:27651.08226619922866321912537 up:36568.55629704847990710729330 init symbol amount:37.73733884351848275225757283,init usdc amount:1200000.000000000011102230246\n",
      "eth_value 0.05799828717764101878982154 usdc value 0\n"
     ]
    },
    {
     "name": "stderr",
     "output_type": "stream",
     "text": [
      "  5%|█████▍                                                                                                  | 16036/306718 [01:32<1:21:29, 59.45it/s]"
     ]
    },
    {
     "name": "stdout",
     "output_type": "stream",
     "text": [
      "2022-06-12 03:09:00  => last hedge sell ETH,price: 27394.28091054478722305897043,c_amount:32.47756281873788926968358413,f_amount:15.70030534802216861646349027,ema:27647.942514221435, trade amoutn: 16.77725747071572065322009385, hedge count:1\n",
      "2022-06-12 03:09:00 out of range, price:27394.28091054478722305897043,ema:27647.942514221435 symbol:32.47756281873788926968358413, usdc:0\n",
      "hedge rebalance ETH -17.66989122530896282733563792 27394.28091054478722305897043 profit: -69151.42491495207426148619712\n",
      "after rebalance=> lp total symbol:33.18587820523082158115806867, future amount:16.59293910261541079057903434, status:AccountStatus(timestamp=None, base_balance=Decimal('453882.7414005204038468569677'), quote_balance=Decimal('16.61735637095960818698350940'), base_uncollected=Decimal('0'), quote_uncollected=Decimal('0'), base_in_position=Decimal('0'), quote_in_position=Decimal('0'), net_value=Decimal('909103.2698172190002165354052'), price=Decimal('27394.28091054478722305897043'))\n",
      "prepare to add LP: rate:1.15 price:27394.28091054478722305897043,ema:27647.942514221435, self.down_price:23821.11383525633671570345255,self.up_price 31503.42304712650530651781599 \n",
      "after add LP: AccountStatus(timestamp=None, base_balance=Decimal('0'), quote_balance=Decimal('0.06027704443885013940573863'), base_uncollected=Decimal('0'), quote_uncollected=Decimal('0'), base_in_position=Decimal('453882.7413994375207974115341'), quote_in_position=Decimal('16.5570793265207580475777707'), net_value=Decimal('909103.2698161361171670899697'), price=Decimal('27394.28091054478722305897043'))\n"
     ]
    },
    {
     "name": "stderr",
     "output_type": "stream",
     "text": [
      "  6%|██████▏                                                                                                  | 18004/306718 [01:50<23:02, 208.78it/s]"
     ]
    },
    {
     "name": "stdout",
     "output_type": "stream",
     "text": [
      "2022-06-13 11:29:00  => last hedge sell ETH,price: 23536.25163296284182691994802,c_amount:34.32511555109245331446485534,f_amount:16.59293910261541079057903434,ema:23819.998886348138, trade amoutn: 17.73217644847704252388582101, hedge count:2\n",
      "2022-06-13 11:29:00 out of range, price:23536.25163296284182691994802,ema:23819.998886348138 symbol:34.32511555109245331446485534, usdc:0\n",
      "hedge rebalance ETH -18.69567439383929626526424369 23536.25163296284182691994802 profit: -133167.4697739766208821040276\n",
      "after rebalance=> lp total symbol:35.11287409595532906391491404, future amount:17.55643704797766453195745702, status:AccountStatus(timestamp=None, base_balance=Decimal('412605.8273111008980192951439'), quote_balance=Decimal('17.58222249749770541000669606'), base_uncollected=Decimal('0'), quote_uncollected=Decimal('0'), base_in_position=Decimal('0'), quote_in_position=Decimal('0'), net_value=Decimal('826425.4402789472821226241751'), price=Decimal('23536.25163296284182691994802'))\n",
      "prepare to add LP: rate:1.15 price:23536.25163296284182691994802,ema:23819.998886348138, self.down_price:20466.30576779377550166952002,self.up_price 27066.68937790726810095794022 \n",
      "after add LP: AccountStatus(timestamp=None, base_balance=Decimal('0'), quote_balance=Decimal('0.06367787023900910566916010'), base_uncollected=Decimal('0'), quote_uncollected=Decimal('0'), base_in_position=Decimal('412605.8273103006713051311226'), quote_in_position=Decimal('17.51854462725869630433753588'), net_value=Decimal('826425.4402781470554084601519'), price=Decimal('23536.25163296284182691994802'))\n"
     ]
    },
    {
     "name": "stderr",
     "output_type": "stream",
     "text": [
      "  7%|███████                                                                                                  | 20707/306718 [02:03<23:34, 202.16it/s]"
     ]
    },
    {
     "name": "stdout",
     "output_type": "stream",
     "text": [
      "2022-06-15 08:53:00  => last hedge sell ETH,price: 20316.82193656802101689756146,c_amount:36.31836610545399890458326502,f_amount:17.55643704797766453195745702,ema:20461.18624968596, trade amoutn: 18.76192905747633437262580800, hedge count:3\n",
      "2022-06-15 08:53:00 out of range, price:20316.82193656802101689756146,ema:20461.18624968596 symbol:36.31836610545399890458326502, usdc:0\n",
      "hedge rebalance ETH -20.12739310320933331239673817 20316.82193656802101689756146 profit: -189689.1845691221375174033843\n",
      "after rebalance=> lp total symbol:37.84380218742132694345677439, future amount:18.92190109371066347172838719, status:AccountStatus(timestamp=None, base_balance=Decimal('383878.3798965962536842002598'), quote_balance=Decimal('18.94919450246358053752744887'), base_uncollected=Decimal('0'), quote_uncollected=Decimal('0'), base_in_position=Decimal('0'), quote_in_position=Decimal('0'), net_value=Decimal('768865.7904445424735208196484'), price=Decimal('20316.82193656802101689756146'))\n",
      "prepare to add LP: rate:1.15 price:20316.82193656802101689756146,ema:20461.18624968596, self.down_price:17666.80168397219218860657518,self.up_price 23364.34522705322416943219568 \n",
      "after add LP: AccountStatus(timestamp=None, base_balance=Decimal('0'), quote_balance=Decimal('0.06763576037753995922081652'), base_uncollected=Decimal('0'), quote_uncollected=Decimal('0'), base_in_position=Decimal('383878.3798956717087305721527'), quote_in_position=Decimal('18.88155874208604057830663231'), net_value=Decimal('768865.7904436179285671915405'), price=Decimal('20316.82193656802101689756146'))\n"
     ]
    },
    {
     "name": "stderr",
     "output_type": "stream",
     "text": [
      " 23%|████████████████████████▎                                                                                 | 70249/306718 [09:04<48:05, 81.95it/s]"
     ]
    },
    {
     "name": "stdout",
     "output_type": "stream",
     "text": [
      "2022-07-19 18:37:00  => last hedge buy ETH, price: 23423.55395072085159355770259,c_amount:0,f_amount:18.92190109371066347172838719,ema:23363.25816944715, trade amount:18.92190109371066347172838720, hedge count:4\n",
      "2022-07-19 18:37:00 out of range, price:23423.55395072085159355770259,ema:23363.25816944715 symbol:0, usdc:795243.6008011040530515508455\n",
      "hedge rebalance ETH 18.36552434818269173093026403 23423.55395072085159355770259 profit: -130903.9086726577602009464638\n",
      "after rebalance=> lp total symbol:38.95655567847727042505302072, future amount:19.47827783923863521252651036, status:AccountStatus(timestamp=None, base_balance=Decimal('455661.0980147453900108654938'), quote_balance=Decimal('19.50344028132710479968821922'), base_uncollected=Decimal('0'), quote_uncollected=Decimal('0'), base_in_position=Decimal('0'), quote_in_position=Decimal('0'), net_value=Decimal('912500.9836690730928903185707'), price=Decimal('23423.55395072085159355770259'))\n",
      "prepare to add LP: rate:1.15 price:23423.55395072085159355770259,ema:23363.25816944715, self.down_price:20368.30778323552312483278486,self.up_price 26937.08704332897933259135798 \n",
      "after add LP: AccountStatus(timestamp=None, base_balance=Decimal('0'), quote_balance=Decimal('0.06375954215608857574073753'), base_uncollected=Decimal('0'), quote_uncollected=Decimal('0'), base_in_position=Decimal('455661.0980131473965146843264'), quote_in_position=Decimal('19.4396807391710162239474817'), net_value=Decimal('912500.9836674750993941374035'), price=Decimal('23423.55395072085159355770259'))\n"
     ]
    },
    {
     "name": "stderr",
     "output_type": "stream",
     "text": [
      " 41%|██████████████████████████████████████████                                                             | 125266/306718 [33:45<2:32:50, 19.79it/s]"
     ]
    },
    {
     "name": "stdout",
     "output_type": "stream",
     "text": [
      "2022-08-26 23:44:00  => last hedge sell ETH,price: 20237.74458587639988362022818,c_amount:40.30114698910541054276619965,f_amount:19.47827783923863521252651036,ema:20365.320558418414, trade amoutn: 20.82286914986677533023968929, hedge count:5\n",
      "2022-08-26 23:44:00 out of range, price:20237.74458587639988362022818,ema:20365.320558418414 symbol:40.30114698910541054276619965, usdc:0\n",
      "hedge rebalance ETH -23.01438551953529937358322479 20237.74458587639988362022818 profit: -192957.9886239463559195758304\n",
      "after rebalance=> lp total symbol:43.33958841781431851174009172, future amount:21.66979420890715925587004586, status:AccountStatus(timestamp=None, base_balance=Decimal('437937.6399487708909013119063'), quote_balance=Decimal('21.69994186083579998987521756'), base_uncollected=Decimal('0'), quote_uncollected=Decimal('0'), base_in_position=Decimal('0'), quote_in_position=Decimal('0'), net_value=Decimal('877095.5208567332522419543581'), price=Decimal('20237.74458587639988362022818'))\n",
      "prepare to add LP: rate:1.15 price:20237.74458587639988362022818,ema:20365.320558418414, self.down_price:17598.03877032730424662628537,self.up_price 23273.40627375785986616326241 \n",
      "after add LP: AccountStatus(timestamp=None, base_balance=Decimal('0'), quote_balance=Decimal('0.07524001807600443829333673'), base_uncollected=Decimal('0'), quote_uncollected=Decimal('0'), base_in_position=Decimal('437937.6399472438349948565976'), quote_in_position=Decimal('21.62470184275979555158188082'), net_value=Decimal('877095.5208552061963354990492'), price=Decimal('20237.74458587639988362022818'))\n"
     ]
    },
    {
     "name": "stderr",
     "output_type": "stream",
     "text": [
      " 46%|███████████████████████████████████████████████▎                                                       | 140726/306718 [41:29<1:02:53, 43.99it/s]"
     ]
    },
    {
     "name": "stdout",
     "output_type": "stream",
     "text": [
      "2022-09-06 17:22:00 hedge lower sell ETH,c_amount:27.58515170128224166502785375,f_amount:21.66979420890715925587004586, upper:22555.28,middle:21101.01,lower,19646.74, trade price: 19139.46042220326610199160088,ema:19505.589361317026,trade amount: 5.221964299207242216391872310, hedge count:6\n"
     ]
    },
    {
     "name": "stderr",
     "output_type": "stream",
     "text": [
      " 46%|███████████████████████████████████████████████▎                                                       | 140893/306718 [41:33<1:06:44, 41.41it/s]"
     ]
    },
    {
     "name": "stdout",
     "output_type": "stream",
     "text": [
      "2022-09-06 20:10:00 hedge lower sell ETH,c_amount:32.70810403243329109006796975,f_amount:16.44782990969991703947817355, upper:22555.28,middle:21101.01,lower,19646.74, trade price: 18766.12118345867998616314220,ema:18907.59806819193,trade amount: 5.221964299207242216391872310, hedge count:7\n"
     ]
    },
    {
     "name": "stderr",
     "output_type": "stream",
     "text": [
      " 46%|███████████████████████████████████████████████▊                                                       | 142300/306718 [42:34<3:36:05, 12.68it/s]"
     ]
    }
   ],
   "source": [
    "a = 1.15\n",
    "hedge_spread_split = 2.7\n",
    "hedge_spread_rate = 0.9\n",
    "alpha = 0.037\n",
    "ema_max_spread_rate=0.2\n",
    "period_n = 19\n",
    "\n",
    "instance=backtest_boll(a=a,hedge_spread_split=hedge_spread_split,hedge_spread_rate=hedge_spread_rate,alpha=alpha,boll_period_n=period_n)\n",
    "\n",
    "df_merge = generate_dfmerge(instance)\n",
    "\n",
    "\n",
    "filename = f\"{NET_VALUE_BASE}_{DATE_START}_{DATE_END}_{a}_{hedge_spread_split}_{hedge_spread_rate}_{alpha}_{period_n}_{POOL_ID}.html\"\n",
    "# df_merge['total_value'].plot_snapshot()\n",
    "qs.reports.html(df_merge['total_value_eth'],benchmark=df_merge['net_value_eth'],mode='full',periods_per_year=365, download_filename=f\"./reports/{filename}\",output='report')\n",
    "\n",
    "# fig = df_merge[['price_rate','total_value_eth_profit_rate','total_value_profit_rate']].plot().get_figure()\n",
    "\n",
    "# fig.savefig('./fig/test.pdf')\n",
    "\n",
    "# plot = df_merge[['price_rate','total_value_eth_profit_rate','net_value_rate','total_value_profit_rate']].plot()\n",
    "\n",
    "# plot.write_image(f\"./fig/{NET_VALUE_BASE}_{DATE_START}_{DATE_END}_{a}_{hedge_spread_split}_{hedge_spread_rate}_{alpha}_{period_n}.png\")\n",
    "\n",
    "# plot.show()"
   ]
  },
  {
   "cell_type": "code",
   "execution_count": null,
   "metadata": {},
   "outputs": [],
   "source": [
    "# qs.plots.snapshot(df_merge['total_value_eth'])"
   ]
  },
  {
   "cell_type": "markdown",
   "metadata": {},
   "source": [
    "# A2 test"
   ]
  },
  {
   "cell_type": "code",
   "execution_count": null,
   "metadata": {},
   "outputs": [],
   "source": [
    "a = 1.15\n",
    "POOL_ID = pool_id_1_wbtc_u_500\n",
    "PAIR_POOL = PoolBaseInfo(wbtc, USDC, 0.05, USDC)\n",
    "\n",
    "hedge_spread_split = 2.7\n",
    "hedge_spread_rate = 0.9\n",
    "alpha = 0.037\n",
    "ema_max_spread_rate=0.2\n",
    "period_n2 = 19\n",
    "\n",
    "instance2=backtest_boll(a=a,hedge_spread_split=hedge_spread_split,hedge_spread_rate=hedge_spread_rate,alpha=alpha,boll_period_n=period_n2)\n",
    "\n",
    "df_merge2 = generate_dfmerge(instance2)\n",
    "\n",
    "# fig = df_merge[['price_rate','total_value_eth_profit_rate','total_value_profit_rate']].plot().get_figure()\n",
    "\n",
    "# fig.savefig('./fig/test.pdf')\n",
    "\n",
    "# plot2 = df_merge2[['price_rate','total_value_eth_profit_rate','net_value_rate','total_value_profit_rate']].plot()\n",
    "\n",
    "# plot2.write_image(f\"./fig/{NET_VALUE_BASE}_{DATE_START}_{DATE_END}_{a}_{hedge_spread_split}_{hedge_spread_rate}_{alpha}_{period_n2}.png\")\n",
    "\n",
    "# plot2.show()\n",
    "filename = f\"{NET_VALUE_BASE}_{DATE_START}_{DATE_END}_{a}_{hedge_spread_split}_{hedge_spread_rate}_{alpha}_{period_n2}_{POOL_ID}.html\"\n",
    "# df_merge['total_value'].plot_snapshot()\n",
    "qs.reports.html(df_merge2['total_value_eth'],benchmark=df_merge2['net_value_eth'],mode='full',periods_per_year=365, download_filename=f\"./reports/{filename}\",output='report')"
   ]
  },
  {
   "cell_type": "code",
   "execution_count": null,
   "metadata": {},
   "outputs": [],
   "source": [
    "# qs.reports.html(df_merge2['total_value_eth'],benchmark=df_merge2['net_value_eth'],mode='full',periods_per_year=365, download_filename=f\"./reports/{filename}\",output='report')"
   ]
  },
  {
   "cell_type": "markdown",
   "metadata": {},
   "source": [
    "# a3 ema hedge"
   ]
  },
  {
   "cell_type": "code",
   "execution_count": null,
   "metadata": {},
   "outputs": [],
   "source": [
    "a = 1.20\n",
    "hedge_spread_split = 2.5\n",
    "hedge_spread_rate = 0.86\n",
    "alpha3 = 0.037\n",
    "ema_max_spread_rate2=0.2\n",
    "\n",
    "instance3=backtest_instance(a,hedge_spread_split,hedge_spread_rate,alpha3)\n",
    "\n",
    "df_merge3 = generate_dfmerge(instance3)\n",
    "\n",
    "filename = f\"{NET_VALUE_BASE}_{DATE_START}_{DATE_END}_{a}_{hedge_spread_split}_{hedge_spread_rate}_{alpha}.html\"\n",
    "# df_merge['total_value'].plot_snapshot()\n",
    "qs.reports.html(df_merge['total_value'],benchmark=df_merge['price'],mode='full',periods_per_year=365, download_filename=f\"./reports/{filename}\",output='report')\n",
    "\n",
    "# plot3 = df_merge3[['price_rate','total_value_eth_profit_rate','net_value_rate','total_value_profit_rate']].plot()\n",
    "\n",
    "# plot3.write_image(f\"./fig/{NET_VALUE_BASE}_{DATE_START}_{DATE_END}_{a}_{hedge_spread_split}_{hedge_spread_rate}_{alpha3}.png\")\n",
    "\n",
    "# plot3.show()\n",
    "filename = f\"{NET_VALUE_BASE}_{DATE_START}_{DATE_END}_{a}_{hedge_spread_split}_{hedge_spread_rate}_{alpha3}.html\"\n",
    "# df_merge['total_value'].plot_snapshot()\n",
    "qs.reports.html(df_merge3['total_value_eth'],benchmark=df_merge3['net_value_eth'],mode='full',periods_per_year=365, download_filename=f\"./reports/{filename}\",output='report')"
   ]
  },
  {
   "cell_type": "code",
   "execution_count": null,
   "metadata": {},
   "outputs": [],
   "source": []
  }
 ],
 "metadata": {
  "kernelspec": {
   "display_name": "Python 3.10.6 ('py310btc')",
   "language": "python",
   "name": "python3"
  },
  "language_info": {
   "codemirror_mode": {
    "name": "ipython",
    "version": 3
   },
   "file_extension": ".py",
   "mimetype": "text/x-python",
   "name": "python",
   "nbconvert_exporter": "python",
   "pygments_lexer": "ipython3",
   "version": "3.10.6"
  },
  "orig_nbformat": 4,
  "vscode": {
   "interpreter": {
    "hash": "abcf340a9bfefc31ecafadbd09739eb19479e953f794e77621cd271022fdffd8"
   }
  }
 },
 "nbformat": 4,
 "nbformat_minor": 2
}
