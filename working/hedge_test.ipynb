{
 "cells": [
  {
   "cell_type": "code",
   "execution_count": 1,
   "metadata": {},
   "outputs": [],
   "source": [
    "from hedge_stand import HedgeST,HedgeSTBoll\n",
    "from datetime import date, datetime\n",
    "from demeter import TokenInfo, PoolBaseInfo, Actuator, Strategy, Asset, AccountStatus, BuyAction, SellAction, RowData, \\\n",
    "    ChainType\n",
    "import optunity\n",
    "import optunity.metrics\n",
    "from decimal import Decimal\n",
    "import pandas as pd\n",
    "import  matplotlib.pylab as plt\n",
    "# import logging \n",
    "# from logging import handlers\n",
    "from load_data import pool_id_1_eth_u_500\n",
    "\n",
    "from strategy_ploter import  plot_position_return_decomposition\n",
    "\n",
    "import quantstats as qs\n",
    "qs.extend_pandas()\n",
    "\n",
    "%matplotlib inline\n",
    "\n",
    "def backtest_boll(a, hedge_spread_split,hedge_spread_rate,alpha,boll_period_n):\n",
    "    # global RUNNING_TIME\n",
    "    # print(f\"==================spread running time {RUNNING_TIME}==================\")\n",
    "\n",
    "    decimal_a = Decimal(a).quantize(Decimal('0.00'))\n",
    "    decimal_hedge_spread_split = Decimal(hedge_spread_split).quantize(Decimal('0.0'))\n",
    "    decimal_hedge_spread_rate = Decimal(hedge_spread_rate).quantize(Decimal('0.00'))\n",
    "\n",
    "    ema_max_spread_rate = round(0.2,4)\n",
    "\n",
    "    eth = TokenInfo(name=\"eth\", decimal=18)\n",
    "    usdc = TokenInfo(name=\"usdc\", decimal=6)\n",
    "    pool = PoolBaseInfo(usdc, eth, 0.05, usdc)\n",
    "\n",
    "    #收益计算基础参数\n",
    "    # net_value_base = 'ETH'\n",
    "\n",
    "    runner_instance = Actuator(pool)\n",
    "    # runner_instance.enable_notify = False\n",
    "    runner_instance.strategy = HedgeSTBoll(a=decimal_a,hedge_spread_split = decimal_hedge_spread_split,hedge_spread_rate=decimal_hedge_spread_rate,alpha=alpha,ema_max_spread_rate=ema_max_spread_rate,period_n=int(boll_period_n))\n",
    "    runner_instance.set_assets([Asset(usdc, 10000)])\n",
    "    save_path = f\"../demeter/data/ETH/{pool_id_1_eth_u_500}\"\n",
    "    runner_instance.data_path = save_path\n",
    "    runner_instance.load_data(ChainType.Ethereum.name,\n",
    "                                pool_id_1_eth_u_500,\n",
    "                                DATE_START,\n",
    "                               DATE_END)\n",
    "    runner_instance.run(enable_notify=False)\n",
    "\n",
    "    hedge_count = runner_instance.strategy.hedge_count\n",
    "    outside_ema_count = runner_instance.strategy.outside_ema_count\n",
    "\n",
    "    # df_status = pd.DataFrame(runner_instance.account_status_list)\n",
    "\n",
    "    total_net_value = runner_instance.final_status.net_value\n",
    "    \n",
    "    final_total_usdc_value = round(total_net_value + runner_instance.strategy.e.df['total'].iloc[-1],3)\n",
    "    \n",
    "    final_price = runner_instance.final_status.price\n",
    "\n",
    "    final_total_eth_value = round(final_total_usdc_value / final_price,3)\n",
    "\n",
    "    notice = f\"ema+alpha:{RUNNING_TIME} times, a:{decimal_a}, hedge_spread_split:{decimal_hedge_spread_split}, hedge_spread_rate:{decimal_hedge_spread_rate},alpa:{alpha}\"\n",
    "    result =f\" result: outside_ema_count:{outside_ema_count},hedge count:{hedge_count} final_total_eth_value:{final_total_eth_value},final_total_usdc_value:{final_total_usdc_value}\"  \n",
    "    print(notice)\n",
    "    print(result)\n",
    "    # if SEND_NOTICE:\n",
    "    #     send_notice('CEX_Notify',notice)\n",
    "\n",
    "    # RUNNING_TIME +=1\n",
    "\n",
    "    # if NET_VALUE_BASE == 'USDC':\n",
    "    #     print(final_total_usdc_value)\n",
    "    #     return float(final_total_usdc_value)\n",
    "    #     # profit_rate_usdc = profit_usdc / runner_instance.strategy.init_total_usdc\n",
    "    # else:\n",
    "    #     print(float(final_total_usdc_value / final_price))\n",
    "    #     return float(final_total_usdc_value / final_price)\n",
    "\n",
    "\n",
    "    return runner_instance\n",
    "\n",
    "\n",
    "def backtest_instance(a, hedge_spread_split,hedge_spread_rate,alpha):\n",
    "    # global RUNNING_TIME\n",
    "    # print(f\"==================spread running time {RUNNING_TIME}==================\")\n",
    "\n",
    "    decimal_a = Decimal(a).quantize(Decimal('0.00'))\n",
    "    decimal_hedge_spread_split = Decimal(hedge_spread_split).quantize(Decimal('0.0'))\n",
    "    decimal_hedge_spread_rate = Decimal(hedge_spread_rate).quantize(Decimal('0.00'))\n",
    "\n",
    "    alpha = round(alpha,4)\n",
    "    # ema_max_spread_rate = round(ema_max_spread_rate,4)\n",
    "\n",
    "    eth = TokenInfo(name=\"eth\", decimal=18)\n",
    "    usdc = TokenInfo(name=\"usdc\", decimal=6)\n",
    "    pool = PoolBaseInfo(usdc, eth, 0.05, usdc)\n",
    "\n",
    "    #收益计算基础参数\n",
    "    # net_value_base = 'ETH'\n",
    "\n",
    "    runner_instance = Actuator(pool)\n",
    "    # runner_instance.enable_notify = False\n",
    "    runner_instance.strategy = HedgeST(decimal_a,decimal_hedge_spread_split,decimal_hedge_spread_rate,alpha)\n",
    "    runner_instance.set_assets([Asset(usdc, 10000)])\n",
    "    save_path = f\"../demeter/data/ETH/{pool_id_1_eth_u_500}\"\n",
    "    runner_instance.data_path = save_path\n",
    "    runner_instance.load_data(ChainType.Ethereum.name,\n",
    "                                pool_id_1_eth_u_500,\n",
    "                                DATE_START,\n",
    "                               DATE_END)\n",
    "    runner_instance.run(enable_notify=False)\n",
    "\n",
    "    hedge_count = runner_instance.strategy.hedge_count\n",
    "    outside_ema_count = runner_instance.strategy.outside_ema_count\n",
    "\n",
    "    # df_status = pd.DataFrame(runner_instance.account_status_list)\n",
    "\n",
    "    total_net_value = runner_instance.final_status.net_value\n",
    "    \n",
    "    final_total_usdc_value = round(total_net_value + runner_instance.strategy.e.df['total'].iloc[-1],3)\n",
    "    \n",
    "    final_price = runner_instance.final_status.price\n",
    "\n",
    "    final_total_eth_value = round(final_total_usdc_value / final_price,3)\n",
    "\n",
    "    #处理df_status\n",
    "    df_status = pd.DataFrame(runner_instance.account_status_list)\n",
    "    df_merge = pd.merge(e.df, df_status, on='timestamp', how='inner')\n",
    "\n",
    "    df_merge['total_value'] = df_merge['total'] + df_merge['net_value']\n",
    "    df_merge['total_value_eth'] = df_merge['total_value'] / df_merge['price']\n",
    "\n",
    "    df_merge.set_index('timestamp', inplace=True)\n",
    "\n",
    "\n",
    "\n",
    "\n",
    "    notice = f\"ema+alpha:{RUNNING_TIME} times, a:{decimal_a}, hedge_spread_split:{decimal_hedge_spread_split}, hedge_spread_rate:{decimal_hedge_spread_rate},alpa:{alpha}\"\n",
    "    result =f\" result: outside_ema_count:{outside_ema_count},hedge count:{hedge_count} final_total_eth_value:{final_total_eth_value},final_total_usdc_value:{final_total_usdc_value}\"  \n",
    "    print(notice)\n",
    "    print(result)\n",
    "    # if SEND_NOTICE:\n",
    "    #     send_notice('CEX_Notify',notice)\n",
    "\n",
    "    # RUNNING_TIME +=1\n",
    "\n",
    "    # if NET_VALUE_BASE == 'USDC':\n",
    "    #     print(final_total_usdc_value)\n",
    "    #     return float(final_total_usdc_value)\n",
    "    #     # profit_rate_usdc = profit_usdc / runner_instance.strategy.init_total_usdc\n",
    "    # else:\n",
    "    #     print(float(final_total_usdc_value / final_price))\n",
    "    #     return float(final_total_usdc_value / final_price)\n",
    "\n",
    "\n",
    "    return runner_instance\n",
    "\n",
    "\n",
    "\n"
   ]
  },
  {
   "cell_type": "code",
   "execution_count": 2,
   "metadata": {},
   "outputs": [],
   "source": [
    "\n",
    "def generate_dfmerge(runner_instance):\n",
    "    e = runner_instance.strategy.e\n",
    "\n",
    "    total_net_value = runner_instance.final_status.net_value\n",
    "        \n",
    "    final_total_usdc_value = total_net_value + runner_instance.strategy.e.df['total'].iloc[-1]\n",
    "\n",
    "\n",
    "    final_price = runner_instance.final_status.price\n",
    "    # if net_value_base == 'USDC':\n",
    "    profit_usdc = round(final_total_usdc_value- runner_instance.strategy.init_total_usdc,3)\n",
    "    profit_rate_usdc = round(profit_usdc / runner_instance.strategy.init_total_usdc,3)\n",
    "    # else:\n",
    "    profit_eth = round(final_total_usdc_value/final_price - runner_instance.strategy.init_total_symbol,3)\n",
    "    profit_rate_eth = round(profit_eth / runner_instance.strategy.init_total_symbol,3)\n",
    "\n",
    "    print(f\"USDC profit: {profit_usdc}, profit_rate: {profit_rate_usdc}\")\n",
    "\n",
    "    print(f\"ETH profit: {profit_eth}, profit_rate: {profit_rate_eth}\")\n",
    "\n",
    "    df_status = pd.DataFrame(runner_instance.account_status_list)\n",
    "    df_merge = pd.merge(e.df, df_status, on='timestamp', how='inner')\n",
    "\n",
    "    df_merge['total_value'] = df_merge['total'] + df_merge['net_value']\n",
    "\n",
    "    df_merge.set_index('timestamp', inplace=True)\n",
    "\n",
    "    df_merge['total_value_profit_rate'] = df_merge['total_value'] / runner_instance.strategy.init_total_usdc\n",
    "\n",
    "\n",
    "    df_merge['total_value_eth'] = df_merge['total_value'] / df_merge['price']\n",
    "\n",
    "    df_merge['net_value_eth'] = df_merge['net_value'] / df_merge['price']\n",
    "\n",
    "    df_merge['total_value_eth_profit_rate'] = df_merge['total_value_eth'] / runner_instance.strategy.init_total_symbol\n",
    "\n",
    "    df_merge_f = df_merge.apply(pd.to_numeric, downcast='float')\n",
    "   \n",
    "    df_merge_f['net_value_rate'] = df_merge_f['net_value'] / df_merge_f['net_value'].iloc[0]\n",
    "\n",
    "    df_merge_f['price_rate'] = df_merge_f['price'] / df_merge_f['price'].iloc[0]\n",
    "    return df_merge_f"
   ]
  },
  {
   "cell_type": "code",
   "execution_count": 3,
   "metadata": {},
   "outputs": [],
   "source": [
    "# pd.options.plotting.backend = \"plotly\"\n",
    "\n",
    "CHAIN_ID = 'ETH'\n",
    "NET_VALUE_BASE = 'ETH'\n",
    "RUNNING_TIME = 1\n",
    "SEND_NOTICE = False\n",
    "str_date_start = '2022-8-1'\n",
    "str_date_end = '2022-10-31'\n",
    "\n",
    "DATE_START = datetime.strptime(str_date_start, \"%Y-%m-%d\").date()\n",
    "\n",
    "DATE_END = datetime.strptime(str_date_end, \"%Y-%m-%d\").date()"
   ]
  },
  {
   "cell_type": "markdown",
   "metadata": {},
   "source": [
    "# A1 test"
   ]
  },
  {
   "cell_type": "code",
   "execution_count": 4,
   "metadata": {},
   "outputs": [
    {
     "name": "stderr",
     "output_type": "stream",
     "text": [
      "2022-12-04 23:33:02,009 - INFO - start load files from 2022-08-01 to 2022-10-31...\n"
     ]
    },
    {
     "name": "stdout",
     "output_type": "stream",
     "text": [
      "init parameters: a:1.20, hedge_spread_split:2.5, hedge_spread_rate:0.91,alpa:0.037,period_n:17\n",
      "\n"
     ]
    },
    {
     "name": "stderr",
     "output_type": "stream",
     "text": [
      "2022-12-04 23:33:03,835 - INFO - load file complete, preparing...\n",
      "2022-12-04 23:33:09,617 - INFO - data has benn prepared\n",
      "2022-12-04 23:33:09,618 - INFO - init strategy...\n"
     ]
    },
    {
     "name": "stdout",
     "output_type": "stream",
     "text": [
      "add ema column with alpha 0.037\n",
      "132480\n"
     ]
    },
    {
     "name": "stderr",
     "output_type": "stream",
     "text": [
      "2022-12-04 23:33:12,031 - INFO - start main loop...\n"
     ]
    },
    {
     "name": "stdout",
     "output_type": "stream",
     "text": [
      "hedge rebalance ETH -2.979965614177398974216301868 1677.452241803761193671000796 profit: 0E-51\n",
      "after rebalance=> lp total symbol:5.959931228354797948432603737, future amount:2.979965614177398974216301868, status:AccountStatus(timestamp=None, base_balance=Decimal('4997.500000000000000000000001'), quote_balance=Decimal('2.980710791875367816170344454'), base_uncollected=Decimal('0'), quote_uncollected=Decimal('0'), base_in_position=Decimal('0'), quote_in_position=Decimal('0'), net_value=Decimal('9997.500000000000000000000000'), price=Decimal('1677.452241803761193671000796'))\n",
      "prepare to add LP: rate:1.20 price:1677.452241803761193671000796 down:1397.876868169800994725833997 up:2012.942690164513432405200955 init symbol amount:7.153705900500882824993901707,init usdc amount:12000.00000000000011102230246\n",
      "eth_value 0 usdc value 0.118199317661488677037991\n"
     ]
    },
    {
     "name": "stderr",
     "output_type": "stream",
     "text": [
      " 53%|████████████████████████████████████████████████████████▏                                                 | 70149/132480 [18:53<29:09, 35.63it/s]"
     ]
    },
    {
     "name": "stdout",
     "output_type": "stream",
     "text": [
      "2022-09-18 17:07:00  => last hedge sell ETH,price: 1387.752592839425489813995104,c_amount:6.244156029301067709211590515,f_amount:2.979965614177398974216301868,ema:1397.8395702578255, trade amoutn: 3.264190415123668734995288646, hedge count:1\n",
      "2022-09-18 17:07:00 out of range, price:1387.752592839425489813995104,ema:1397.8395702578255 symbol:6.244156029301067709211590515, usdc:0\n",
      "hedge rebalance ETH -3.775379934652439546837866206 1387.752592839425489813995104 profit: -863.2949923529835304034600268\n",
      "after rebalance=> lp total symbol:6.982310267412339572117758857, future amount:3.491155133706169786058879428, status:AccountStatus(timestamp=None, base_balance=Decimal('4843.787012598560135175976828'), quote_balance=Decimal('3.491928020899739069434594316'), base_uncollected=Decimal('0'), quote_uncollected=Decimal('0'), base_in_position=Decimal('0'), quote_in_position=Decimal('0'), net_value=Decimal('9689.719177610816590246481065'), price=Decimal('1387.752592839425489813995104'))\n",
      "prepare to add LP: rate:1.20 price:1387.752592839425489813995104,ema:1397.8395702578255, self.down_price:1156.46049403285457484499592,self.up_price 1665.303111407310587776794125 \n",
      "after add LP: AccountStatus(timestamp=None, base_balance=Decimal('0.392370843877054675751229'), quote_balance=Decimal('0'), base_uncollected=Decimal('0'), quote_uncollected=Decimal('0'), base_in_position=Decimal('4843.394641754683080500225604'), quote_in_position=Decimal('3.491928020899738697875239933'), net_value=Decimal('9689.719177610816074614023632'), price=Decimal('1387.752592839425489813995104'))\n"
     ]
    },
    {
     "name": "stderr",
     "output_type": "stream",
     "text": [
      " 93%|█████████████████████████████████████████████████████████████████████████████████████████████████▉       | 123515/132480 [48:05<04:26, 33.67it/s]"
     ]
    },
    {
     "name": "stdout",
     "output_type": "stream",
     "text": [
      "2022-10-25 18:29:00 hedge up buy ETH, c_amount:2.283065106624601760353976227,f_amount:3.491155133706169786058879428,upper:1353.97,middle:1278.44,lower:,1202.91, trade price:1509.202558299111363811045646,ema:1475.4496039888609, trade amount:1.084978728242633676559242548, hedge count:2\n"
     ]
    },
    {
     "name": "stderr",
     "output_type": "stream",
     "text": [
      " 94%|██████████████████████████████████████████████████████████████████████████████████████████████████▊      | 124726/132480 [48:55<02:51, 45.20it/s]"
     ]
    },
    {
     "name": "stdout",
     "output_type": "stream",
     "text": [
      "2022-10-26 14:41:00 hedge up buy ETH, c_amount:1.209339071440708409581658223,f_amount:4.576133861948803462618121976,upper:1401.81,middle:1280.86,lower:,1159.91, trade price:1586.101183993584895229706538,ema:1560.5061969669125, trade amount:1.084978728242633676559242548, hedge count:3\n"
     ]
    },
    {
     "name": "stderr",
     "output_type": "stream",
     "text": [
      "100%|█████████████████████████████████████████████████████████████████████████████████████████████████████████| 132480/132480 [51:54<00:00, 42.54it/s]\n",
      "2022-12-05 00:25:06,453 - INFO - main loop finished, start calculate evaluating indicator...\n",
      "2022-12-05 00:25:07,551 - INFO - run evaluating indicator\n",
      "2022-12-05 00:25:07,660 - INFO - back testing finish\n"
     ]
    },
    {
     "name": "stdout",
     "output_type": "stream",
     "text": [
      "ema+alpha:1 times, a:1.20, hedge_spread_split:2.5, hedge_spread_rate:0.91,alpa:0.037\n",
      " result: outside_ema_count:0,hedge count:3 final_total_eth_value:8.069,final_total_usdc_value:12698.707\n",
      "USDC profit: 698.707, profit_rate: 0.058\n",
      "ETH profit: 0.915, profit_rate: 0.128\n"
     ]
    }
   ],
   "source": [
    "a = 1.2\n",
    "hedge_spread_split = 2.5\n",
    "hedge_spread_rate = 0.91\n",
    "alpha = 0.037\n",
    "ema_max_spread_rate=0.2\n",
    "period_n = 17\n",
    "\n",
    "instance=backtest_boll(a=a,hedge_spread_split=hedge_spread_split,hedge_spread_rate=hedge_spread_rate,alpha=alpha,boll_period_n=period_n)\n",
    "\n",
    "df_merge = generate_dfmerge(instance)\n",
    "\n",
    "# fig = df_merge[['price_rate','total_value_eth_profit_rate','total_value_profit_rate']].plot().get_figure()\n",
    "\n",
    "# fig.savefig('./fig/test.pdf')\n",
    "\n",
    "# plot = df_merge[['price_rate','total_value_eth_profit_rate','net_value_rate','total_value_profit_rate']].plot()\n",
    "\n",
    "# plot.write_image(f\"./fig/{NET_VALUE_BASE}_{DATE_START}_{DATE_END}_{a}_{hedge_spread_split}_{hedge_spread_rate}_{alpha}_{period_n}.png\")\n",
    "\n",
    "# plot.show()"
   ]
  },
  {
   "cell_type": "code",
   "execution_count": 17,
   "metadata": {},
   "outputs": [],
   "source": [
    "\n",
    "\n",
    "filename = f\"{NET_VALUE_BASE}_{DATE_START}_{DATE_END}_{a}_{hedge_spread_split}_{hedge_spread_rate}_{alpha}_{period_n}.html\"\n",
    "# df_merge['total_value'].plot_snapshot()\n",
    "qs.reports.html(df_merge['total_value_eth'],benchmark=df_merge['net_value_eth'],mode='full',periods_per_year=365, download_filename=f\"./reports/{filename}\",output='report')\n"
   ]
  },
  {
   "cell_type": "code",
   "execution_count": 11,
   "metadata": {},
   "outputs": [
    {
     "data": {
      "text/html": [
       "<div>\n",
       "<style scoped>\n",
       "    .dataframe tbody tr th:only-of-type {\n",
       "        vertical-align: middle;\n",
       "    }\n",
       "\n",
       "    .dataframe tbody tr th {\n",
       "        vertical-align: top;\n",
       "    }\n",
       "\n",
       "    .dataframe thead th {\n",
       "        text-align: right;\n",
       "    }\n",
       "</style>\n",
       "<table border=\"1\" class=\"dataframe\">\n",
       "  <thead>\n",
       "    <tr style=\"text-align: right;\">\n",
       "      <th></th>\n",
       "      <th>margin</th>\n",
       "      <th>total</th>\n",
       "      <th>leverage</th>\n",
       "      <th>realised_profit</th>\n",
       "      <th>unrealised_profit</th>\n",
       "      <th>base_balance</th>\n",
       "      <th>quote_balance</th>\n",
       "      <th>base_uncollected</th>\n",
       "      <th>quote_uncollected</th>\n",
       "      <th>base_in_position</th>\n",
       "      <th>quote_in_position</th>\n",
       "      <th>net_value</th>\n",
       "      <th>price</th>\n",
       "      <th>total_value</th>\n",
       "      <th>total_value_profit_rate</th>\n",
       "      <th>total_value_eth</th>\n",
       "      <th>net_value_eth</th>\n",
       "      <th>total_value_eth_profit_rate</th>\n",
       "      <th>net_value_rate</th>\n",
       "      <th>price_rate</th>\n",
       "    </tr>\n",
       "    <tr>\n",
       "      <th>timestamp</th>\n",
       "      <th></th>\n",
       "      <th></th>\n",
       "      <th></th>\n",
       "      <th></th>\n",
       "      <th></th>\n",
       "      <th></th>\n",
       "      <th></th>\n",
       "      <th></th>\n",
       "      <th></th>\n",
       "      <th></th>\n",
       "      <th></th>\n",
       "      <th></th>\n",
       "      <th></th>\n",
       "      <th></th>\n",
       "      <th></th>\n",
       "      <th></th>\n",
       "      <th></th>\n",
       "      <th></th>\n",
       "      <th></th>\n",
       "      <th></th>\n",
       "    </tr>\n",
       "  </thead>\n",
       "  <tbody>\n",
       "    <tr>\n",
       "      <th>2022-08-01 00:00:00</th>\n",
       "      <td>249.937500</td>\n",
       "      <td>1996.250977</td>\n",
       "      <td>2.504</td>\n",
       "      <td>-3.749063</td>\n",
       "      <td>0.000000</td>\n",
       "      <td>0.118199</td>\n",
       "      <td>0.0</td>\n",
       "      <td>0.000063</td>\n",
       "      <td>0.000013</td>\n",
       "      <td>4997.381836</td>\n",
       "      <td>2.980711</td>\n",
       "      <td>9997.522461</td>\n",
       "      <td>1677.452271</td>\n",
       "      <td>11993.772461</td>\n",
       "      <td>0.999481</td>\n",
       "      <td>7.149994</td>\n",
       "      <td>5.959944</td>\n",
       "      <td>0.999481</td>\n",
       "      <td>1.000000</td>\n",
       "      <td>1.000000</td>\n",
       "    </tr>\n",
       "    <tr>\n",
       "      <th>2022-08-01 00:01:00</th>\n",
       "      <td>249.937500</td>\n",
       "      <td>2004.755615</td>\n",
       "      <td>2.494</td>\n",
       "      <td>-3.749063</td>\n",
       "      <td>8.504677</td>\n",
       "      <td>0.118199</td>\n",
       "      <td>0.0</td>\n",
       "      <td>0.043984</td>\n",
       "      <td>0.000024</td>\n",
       "      <td>5046.160645</td>\n",
       "      <td>2.951656</td>\n",
       "      <td>10006.048828</td>\n",
       "      <td>1680.306152</td>\n",
       "      <td>12010.804688</td>\n",
       "      <td>1.000900</td>\n",
       "      <td>7.147986</td>\n",
       "      <td>5.954896</td>\n",
       "      <td>0.999200</td>\n",
       "      <td>1.000853</td>\n",
       "      <td>1.001701</td>\n",
       "    </tr>\n",
       "    <tr>\n",
       "      <th>2022-08-01 00:02:00</th>\n",
       "      <td>249.937500</td>\n",
       "      <td>1999.250977</td>\n",
       "      <td>2.500</td>\n",
       "      <td>-3.749063</td>\n",
       "      <td>3.000000</td>\n",
       "      <td>0.118199</td>\n",
       "      <td>0.0</td>\n",
       "      <td>0.051132</td>\n",
       "      <td>0.000037</td>\n",
       "      <td>5014.593262</td>\n",
       "      <td>2.970454</td>\n",
       "      <td>10000.609375</td>\n",
       "      <td>1678.458984</td>\n",
       "      <td>11999.860352</td>\n",
       "      <td>0.999988</td>\n",
       "      <td>7.149332</td>\n",
       "      <td>5.958209</td>\n",
       "      <td>0.999389</td>\n",
       "      <td>1.000309</td>\n",
       "      <td>1.000600</td>\n",
       "    </tr>\n",
       "    <tr>\n",
       "      <th>2022-08-01 00:03:00</th>\n",
       "      <td>249.937500</td>\n",
       "      <td>1995.751099</td>\n",
       "      <td>2.504</td>\n",
       "      <td>-3.749063</td>\n",
       "      <td>-0.499825</td>\n",
       "      <td>0.118199</td>\n",
       "      <td>0.0</td>\n",
       "      <td>0.051664</td>\n",
       "      <td>0.000044</td>\n",
       "      <td>4994.513672</td>\n",
       "      <td>2.982421</td>\n",
       "      <td>9997.125977</td>\n",
       "      <td>1677.284546</td>\n",
       "      <td>11992.876953</td>\n",
       "      <td>0.999406</td>\n",
       "      <td>7.150175</td>\n",
       "      <td>5.960304</td>\n",
       "      <td>0.999506</td>\n",
       "      <td>0.999960</td>\n",
       "      <td>0.999900</td>\n",
       "    </tr>\n",
       "    <tr>\n",
       "      <th>2022-08-01 00:04:00</th>\n",
       "      <td>249.937500</td>\n",
       "      <td>1998.250732</td>\n",
       "      <td>2.502</td>\n",
       "      <td>-3.749063</td>\n",
       "      <td>1.999800</td>\n",
       "      <td>0.118199</td>\n",
       "      <td>0.0</td>\n",
       "      <td>0.063054</td>\n",
       "      <td>0.000052</td>\n",
       "      <td>5008.855469</td>\n",
       "      <td>2.973872</td>\n",
       "      <td>9999.649414</td>\n",
       "      <td>1678.123291</td>\n",
       "      <td>11997.899414</td>\n",
       "      <td>0.999825</td>\n",
       "      <td>7.149594</td>\n",
       "      <td>5.958828</td>\n",
       "      <td>0.999425</td>\n",
       "      <td>1.000213</td>\n",
       "      <td>1.000400</td>\n",
       "    </tr>\n",
       "    <tr>\n",
       "      <th>...</th>\n",
       "      <td>...</td>\n",
       "      <td>...</td>\n",
       "      <td>...</td>\n",
       "      <td>...</td>\n",
       "      <td>...</td>\n",
       "      <td>...</td>\n",
       "      <td>...</td>\n",
       "      <td>...</td>\n",
       "      <td>...</td>\n",
       "      <td>...</td>\n",
       "      <td>...</td>\n",
       "      <td>...</td>\n",
       "      <td>...</td>\n",
       "      <td>...</td>\n",
       "      <td>...</td>\n",
       "      <td>...</td>\n",
       "      <td>...</td>\n",
       "      <td>...</td>\n",
       "      <td>...</td>\n",
       "      <td>...</td>\n",
       "    </tr>\n",
       "    <tr>\n",
       "      <th>2022-10-31 23:55:00</th>\n",
       "      <td>410.159912</td>\n",
       "      <td>1835.486694</td>\n",
       "      <td>4.470</td>\n",
       "      <td>-876.889709</td>\n",
       "      <td>712.376404</td>\n",
       "      <td>0.392371</td>\n",
       "      <td>0.0</td>\n",
       "      <td>354.724731</td>\n",
       "      <td>0.260337</td>\n",
       "      <td>8473.352539</td>\n",
       "      <td>1.036530</td>\n",
       "      <td>10870.881836</td>\n",
       "      <td>1574.880249</td>\n",
       "      <td>12706.368164</td>\n",
       "      <td>1.058864</td>\n",
       "      <td>8.068149</td>\n",
       "      <td>6.902672</td>\n",
       "      <td>1.127828</td>\n",
       "      <td>1.087358</td>\n",
       "      <td>0.938852</td>\n",
       "    </tr>\n",
       "    <tr>\n",
       "      <th>2022-10-31 23:56:00</th>\n",
       "      <td>410.159912</td>\n",
       "      <td>1829.248291</td>\n",
       "      <td>4.484</td>\n",
       "      <td>-876.889709</td>\n",
       "      <td>706.138000</td>\n",
       "      <td>0.392371</td>\n",
       "      <td>0.0</td>\n",
       "      <td>354.724762</td>\n",
       "      <td>0.260345</td>\n",
       "      <td>8452.627930</td>\n",
       "      <td>1.049695</td>\n",
       "      <td>10869.457031</td>\n",
       "      <td>1573.778320</td>\n",
       "      <td>12698.705078</td>\n",
       "      <td>1.058225</td>\n",
       "      <td>8.068929</td>\n",
       "      <td>6.906600</td>\n",
       "      <td>1.127937</td>\n",
       "      <td>1.087215</td>\n",
       "      <td>0.938196</td>\n",
       "    </tr>\n",
       "    <tr>\n",
       "      <th>2022-10-31 23:57:00</th>\n",
       "      <td>410.159912</td>\n",
       "      <td>1829.248291</td>\n",
       "      <td>4.484</td>\n",
       "      <td>-876.889709</td>\n",
       "      <td>706.138000</td>\n",
       "      <td>0.392371</td>\n",
       "      <td>0.0</td>\n",
       "      <td>354.726166</td>\n",
       "      <td>0.260345</td>\n",
       "      <td>8452.627930</td>\n",
       "      <td>1.049695</td>\n",
       "      <td>10869.458008</td>\n",
       "      <td>1573.778320</td>\n",
       "      <td>12698.706055</td>\n",
       "      <td>1.058226</td>\n",
       "      <td>8.068930</td>\n",
       "      <td>6.906600</td>\n",
       "      <td>1.127937</td>\n",
       "      <td>1.087215</td>\n",
       "      <td>0.938196</td>\n",
       "    </tr>\n",
       "    <tr>\n",
       "      <th>2022-10-31 23:58:00</th>\n",
       "      <td>410.159912</td>\n",
       "      <td>1829.248291</td>\n",
       "      <td>4.484</td>\n",
       "      <td>-876.889709</td>\n",
       "      <td>706.138000</td>\n",
       "      <td>0.392371</td>\n",
       "      <td>0.0</td>\n",
       "      <td>354.726196</td>\n",
       "      <td>0.260345</td>\n",
       "      <td>8452.627930</td>\n",
       "      <td>1.049695</td>\n",
       "      <td>10869.458008</td>\n",
       "      <td>1573.778320</td>\n",
       "      <td>12698.706055</td>\n",
       "      <td>1.058226</td>\n",
       "      <td>8.068930</td>\n",
       "      <td>6.906600</td>\n",
       "      <td>1.127937</td>\n",
       "      <td>1.087215</td>\n",
       "      <td>0.938196</td>\n",
       "    </tr>\n",
       "    <tr>\n",
       "      <th>2022-10-31 23:59:00</th>\n",
       "      <td>410.159912</td>\n",
       "      <td>1829.248291</td>\n",
       "      <td>4.484</td>\n",
       "      <td>-876.889709</td>\n",
       "      <td>706.138000</td>\n",
       "      <td>0.392371</td>\n",
       "      <td>0.0</td>\n",
       "      <td>354.726196</td>\n",
       "      <td>0.260345</td>\n",
       "      <td>8452.627930</td>\n",
       "      <td>1.049695</td>\n",
       "      <td>10869.458008</td>\n",
       "      <td>1573.778320</td>\n",
       "      <td>12698.706055</td>\n",
       "      <td>1.058226</td>\n",
       "      <td>8.068930</td>\n",
       "      <td>6.906600</td>\n",
       "      <td>1.127937</td>\n",
       "      <td>1.087215</td>\n",
       "      <td>0.938196</td>\n",
       "    </tr>\n",
       "  </tbody>\n",
       "</table>\n",
       "<p>132480 rows × 20 columns</p>\n",
       "</div>"
      ],
      "text/plain": [
       "                         margin        total  leverage  realised_profit  \\\n",
       "timestamp                                                                 \n",
       "2022-08-01 00:00:00  249.937500  1996.250977     2.504        -3.749063   \n",
       "2022-08-01 00:01:00  249.937500  2004.755615     2.494        -3.749063   \n",
       "2022-08-01 00:02:00  249.937500  1999.250977     2.500        -3.749063   \n",
       "2022-08-01 00:03:00  249.937500  1995.751099     2.504        -3.749063   \n",
       "2022-08-01 00:04:00  249.937500  1998.250732     2.502        -3.749063   \n",
       "...                         ...          ...       ...              ...   \n",
       "2022-10-31 23:55:00  410.159912  1835.486694     4.470      -876.889709   \n",
       "2022-10-31 23:56:00  410.159912  1829.248291     4.484      -876.889709   \n",
       "2022-10-31 23:57:00  410.159912  1829.248291     4.484      -876.889709   \n",
       "2022-10-31 23:58:00  410.159912  1829.248291     4.484      -876.889709   \n",
       "2022-10-31 23:59:00  410.159912  1829.248291     4.484      -876.889709   \n",
       "\n",
       "                     unrealised_profit  base_balance  quote_balance  \\\n",
       "timestamp                                                             \n",
       "2022-08-01 00:00:00           0.000000      0.118199            0.0   \n",
       "2022-08-01 00:01:00           8.504677      0.118199            0.0   \n",
       "2022-08-01 00:02:00           3.000000      0.118199            0.0   \n",
       "2022-08-01 00:03:00          -0.499825      0.118199            0.0   \n",
       "2022-08-01 00:04:00           1.999800      0.118199            0.0   \n",
       "...                                ...           ...            ...   \n",
       "2022-10-31 23:55:00         712.376404      0.392371            0.0   \n",
       "2022-10-31 23:56:00         706.138000      0.392371            0.0   \n",
       "2022-10-31 23:57:00         706.138000      0.392371            0.0   \n",
       "2022-10-31 23:58:00         706.138000      0.392371            0.0   \n",
       "2022-10-31 23:59:00         706.138000      0.392371            0.0   \n",
       "\n",
       "                     base_uncollected  quote_uncollected  base_in_position  \\\n",
       "timestamp                                                                    \n",
       "2022-08-01 00:00:00          0.000063           0.000013       4997.381836   \n",
       "2022-08-01 00:01:00          0.043984           0.000024       5046.160645   \n",
       "2022-08-01 00:02:00          0.051132           0.000037       5014.593262   \n",
       "2022-08-01 00:03:00          0.051664           0.000044       4994.513672   \n",
       "2022-08-01 00:04:00          0.063054           0.000052       5008.855469   \n",
       "...                               ...                ...               ...   \n",
       "2022-10-31 23:55:00        354.724731           0.260337       8473.352539   \n",
       "2022-10-31 23:56:00        354.724762           0.260345       8452.627930   \n",
       "2022-10-31 23:57:00        354.726166           0.260345       8452.627930   \n",
       "2022-10-31 23:58:00        354.726196           0.260345       8452.627930   \n",
       "2022-10-31 23:59:00        354.726196           0.260345       8452.627930   \n",
       "\n",
       "                     quote_in_position     net_value        price  \\\n",
       "timestamp                                                           \n",
       "2022-08-01 00:00:00           2.980711   9997.522461  1677.452271   \n",
       "2022-08-01 00:01:00           2.951656  10006.048828  1680.306152   \n",
       "2022-08-01 00:02:00           2.970454  10000.609375  1678.458984   \n",
       "2022-08-01 00:03:00           2.982421   9997.125977  1677.284546   \n",
       "2022-08-01 00:04:00           2.973872   9999.649414  1678.123291   \n",
       "...                                ...           ...          ...   \n",
       "2022-10-31 23:55:00           1.036530  10870.881836  1574.880249   \n",
       "2022-10-31 23:56:00           1.049695  10869.457031  1573.778320   \n",
       "2022-10-31 23:57:00           1.049695  10869.458008  1573.778320   \n",
       "2022-10-31 23:58:00           1.049695  10869.458008  1573.778320   \n",
       "2022-10-31 23:59:00           1.049695  10869.458008  1573.778320   \n",
       "\n",
       "                      total_value  total_value_profit_rate  total_value_eth  \\\n",
       "timestamp                                                                     \n",
       "2022-08-01 00:00:00  11993.772461                 0.999481         7.149994   \n",
       "2022-08-01 00:01:00  12010.804688                 1.000900         7.147986   \n",
       "2022-08-01 00:02:00  11999.860352                 0.999988         7.149332   \n",
       "2022-08-01 00:03:00  11992.876953                 0.999406         7.150175   \n",
       "2022-08-01 00:04:00  11997.899414                 0.999825         7.149594   \n",
       "...                           ...                      ...              ...   \n",
       "2022-10-31 23:55:00  12706.368164                 1.058864         8.068149   \n",
       "2022-10-31 23:56:00  12698.705078                 1.058225         8.068929   \n",
       "2022-10-31 23:57:00  12698.706055                 1.058226         8.068930   \n",
       "2022-10-31 23:58:00  12698.706055                 1.058226         8.068930   \n",
       "2022-10-31 23:59:00  12698.706055                 1.058226         8.068930   \n",
       "\n",
       "                     net_value_eth  total_value_eth_profit_rate  \\\n",
       "timestamp                                                         \n",
       "2022-08-01 00:00:00       5.959944                     0.999481   \n",
       "2022-08-01 00:01:00       5.954896                     0.999200   \n",
       "2022-08-01 00:02:00       5.958209                     0.999389   \n",
       "2022-08-01 00:03:00       5.960304                     0.999506   \n",
       "2022-08-01 00:04:00       5.958828                     0.999425   \n",
       "...                            ...                          ...   \n",
       "2022-10-31 23:55:00       6.902672                     1.127828   \n",
       "2022-10-31 23:56:00       6.906600                     1.127937   \n",
       "2022-10-31 23:57:00       6.906600                     1.127937   \n",
       "2022-10-31 23:58:00       6.906600                     1.127937   \n",
       "2022-10-31 23:59:00       6.906600                     1.127937   \n",
       "\n",
       "                     net_value_rate  price_rate  \n",
       "timestamp                                        \n",
       "2022-08-01 00:00:00        1.000000    1.000000  \n",
       "2022-08-01 00:01:00        1.000853    1.001701  \n",
       "2022-08-01 00:02:00        1.000309    1.000600  \n",
       "2022-08-01 00:03:00        0.999960    0.999900  \n",
       "2022-08-01 00:04:00        1.000213    1.000400  \n",
       "...                             ...         ...  \n",
       "2022-10-31 23:55:00        1.087358    0.938852  \n",
       "2022-10-31 23:56:00        1.087215    0.938196  \n",
       "2022-10-31 23:57:00        1.087215    0.938196  \n",
       "2022-10-31 23:58:00        1.087215    0.938196  \n",
       "2022-10-31 23:59:00        1.087215    0.938196  \n",
       "\n",
       "[132480 rows x 20 columns]"
      ]
     },
     "execution_count": 11,
     "metadata": {},
     "output_type": "execute_result"
    }
   ],
   "source": [
    "df_merge"
   ]
  },
  {
   "cell_type": "markdown",
   "metadata": {},
   "source": [
    "# A2 test"
   ]
  },
  {
   "cell_type": "code",
   "execution_count": 16,
   "metadata": {},
   "outputs": [
    {
     "ename": "TypeError",
     "evalue": "sharpe() got an unexpected keyword argument 'benchmark'",
     "output_type": "error",
     "traceback": [
      "\u001b[0;31m---------------------------------------------------------------------------\u001b[0m",
      "\u001b[0;31mTypeError\u001b[0m                                 Traceback (most recent call last)",
      "\u001b[1;32m/Users/scottliyq/go/hardhat_space/demeter/working/hedge_test.ipynb Cell 9\u001b[0m in \u001b[0;36m<cell line: 1>\u001b[0;34m()\u001b[0m\n\u001b[0;32m----> <a href='vscode-notebook-cell:/Users/scottliyq/go/hardhat_space/demeter/working/hedge_test.ipynb#X15sZmlsZQ%3D%3D?line=0'>1</a>\u001b[0m df_merge[\u001b[39m'\u001b[39;49m\u001b[39mtotal_value_eth\u001b[39;49m\u001b[39m'\u001b[39;49m]\u001b[39m.\u001b[39;49msharpe(benchmark\u001b[39m=\u001b[39;49mdf_merge[\u001b[39m'\u001b[39;49m\u001b[39mnet_value_eth\u001b[39;49m\u001b[39m'\u001b[39;49m])\n",
      "\u001b[0;31mTypeError\u001b[0m: sharpe() got an unexpected keyword argument 'benchmark'"
     ]
    }
   ],
   "source": [
    "df_merge['total_value_eth'].sharpe(benchmark=df_merge['net_value_eth'])"
   ]
  },
  {
   "cell_type": "code",
   "execution_count": 6,
   "metadata": {},
   "outputs": [
    {
     "name": "stderr",
     "output_type": "stream",
     "text": [
      "2022-12-05 00:26:17,092 - INFO - start load files from 2022-08-01 to 2022-10-31...\n"
     ]
    },
    {
     "name": "stdout",
     "output_type": "stream",
     "text": [
      "init parameters: a:1.20, hedge_spread_split:2.5, hedge_spread_rate:0.86,alpa:0.037,period_n:9\n",
      "\n"
     ]
    },
    {
     "name": "stderr",
     "output_type": "stream",
     "text": [
      "2022-12-05 00:26:19,942 - INFO - load file complete, preparing...\n",
      "2022-12-05 00:26:28,314 - INFO - data has benn prepared\n",
      "2022-12-05 00:26:28,315 - INFO - init strategy...\n"
     ]
    },
    {
     "name": "stdout",
     "output_type": "stream",
     "text": [
      "add ema column with alpha 0.037\n",
      "132480\n"
     ]
    },
    {
     "name": "stderr",
     "output_type": "stream",
     "text": [
      "2022-12-05 00:26:30,488 - INFO - start main loop...\n"
     ]
    },
    {
     "name": "stdout",
     "output_type": "stream",
     "text": [
      "hedge rebalance ETH -2.979965614177398974216301868 1677.452241803761193671000796 profit: 0E-51\n",
      "after rebalance=> lp total symbol:5.959931228354797948432603737, future amount:2.979965614177398974216301868, status:AccountStatus(timestamp=None, base_balance=Decimal('4997.500000000000000000000001'), quote_balance=Decimal('2.980710791875367816170344454'), base_uncollected=Decimal('0'), quote_uncollected=Decimal('0'), base_in_position=Decimal('0'), quote_in_position=Decimal('0'), net_value=Decimal('9997.500000000000000000000000'), price=Decimal('1677.452241803761193671000796'))\n",
      "prepare to add LP: rate:1.20 price:1677.452241803761193671000796 down:1397.876868169800994725833997 up:2012.942690164513432405200955 init symbol amount:7.153705900500882824993901707,init usdc amount:12000.00000000000011102230246\n",
      "eth_value 0 usdc value 0.118199317661488677037991\n"
     ]
    },
    {
     "name": "stderr",
     "output_type": "stream",
     "text": [
      " 50%|████████████████████████████████████████████████████▌                                                     | 65702/132480 [09:29<14:46, 75.32it/s]"
     ]
    },
    {
     "name": "stdout",
     "output_type": "stream",
     "text": [
      "2022-09-15 14:44:00 hedge lower sell ETH,c_amount:4.230264443947227954540735188,f_amount:2.979965614177398974216301868, upper:1796.35,middle:1679.22,lower,1562.09, trade price: 1517.677376235568308375788736,ema:1561.2732823421165,trade amount: 1.025364512405126331693350100, hedge count:1\n"
     ]
    },
    {
     "name": "stderr",
     "output_type": "stream",
     "text": [
      " 50%|████████████████████████████████████████████████████▉                                                     | 66186/132480 [09:35<11:53, 92.87it/s]"
     ]
    },
    {
     "name": "stdout",
     "output_type": "stream",
     "text": [
      "2022-09-15 22:49:00 hedge lower sell ETH,c_amount:5.200781469353017583694927054,f_amount:1.954601101772272642522951768, upper:1822.32,middle:1682.60,lower,1542.88, trade price: 1462.405933582677437026807647,ema:1479.1680305048767,trade amount: 1.025364512405126331693350100, hedge count:2\n"
     ]
    },
    {
     "name": "stderr",
     "output_type": "stream",
     "text": [
      " 53%|████████████████████████████████████████████████████████▏                                                 | 70162/132480 [10:30<11:25, 90.92it/s]"
     ]
    },
    {
     "name": "stdout",
     "output_type": "stream",
     "text": [
      "2022-09-18 17:03:00 hedge lower sell ETH,c_amount:6.225862352903771633464841995,f_amount:0.929236589367146310829601668, upper:1903.00,middle:1652.36,lower,1401.72, trade price: 1391.504399913305765619294999,ema:1399.286050724557,trade amount: 1.025364512405126331693350100, hedge count:3\n",
      "2022-09-18 17:07:00  => last hedge sell ETH,price: 1387.752592839425489813995104,c_amount:6.244156029301067709211590515,f_amount:-0.096127923037980020863748432,ema:1397.8395702578255, trade amoutn: 0.188096877908289739915238346, hedge count:4\n",
      "2022-09-18 17:07:00 out of range, price:1387.752592839425489813995104,ema:1397.8395702578255 symbol:6.244156029301067709211590515, usdc:0\n",
      "hedge rebalance ETH -3.775379934652439546837866206 1387.752592839425489813995104 profit: -649.6808740150902586577378555\n",
      "after rebalance=> lp total symbol:6.982310267412339572117758857, future amount:3.491155133706169786058879428, status:AccountStatus(timestamp=None, base_balance=Decimal('4843.787012598560135175976828'), quote_balance=Decimal('3.491928020899739069434594316'), base_uncollected=Decimal('0'), quote_uncollected=Decimal('0'), base_in_position=Decimal('0'), quote_in_position=Decimal('0'), net_value=Decimal('9689.719177610816590246481065'), price=Decimal('1387.752592839425489813995104'))\n",
      "prepare to add LP: rate:1.20 price:1387.752592839425489813995104,ema:1397.8395702578255, self.down_price:1156.46049403285457484499592,self.up_price 1665.303111407310587776794125 \n",
      "after add LP: AccountStatus(timestamp=None, base_balance=Decimal('0.392370843877054675751229'), quote_balance=Decimal('0'), base_uncollected=Decimal('0'), quote_uncollected=Decimal('0'), base_in_position=Decimal('4843.394641754683080500225604'), quote_in_position=Decimal('3.491928020899738697875239933'), net_value=Decimal('9689.719177610816074614023632'), price=Decimal('1387.752592839425489813995104'))\n"
     ]
    },
    {
     "name": "stderr",
     "output_type": "stream",
     "text": [
      " 53%|████████████████████████████████████████████████████████▌                                                 | 70757/132480 [10:38<14:30, 70.90it/s]"
     ]
    },
    {
     "name": "stdout",
     "output_type": "stream",
     "text": [
      "2022-09-19 03:05:00 hedge lower sell ETH,c_amount:4.684724917431575528393894773,f_amount:3.491155133706169786058879428, upper:1904.57,middle:1629.22,lower,1353.87, trade price: 1303.416291086888617678105557,ema:1308.6667894195562,trade amount: 1.025364512405126331693350100, hedge count:5\n"
     ]
    },
    {
     "name": "stderr",
     "output_type": "stream",
     "text": [
      " 56%|███████████████████████████████████████████████████████████▊                                              | 74791/132480 [11:35<23:33, 40.81it/s]"
     ]
    },
    {
     "name": "stdout",
     "output_type": "stream",
     "text": [
      "2022-09-21 22:28:00 hedge lower sell ETH,c_amount:5.713954846303439094386843364,f_amount:2.465790621301043454365529328, upper:1722.27,middle:1515.54,lower,1308.81, trade price: 1232.311333028370994362421912,ema:1245.7355853613121,trade amount: 1.025364512405126331693350100, hedge count:6\n"
     ]
    },
    {
     "name": "stderr",
     "output_type": "stream",
     "text": [
      " 58%|█████████████████████████████████████████████████████████████                                             | 76357/132480 [11:57<11:16, 83.02it/s]"
     ]
    },
    {
     "name": "stdout",
     "output_type": "stream",
     "text": [
      "2022-09-23 00:20:00 hedge mid buy ETH,c_amount:4.347063853914850348482624296,f_amount:1.440426108895917122672179228, upper:1629.37,middle:1462.83,lower:,1296.29, trade price:1339.220032025436795893637325,ema:1330.3543861734913, trade amount:1.025364512405126331693350100, hedge count:7\n"
     ]
    },
    {
     "name": "stderr",
     "output_type": "stream",
     "text": [
      " 80%|███████████████████████████████████████████████████████████████████████████████████▊                     | 105808/132480 [18:45<05:38, 78.87it/s]"
     ]
    },
    {
     "name": "stdout",
     "output_type": "stream",
     "text": [
      "2022-10-13 11:16:00 hedge lower sell ETH,c_amount:5.709942641556925753669531069,f_amount:2.465790621301043454365529328, upper:1371.91,middle:1318.29,lower,1264.66, trade price: 1243.078673286281681468005393,ema:1245.972021123846,trade amount: 1.025364512405126331693350100, hedge count:8\n"
     ]
    },
    {
     "name": "stderr",
     "output_type": "stream",
     "text": [
      " 91%|███████████████████████████████████████████████████████████████████████████████████████████████▋         | 120696/132480 [22:19<03:00, 65.14it/s]"
     ]
    },
    {
     "name": "stdout",
     "output_type": "stream",
     "text": [
      "2022-10-23 19:24:00 hedge up buy ETH, c_amount:4.349433416040363281623301423,f_amount:1.440426108895917122672179228,upper:1324.80,middle:1296.41,lower:,1268.03, trade price:1331.342289907138304897177600,ema:1330.2003187380094, trade amount:1.025364512405126331693350100, hedge count:9\n"
     ]
    },
    {
     "name": "stderr",
     "output_type": "stream",
     "text": [
      " 93%|█████████████████████████████████████████████████████████████████████████████████████████████████▊       | 123375/132480 [23:01<02:26, 62.00it/s]"
     ]
    },
    {
     "name": "stdout",
     "output_type": "stream",
     "text": [
      "2022-10-25 16:03:00 hedge up buy ETH, c_amount:3.320339469437020565548173015,f_amount:2.465790621301043454365529328,upper:1344.72,middle:1301.25,lower:,1257.79, trade price:1413.098334544791076198550136,ema:1399.7167725407432, trade amount:1.025364512405126331693350100, hedge count:10\n"
     ]
    },
    {
     "name": "stderr",
     "output_type": "stream",
     "text": [
      " 93%|█████████████████████████████████████████████████████████████████████████████████████████████████▉       | 123515/132480 [23:03<02:45, 54.24it/s]"
     ]
    },
    {
     "name": "stdout",
     "output_type": "stream",
     "text": [
      "2022-10-25 18:29:00 hedge up buy ETH, c_amount:2.283065106624601760353976227,f_amount:3.491155133706169786058879428,upper:1344.72,middle:1301.25,lower:,1257.79, trade price:1509.202558299111363811045646,ema:1475.4496039888609, trade amount:1.025364512405126331693350100, hedge count:11\n"
     ]
    },
    {
     "name": "stderr",
     "output_type": "stream",
     "text": [
      " 94%|██████████████████████████████████████████████████████████████████████████████████████████████████▊      | 124727/132480 [23:24<01:55, 67.27it/s]"
     ]
    },
    {
     "name": "stdout",
     "output_type": "stream",
     "text": [
      "2022-10-26 14:35:00 hedge up buy ETH, c_amount:1.266435217476170181445245601,f_amount:4.516519646111296117752229528,upper:1414.14,middle:1306.67,lower:,1199.20, trade price:1573.148978498663393278718011,ema:1555.8002083821084, trade amount:1.025364512405126331693350100, hedge count:12\n"
     ]
    },
    {
     "name": "stderr",
     "output_type": "stream",
     "text": [
      "100%|█████████████████████████████████████████████████████████████████████████████████████████████████████████| 132480/132480 [25:28<00:00, 86.65it/s]\n",
      "2022-12-05 00:51:59,418 - INFO - main loop finished, start calculate evaluating indicator...\n",
      "2022-12-05 00:51:59,646 - INFO - run evaluating indicator\n",
      "2022-12-05 00:51:59,698 - INFO - back testing finish\n"
     ]
    },
    {
     "name": "stdout",
     "output_type": "stream",
     "text": [
      "ema+alpha:1 times, a:1.20, hedge_spread_split:2.5, hedge_spread_rate:0.86,alpa:0.037\n",
      " result: outside_ema_count:0,hedge count:12 final_total_eth_value:8.009,final_total_usdc_value:12603.841\n",
      "USDC profit: 603.841, profit_rate: 0.050\n",
      "ETH profit: 0.855, profit_rate: 0.120\n"
     ]
    }
   ],
   "source": [
    "a = 1.20\n",
    "hedge_spread_split = 2.5\n",
    "hedge_spread_rate = 0.86\n",
    "alpha = 0.037\n",
    "ema_max_spread_rate=0.2\n",
    "period_n2 = 9\n",
    "\n",
    "instance2=backtest_boll(a=a,hedge_spread_split=hedge_spread_split,hedge_spread_rate=hedge_spread_rate,alpha=alpha,boll_period_n=period_n2)\n",
    "\n",
    "df_merge2 = generate_dfmerge(instance2)\n",
    "\n",
    "# fig = df_merge[['price_rate','total_value_eth_profit_rate','total_value_profit_rate']].plot().get_figure()\n",
    "\n",
    "# fig.savefig('./fig/test.pdf')\n",
    "\n",
    "# plot2 = df_merge2[['price_rate','total_value_eth_profit_rate','net_value_rate','total_value_profit_rate']].plot()\n",
    "\n",
    "# plot2.write_image(f\"./fig/{NET_VALUE_BASE}_{DATE_START}_{DATE_END}_{a}_{hedge_spread_split}_{hedge_spread_rate}_{alpha}_{period_n2}.png\")\n",
    "\n",
    "# plot2.show()\n",
    "filename = f\"{NET_VALUE_BASE}_{DATE_START}_{DATE_END}_{a}_{hedge_spread_split}_{hedge_spread_rate}_{alpha}_{period_n2}.html\"\n",
    "# df_merge['total_value'].plot_snapshot()\n",
    "qs.reports.html(df_merge2['total_value_eth'],benchmark=df_merge2['net_value_eth'],mode='full',periods_per_year=365, download_filename=f\"./reports/{filename}\",output='report')"
   ]
  },
  {
   "cell_type": "markdown",
   "metadata": {},
   "source": [
    "# a3 ema hedge"
   ]
  },
  {
   "cell_type": "code",
   "execution_count": 7,
   "metadata": {},
   "outputs": [
    {
     "name": "stderr",
     "output_type": "stream",
     "text": [
      "2022-12-05 00:53:07,682 - INFO - start load files from 2022-08-01 to 2022-10-31...\n"
     ]
    },
    {
     "name": "stdout",
     "output_type": "stream",
     "text": [
      "init parameters: a:1.20, hedge_spread_split:2.5, hedge_spread_rate:0.86,alpa:0.037,period_n:1440\n",
      "\n"
     ]
    },
    {
     "name": "stderr",
     "output_type": "stream",
     "text": [
      "2022-12-05 00:53:09,285 - INFO - load file complete, preparing...\n",
      "2022-12-05 00:53:13,792 - INFO - data has benn prepared\n",
      "2022-12-05 00:53:13,792 - INFO - init strategy...\n"
     ]
    },
    {
     "name": "stdout",
     "output_type": "stream",
     "text": [
      "add ema column with alpha 0.037\n",
      "132480\n"
     ]
    },
    {
     "name": "stderr",
     "output_type": "stream",
     "text": [
      "2022-12-05 00:53:15,150 - INFO - start main loop...\n"
     ]
    },
    {
     "name": "stdout",
     "output_type": "stream",
     "text": [
      "hedge rebalance ETH -2.979965614177398974216301868 1677.452241803761193671000796 profit: 0E-51\n",
      "after rebalance=> lp total symbol:5.959931228354797948432603737, future amount:2.979965614177398974216301868, status:AccountStatus(timestamp=None, base_balance=Decimal('4997.500000000000000000000001'), quote_balance=Decimal('2.980710791875367816170344454'), base_uncollected=Decimal('0'), quote_uncollected=Decimal('0'), base_in_position=Decimal('0'), quote_in_position=Decimal('0'), net_value=Decimal('9997.500000000000000000000000'), price=Decimal('1677.452241803761193671000796'))\n",
      "prepare to add LP: rate:1.20 price:1677.452241803761193671000796 down:1397.876868169800994725833997 up:2012.942690164513432405200955 init symbol amount:7.153705900500882824993901707,init usdc amount:12000.00000000000011102230246\n",
      "eth_value 0 usdc value 0.118199317661488677037991\n"
     ]
    },
    {
     "name": "stderr",
     "output_type": "stream",
     "text": [
      "  8%|████████▋                                                                                                | 10900/132480 [00:32<06:31, 310.86it/s]"
     ]
    },
    {
     "name": "stdout",
     "output_type": "stream",
     "text": [
      "2022-08-08 13:01:00 hedge buy ETH, trade price:1806.465935577403865731623401,ema:1800.9860089497379, trade amount:1.025364512405126331693350100, hedge count:1\n"
     ]
    },
    {
     "name": "stderr",
     "output_type": "stream",
     "text": [
      " 11%|████████████                                                                                             | 15209/132480 [00:47<07:24, 264.07it/s]"
     ]
    },
    {
     "name": "stdout",
     "output_type": "stream",
     "text": [
      "2022-08-11 12:39:00 hedge buy ETH, trade price:1928.358552399500433799352276,ema:1918.2678178132778, trade amount:1.025364512405126331693350100, hedge count:2\n"
     ]
    },
    {
     "name": "stderr",
     "output_type": "stream",
     "text": [
      " 20%|████████████████████▉                                                                                    | 26398/132480 [01:39<08:00, 220.75it/s]"
     ]
    },
    {
     "name": "stdout",
     "output_type": "stream",
     "text": [
      "2022-08-19 07:18:00 hedge sell ETH,trade price: 1748.177916122217027859185514,ema:1764.4997035695758,trade amount: 1.025364512405126331693350100, hedge count:3\n"
     ]
    },
    {
     "name": "stderr",
     "output_type": "stream",
     "text": [
      " 21%|█████████████████████▋                                                                                   | 27295/132480 [01:44<08:55, 196.57it/s]"
     ]
    },
    {
     "name": "stdout",
     "output_type": "stream",
     "text": [
      "2022-08-19 22:25:00 hedge sell ETH,trade price: 1650.662833537465973704814789,ema:1661.2026968906048,trade amount: 1.025364512405126331693350100, hedge count:4\n"
     ]
    },
    {
     "name": "stderr",
     "output_type": "stream",
     "text": [
      " 22%|██████████████████████▋                                                                                  | 28640/132480 [01:50<08:29, 203.90it/s]"
     ]
    },
    {
     "name": "stdout",
     "output_type": "stream",
     "text": [
      "2022-08-20 20:56:00 hedge sell ETH,trade price: 1533.542784823055498635798155,ema:1566.1108863525615,trade amount: 1.025364512405126331693350100, hedge count:5\n"
     ]
    },
    {
     "name": "stderr",
     "output_type": "stream",
     "text": [
      " 26%|███████████████████████████▋                                                                             | 34990/132480 [02:25<08:38, 187.99it/s]"
     ]
    },
    {
     "name": "stdout",
     "output_type": "stream",
     "text": [
      "2022-08-25 06:49:00 hedge buy ETH, trade price:1701.440779784233978584955305,ema:1694.1522438020957, trade amount:1.025364512405126331693350100, hedge count:6\n"
     ]
    },
    {
     "name": "stderr",
     "output_type": "stream",
     "text": [
      " 28%|█████████████████████████████▍                                                                           | 37119/132480 [02:37<09:00, 176.34it/s]"
     ]
    },
    {
     "name": "stdout",
     "output_type": "stream",
     "text": [
      "2022-08-26 18:15:00 hedge sell ETH,trade price: 1548.644627203609134388096315,ema:1565.828273480206,trade amount: 1.025364512405126331693350100, hedge count:7\n"
     ]
    },
    {
     "name": "stderr",
     "output_type": "stream",
     "text": [
      " 29%|██████████████████████████████▍                                                                          | 38418/132480 [02:45<09:32, 164.44it/s]"
     ]
    },
    {
     "name": "stdout",
     "output_type": "stream",
     "text": [
      "2022-08-27 15:46:00 hedge sell ETH,trade price: 1458.317128403966712482229243,ema:1479.3273547042772,trade amount: 1.025364512405126331693350100, hedge count:8\n"
     ]
    },
    {
     "name": "stderr",
     "output_type": "stream",
     "text": [
      " 33%|██████████████████████████████████▍                                                                      | 43423/132480 [03:17<10:52, 136.39it/s]"
     ]
    },
    {
     "name": "stdout",
     "output_type": "stream",
     "text": [
      "2022-08-31 03:28:00 hedge buy ETH, trade price:1610.231833283893529629747864,ema:1596.4987517187665, trade amount:1.025364512405126331693350100, hedge count:9\n"
     ]
    },
    {
     "name": "stderr",
     "output_type": "stream",
     "text": [
      " 43%|████████████████████████████████████████████▊                                                            | 56500/132480 [04:54<09:47, 129.23it/s]"
     ]
    },
    {
     "name": "stdout",
     "output_type": "stream",
     "text": [
      "2022-09-09 05:17:00 hedge buy ETH, trade price:1700.250247498918051280875093,ema:1694.0867325067593, trade amount:1.025364512405126331693350100, hedge count:10\n"
     ]
    },
    {
     "name": "stderr",
     "output_type": "stream",
     "text": [
      " 50%|████████████████████████████████████████████████████                                                     | 65700/132480 [06:11<09:26, 117.87it/s]"
     ]
    },
    {
     "name": "stdout",
     "output_type": "stream",
     "text": [
      "2022-09-15 14:42:00 hedge sell ETH,trade price: 1517.525623673200988276961039,ema:1564.8972221858328,trade amount: 1.025364512405126331693350100, hedge count:11\n"
     ]
    },
    {
     "name": "stderr",
     "output_type": "stream",
     "text": [
      " 50%|████████████████████████████████████████████████████▍                                                    | 66192/132480 [06:16<10:05, 109.50it/s]"
     ]
    },
    {
     "name": "stdout",
     "output_type": "stream",
     "text": [
      "2022-09-15 22:49:00 hedge sell ETH,trade price: 1462.405933582677437026807647,ema:1479.1680305048767,trade amount: 1.025364512405126331693350100, hedge count:12\n"
     ]
    },
    {
     "name": "stderr",
     "output_type": "stream",
     "text": [
      " 53%|███████████████████████████████████████████████████████▌                                                 | 70163/132480 [06:54<09:29, 109.39it/s]"
     ]
    },
    {
     "name": "stdout",
     "output_type": "stream",
     "text": [
      "2022-09-18 17:03:00 hedge sell ETH,trade price: 1391.504399913305765619294999,ema:1399.286050724557,trade amount: 1.025364512405126331693350100, hedge count:13\n",
      "2022-09-18 17:07:00 => last hedge sell,ema:1397.8395702578255 ETH,price: 1387.752592839425489813995104,ema:1397.8395702578255, trade amoutn: 0.188096877908289739915238346, hedge count:14\n",
      "2022-09-18 17:07:00 out of range, price:1387.752592839425489813995104,ema:1397.8395702578255 symbol:6.244156029301067709211590515, usdc:0\n",
      "prepare to add LP: rate:1.20 price:1387.752592839425489813995104,ema:1397.8395702578255, self.down_price:1156.46049403285457484499592,self.up_price 1665.303111407310587776794125 \n",
      "after add LP: AccountStatus(timestamp=None, base_balance=Decimal('0.392370843877054675751229'), quote_balance=Decimal('0'), base_uncollected=Decimal('0'), quote_uncollected=Decimal('0'), base_in_position=Decimal('4843.394641754683080500225604'), quote_in_position=Decimal('3.491928020899738697875239933'), net_value=Decimal('9689.719177610816074614023632'), price=Decimal('1387.752592839425489813995104'))\n",
      "2022-09-18 17:08:00 hedge buy ETH, trade price:1384.979999798280873971457449,ema:1397.3637661508221, trade amount:1.025364512405126331693350100, hedge count:15\n",
      "2022-09-18 17:09:00 hedge buy ETH, trade price:1385.395535349005332181873386,ema:1396.9209416111546, trade amount:1.025364512405126331693350100, hedge count:16\n"
     ]
    },
    {
     "name": "stderr",
     "output_type": "stream",
     "text": [
      " 56%|███████████████████████████████████████████████████████████▊                                              | 74782/132480 [07:37<09:45, 98.58it/s]"
     ]
    },
    {
     "name": "stdout",
     "output_type": "stream",
     "text": [
      "2022-09-21 22:01:00 hedge sell ETH,trade price: 1250.434147002653293326865481,ema:1265.1257079108586,trade amount: 1.025364512405126331693350100, hedge count:17\n"
     ]
    },
    {
     "name": "stderr",
     "output_type": "stream",
     "text": [
      " 62%|█████████████████████████████████████████████████████████████████▊                                        | 82189/132480 [08:53<09:48, 85.50it/s]"
     ]
    },
    {
     "name": "stdout",
     "output_type": "stream",
     "text": [
      "2022-09-27 01:33:00 hedge buy ETH, trade price:1373.258144340421124911832427,ema:1352.2099691325902, trade amount:1.025364512405126331693350100, hedge count:18\n"
     ]
    },
    {
     "name": "stderr",
     "output_type": "stream",
     "text": [
      " 80%|███████████████████████████████████████████████████████████████████████████████████▊                     | 105762/132480 [13:40<05:39, 78.62it/s]"
     ]
    },
    {
     "name": "stdout",
     "output_type": "stream",
     "text": [
      "2022-10-13 10:30:00 hedge sell ETH,trade price: 1229.849296319444847211042833,ema:1264.9680321784538,trade amount: 1.025364512405126331693350100, hedge count:19\n"
     ]
    },
    {
     "name": "stderr",
     "output_type": "stream",
     "text": [
      " 91%|███████████████████████████████████████████████████████████████████████████████████████████████▊         | 120884/132480 [17:47<02:55, 66.26it/s]"
     ]
    },
    {
     "name": "stdout",
     "output_type": "stream",
     "text": [
      "2022-10-23 22:37:00 hedge buy ETH, trade price:1367.502842488245937011434129,ema:1352.0180005434215, trade amount:1.025364512405126331693350100, hedge count:20\n"
     ]
    },
    {
     "name": "stderr",
     "output_type": "stream",
     "text": [
      " 93%|█████████████████████████████████████████████████████████████████████████████████████████████████▊       | 123439/132480 [18:26<02:18, 65.47it/s]"
     ]
    },
    {
     "name": "stdout",
     "output_type": "stream",
     "text": [
      "2022-10-25 17:06:00 hedge buy ETH, trade price:1468.266978545235271646821559,ema:1423.9697000611684, trade amount:1.025364512405126331693350100, hedge count:21\n"
     ]
    },
    {
     "name": "stderr",
     "output_type": "stream",
     "text": [
      " 94%|██████████████████████████████████████████████████████████████████████████████████████████████████▌      | 124300/132480 [18:40<02:04, 65.61it/s]"
     ]
    },
    {
     "name": "stdout",
     "output_type": "stream",
     "text": [
      "2022-10-26 07:30:00 hedge buy ETH, trade price:1515.705776042607361151642602,ema:1499.2020278486564, trade amount:1.025364512405126331693350100, hedge count:22\n"
     ]
    },
    {
     "name": "stderr",
     "output_type": "stream",
     "text": [
      " 97%|█████████████████████████████████████████████████████████████████████████████████████████████████████▊   | 128395/132480 [19:45<01:03, 64.05it/s]"
     ]
    },
    {
     "name": "stdout",
     "output_type": "stream",
     "text": [
      "2022-10-29 03:46:00 hedge buy ETH, trade price:1587.053082650883048131393992,ema:1582.1192788869112, trade amount:1.025364512405126331693350100, hedge count:23\n"
     ]
    },
    {
     "name": "stderr",
     "output_type": "stream",
     "text": [
      "100%|████████████████████████████████████████████████████████████████████████████████████████████████████████| 132480/132480 [20:51<00:00, 105.84it/s]\n",
      "2022-12-05 01:14:06,804 - INFO - main loop finished, start calculate evaluating indicator...\n",
      "2022-12-05 01:14:07,527 - INFO - run evaluating indicator\n",
      "2022-12-05 01:14:07,601 - INFO - back testing finish\n"
     ]
    },
    {
     "name": "stdout",
     "output_type": "stream",
     "text": [
      "ema+alpha:1 times, a:1.20, hedge_spread_split:2.5, hedge_spread_rate:0.86,alpa:0.037\n",
      " result: outside_ema_count:0,hedge count:23 final_total_eth_value:7.360,final_total_usdc_value:11582.853\n",
      "USDC profit: -417.147, profit_rate: -0.035\n",
      "ETH profit: 0.206, profit_rate: 0.029\n"
     ]
    }
   ],
   "source": [
    "a = 1.20\n",
    "hedge_spread_split = 2.5\n",
    "hedge_spread_rate = 0.86\n",
    "alpha3 = 0.037\n",
    "ema_max_spread_rate2=0.2\n",
    "\n",
    "instance3=backtest_instance(a,hedge_spread_split,hedge_spread_rate,alpha3)\n",
    "\n",
    "df_merge3 = generate_dfmerge(instance3)\n",
    "\n",
    "filename = f\"{NET_VALUE_BASE}_{DATE_START}_{DATE_END}_{a}_{hedge_spread_split}_{hedge_spread_rate}_{alpha}.html\"\n",
    "# df_merge['total_value'].plot_snapshot()\n",
    "qs.reports.html(df_merge['total_value'],benchmark=df_merge['price'],mode='full',periods_per_year=365, download_filename=f\"./reports/{filename}\",output='report')\n",
    "\n",
    "# plot3 = df_merge3[['price_rate','total_value_eth_profit_rate','net_value_rate','total_value_profit_rate']].plot()\n",
    "\n",
    "# plot3.write_image(f\"./fig/{NET_VALUE_BASE}_{DATE_START}_{DATE_END}_{a}_{hedge_spread_split}_{hedge_spread_rate}_{alpha3}.png\")\n",
    "\n",
    "# plot3.show()\n",
    "filename = f\"{NET_VALUE_BASE}_{DATE_START}_{DATE_END}_{a}_{hedge_spread_split}_{hedge_spread_rate}_{alpha3}.html\"\n",
    "# df_merge['total_value'].plot_snapshot()\n",
    "qs.reports.html(df_merge3['total_value_eth'],benchmark=df_merge3['net_value_eth'],mode='full',periods_per_year=365, download_filename=f\"./reports/{filename}\",output='report')"
   ]
  },
  {
   "cell_type": "code",
   "execution_count": null,
   "metadata": {},
   "outputs": [],
   "source": []
  }
 ],
 "metadata": {
  "kernelspec": {
   "display_name": "Python 3.10.6 ('py310btc')",
   "language": "python",
   "name": "python3"
  },
  "language_info": {
   "codemirror_mode": {
    "name": "ipython",
    "version": 3
   },
   "file_extension": ".py",
   "mimetype": "text/x-python",
   "name": "python",
   "nbconvert_exporter": "python",
   "pygments_lexer": "ipython3",
   "version": "3.10.6"
  },
  "orig_nbformat": 4,
  "vscode": {
   "interpreter": {
    "hash": "abcf340a9bfefc31ecafadbd09739eb19479e953f794e77621cd271022fdffd8"
   }
  }
 },
 "nbformat": 4,
 "nbformat_minor": 2
}
