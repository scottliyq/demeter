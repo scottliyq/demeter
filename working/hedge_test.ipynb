{
 "cells": [
  {
   "cell_type": "code",
   "execution_count": 5,
   "metadata": {},
   "outputs": [],
   "source": [
    "from hedge_stand import HedgeST,HedgeSTBoll\n",
    "from datetime import date, datetime\n",
    "from demeter import TokenInfo, PoolBaseInfo, Actuator, Strategy, Asset, AccountStatus, BuyAction, SellAction, RowData, \\\n",
    "    ChainType\n",
    "import optunity\n",
    "import optunity.metrics\n",
    "from decimal import Decimal\n",
    "import pandas as pd\n",
    "import  matplotlib.pylab as plt\n",
    "# import logging \n",
    "# from logging import handlers\n",
    "from load_data import pool_id_1_eth_u_500\n",
    "\n",
    "from strategy_ploter import  plot_position_return_decomposition\n",
    "\n",
    "%matplotlib inline\n",
    "\n",
    "def backtest_boll(a, hedge_spread_split,hedge_spread_rate,alpha,boll_period_n):\n",
    "    # global RUNNING_TIME\n",
    "    # print(f\"==================spread running time {RUNNING_TIME}==================\")\n",
    "\n",
    "    decimal_a = Decimal(a).quantize(Decimal('0.00'))\n",
    "    decimal_hedge_spread_split = Decimal(hedge_spread_split).quantize(Decimal('0.0'))\n",
    "    decimal_hedge_spread_rate = Decimal(hedge_spread_rate).quantize(Decimal('0.00'))\n",
    "\n",
    "    ema_max_spread_rate = round(0.2,4)\n",
    "\n",
    "    eth = TokenInfo(name=\"eth\", decimal=18)\n",
    "    usdc = TokenInfo(name=\"usdc\", decimal=6)\n",
    "    pool = PoolBaseInfo(usdc, eth, 0.05, usdc)\n",
    "\n",
    "    #收益计算基础参数\n",
    "    # net_value_base = 'ETH'\n",
    "\n",
    "    runner_instance = Actuator(pool)\n",
    "    # runner_instance.enable_notify = False\n",
    "    runner_instance.strategy = HedgeSTBoll(a=decimal_a,hedge_spread_split = decimal_hedge_spread_split,hedge_spread_rate=decimal_hedge_spread_rate,alpha=alpha,ema_max_spread_rate=ema_max_spread_rate,period_n=int(boll_period_n))\n",
    "    runner_instance.set_assets([Asset(usdc, 10000)])\n",
    "    save_path = f\"../demeter/data/ETH/{pool_id_1_eth_u_500}\"\n",
    "    runner_instance.data_path = save_path\n",
    "    runner_instance.load_data(ChainType.Ethereum.name,\n",
    "                                pool_id_1_eth_u_500,\n",
    "                                DATE_START,\n",
    "                               DATE_END)\n",
    "    runner_instance.run(enable_notify=False)\n",
    "\n",
    "    hedge_count = runner_instance.strategy.hedge_count\n",
    "    outside_ema_count = runner_instance.strategy.outside_ema_count\n",
    "\n",
    "    # df_status = pd.DataFrame(runner_instance.account_status_list)\n",
    "\n",
    "    total_net_value = runner_instance.final_status.net_value\n",
    "    \n",
    "    final_total_usdc_value = round(total_net_value + runner_instance.strategy.e.df['total'].iloc[-1],3)\n",
    "    \n",
    "    final_price = runner_instance.final_status.price\n",
    "\n",
    "    final_total_eth_value = round(final_total_usdc_value / final_price,3)\n",
    "\n",
    "    notice = f\"ema+alpha:{RUNNING_TIME} times, a:{decimal_a}, hedge_spread_split:{decimal_hedge_spread_split}, hedge_spread_rate:{decimal_hedge_spread_rate},alpa:{alpha}\"\n",
    "    result =f\" result: outside_ema_count:{outside_ema_count},hedge count:{hedge_count} final_total_eth_value:{final_total_eth_value},final_total_usdc_value:{final_total_usdc_value}\"  \n",
    "    print(notice)\n",
    "    print(result)\n",
    "    # if SEND_NOTICE:\n",
    "    #     send_notice('CEX_Notify',notice)\n",
    "\n",
    "    # RUNNING_TIME +=1\n",
    "\n",
    "    # if NET_VALUE_BASE == 'USDC':\n",
    "    #     print(final_total_usdc_value)\n",
    "    #     return float(final_total_usdc_value)\n",
    "    #     # profit_rate_usdc = profit_usdc / runner_instance.strategy.init_total_usdc\n",
    "    # else:\n",
    "    #     print(float(final_total_usdc_value / final_price))\n",
    "    #     return float(final_total_usdc_value / final_price)\n",
    "\n",
    "\n",
    "    return runner_instance\n",
    "\n",
    "\n",
    "def backtest_instance(a, hedge_spread_split,hedge_spread_rate,alpha):\n",
    "    # global RUNNING_TIME\n",
    "    # print(f\"==================spread running time {RUNNING_TIME}==================\")\n",
    "\n",
    "    decimal_a = Decimal(a).quantize(Decimal('0.00'))\n",
    "    decimal_hedge_spread_split = Decimal(hedge_spread_split).quantize(Decimal('0.0'))\n",
    "    decimal_hedge_spread_rate = Decimal(hedge_spread_rate).quantize(Decimal('0.00'))\n",
    "\n",
    "    alpha = round(alpha,4)\n",
    "    # ema_max_spread_rate = round(ema_max_spread_rate,4)\n",
    "\n",
    "    eth = TokenInfo(name=\"eth\", decimal=18)\n",
    "    usdc = TokenInfo(name=\"usdc\", decimal=6)\n",
    "    pool = PoolBaseInfo(usdc, eth, 0.05, usdc)\n",
    "\n",
    "    #收益计算基础参数\n",
    "    # net_value_base = 'ETH'\n",
    "\n",
    "    runner_instance = Actuator(pool)\n",
    "    # runner_instance.enable_notify = False\n",
    "    runner_instance.strategy = HedgeST(decimal_a,decimal_hedge_spread_split,decimal_hedge_spread_rate,alpha)\n",
    "    runner_instance.set_assets([Asset(usdc, 10000)])\n",
    "    save_path = f\"../demeter/data/ETH/{pool_id_1_eth_u_500}\"\n",
    "    runner_instance.data_path = save_path\n",
    "    runner_instance.load_data(ChainType.Ethereum.name,\n",
    "                                pool_id_1_eth_u_500,\n",
    "                                DATE_START,\n",
    "                               DATE_END)\n",
    "    runner_instance.run(enable_notify=False)\n",
    "\n",
    "    hedge_count = runner_instance.strategy.hedge_count\n",
    "    outside_ema_count = runner_instance.strategy.outside_ema_count\n",
    "\n",
    "    # df_status = pd.DataFrame(runner_instance.account_status_list)\n",
    "\n",
    "    total_net_value = runner_instance.final_status.net_value\n",
    "    \n",
    "    final_total_usdc_value = round(total_net_value + runner_instance.strategy.e.df['total'].iloc[-1],3)\n",
    "    \n",
    "    final_price = runner_instance.final_status.price\n",
    "\n",
    "    final_total_eth_value = round(final_total_usdc_value / final_price,3)\n",
    "\n",
    "    notice = f\"ema+alpha:{RUNNING_TIME} times, a:{decimal_a}, hedge_spread_split:{decimal_hedge_spread_split}, hedge_spread_rate:{decimal_hedge_spread_rate},alpa:{alpha}\"\n",
    "    result =f\" result: outside_ema_count:{outside_ema_count},hedge count:{hedge_count} final_total_eth_value:{final_total_eth_value},final_total_usdc_value:{final_total_usdc_value}\"  \n",
    "    print(notice)\n",
    "    print(result)\n",
    "    # if SEND_NOTICE:\n",
    "    #     send_notice('CEX_Notify',notice)\n",
    "\n",
    "    # RUNNING_TIME +=1\n",
    "\n",
    "    # if NET_VALUE_BASE == 'USDC':\n",
    "    #     print(final_total_usdc_value)\n",
    "    #     return float(final_total_usdc_value)\n",
    "    #     # profit_rate_usdc = profit_usdc / runner_instance.strategy.init_total_usdc\n",
    "    # else:\n",
    "    #     print(float(final_total_usdc_value / final_price))\n",
    "    #     return float(final_total_usdc_value / final_price)\n",
    "\n",
    "\n",
    "    return runner_instance\n",
    "\n",
    "\n",
    "\n"
   ]
  },
  {
   "cell_type": "code",
   "execution_count": 6,
   "metadata": {},
   "outputs": [],
   "source": [
    "\n",
    "def generate_dfmerge(runner_instance):\n",
    "    e = runner_instance.strategy.e\n",
    "\n",
    "    total_net_value = runner_instance.final_status.net_value\n",
    "        \n",
    "    final_total_usdc_value = total_net_value + runner_instance.strategy.e.df['total'].iloc[-1]\n",
    "\n",
    "\n",
    "    final_price = runner_instance.final_status.price\n",
    "    # if net_value_base == 'USDC':\n",
    "    profit_usdc = round(final_total_usdc_value- runner_instance.strategy.init_total_usdc,3)\n",
    "    profit_rate_usdc = round(profit_usdc / runner_instance.strategy.init_total_usdc,3)\n",
    "    # else:\n",
    "    profit_eth = round(final_total_usdc_value/final_price - runner_instance.strategy.init_total_symbol,3)\n",
    "    profit_rate_eth = round(profit_eth / runner_instance.strategy.init_total_symbol,3)\n",
    "\n",
    "    print(f\"USDC profit: {profit_usdc}, profit_rate: {profit_rate_usdc}\")\n",
    "\n",
    "    print(f\"ETH profit: {profit_eth}, profit_rate: {profit_rate_eth}\")\n",
    "\n",
    "    df_status = pd.DataFrame(runner_instance.account_status_list)\n",
    "    df_merge = pd.merge(e.df, df_status, on='timestamp', how='inner')\n",
    "\n",
    "    df_merge['total_value'] = df_merge['total'] + df_merge['net_value']\n",
    "\n",
    "    df_merge.set_index('timestamp', inplace=True)\n",
    "\n",
    "    df_merge['total_value_profit_rate'] = df_merge['total_value'] / runner_instance.strategy.init_total_usdc\n",
    "\n",
    "\n",
    "    df_merge['total_value_eth'] = df_merge['total_value'] / df_merge['price']\n",
    "\n",
    "    df_merge['total_value_eth_profit_rate'] = df_merge['total_value_eth'] / runner_instance.strategy.init_total_symbol\n",
    "\n",
    "    df_merge_f = df_merge.apply(pd.to_numeric, downcast='float')\n",
    "   \n",
    "    df_merge_f['net_value_rate'] = df_merge_f['net_value'] / df_merge_f['net_value'].iloc[0]\n",
    "\n",
    "    df_merge_f['price_rate'] = df_merge_f['price'] / df_merge_f['price'].iloc[0]\n",
    "    return df_merge_f"
   ]
  },
  {
   "cell_type": "code",
   "execution_count": 7,
   "metadata": {},
   "outputs": [],
   "source": [
    "pd.options.plotting.backend = \"plotly\"\n",
    "\n",
    "CHAIN_ID = 'ETH'\n",
    "NET_VALUE_BASE = 'ETH'\n",
    "RUNNING_TIME = 1\n",
    "SEND_NOTICE = False\n",
    "str_date_start = '2022-8-1'\n",
    "str_date_end = '2022-10-31'\n",
    "\n",
    "DATE_START = datetime.strptime(str_date_start, \"%Y-%m-%d\").date()\n",
    "\n",
    "DATE_END = datetime.strptime(str_date_end, \"%Y-%m-%d\").date()"
   ]
  },
  {
   "cell_type": "markdown",
   "metadata": {},
   "source": [
    "# A1 test"
   ]
  },
  {
   "cell_type": "code",
   "execution_count": 8,
   "metadata": {},
   "outputs": [
    {
     "name": "stderr",
     "output_type": "stream",
     "text": [
      "2022-12-01 21:56:58,364 - INFO - start load files from 2022-08-01 to 2022-10-31...\n"
     ]
    },
    {
     "name": "stdout",
     "output_type": "stream",
     "text": [
      "init parameters: a:1.21, hedge_spread_split:2.6, hedge_spread_rate:0.86,alpa:-1,period_n:9\n",
      "\n"
     ]
    },
    {
     "name": "stderr",
     "output_type": "stream",
     "text": [
      "2022-12-01 21:57:05,362 - INFO - load file complete, preparing...\n",
      "2022-12-01 21:57:35,078 - INFO - data has benn prepared\n",
      "2022-12-01 21:57:35,080 - INFO - init strategy...\n"
     ]
    },
    {
     "name": "stdout",
     "output_type": "stream",
     "text": [
      "add ema column with alpha 0.05\n",
      "132480\n"
     ]
    },
    {
     "name": "stderr",
     "output_type": "stream",
     "text": [
      "2022-12-01 21:57:41,742 - INFO - start main loop...\n"
     ]
    },
    {
     "name": "stdout",
     "output_type": "stream",
     "text": [
      "hedge rebalance ETH -2.979965614177398974216301868 1677.452241803761193671000796 profit: 0E-51\n",
      "after rebalance=> lp total symbol:5.959931228354797948432603737, future amount:2.979965614177398974216301868, status:AccountStatus(timestamp=None, base_balance=Decimal('4997.500000000000000000000001'), quote_balance=Decimal('2.980710791875367816170344454'), base_uncollected=Decimal('0'), quote_uncollected=Decimal('0'), base_in_position=Decimal('0'), quote_in_position=Decimal('0'), net_value=Decimal('9997.500000000000000000000000'), price=Decimal('1677.452241803761193671000796'))\n",
      "prepare to add LP: rate:1.21 price:1677.452241803761193671000796 down:1386.324166779967928653719666 up:2029.717212582551044341910963 init symbol amount:7.153705900500882824993901707,init usdc amount:12000.00000000000011102230246\n",
      "eth_value 0 usdc value 0\n"
     ]
    },
    {
     "name": "stderr",
     "output_type": "stream",
     "text": [
      "  0%|                                                                                                            | 8/132480 [00:01<6:01:23,  6.11it/s]"
     ]
    },
    {
     "name": "stdout",
     "output_type": "stream",
     "text": [
      "spread:-0.000744565704938631788859322, future2.979965614177398974216301868, lp total:5.959931228354797948432603737\n",
      "spread:0.013544635160060861493323444, future2.979965614177398974216301868, lp total:5.959931228354797948432603737\n",
      "spread:0.011981907990229264165287855, future2.979965614177398974216301868, lp total:5.959931228354797948432603737\n",
      "spread:0.008111602254120175411864880, future2.979965614177398974216301868, lp total:5.959931228354797948432603737\n",
      "spread:0.007602870244568464393865821, future2.979965614177398974216301868, lp total:5.959931228354797948432603737\n",
      "spread:0.006027824280239062546980085, future2.979965614177398974216301868, lp total:5.959931228354797948432603737\n",
      "spread:0.004634137865314926361945699, future2.979965614177398974216301868, lp total:5.959931228354797948432603737\n",
      "spread:0.003105354407549846373321459, future2.979965614177398974216301868, lp total:5.959931228354797948432603737\n"
     ]
    },
    {
     "name": "stderr",
     "output_type": "stream",
     "text": [
      "  0%|                                                                                                           | 12/132480 [00:02<4:27:51,  8.24it/s]"
     ]
    },
    {
     "name": "stdout",
     "output_type": "stream",
     "text": [
      "spread:0.001255946619169901697763676, future2.979965614177398974216301868, lp total:5.959931228354797948432603737\n",
      "spread:0.001006689686471669158959463, future2.979965614177398974216301868, lp total:5.959931228354797948432603737\n",
      "spread:0.001563735214263878821227976, future2.979965614177398974216301868, lp total:5.959931228354797948432603737\n",
      "spread:0.003452485312948800851822920, future2.979965614177398974216301868, lp total:5.959931228354797948432603737\n",
      "spread:0.003863066503995677563344086, future2.979965614177398974216301868, lp total:5.959931228354797948432603737\n",
      "spread:0.004053063644682069756733125, future2.979965614177398974216301868, lp total:5.959931228354797948432603737\n",
      "spread:0.003606203597036019208226974, future2.979965614177398974216301868, lp total:5.959931228354797948432603737\n",
      "spread:0.004681314145279158188732952, future2.979965614177398974216301868, lp total:5.959931228354797948432603737\n",
      "spread:0.004637487644916653727402979, future2.979965614177398974216301868, lp total:5.959931228354797948432603737\n",
      "spread:0.004055293987923088072551280, future2.979965614177398974216301868, lp total:5.959931228354797948432603737\n"
     ]
    },
    {
     "name": "stderr",
     "output_type": "stream",
     "text": [
      "  0%|                                                                                                           | 30/132480 [00:02<1:35:48, 23.04it/s]"
     ]
    },
    {
     "name": "stdout",
     "output_type": "stream",
     "text": [
      "spread:0.003275360281887919598344486, future2.979965614177398974216301868, lp total:5.959931228354797948432603737\n",
      "spread:0.002451465645686523889265081, future2.979965614177398974216301868, lp total:5.959931228354797948432603737\n",
      "spread:0.002084955433810258328701767, future2.979965614177398974216301868, lp total:5.959931228354797948432603737\n",
      "spread:0.001149461336817775435372452, future2.979965614177398974216301868, lp total:5.959931228354797948432603737\n",
      "spread:0.000421496134828816492709167, future2.979965614177398974216301868, lp total:5.959931228354797948432603737\n",
      "spread:-0.000354960584516547106773528, future2.979965614177398974216301868, lp total:5.959931228354797948432603737\n",
      "spread:0.000412033515906843598691722, future2.979965614177398974216301868, lp total:5.959931228354797948432603737\n",
      "spread:0.002448946677207675421644181, future2.979965614177398974216301868, lp total:5.959931228354797948432603737\n",
      "spread:0.005408924390476472409989585, future2.979965614177398974216301868, lp total:5.959931228354797948432603737\n",
      "spread:0.009742428369779814260621782, future2.979965614177398974216301868, lp total:5.959931228354797948432603737\n",
      "spread:0.014471407924167943615140981, future2.979965614177398974216301868, lp total:5.959931228354797948432603737\n",
      "spread:0.018829481058928314354748470, future2.979965614177398974216301868, lp total:5.959931228354797948432603737\n",
      "spread:0.023576357181352757492044366, future2.979965614177398974216301868, lp total:5.959931228354797948432603737\n"
     ]
    },
    {
     "name": "stderr",
     "output_type": "stream",
     "text": [
      "  0%|                                                                                                             | 45/132480 [00:02<57:37, 38.30it/s]"
     ]
    },
    {
     "name": "stdout",
     "output_type": "stream",
     "text": [
      "spread:0.029497218400582973011512996, future2.979965614177398974216301868, lp total:5.959931228354797948432603737\n",
      "spread:0.033974369924177812455236898, future2.979965614177398974216301868, lp total:5.959931228354797948432603737\n",
      "spread:0.037332411452369634875814339, future2.979965614177398974216301868, lp total:5.959931228354797948432603737\n",
      "spread:0.039469182398787051219306976, future2.979965614177398974216301868, lp total:5.959931228354797948432603737\n",
      "spread:0.040776435255857852182063089, future2.979965614177398974216301868, lp total:5.959931228354797948432603737\n",
      "spread:0.041994528631634657905772924, future2.979965614177398974216301868, lp total:5.959931228354797948432603737\n",
      "spread:0.043799694462740938507422818, future2.979965614177398974216301868, lp total:5.959931228354797948432603737\n",
      "spread:0.045769728111698426754475956, future2.979965614177398974216301868, lp total:5.959931228354797948432603737\n",
      "spread:0.048081501563109802430161435, future2.979965614177398974216301868, lp total:5.959931228354797948432603737\n",
      "spread:0.050898186947720520895371609, future2.979965614177398974216301868, lp total:5.959931228354797948432603737\n",
      "spread:0.053906647467886437226144714, future2.979965614177398974216301868, lp total:5.959931228354797948432603737\n",
      "spread:0.056817890108713854367984470, future2.979965614177398974216301868, lp total:5.959931228354797948432603737\n",
      "spread:0.059547933000601893802846485, future2.979965614177398974216301868, lp total:5.959931228354797948432603737\n",
      "spread:0.061654759483240990646247022, future2.979965614177398974216301868, lp total:5.959931228354797948432603737\n",
      "spread:0.063542826762724240323366075, future2.979965614177398974216301868, lp total:5.959931228354797948432603737\n",
      "spread:0.065677159179237587882505024, future2.979965614177398974216301868, lp total:5.959931228354797948432603737\n"
     ]
    },
    {
     "name": "stderr",
     "output_type": "stream",
     "text": [
      "  0%|                                                                                                             | 51/132480 [00:02<55:05, 40.06it/s]"
     ]
    },
    {
     "name": "stdout",
     "output_type": "stream",
     "text": [
      "spread:0.068042348156889566684862678, future2.979965614177398974216301868, lp total:5.959931228354797948432603737\n",
      "spread:0.070178244400536136048419723, future2.979965614177398974216301868, lp total:5.959931228354797948432603737\n",
      "spread:0.072188690306936388408275490, future2.979965614177398974216301868, lp total:5.959931228354797948432603737\n",
      "spread:0.074170382576549289549387411, future2.979965614177398974216301868, lp total:5.959931228354797948432603737\n",
      "spread:0.076125508701664946458015344, future2.979965614177398974216301868, lp total:5.959931228354797948432603737\n",
      "spread:0.078056076603583861974989235, future2.979965614177398974216301868, lp total:5.959931228354797948432603737\n",
      "spread:0.079876554849553368739446567, future2.979965614177398974216301868, lp total:5.959931228354797948432603737\n"
     ]
    },
    {
     "name": "stderr",
     "output_type": "stream",
     "text": [
      "  0%|                                                                                                             | 63/132480 [00:03<57:47, 38.19it/s]"
     ]
    },
    {
     "name": "stdout",
     "output_type": "stream",
     "text": [
      "spread:0.081855141118936692806395505, future2.979965614177398974216301868, lp total:5.959931228354797948432603737\n",
      "spread:0.084069566256420378809110343, future2.979965614177398974216301868, lp total:5.959931228354797948432603737\n",
      "spread:0.086159951727646520013036732, future2.979965614177398974216301868, lp total:5.959931228354797948432603737\n",
      "spread:0.087875053367514243237528956, future2.979965614177398974216301868, lp total:5.959931228354797948432603737\n",
      "spread:0.088893171087671675466253565, future2.979965614177398974216301868, lp total:5.959931228354797948432603737\n",
      "spread:0.089855249126532887697402656, future2.979965614177398974216301868, lp total:5.959931228354797948432603737\n",
      "spread:0.090764625900612538407644109, future2.979965614177398974216301868, lp total:5.959931228354797948432603737\n",
      "spread:0.091197854345653152905723364, future2.979965614177398974216301868, lp total:5.959931228354797948432603737\n",
      "spread:0.090671899801411724155478958, future2.979965614177398974216301868, lp total:5.959931228354797948432603737\n",
      "spread:0.090174324118232058175957953, future2.979965614177398974216301868, lp total:5.959931228354797948432603737\n",
      "spread:0.090127023907620449837815895, future2.979965614177398974216301868, lp total:5.959931228354797948432603737\n",
      "spread:0.090166832128668204740306197, future2.979965614177398974216301868, lp total:5.959931228354797948432603737\n",
      "spread:0.090120088804650189521789087, future2.979965614177398974216301868, lp total:5.959931228354797948432603737\n",
      "spread:0.089401830044366158616850763, future2.979965614177398974216301868, lp total:5.959931228354797948432603737\n"
     ]
    },
    {
     "name": "stderr",
     "output_type": "stream",
     "text": [
      "  0%|                                                                                                             | 69/132480 [00:03<52:47, 41.81it/s]"
     ]
    },
    {
     "name": "stdout",
     "output_type": "stream",
     "text": [
      "spread:0.090068111730514104483550080, future2.979965614177398974216301868, lp total:5.959931228354797948432603737\n",
      "spread:0.090699102045806968939410667, future2.979965614177398974216301868, lp total:5.959931228354797948432603737\n",
      "spread:0.091296766487256475925799663, future2.979965614177398974216301868, lp total:5.959931228354797948432603737\n",
      "spread:0.092030656631577848000065493, future2.979965614177398974216301868, lp total:5.959931228354797948432603737\n",
      "spread:0.093061036301510875859793954, future2.979965614177398974216301868, lp total:5.959931228354797948432603737\n",
      "spread:0.094121050577872672596673730, future2.979965614177398974216301868, lp total:5.959931228354797948432603737\n"
     ]
    },
    {
     "name": "stderr",
     "output_type": "stream",
     "text": [
      "  0%|                                                                                                             | 80/132480 [00:03<58:12, 37.91it/s]"
     ]
    },
    {
     "name": "stdout",
     "output_type": "stream",
     "text": [
      "spread:0.093956314614642095835528341, future2.979965614177398974216301868, lp total:5.959931228354797948432603737\n",
      "spread:0.094133730382131260946044777, future2.979965614177398974216301868, lp total:5.959931228354797948432603737\n",
      "spread:0.094301915059980606772959229, future2.979965614177398974216301868, lp total:5.959931228354797948432603737\n",
      "spread:0.094461366347886130824247349, future2.979965614177398974216301868, lp total:5.959931228354797948432603737\n",
      "spread:0.096193944376080313253415792, future2.979965614177398974216301868, lp total:5.959931228354797948432603737\n",
      "spread:0.098835822155762811208161111, future2.979965614177398974216301868, lp total:5.959931228354797948432603737\n",
      "spread:0.101423917349720494838322530, future2.979965614177398974216301868, lp total:5.959931228354797948432603737\n",
      "spread:0.103878020644806627302182599, future2.979965614177398974216301868, lp total:5.959931228354797948432603737\n"
     ]
    },
    {
     "name": "stderr",
     "output_type": "stream",
     "text": [
      "  0%|                                                                                                           | 85/132480 [00:03<1:04:13, 34.36it/s]"
     ]
    },
    {
     "name": "stdout",
     "output_type": "stream",
     "text": [
      "spread:0.106205290189922323108285749, future2.979965614177398974216301868, lp total:5.959931228354797948432603737\n",
      "spread:0.108080593816511297136209527, future2.979965614177398974216301868, lp total:5.959931228354797948432603737\n",
      "spread:0.110025129952174205102470143, future2.979965614177398974216301868, lp total:5.959931228354797948432603737\n",
      "spread:0.112615479778887277149318114, future2.979965614177398974216301868, lp total:5.959931228354797948432603737\n",
      "spread:0.115321174237461905832211826, future2.979965614177398974216301868, lp total:5.959931228354797948432603737\n",
      "spread:0.118550436621302007980172351, future2.979965614177398974216301868, lp total:5.959931228354797948432603737\n",
      "spread:0.122442049373849794425352338, future2.979965614177398974216301868, lp total:5.959931228354797948432603737\n",
      "spread:0.126299391887102802765642442, future2.979965614177398974216301868, lp total:5.959931228354797948432603737\n",
      "spread:0.129793401833753954381955777, future2.979965614177398974216301868, lp total:5.959931228354797948432603737\n",
      "spread:0.133108444963364412116580253, future2.979965614177398974216301868, lp total:5.959931228354797948432603737\n",
      "spread:0.135428369034705264440362427, future2.979965614177398974216301868, lp total:5.959931228354797948432603737\n"
     ]
    },
    {
     "name": "stderr",
     "output_type": "stream",
     "text": [
      "  0%|                                                                                                             | 99/132480 [00:04<52:18, 42.18it/s]"
     ]
    },
    {
     "name": "stdout",
     "output_type": "stream",
     "text": [
      "spread:0.137629906165889735284792466, future2.979965614177398974216301868, lp total:5.959931228354797948432603737\n",
      "spread:0.139307242415426389127945190, future2.979965614177398974216301868, lp total:5.959931228354797948432603737\n",
      "spread:0.140569948479152390337197790, future2.979965614177398974216301868, lp total:5.959931228354797948432603737\n",
      "spread:0.143003261059443456465771351, future2.979965614177398974216301868, lp total:5.959931228354797948432603737\n",
      "spread:0.145312755351437174430471136, future2.979965614177398974216301868, lp total:5.959931228354797948432603737\n",
      "spread:0.147422552845585007677081008, future2.979965614177398974216301868, lp total:5.959931228354797948432603737\n",
      "spread:0.149754201938475791715619912, future2.979965614177398974216301868, lp total:5.959931228354797948432603737\n",
      "spread:0.150899151108169181997975462, future2.979965614177398974216301868, lp total:5.959931228354797948432603737\n",
      "spread:0.152889627925969886785441525, future2.979965614177398974216301868, lp total:5.959931228354797948432603737\n",
      "spread:0.155190013505761252260689111, future2.979965614177398974216301868, lp total:5.959931228354797948432603737\n"
     ]
    },
    {
     "name": "stderr",
     "output_type": "stream",
     "text": [
      "  0%|                                                                                                            | 113/132480 [00:04<41:46, 52.80it/s]"
     ]
    },
    {
     "name": "stdout",
     "output_type": "stream",
     "text": [
      "spread:0.156224514250824265882355815, future2.979965614177398974216301868, lp total:5.959931228354797948432603737\n",
      "spread:0.157698909179776481941708381, future2.979965614177398974216301868, lp total:5.959931228354797948432603737\n",
      "spread:0.159098737883871176224157202, future2.979965614177398974216301868, lp total:5.959931228354797948432603737\n",
      "spread:0.160345817151357750152170789, future2.979965614177398974216301868, lp total:5.959931228354797948432603737\n",
      "spread:0.161529905353419622781533036, future2.979965614177398974216301868, lp total:5.959931228354797948432603737\n",
      "spread:0.161507791637516325351826660, future2.979965614177398974216301868, lp total:5.959931228354797948432603737\n",
      "spread:0.161486791639633407329137419, future2.979965614177398974216301868, lp total:5.959931228354797948432603737\n",
      "spread:0.161221468522289747991900063, future2.979965614177398974216301868, lp total:5.959931228354797948432603737\n",
      "spread:0.161460250236521868506995260, future2.979965614177398974216301868, lp total:5.959931228354797948432603737\n",
      "spread:0.161932449556624873066068490, future2.979965614177398974216301868, lp total:5.959931228354797948432603737\n",
      "spread:0.162380879591833313911485475, future2.979965614177398974216301868, lp total:5.959931228354797948432603737\n",
      "spread:0.162970344626172811911177027, future2.979965614177398974216301868, lp total:5.959931228354797948432603737\n",
      "spread:0.163284806166548333214925886, future2.979965614177398974216301868, lp total:5.959931228354797948432603737\n",
      "spread:0.163256490210866081241615403, future2.979965614177398974216301868, lp total:5.959931228354797948432603737\n",
      "spread:0.163883570086209889282807994, future2.979965614177398974216301868, lp total:5.959931228354797948432603737\n",
      "spread:0.164479118369043689523769710, future2.979965614177398974216301868, lp total:5.959931228354797948432603737\n",
      "spread:0.165944429648934990978438022, future2.979965614177398974216301868, lp total:5.959931228354797948432603737\n"
     ]
    },
    {
     "name": "stderr",
     "output_type": "stream",
     "text": [
      "  0%|                                                                                                            | 126/132480 [00:04<40:16, 54.76it/s]"
     ]
    },
    {
     "name": "stdout",
     "output_type": "stream",
     "text": [
      "spread:0.167172376987775220061362272, future2.979965614177398974216301868, lp total:5.959931228354797948432603737\n",
      "spread:0.169402351869795887791616073, future2.979965614177398974216301868, lp total:5.959931228354797948432603737\n",
      "spread:0.172994618085368870685711584, future2.979965614177398974216301868, lp total:5.959931228354797948432603737\n",
      "spread:0.175995833432999598984893116, future2.979965614177398974216301868, lp total:5.959931228354797948432603737\n",
      "spread:0.178845713960720141489843058, future2.979965614177398974216301868, lp total:5.959931228354797948432603737\n",
      "spread:0.181715697235841162947542642, future2.979965614177398974216301868, lp total:5.959931228354797948432603737\n",
      "spread:0.182478735236659212613464125, future2.979965614177398974216301868, lp total:5.959931228354797948432603737\n",
      "spread:0.183203461290583124544877047, future2.979965614177398974216301868, lp total:5.959931228354797948432603737\n",
      "spread:0.183320444002490757417826922, future2.979965614177398974216301868, lp total:5.959931228354797948432603737\n"
     ]
    },
    {
     "name": "stderr",
     "output_type": "stream",
     "text": [
      "  0%|                                                                                                            | 137/132480 [00:04<51:09, 43.12it/s]"
     ]
    },
    {
     "name": "stdout",
     "output_type": "stream",
     "text": [
      "spread:0.183186823534565084483672023, future2.979965614177398974216301868, lp total:5.959931228354797948432603737\n",
      "spread:0.182978339268040631619412920, future2.979965614177398974216301868, lp total:5.959931228354797948432603737\n",
      "spread:0.182291119849938550355269675, future2.979965614177398974216301868, lp total:5.959931228354797948432603737\n",
      "spread:0.182045930501775225463110469, future2.979965614177398974216301868, lp total:5.959931228354797948432603737\n",
      "spread:0.182547210847735418631649668, future2.979965614177398974216301868, lp total:5.959931228354797948432603737\n",
      "spread:0.183431463158876989313927580, future2.979965614177398974216301868, lp total:5.959931228354797948432603737\n",
      "spread:0.184271351351911248287091991, future2.979965614177398974216301868, lp total:5.959931228354797948432603737\n",
      "spread:0.185069108441090554159890980, future2.979965614177398974216301868, lp total:5.959931228354797948432603737\n",
      "spread:0.186316656367096625461851101, future2.979965614177398974216301868, lp total:5.959931228354797948432603737\n",
      "spread:0.187093466108941311204676718, future2.979965614177398974216301868, lp total:5.959931228354797948432603737\n",
      "spread:0.187831323214189665501733679, future2.979965614177398974216301868, lp total:5.959931228354797948432603737\n",
      "spread:0.188287453097268734673806784, future2.979965614177398974216301868, lp total:5.959931228354797948432603737\n",
      "spread:0.188476079906131239951912035, future2.979965614177398974216301868, lp total:5.959931228354797948432603737\n",
      "spread:0.188573730042156771784255563, future2.979965614177398974216301868, lp total:5.959931228354797948432603737\n",
      "spread:0.188666490643625791137716245, future2.979965614177398974216301868, lp total:5.959931228354797948432603737\n"
     ]
    },
    {
     "name": "stderr",
     "output_type": "stream",
     "text": [
      "  0%|                                                                                                            | 145/132480 [00:04<42:48, 51.52it/s]"
     ]
    },
    {
     "name": "stdout",
     "output_type": "stream",
     "text": [
      "spread:0.188510082761935316076115122, future2.979965614177398974216301868, lp total:5.959931228354797948432603737\n"
     ]
    },
    {
     "name": "stderr",
     "output_type": "stream",
     "text": [
      "  0%|                                                                                                          | 151/132480 [00:05<1:03:57, 34.48it/s]"
     ]
    },
    {
     "name": "stdout",
     "output_type": "stream",
     "text": [
      "spread:0.188280010496604697965684103, future2.979965614177398974216301868, lp total:5.959931228354797948432603737\n",
      "spread:0.188387459250731199806974532, future2.979965614177398974216301868, lp total:5.959931228354797948432603737\n",
      "spread:0.188489529013534351294014474, future2.979965614177398974216301868, lp total:5.959931228354797948432603737\n",
      "spread:0.188586489374114396427820895, future2.979965614177398974216301868, lp total:5.959931228354797948432603737\n",
      "spread:0.189086235899236599328421196, future2.979965614177398974216301868, lp total:5.959931228354797948432603737\n",
      "spread:0.189479414033518062572015529, future2.979965614177398974216301868, lp total:5.959931228354797948432603737\n",
      "spread:0.189852903482698647538709534, future2.979965614177398974216301868, lp total:5.959931228354797948432603737\n",
      "spread:0.189963150860364637401553136, future2.979965614177398974216301868, lp total:5.959931228354797948432603737\n",
      "spread:0.189986384512381945195618991, future2.979965614177398974216301868, lp total:5.959931228354797948432603737\n"
     ]
    },
    {
     "name": "stderr",
     "output_type": "stream",
     "text": [
      "  0%|▏                                                                                                           | 164/132480 [00:05<56:57, 38.72it/s]"
     ]
    },
    {
     "name": "stdout",
     "output_type": "stream",
     "text": [
      "spread:0.190171452017468149799942721, future2.979965614177398974216301868, lp total:5.959931228354797948432603737\n",
      "spread:0.190347256864140648013460875, future2.979965614177398974216301868, lp total:5.959931228354797948432603737\n",
      "spread:0.189373996282709644975533635, future2.979965614177398974216301868, lp total:5.959931228354797948432603737\n",
      "spread:0.188693583650836968305523842, future2.979965614177398974216301868, lp total:5.959931228354797948432603737\n",
      "spread:0.187884333801376660868485402, future2.979965614177398974216301868, lp total:5.959931228354797948432603737\n",
      "spread:0.186789908401043608335403431, future2.979965614177398974216301868, lp total:5.959931228354797948432603737\n",
      "spread:0.185750131247463663161087726, future2.979965614177398974216301868, lp total:5.959931228354797948432603737\n",
      "spread:0.184762277039823610430112559, future2.979965614177398974216301868, lp total:5.959931228354797948432603737\n",
      "spread:0.182928754134631949471089078, future2.979965614177398974216301868, lp total:5.959931228354797948432603737\n",
      "spread:0.181186662535832616022990040, future2.979965614177398974216301868, lp total:5.959931228354797948432603737\n",
      "spread:0.179694161544637631764804325, future2.979965614177398974216301868, lp total:5.959931228354797948432603737\n",
      "spread:0.178276126406280024086196831, future2.979965614177398974216301868, lp total:5.959931228354797948432603737\n",
      "spread:0.177010233170085971899153456, future2.979965614177398974216301868, lp total:5.959931228354797948432603737\n"
     ]
    },
    {
     "name": "stderr",
     "output_type": "stream",
     "text": [
      "  0%|▏                                                                                                         | 169/132480 [00:05<1:03:13, 34.88it/s]"
     ]
    },
    {
     "name": "stdout",
     "output_type": "stream",
     "text": [
      "spread:0.175807521499736389635614182, future2.979965614177398974216301868, lp total:5.959931228354797948432603737\n",
      "spread:0.174664843327473663029384459, future2.979965614177398974216301868, lp total:5.959931228354797948432603737\n",
      "spread:0.173497799582194490832254290, future2.979965614177398974216301868, lp total:5.959931228354797948432603737\n",
      "spread:0.172877613360913296518155959, future2.979965614177398974216301868, lp total:5.959931228354797948432603737\n",
      "spread:0.172288413049990639797271697, future2.979965614177398974216301868, lp total:5.959931228354797948432603737\n",
      "spread:0.171728651633978289360103351, future2.979965614177398974216301868, lp total:5.959931228354797948432603737\n",
      "spread:0.171115395790325758013778681, future2.979965614177398974216301868, lp total:5.959931228354797948432603737\n"
     ]
    },
    {
     "name": "stderr",
     "output_type": "stream",
     "text": [
      "  0%|▏                                                                                                         | 178/132480 [00:06<1:02:17, 35.40it/s]"
     ]
    },
    {
     "name": "stdout",
     "output_type": "stream",
     "text": [
      "spread:0.170695720698152574864234395, future2.979965614177398974216301868, lp total:5.959931228354797948432603737\n",
      "spread:0.170297019521192221396387662, future2.979965614177398974216301868, lp total:5.959931228354797948432603737\n",
      "spread:0.170651900359801363769208669, future2.979965614177398974216301868, lp total:5.959931228354797948432603737\n",
      "spread:0.170907477993902209361548706, future2.979965614177398974216301868, lp total:5.959931228354797948432603737\n",
      "spread:0.171150268479531888044729840, future2.979965614177398974216301868, lp total:5.959931228354797948432603737\n",
      "spread:0.171543999662232710298386591, future2.979965614177398974216301868, lp total:5.959931228354797948432603737\n",
      "spread:0.171836482913437802514297751, future2.979965614177398974216301868, lp total:5.959931228354797948432603737\n"
     ]
    },
    {
     "name": "stderr",
     "output_type": "stream",
     "text": [
      "  0%|▏                                                                                                         | 187/132480 [00:06<1:08:30, 32.18it/s]"
     ]
    },
    {
     "name": "stdout",
     "output_type": "stream",
     "text": [
      "spread:0.172114332062219922142531944, future2.979965614177398974216301868, lp total:5.959931228354797948432603737\n",
      "spread:0.171807713686742595916898631, future2.979965614177398974216301868, lp total:5.959931228354797948432603737\n",
      "spread:0.171923939452005864879427115, future2.979965614177398974216301868, lp total:5.959931228354797948432603737\n",
      "spread:0.171545358930607055099862953, future2.979965614177398974216301868, lp total:5.959931228354797948432603737\n",
      "spread:0.171674705289886033249998539, future2.979965614177398974216301868, lp total:5.959931228354797948432603737\n",
      "spread:0.172368425082688396226527044, future2.979965614177398974216301868, lp total:5.959931228354797948432603737\n",
      "spread:0.173027413253627948602029616, future2.979965614177398974216301868, lp total:5.959931228354797948432603737\n"
     ]
    },
    {
     "name": "stderr",
     "output_type": "stream",
     "text": [
      "  0%|▏                                                                                                         | 197/132480 [00:06<1:08:22, 32.25it/s]"
     ]
    },
    {
     "name": "stdout",
     "output_type": "stream",
     "text": [
      "spread:0.173653410837484453170436697, future2.979965614177398974216301868, lp total:5.959931228354797948432603737\n",
      "spread:0.172618369011066825697033873, future2.979965614177398974216301868, lp total:5.959931228354797948432603737\n",
      "spread:0.171634993868875855319164913, future2.979965614177398974216301868, lp total:5.959931228354797948432603737\n",
      "spread:0.170375075961798199262766194, future2.979965614177398974216301868, lp total:5.959931228354797948432603737\n",
      "spread:0.169178025142565587371485881, future2.979965614177398974216301868, lp total:5.959931228354797948432603737\n",
      "spread:0.168122124971720096817219284, future2.979965614177398974216301868, lp total:5.959931228354797948432603737\n",
      "spread:0.167118929698550208767566363, future2.979965614177398974216301868, lp total:5.959931228354797948432603737\n",
      "spread:0.164538670176939695599852666, future2.979965614177398974216301868, lp total:5.959931228354797948432603737\n",
      "spread:0.162086867032834163929882963, future2.979965614177398974216301868, lp total:5.959931228354797948432603737\n",
      "spread:0.159350659012699922001934624, future2.979965614177398974216301868, lp total:5.959931228354797948432603737\n",
      "spread:0.152776000806813965077065492, future2.979965614177398974216301868, lp total:5.959931228354797948432603737\n",
      "spread:0.149608979221787485264124004, future2.979965614177398974216301868, lp total:5.959931228354797948432603737\n",
      "spread:0.146599465046628429851180406, future2.979965614177398974216301868, lp total:5.959931228354797948432603737\n"
     ]
    },
    {
     "name": "stderr",
     "output_type": "stream",
     "text": [
      "  0%|▏                                                                                                         | 207/132480 [00:06<1:04:01, 34.43it/s]"
     ]
    },
    {
     "name": "stdout",
     "output_type": "stream",
     "text": [
      "spread:0.143902292659357691695439231, future2.979965614177398974216301868, lp total:5.959931228354797948432603737\n",
      "spread:0.141583422881711858003818928, future2.979965614177398974216301868, lp total:5.959931228354797948432603737\n",
      "spread:0.139380045435864013193429364, future2.979965614177398974216301868, lp total:5.959931228354797948432603737\n",
      "spread:0.137286429557078632631669653, future2.979965614177398974216301868, lp total:5.959931228354797948432603737\n",
      "spread:0.135297126762634252463702805, future2.979965614177398974216301868, lp total:5.959931228354797948432603737\n",
      "spread:0.133406957149965415171655338, future2.979965614177398974216301868, lp total:5.959931228354797948432603737\n",
      "spread:0.130878367349464409146637171, future2.979965614177398974216301868, lp total:5.959931228354797948432603737\n"
     ]
    },
    {
     "name": "stderr",
     "output_type": "stream",
     "text": [
      "  0%|▏                                                                                                         | 211/132480 [00:07<1:11:39, 30.77it/s]"
     ]
    },
    {
     "name": "stdout",
     "output_type": "stream",
     "text": [
      "spread:0.128475668407329059054123867, future2.979965614177398974216301868, lp total:5.959931228354797948432603737\n",
      "spread:0.125378952614940994136252932, future2.979965614177398974216301868, lp total:5.959931228354797948432603737\n",
      "spread:0.123005902781411920348857990, future2.979965614177398974216301868, lp total:5.959931228354797948432603737\n",
      "spread:0.120751030720618147206158953, future2.979965614177398974216301868, lp total:5.959931228354797948432603737\n",
      "spread:0.118608473682076253114540434, future2.979965614177398974216301868, lp total:5.959931228354797948432603737\n",
      "spread:0.116898523534431492693887877, future2.979965614177398974216301868, lp total:5.959931228354797948432603737\n"
     ]
    },
    {
     "name": "stderr",
     "output_type": "stream",
     "text": [
      "  0%|▏                                                                                                         | 215/132480 [00:07<1:33:09, 23.66it/s]"
     ]
    },
    {
     "name": "stdout",
     "output_type": "stream",
     "text": [
      "spread:0.115273824925527226168887402, future2.979965614177398974216301868, lp total:5.959931228354797948432603737\n",
      "spread:0.113730139205600760684632883, future2.979965614177398974216301868, lp total:5.959931228354797948432603737\n",
      "spread:0.112508019457722122867942825, future2.979965614177398974216301868, lp total:5.959931228354797948432603737\n",
      "spread:0.111673130021417256156950325, future2.979965614177398974216301868, lp total:5.959931228354797948432603737\n",
      "spread:0.110879926888136841922561516, future2.979965614177398974216301868, lp total:5.959931228354797948432603737\n"
     ]
    },
    {
     "name": "stderr",
     "output_type": "stream",
     "text": [
      "  0%|▏                                                                                                         | 227/132480 [00:07<1:16:58, 28.63it/s]"
     ]
    },
    {
     "name": "stdout",
     "output_type": "stream",
     "text": [
      "spread:0.110044746198076269746160343, future2.979965614177398974216301868, lp total:5.959931228354797948432603737\n",
      "spread:0.109251266225141095323505044, future2.979965614177398974216301868, lp total:5.959931228354797948432603737\n",
      "spread:0.108742220370909718513830546, future2.979965614177398974216301868, lp total:5.959931228354797948432603737\n",
      "spread:0.108258605329028470588214487, future2.979965614177398974216301868, lp total:5.959931228354797948432603737\n",
      "spread:0.107880777981206124081679343, future2.979965614177398974216301868, lp total:5.959931228354797948432603737\n",
      "spread:0.107032169605677033600855686, future2.979965614177398974216301868, lp total:5.959931228354797948432603737\n",
      "spread:0.107205596335841105218211872, future2.979965614177398974216301868, lp total:5.959931228354797948432603737\n",
      "spread:0.107452035597149321883165878, future2.979965614177398974216301868, lp total:5.959931228354797948432603737\n",
      "spread:0.107931247225480931847162080, future2.979965614177398974216301868, lp total:5.959931228354797948432603737\n",
      "spread:0.108386478349967382241761873, future2.979965614177398974216301868, lp total:5.959931228354797948432603737\n"
     ]
    },
    {
     "name": "stderr",
     "output_type": "stream",
     "text": [
      "  0%|▏                                                                                                         | 235/132480 [00:08<1:11:33, 30.80it/s]"
     ]
    },
    {
     "name": "stdout",
     "output_type": "stream",
     "text": [
      "spread:0.109391046694437830469782356, future2.979965614177398974216301868, lp total:5.959931228354797948432603737\n",
      "spread:0.110345300048559111209854853, future2.979965614177398974216301868, lp total:5.959931228354797948432603737\n",
      "spread:0.112151397491526322422385624, future2.979965614177398974216301868, lp total:5.959931228354797948432603737\n",
      "spread:0.113866911407138991961624580, future2.979965614177398974216301868, lp total:5.959931228354797948432603737\n",
      "spread:0.115005725923683979463861409, future2.979965614177398974216301868, lp total:5.959931228354797948432603737\n",
      "spread:0.116087488705629013007403686, future2.979965614177398974216301868, lp total:5.959931228354797948432603737\n",
      "spread:0.117196807097985924224794610, future2.979965614177398974216301868, lp total:5.959931228354797948432603737\n",
      "spread:0.118250554278044718503687493, future2.979965614177398974216301868, lp total:5.959931228354797948432603737\n"
     ]
    },
    {
     "name": "stderr",
     "output_type": "stream",
     "text": [
      "  0%|▏                                                                                                         | 243/132480 [00:08<1:13:04, 30.16it/s]"
     ]
    },
    {
     "name": "stdout",
     "output_type": "stream",
     "text": [
      "spread:0.119251519087868259524118343, future2.979965614177398974216301868, lp total:5.959931228354797948432603737\n",
      "spread:0.120365815173310069551464025, future2.979965614177398974216301868, lp total:5.959931228354797948432603737\n",
      "spread:0.121179127654934268105192697, future2.979965614177398974216301868, lp total:5.959931228354797948432603737\n",
      "spread:0.123014505064290413445820504, future2.979965614177398974216301868, lp total:5.959931228354797948432603737\n",
      "spread:0.124430731132274862095437661, future2.979965614177398974216301868, lp total:5.959931228354797948432603737\n",
      "spread:0.125775974663999149433098587, future2.979965614177398974216301868, lp total:5.959931228354797948432603737\n",
      "spread:0.127053801513420972739352256, future2.979965614177398974216301868, lp total:5.959931228354797948432603737\n",
      "spread:0.128267597606345021309403134, future2.979965614177398974216301868, lp total:5.959931228354797948432603737\n"
     ]
    },
    {
     "name": "stderr",
     "output_type": "stream",
     "text": [
      "  0%|▏                                                                                                           | 253/132480 [00:08<58:07, 37.91it/s]"
     ]
    },
    {
     "name": "stdout",
     "output_type": "stream",
     "text": [
      "spread:0.128848715486049818122730476, future2.979965614177398974216301868, lp total:5.959931228354797948432603737\n",
      "spread:0.128910900116809682344692153, future2.979965614177398974216301868, lp total:5.959931228354797948432603737\n",
      "spread:0.128480401252332464564579045, future2.979965614177398974216301868, lp total:5.959931228354797948432603737\n",
      "spread:0.128071411681662087588125489, future2.979965614177398974216301868, lp total:5.959931228354797948432603737\n",
      "spread:0.127682857465046522328617359, future2.979965614177398974216301868, lp total:5.959931228354797948432603737\n",
      "spread:0.127395303707680136698831712, future2.979965614177398974216301868, lp total:5.959931228354797948432603737\n",
      "spread:0.127530171560571848446067793, future2.979965614177398974216301868, lp total:5.959931228354797948432603737\n",
      "spread:0.128066529228540714845913524, future2.979965614177398974216301868, lp total:5.959931228354797948432603737\n",
      "spread:0.128739383525285285419902457, future2.979965614177398974216301868, lp total:5.959931228354797948432603737\n",
      "spread:0.129378556430842600350167907, future2.979965614177398974216301868, lp total:5.959931228354797948432603737\n",
      "spread:0.129577491489534576384263695, future2.979965614177398974216301868, lp total:5.959931228354797948432603737\n",
      "spread:0.129929748601250452833966287, future2.979965614177398974216301868, lp total:5.959931228354797948432603737\n",
      "spread:0.130182744867466047388458595, future2.979965614177398974216301868, lp total:5.959931228354797948432603737\n"
     ]
    },
    {
     "name": "stderr",
     "output_type": "stream",
     "text": [
      "  0%|▏                                                                                                           | 264/132480 [00:08<49:33, 44.46it/s]"
     ]
    },
    {
     "name": "stdout",
     "output_type": "stream",
     "text": [
      "spread:0.130423085828123043068726818, future2.979965614177398974216301868, lp total:5.959931228354797948432603737\n",
      "spread:0.130651404784179749628318904, future2.979965614177398974216301868, lp total:5.959931228354797948432603737\n",
      "spread:0.130460255559359626028407383, future2.979965614177398974216301868, lp total:5.959931228354797948432603737\n",
      "spread:0.130768348808030918285529030, future2.979965614177398974216301868, lp total:5.959931228354797948432603737\n",
      "spread:0.131714351981287062686133179, future2.979965614177398974216301868, lp total:5.959931228354797948432603737\n",
      "spread:0.133103247529628639859725389, future2.979965614177398974216301868, lp total:5.959931228354797948432603737\n",
      "spread:0.135076569689985878023000013, future2.979965614177398974216301868, lp total:5.959931228354797948432603737\n"
     ]
    },
    {
     "name": "stderr",
     "output_type": "stream",
     "text": [
      "  0%|▏                                                                                                         | 269/132480 [00:09<2:10:50, 16.84it/s]"
     ]
    },
    {
     "name": "stdout",
     "output_type": "stream",
     "text": [
      "spread:0.136623872054442472450878589, future2.979965614177398974216301868, lp total:5.959931228354797948432603737\n",
      "spread:0.137603365353668350541020477, future2.979965614177398974216301868, lp total:5.959931228354797948432603737\n",
      "spread:0.138533802204859265153299019, future2.979965614177398974216301868, lp total:5.959931228354797948432603737\n",
      "spread:0.139335976828159894066294930, future2.979965614177398974216301868, lp total:5.959931228354797948432603737\n",
      "spread:0.140261317133890389610695812, future2.979965614177398974216301868, lp total:5.959931228354797948432603737\n",
      "spread:0.141221986802458051359937377, future2.979965614177398974216301868, lp total:5.959931228354797948432603737\n"
     ]
    },
    {
     "name": "stderr",
     "output_type": "stream",
     "text": [
      "  0%|▏                                                                                                         | 277/132480 [00:09<1:45:18, 20.92it/s]"
     ]
    },
    {
     "name": "stdout",
     "output_type": "stream",
     "text": [
      "spread:0.142134544326410449154708461, future2.979965614177398974216301868, lp total:5.959931228354797948432603737\n",
      "spread:0.143164737649911845376147370, future2.979965614177398974216301868, lp total:5.959931228354797948432603737\n",
      "spread:0.144143330859504007241375454, future2.979965614177398974216301868, lp total:5.959931228354797948432603737\n",
      "spread:0.144991256019355971266403589, future2.979965614177398974216301868, lp total:5.959931228354797948432603737\n",
      "spread:0.146286741266305209066281834, future2.979965614177398974216301868, lp total:5.959931228354797948432603737\n",
      "spread:0.147435630008896819510803999, future2.979965614177398974216301868, lp total:5.959931228354797948432603737\n",
      "spread:0.148526961838178477845931182, future2.979965614177398974216301868, lp total:5.959931228354797948432603737\n",
      "spread:0.149563625583239713642531035, future2.979965614177398974216301868, lp total:5.959931228354797948432603737\n",
      "spread:0.150058587950357735091258928, future2.979965614177398974216301868, lp total:5.959931228354797948432603737\n",
      "spread:0.150528781306243239188775178, future2.979965614177398974216301868, lp total:5.959931228354797948432603737\n",
      "spread:0.153754209361302963627791569, future2.979965614177398974216301868, lp total:5.959931228354797948432603737\n"
     ]
    },
    {
     "name": "stderr",
     "output_type": "stream",
     "text": [
      "  0%|▏                                                                                                         | 287/132480 [00:10<1:17:50, 28.31it/s]"
     ]
    },
    {
     "name": "stdout",
     "output_type": "stream",
     "text": [
      "spread:0.154121080263986228580116318, future2.979965614177398974216301868, lp total:5.959931228354797948432603737\n",
      "spread:0.155040853926892605182307726, future2.979965614177398974216301868, lp total:5.959931228354797948432603737\n",
      "spread:0.155914566805976455862605532, future2.979965614177398974216301868, lp total:5.959931228354797948432603737\n",
      "spread:0.155765609741866240594013847, future2.979965614177398974216301868, lp total:5.959931228354797948432603737\n",
      "spread:0.156276599219356524414414153, future2.979965614177398974216301868, lp total:5.959931228354797948432603737\n",
      "spread:0.156843609840673988832736979, future2.979965614177398974216301868, lp total:5.959931228354797948432603737\n",
      "spread:0.157382242522804627249824312, future2.979965614177398974216301868, lp total:5.959931228354797948432603737\n",
      "spread:0.157975511378774539470459497, future2.979965614177398974216301868, lp total:5.959931228354797948432603737\n",
      "spread:0.158539086788731097791940273, future2.979965614177398974216301868, lp total:5.959931228354797948432603737\n"
     ]
    },
    {
     "name": "stderr",
     "output_type": "stream",
     "text": [
      "  0%|▏                                                                                                           | 298/132480 [00:10<59:21, 37.12it/s]"
     ]
    },
    {
     "name": "stdout",
     "output_type": "stream",
     "text": [
      "spread:0.159074456352631991616477961, future2.979965614177398974216301868, lp total:5.959931228354797948432603737\n",
      "spread:0.159583033004656688146078099, future2.979965614177398974216301868, lp total:5.959931228354797948432603737\n",
      "spread:0.160066158774400925437973783, future2.979965614177398974216301868, lp total:5.959931228354797948432603737\n",
      "spread:0.160525108357300989202729816, future2.979965614177398974216301868, lp total:5.959931228354797948432603737\n",
      "spread:0.160961092504051926166393540, future2.979965614177398974216301868, lp total:5.959931228354797948432603737\n",
      "spread:0.161456835805477345394279311, future2.979965614177398974216301868, lp total:5.959931228354797948432603737\n",
      "spread:0.161846199959524810227588045, future2.979965614177398974216301868, lp total:5.959931228354797948432603737\n",
      "spread:0.162950468949776695486982073, future2.979965614177398974216301868, lp total:5.959931228354797948432603737\n",
      "spread:0.163591392283124109079558950, future2.979965614177398974216301868, lp total:5.959931228354797948432603737\n",
      "spread:0.164200234437528063720541768, future2.979965614177398974216301868, lp total:5.959931228354797948432603737\n",
      "spread:0.164697028781270491618817497, future2.979965614177398974216301868, lp total:5.959931228354797948432603737\n",
      "spread:0.165903369123794644271484390, future2.979965614177398974216301868, lp total:5.959931228354797948432603737\n",
      "spread:0.167049268435641703633057215, future2.979965614177398974216301868, lp total:5.959931228354797948432603737\n",
      "spread:0.167811349517462924061723781, future2.979965614177398974216301868, lp total:5.959931228354797948432603737\n",
      "spread:0.168535277045115956314390136, future2.979965614177398974216301868, lp total:5.959931228354797948432603737\n"
     ]
    },
    {
     "name": "stderr",
     "output_type": "stream",
     "text": [
      "  0%|▎                                                                                                           | 314/132480 [00:10<42:52, 51.37it/s]"
     ]
    },
    {
     "name": "stdout",
     "output_type": "stream",
     "text": [
      "spread:0.168896715280550628686242608, future2.979965614177398974216301868, lp total:5.959931228354797948432603737\n",
      "spread:0.168995471208368819443007373, future2.979965614177398974216301868, lp total:5.959931228354797948432603737\n",
      "spread:0.168681777395346767366455521, future2.979965614177398974216301868, lp total:5.959931228354797948432603737\n",
      "spread:0.168139336973230170444100525, future2.979965614177398974216301868, lp total:5.959931228354797948432603737\n",
      "spread:0.166484195612352745600459435, future2.979965614177398974216301868, lp total:5.959931228354797948432603737\n",
      "spread:0.164342149865681553375038352, future2.979965614177398974216301868, lp total:5.959931228354797948432603737\n",
      "spread:0.162876350002637161571554371, future2.979965614177398974216301868, lp total:5.959931228354797948432603737\n",
      "spread:0.161565059682488413262201055, future2.979965614177398974216301868, lp total:5.959931228354797948432603737\n",
      "spread:0.159912202898229681045603024, future2.979965614177398974216301868, lp total:5.959931228354797948432603737\n",
      "spread:0.158341756182140393820435800, future2.979965614177398974216301868, lp total:5.959931228354797948432603737\n",
      "spread:0.156117317602352853934086488, future2.979965614177398974216301868, lp total:5.959931228354797948432603737\n",
      "spread:0.154003679371042506937371350, future2.979965614177398974216301868, lp total:5.959931228354797948432603737\n",
      "spread:0.152646496069988626906732839, future2.979965614177398974216301868, lp total:5.959931228354797948432603737\n",
      "spread:0.151357015032333187988328486, future2.979965614177398974216301868, lp total:5.959931228354797948432603737\n",
      "spread:0.150131866414813642923898803, future2.979965614177398974216301868, lp total:5.959931228354797948432603737\n"
     ]
    },
    {
     "name": "stderr",
     "output_type": "stream",
     "text": [
      "  0%|▎                                                                                                           | 327/132480 [00:10<38:53, 56.64it/s]"
     ]
    },
    {
     "name": "stdout",
     "output_type": "stream",
     "text": [
      "spread:0.148967847381491999953276977, future2.979965614177398974216301868, lp total:5.959931228354797948432603737\n",
      "spread:0.147861913897609787332117340, future2.979965614177398974216301868, lp total:5.959931228354797948432603737\n",
      "spread:0.146811172919741042683877367, future2.979965614177398974216301868, lp total:5.959931228354797948432603737\n",
      "spread:0.145812874963833894233586288, future2.979965614177398974216301868, lp total:5.959931228354797948432603737\n",
      "spread:0.144864407033423358402166006, future2.979965614177398974216301868, lp total:5.959931228354797948432603737\n",
      "spread:0.144778556478038850874160368, future2.979965614177398974216301868, lp total:5.959931228354797948432603737\n",
      "spread:0.145023319712042871487096357, future2.979965614177398974216301868, lp total:5.959931228354797948432603737\n",
      "spread:0.145174249634808588897302228, future2.979965614177398974216301868, lp total:5.959931228354797948432603737\n"
     ]
    },
    {
     "name": "stderr",
     "output_type": "stream",
     "text": [
      "  0%|▎                                                                                                           | 333/132480 [00:10<53:09, 41.43it/s]"
     ]
    },
    {
     "name": "stdout",
     "output_type": "stream",
     "text": [
      "spread:0.145317631120879786824082757, future2.979965614177398974216301868, lp total:5.959931228354797948432603737\n",
      "spread:0.145453841781334322701201579, future2.979965614177398974216301868, lp total:5.959931228354797948432603737\n",
      "spread:0.145746421831423035316651639, future2.979965614177398974216301868, lp total:5.959931228354797948432603737\n",
      "spread:0.146024365588109671088711383, future2.979965614177398974216301868, lp total:5.959931228354797948432603737\n",
      "spread:0.146288405577207361388351552, future2.979965614177398974216301868, lp total:5.959931228354797948432603737\n",
      "spread:0.146212928594919448960224892, future2.979965614177398974216301868, lp total:5.959931228354797948432603737\n",
      "spread:0.144837186905139891300689840, future2.979965614177398974216301868, lp total:5.959931228354797948432603737\n",
      "spread:0.143448623009555357258650092, future2.979965614177398974216301868, lp total:5.959931228354797948432603737\n",
      "spread:0.142536688366890102259670853, future2.979965614177398974216301868, lp total:5.959931228354797948432603737\n"
     ]
    },
    {
     "name": "stderr",
     "output_type": "stream",
     "text": [
      "  0%|▎                                                                                                           | 348/132480 [00:11<46:13, 47.64it/s]"
     ]
    },
    {
     "name": "stdout",
     "output_type": "stream",
     "text": [
      "spread:0.142077865817736454175436058, future2.979965614177398974216301868, lp total:5.959931228354797948432603737\n",
      "spread:0.141641966470893389625879900, future2.979965614177398974216301868, lp total:5.959931228354797948432603737\n",
      "spread:0.141472507235951218510798596, future2.979965614177398974216301868, lp total:5.959931228354797948432603737\n",
      "spread:0.140659229513681298236064500, future2.979965614177398974216301868, lp total:5.959931228354797948432603737\n",
      "spread:0.139234706583512604858474292, future2.979965614177398974216301868, lp total:5.959931228354797948432603737\n",
      "spread:0.137148387865845296396972692, future2.979965614177398974216301868, lp total:5.959931228354797948432603737\n",
      "spread:0.134433641801333205177037058, future2.979965614177398974216301868, lp total:5.959931228354797948432603737\n",
      "spread:0.131447298821443248816743897, future2.979965614177398974216301868, lp total:5.959931228354797948432603737\n",
      "spread:0.129179104197599626845357819, future2.979965614177398974216301868, lp total:5.959931228354797948432603737\n",
      "spread:0.127349591785971223891597682, future2.979965614177398974216301868, lp total:5.959931228354797948432603737\n"
     ]
    },
    {
     "name": "stderr",
     "output_type": "stream",
     "text": [
      "  0%|▎                                                                                                           | 354/132480 [00:11<55:50, 39.44it/s]"
     ]
    },
    {
     "name": "stdout",
     "output_type": "stream",
     "text": [
      "spread:0.125855671064225938520364183, future2.979965614177398974216301868, lp total:5.959931228354797948432603737\n",
      "spread:0.124599249348274289154524958, future2.979965614177398974216301868, lp total:5.959931228354797948432603737\n",
      "spread:0.123405514359186510885933363, future2.979965614177398974216301868, lp total:5.959931228354797948432603737\n",
      "spread:0.122271344838426729294759678, future2.979965614177398974216301868, lp total:5.959931228354797948432603737\n",
      "spread:0.121112248576965615739403049, future2.979965614177398974216301868, lp total:5.959931228354797948432603737\n",
      "spread:0.119766436071384065172167242, future2.979965614177398974216301868, lp total:5.959931228354797948432603737\n",
      "spread:0.118487760054576886258783333, future2.979965614177398974216301868, lp total:5.959931228354797948432603737\n",
      "spread:0.117272878703157567018543424, future2.979965614177398974216301868, lp total:5.959931228354797948432603737\n",
      "spread:0.118813378645752684541924676, future2.979965614177398974216301868, lp total:5.959931228354797948432603737\n",
      "spread:0.119295917987509810643899464, future2.979965614177398974216301868, lp total:5.959931228354797948432603737\n",
      "spread:0.119754310549628179692002878, future2.979965614177398974216301868, lp total:5.959931228354797948432603737\n"
     ]
    },
    {
     "name": "stderr",
     "output_type": "stream",
     "text": [
      "  0%|▎                                                                                                           | 364/132480 [00:11<54:09, 40.66it/s]"
     ]
    },
    {
     "name": "stdout",
     "output_type": "stream",
     "text": [
      "spread:0.120761681016054864242837068, future2.979965614177398974216301868, lp total:5.959931228354797948432603737\n",
      "spread:0.121882054664642359015222873, future2.979965614177398974216301868, lp total:5.959931228354797948432603737\n",
      "spread:0.122946302822876247329961125, future2.979965614177398974216301868, lp total:5.959931228354797948432603737\n",
      "spread:0.123957242194768906808039949, future2.979965614177398974216301868, lp total:5.959931228354797948432603737\n",
      "spread:0.124754135159184799228437258, future2.979965614177398974216301868, lp total:5.959931228354797948432603737\n",
      "spread:0.125511129433648770195080003, future2.979965614177398974216301868, lp total:5.959931228354797948432603737\n",
      "spread:0.126066865139242719911555312, future2.979965614177398974216301868, lp total:5.959931228354797948432603737\n",
      "spread:0.126104912549079582100105873, future2.979965614177398974216301868, lp total:5.959931228354797948432603737\n",
      "spread:0.125406756629239439224184742, future2.979965614177398974216301868, lp total:5.959931228354797948432603737\n",
      "spread:0.124743467020358592194499033, future2.979965614177398974216301868, lp total:5.959931228354797948432603737\n"
     ]
    },
    {
     "name": "stderr",
     "output_type": "stream",
     "text": [
      "  0%|▎                                                                                                           | 369/132480 [00:11<52:04, 42.28it/s]"
     ]
    },
    {
     "name": "stdout",
     "output_type": "stream",
     "text": [
      "spread:0.124031743501995138430034490, future2.979965614177398974216301868, lp total:5.959931228354797948432603737\n",
      "spread:0.124498174082109145216145244, future2.979965614177398974216301868, lp total:5.959931228354797948432603737\n",
      "spread:0.123880262795531873280232824, future2.979965614177398974216301868, lp total:5.959931228354797948432603737\n",
      "spread:0.123211647486791121006455538, future2.979965614177398974216301868, lp total:5.959931228354797948432603737\n",
      "spread:0.122576424897422586359965662, future2.979965614177398974216301868, lp total:5.959931228354797948432603737\n"
     ]
    },
    {
     "name": "stderr",
     "output_type": "stream",
     "text": [
      "  0%|▎                                                                                                         | 379/132480 [00:12<1:03:19, 34.77it/s]"
     ]
    },
    {
     "name": "stdout",
     "output_type": "stream",
     "text": [
      "spread:0.121076086836434107293088099, future2.979965614177398974216301868, lp total:5.959931228354797948432603737\n",
      "spread:0.119650574102368017668988151, future2.979965614177398974216301868, lp total:5.959931228354797948432603737\n",
      "spread:0.116992961531064488310128539, future2.979965614177398974216301868, lp total:5.959931228354797948432603737\n",
      "spread:0.114549041039393021392364770, future2.979965614177398974216301868, lp total:5.959931228354797948432603737\n",
      "spread:0.112471143232527154060262077, future2.979965614177398974216301868, lp total:5.959931228354797948432603737\n",
      "spread:0.110333845907503917272595296, future2.979965614177398974216301868, lp total:5.959931228354797948432603737\n",
      "spread:0.108384499721851052504005258, future2.979965614177398974216301868, lp total:5.959931228354797948432603737\n",
      "spread:0.106532297556910723762399250, future2.979965614177398974216301868, lp total:5.959931228354797948432603737\n",
      "spread:0.104772413649486356538091386, future2.979965614177398974216301868, lp total:5.959931228354797948432603737\n",
      "spread:0.103507946016579635304948056, future2.979965614177398974216301868, lp total:5.959931228354797948432603737\n",
      "spread:0.102306565766174729262578387, future2.979965614177398974216301868, lp total:5.959931228354797948432603737\n",
      "spread:0.100268279511741523655471734, future2.979965614177398974216301868, lp total:5.959931228354797948432603737\n"
     ]
    },
    {
     "name": "stderr",
     "output_type": "stream",
     "text": [
      "  0%|▎                                                                                                           | 387/132480 [00:12<54:02, 40.73it/s]"
     ]
    },
    {
     "name": "stdout",
     "output_type": "stream",
     "text": [
      "spread:0.095645989784665276014124511, future2.979965614177398974216301868, lp total:5.959931228354797948432603737\n",
      "spread:0.091903552505333692437484182, future2.979965614177398974216301868, lp total:5.959931228354797948432603737\n",
      "spread:0.087289792797778037292474633, future2.979965614177398974216301868, lp total:5.959931228354797948432603737\n",
      "spread:0.082498449976410248438127239, future2.979965614177398974216301868, lp total:5.959931228354797948432603737\n",
      "spread:0.078351352918925434220502695, future2.979965614177398974216301868, lp total:5.959931228354797948432603737\n",
      "spread:0.074410148579542916558503440, future2.979965614177398974216301868, lp total:5.959931228354797948432603737\n"
     ]
    },
    {
     "name": "stderr",
     "output_type": "stream",
     "text": [
      "  0%|▎                                                                                                         | 399/132480 [00:12<1:00:22, 36.46it/s]"
     ]
    },
    {
     "name": "stdout",
     "output_type": "stream",
     "text": [
      "spread:0.070583285515786119711359183, future2.979965614177398974216301868, lp total:5.959931228354797948432603737\n",
      "spread:0.067679623715761416097772709, future2.979965614177398974216301868, lp total:5.959931228354797948432603737\n",
      "spread:0.065654327749787437932467173, future2.979965614177398974216301868, lp total:5.959931228354797948432603737\n",
      "spread:0.063485203899455618776790114, future2.979965614177398974216301868, lp total:5.959931228354797948432603737\n",
      "spread:0.061913785291326995911682119, future2.979965614177398974216301868, lp total:5.959931228354797948432603737\n",
      "spread:0.060584026864219865139264054, future2.979965614177398974216301868, lp total:5.959931228354797948432603737\n",
      "spread:0.058667515605518749188273007, future2.979965614177398974216301868, lp total:5.959931228354797948432603737\n",
      "spread:0.056846517895951962800679052, future2.979965614177398974216301868, lp total:5.959931228354797948432603737\n",
      "spread:0.054789818052018394920109857, future2.979965614177398974216301868, lp total:5.959931228354797948432603737\n",
      "spread:0.052917214792942771801390885, future2.979965614177398974216301868, lp total:5.959931228354797948432603737\n",
      "spread:0.051791289402409097358457548, future2.979965614177398974216301868, lp total:5.959931228354797948432603737\n"
     ]
    },
    {
     "name": "stderr",
     "output_type": "stream",
     "text": [
      "  0%|▎                                                                                                           | 407/132480 [00:12<54:27, 40.42it/s]"
     ]
    },
    {
     "name": "stdout",
     "output_type": "stream",
     "text": [
      "spread:0.050068143013250936118133082, future2.979965614177398974216301868, lp total:5.959931228354797948432603737\n",
      "spread:0.049002694555749549617411654, future2.979965614177398974216301868, lp total:5.959931228354797948432603737\n",
      "spread:0.050035753938017613982160225, future2.979965614177398974216301868, lp total:5.959931228354797948432603737\n",
      "spread:0.050935172999386434465960928, future2.979965614177398974216301868, lp total:5.959931228354797948432603737\n",
      "spread:0.051871442750261959616987126, future2.979965614177398974216301868, lp total:5.959931228354797948432603737\n",
      "spread:0.052760824582713576419762039, future2.979965614177398974216301868, lp total:5.959931228354797948432603737\n",
      "spread:0.053605670158807924241190488, future2.979965614177398974216301868, lp total:5.959931228354797948432603737\n",
      "spread:0.055063455789559202116341161, future2.979965614177398974216301868, lp total:5.959931228354797948432603737\n"
     ]
    },
    {
     "name": "stderr",
     "output_type": "stream",
     "text": [
      "  0%|▎                                                                                                           | 417/132480 [00:13<50:35, 43.51it/s]"
     ]
    },
    {
     "name": "stdout",
     "output_type": "stream",
     "text": [
      "spread:0.056448171687281472540088050, future2.979965614177398974216301868, lp total:5.959931228354797948432603737\n",
      "spread:0.058009269230019365564504274, future2.979965614177398974216301868, lp total:5.959931228354797948432603737\n",
      "spread:0.059328266137743301166580405, future2.979965614177398974216301868, lp total:5.959931228354797948432603737\n",
      "spread:0.060171748037150483383768995, future2.979965614177398974216301868, lp total:5.959931228354797948432603737\n",
      "spread:0.060972995416628079325758761, future2.979965614177398974216301868, lp total:5.959931228354797948432603737\n",
      "spread:0.061734125900289616877524974, future2.979965614177398974216301868, lp total:5.959931228354797948432603737\n",
      "spread:0.063194083883857359793476671, future2.979965614177398974216301868, lp total:5.959931228354797948432603737\n",
      "spread:0.064417067813210574689243379, future2.979965614177398974216301868, lp total:5.959931228354797948432603737\n",
      "spread:0.065496898028476786706969266, future2.979965614177398974216301868, lp total:5.959931228354797948432603737\n",
      "spread:0.066031578027463100260575087, future2.979965614177398974216301868, lp total:5.959931228354797948432603737\n",
      "spread:0.066539499741258040040335993, future2.979965614177398974216301868, lp total:5.959931228354797948432603737\n"
     ]
    },
    {
     "name": "stderr",
     "output_type": "stream",
     "text": [
      "  0%|▎                                                                                                           | 432/132480 [00:13<38:57, 56.50it/s]"
     ]
    },
    {
     "name": "stdout",
     "output_type": "stream",
     "text": [
      "spread:0.066613032339747997691787526, future2.979965614177398974216301868, lp total:5.959931228354797948432603737\n",
      "spread:0.066355849205226997655260386, future2.979965614177398974216301868, lp total:5.959931228354797948432603737\n",
      "spread:0.066111519608241766692497648, future2.979965614177398974216301868, lp total:5.959931228354797948432603737\n",
      "spread:0.065797657091200090186327313, future2.979965614177398974216301868, lp total:5.959931228354797948432603737\n",
      "spread:0.065499479331228170421192631, future2.979965614177398974216301868, lp total:5.959931228354797948432603737\n",
      "spread:0.065870404176430394519249519, future2.979965614177398974216301868, lp total:5.959931228354797948432603737\n",
      "spread:0.066386391772046250478251521, future2.979965614177398974216301868, lp total:5.959931228354797948432603737\n",
      "spread:0.066876557370703144646159338, future2.979965614177398974216301868, lp total:5.959931228354797948432603737\n",
      "spread:0.067260387327294000264582748, future2.979965614177398974216301868, lp total:5.959931228354797948432603737\n",
      "spread:0.067625013270372465911340228, future2.979965614177398974216301868, lp total:5.959931228354797948432603737\n",
      "spread:0.067726037162439046417115890, future2.979965614177398974216301868, lp total:5.959931228354797948432603737\n",
      "spread:0.067822008992854585230316030, future2.979965614177398974216301868, lp total:5.959931228354797948432603737\n",
      "spread:0.067259233541767520861071228, future2.979965614177398974216301868, lp total:5.959931228354797948432603737\n",
      "spread:0.066071073745009948725289364, future2.979965614177398974216301868, lp total:5.959931228354797948432603737\n",
      "spread:0.062658533742888336629206095, future2.979965614177398974216301868, lp total:5.959931228354797948432603737\n",
      "spread:0.059497113217609933535163613, future2.979965614177398974216301868, lp total:5.959931228354797948432603737\n",
      "spread:0.056085467836650273826696575, future2.979965614177398974216301868, lp total:5.959931228354797948432603737\n",
      "spread:0.052110268735875277821025585, future2.979965614177398974216301868, lp total:5.959931228354797948432603737\n",
      "spread:0.048658367918522127599293169, future2.979965614177398974216301868, lp total:5.959931228354797948432603737\n",
      "spread:0.045704149443885664690665437, future2.979965614177398974216301868, lp total:5.959931228354797948432603737\n",
      "spread:0.042896900745424871234488643, future2.979965614177398974216301868, lp total:5.959931228354797948432603737\n",
      "spread:0.041453907469360582884210903, future2.979965614177398974216301868, lp total:5.959931228354797948432603737\n",
      "spread:0.039429493695858578631551338, future2.979965614177398974216301868, lp total:5.959931228354797948432603737\n",
      "spread:0.037505952675515040300882731, future2.979965614177398974216301868, lp total:5.959931228354797948432603737\n",
      "spread:0.035514945666057937593535016, future2.979965614177398974216301868, lp total:5.959931228354797948432603737\n",
      "spread:0.033704827348187573195609408, future2.979965614177398974216301868, lp total:5.959931228354797948432603737\n"
     ]
    },
    {
     "name": "stderr",
     "output_type": "stream",
     "text": [
      "  0%|▎                                                                                                           | 457/132480 [00:13<30:41, 71.71it/s]"
     ]
    },
    {
     "name": "stdout",
     "output_type": "stream",
     "text": [
      "spread:0.031903249109257514326056378, future2.979965614177398974216301868, lp total:5.959931228354797948432603737\n",
      "spread:0.029783084998737138788704142, future2.979965614177398974216301868, lp total:5.959931228354797948432603737\n",
      "spread:0.027850225396528204273754987, future2.979965614177398974216301868, lp total:5.959931228354797948432603737\n",
      "spread:0.026340533549692658492991047, future2.979965614177398974216301868, lp total:5.959931228354797948432603737\n",
      "spread:0.025969344167827298577136321, future2.979965614177398974216301868, lp total:5.959931228354797948432603737\n",
      "spread:0.025616702564138303866056776, future2.979965614177398974216301868, lp total:5.959931228354797948432603737\n",
      "spread:0.024218404226367398408190754, future2.979965614177398974216301868, lp total:5.959931228354797948432603737\n",
      "spread:0.024444497544830384633957115, future2.979965614177398974216301868, lp total:5.959931228354797948432603737\n",
      "spread:0.024495509793141685506164739, future2.979965614177398974216301868, lp total:5.959931228354797948432603737\n",
      "spread:0.024462096898422193661326925, future2.979965614177398974216301868, lp total:5.959931228354797948432603737\n",
      "spread:0.024512229101601070618193353, future2.979965614177398974216301868, lp total:5.959931228354797948432603737\n",
      "spread:0.025215120699822218620215792, future2.979965614177398974216301868, lp total:5.959931228354797948432603737\n",
      "spread:0.025882825801832590560454291, future2.979965614177398974216301868, lp total:5.959931228354797948432603737\n",
      "spread:0.026517107823144281098488410, future2.979965614177398974216301868, lp total:5.959931228354797948432603737\n"
     ]
    },
    {
     "name": "stderr",
     "output_type": "stream",
     "text": [
      "  0%|▍                                                                                                           | 471/132480 [00:14<56:37, 38.85it/s]"
     ]
    },
    {
     "name": "stdout",
     "output_type": "stream",
     "text": [
      "spread:0.027693297318323239886572373, future2.979965614177398974216301868, lp total:5.959931228354797948432603737\n",
      "spread:0.029630628679138457171179735, future2.979965614177398974216301868, lp total:5.959931228354797948432603737\n",
      "spread:0.032127265582881756805522458, future2.979965614177398974216301868, lp total:5.959931228354797948432603737\n",
      "spread:0.034991121480681379552314398, future2.979965614177398974216301868, lp total:5.959931228354797948432603737\n",
      "spread:0.039765936003490830616511345, future2.979965614177398974216301868, lp total:5.959931228354797948432603737\n",
      "spread:0.043313565886265338102051971, future2.979965614177398974216301868, lp total:5.959931228354797948432603737\n",
      "spread:0.046600611814876272835392235, future2.979965614177398974216301868, lp total:5.959931228354797948432603737\n",
      "spread:0.049394020865233967443278514, future2.979965614177398974216301868, lp total:5.959931228354797948432603737\n",
      "spread:0.053278802140796860719174823, future2.979965614177398974216301868, lp total:5.959931228354797948432603737\n",
      "spread:0.056968063236596609830998402, future2.979965614177398974216301868, lp total:5.959931228354797948432603737\n",
      "spread:0.059979143648203748521303749, future2.979965614177398974216301868, lp total:5.959931228354797948432603737\n"
     ]
    },
    {
     "name": "stderr",
     "output_type": "stream",
     "text": [
      "  0%|▍                                                                                                           | 477/132480 [00:14<58:28, 37.62it/s]"
     ]
    },
    {
     "name": "stdout",
     "output_type": "stream",
     "text": [
      "spread:0.062838900159761221893699476, future2.979965614177398974216301868, lp total:5.959931228354797948432603737\n",
      "spread:0.065472949173573262052694384, future2.979965614177398974216301868, lp total:5.959931228354797948432603737\n",
      "spread:0.068384814015760166527242540, future2.979965614177398974216301868, lp total:5.959931228354797948432603737\n",
      "spread:0.071724688945401398780783708, future2.979965614177398974216301868, lp total:5.959931228354797948432603737\n",
      "spread:0.076950217502848112960693298, future2.979965614177398974216301868, lp total:5.959931228354797948432603737\n",
      "spread:0.081665580418737000508347705, future2.979965614177398974216301868, lp total:5.959931228354797948432603737\n",
      "spread:0.085404290727747007251988949, future2.979965614177398974216301868, lp total:5.959931228354797948432603737\n",
      "spread:0.088954877754920942230371064, future2.979965614177398974216301868, lp total:5.959931228354797948432603737\n",
      "spread:0.092901220130052162674538853, future2.979965614177398974216301868, lp total:5.959931228354797948432603737\n",
      "spread:0.095582923077377544423364005, future2.979965614177398974216301868, lp total:5.959931228354797948432603737\n",
      "spread:0.098129929534404029276169667, future2.979965614177398974216301868, lp total:5.959931228354797948432603737\n"
     ]
    },
    {
     "name": "stderr",
     "output_type": "stream",
     "text": [
      "  0%|▍                                                                                                           | 493/132480 [00:14<44:08, 49.83it/s]"
     ]
    },
    {
     "name": "stdout",
     "output_type": "stream",
     "text": [
      "spread:0.101122612640645626887334354, future2.979965614177398974216301868, lp total:5.959931228354797948432603737\n",
      "spread:0.104046848840305068244454750, future2.979965614177398974216301868, lp total:5.959931228354797948432603737\n",
      "spread:0.106168935729174596941513419, future2.979965614177398974216301868, lp total:5.959931228354797948432603737\n",
      "spread:0.107939001806586167049896449, future2.979965614177398974216301868, lp total:5.959931228354797948432603737\n",
      "spread:0.110438881716158786171387126, future2.979965614177398974216301868, lp total:5.959931228354797948432603737\n",
      "spread:0.112813236126514108987039127, future2.979965614177398974216301868, lp total:5.959931228354797948432603737\n",
      "spread:0.115232131250077751249020448, future2.979965614177398974216301868, lp total:5.959931228354797948432603737\n",
      "spread:0.117038564565570208100409511, future2.979965614177398974216301868, lp total:5.959931228354797948432603737\n",
      "spread:0.118754398610774389456924072, future2.979965614177398974216301868, lp total:5.959931228354797948432603737\n",
      "spread:0.119730122751212656036039948, future2.979965614177398974216301868, lp total:5.959931228354797948432603737\n",
      "spread:0.120738704725673010626386174, future2.979965614177398974216301868, lp total:5.959931228354797948432603737\n",
      "spread:0.121206577288133525981538899, future2.979965614177398974216301868, lp total:5.959931228354797948432603737\n"
     ]
    },
    {
     "name": "stderr",
     "output_type": "stream",
     "text": [
      "  0%|▍                                                                                                           | 510/132480 [00:14<35:06, 62.64it/s]"
     ]
    },
    {
     "name": "stdout",
     "output_type": "stream",
     "text": [
      "spread:0.121651037595377584853413510, future2.979965614177398974216301868, lp total:5.959931228354797948432603737\n",
      "spread:0.122154931644355788144670508, future2.979965614177398974216301868, lp total:5.959931228354797948432603737\n",
      "spread:0.123614238489223266467189813, future2.979965614177398974216301868, lp total:5.959931228354797948432603737\n",
      "spread:0.125000398784083720030810072, future2.979965614177398974216301868, lp total:5.959931228354797948432603737\n",
      "spread:0.125581696362819687116416903, future2.979965614177398974216301868, lp total:5.959931228354797948432603737\n",
      "spread:0.126133900305799654626148175, future2.979965614177398974216301868, lp total:5.959931228354797948432603737\n",
      "spread:0.126005365363138821262167107, future2.979965614177398974216301868, lp total:5.959931228354797948432603737\n",
      "spread:0.125883255761504303383193413, future2.979965614177398974216301868, lp total:5.959931228354797948432603737\n",
      "spread:0.126093748475214765300432110, future2.979965614177398974216301868, lp total:5.959931228354797948432603737\n",
      "spread:0.126212078431157683486252392, future2.979965614177398974216301868, lp total:5.959931228354797948432603737\n",
      "spread:0.125916436399052578511965661, future2.979965614177398974216301868, lp total:5.959931228354797948432603737\n",
      "spread:0.125635569029552797463025060, future2.979965614177398974216301868, lp total:5.959931228354797948432603737\n",
      "spread:0.125450338183874772996549548, future2.979965614177398974216301868, lp total:5.959931228354797948432603737\n",
      "spread:0.124132635913894556053274360, future2.979965614177398974216301868, lp total:5.959931228354797948432603737\n",
      "spread:0.122636178721763132422758298, future2.979965614177398974216301868, lp total:5.959931228354797948432603737\n",
      "spread:0.121458877982392174139908586, future2.979965614177398974216301868, lp total:5.959931228354797948432603737\n",
      "spread:0.120666495665952416325115053, future2.979965614177398974216301868, lp total:5.959931228354797948432603737\n",
      "spread:0.120811334838495686137173389, future2.979965614177398974216301868, lp total:5.959931228354797948432603737\n",
      "spread:0.121030579606523142085422069, future2.979965614177398974216301868, lp total:5.959931228354797948432603737\n"
     ]
    },
    {
     "name": "stderr",
     "output_type": "stream",
     "text": [
      "  0%|▍                                                                                                           | 526/132480 [00:15<36:59, 59.45it/s]"
     ]
    },
    {
     "name": "stdout",
     "output_type": "stream",
     "text": [
      "spread:0.121075570043629903802970888, future2.979965614177398974216301868, lp total:5.959931228354797948432603737\n",
      "spread:0.120791826670635524503304753, future2.979965614177398974216301868, lp total:5.959931228354797948432603737\n",
      "spread:0.120522263615119543311840371, future2.979965614177398974216301868, lp total:5.959931228354797948432603737\n",
      "spread:0.120266172528935832968765573, future2.979965614177398974216301868, lp total:5.959931228354797948432603737\n",
      "spread:0.120022880416286478303972277, future2.979965614177398974216301868, lp total:5.959931228354797948432603737\n",
      "spread:0.119791747872433165638227197, future2.979965614177398974216301868, lp total:5.959931228354797948432603737\n",
      "spread:0.119408952357649489205371219, future2.979965614177398974216301868, lp total:5.959931228354797948432603737\n",
      "spread:0.118555803769028300056343278, future2.979965614177398974216301868, lp total:5.959931228354797948432603737\n",
      "spread:0.115789898115565717402333730, future2.979965614177398974216301868, lp total:5.959931228354797948432603737\n",
      "spread:0.113161636689117862120421379, future2.979965614177398974216301868, lp total:5.959931228354797948432603737\n",
      "spread:0.110094438519195997445278710, future2.979965614177398974216301868, lp total:5.959931228354797948432603737\n",
      "spread:0.106935663639110584879730425, future2.979965614177398974216301868, lp total:5.959931228354797948432603737\n",
      "spread:0.104992683059512103527819316, future2.979965614177398974216301868, lp total:5.959931228354797948432603737\n",
      "spread:0.103146530361198138957461770, future2.979965614177398974216301868, lp total:5.959931228354797948432603737\n",
      "spread:0.101636973517575553073589181, future2.979965614177398974216301868, lp total:5.959931228354797948432603737\n"
     ]
    },
    {
     "name": "stderr",
     "output_type": "stream",
     "text": [
      "  0%|▍                                                                                                           | 540/132480 [00:15<38:14, 57.50it/s]"
     ]
    },
    {
     "name": "stdout",
     "output_type": "stream",
     "text": [
      "spread:0.100202700693086506074841678, future2.979965614177398974216301868, lp total:5.959931228354797948432603737\n",
      "spread:0.098676865033291804094065567, future2.979965614177398974216301868, lp total:5.959931228354797948432603737\n",
      "spread:0.097227123148240890706941181, future2.979965614177398974216301868, lp total:5.959931228354797948432603737\n",
      "spread:0.095605030427889451751393755, future2.979965614177398974216301868, lp total:5.959931228354797948432603737\n",
      "spread:0.094063818583786575552277966, future2.979965614177398974216301868, lp total:5.959931228354797948432603737\n",
      "spread:0.092599465341031587970758787, future2.979965614177398974216301868, lp total:5.959931228354797948432603737\n",
      "spread:0.091534506454309674199115360, future2.979965614177398974216301868, lp total:5.959931228354797948432603737\n",
      "spread:0.090522699080040660107984023, future2.979965614177398974216301868, lp total:5.959931228354797948432603737\n",
      "spread:0.089561395031228659124751650, future2.979965614177398974216301868, lp total:5.959931228354797948432603737\n",
      "spread:0.088403232163899376324301347, future2.979965614177398974216301868, lp total:5.959931228354797948432603737\n",
      "spread:0.087302863400191370164853747, future2.979965614177398974216301868, lp total:5.959931228354797948432603737\n",
      "spread:0.085930990935137220792310962, future2.979965614177398974216301868, lp total:5.959931228354797948432603737\n",
      "spread:0.084627552093378042971237153, future2.979965614177398974216301868, lp total:5.959931228354797948432603737\n",
      "spread:0.083552373339065430816456187, future2.979965614177398974216301868, lp total:5.959931228354797948432603737\n",
      "spread:0.083020780133990138539924518, future2.979965614177398974216301868, lp total:5.959931228354797948432603737\n",
      "spread:0.082515742568780750396988732, future2.979965614177398974216301868, lp total:5.959931228354797948432603737\n",
      "spread:0.082362732413127399710882356, future2.979965614177398974216301868, lp total:5.959931228354797948432603737\n"
     ]
    },
    {
     "name": "stderr",
     "output_type": "stream",
     "text": [
      "  0%|▍                                                                                                           | 563/132480 [00:15<26:52, 81.83it/s]"
     ]
    },
    {
     "name": "stdout",
     "output_type": "stream",
     "text": [
      "spread:0.082544293280367068483988876, future2.979965614177398974216301868, lp total:5.959931228354797948432603737\n",
      "spread:0.082716773302480724610928478, future2.979965614177398974216301868, lp total:5.959931228354797948432603737\n",
      "spread:0.082880626794963517108057858, future2.979965614177398974216301868, lp total:5.959931228354797948432603737\n",
      "spread:0.084181415352248252114877001, future2.979965614177398974216301868, lp total:5.959931228354797948432603737\n",
      "spread:0.085417020675003739041547064, future2.979965614177398974216301868, lp total:5.959931228354797948432603737\n",
      "spread:0.086590715970654912384948392, future2.979965614177398974216301868, lp total:5.959931228354797948432603737\n",
      "spread:0.087787434697795593279693321, future2.979965614177398974216301868, lp total:5.959931228354797948432603737\n",
      "spread:0.089415255179510537535850121, future2.979965614177398974216301868, lp total:5.959931228354797948432603737\n",
      "spread:0.090879608858269685990924906, future2.979965614177398974216301868, lp total:5.959931228354797948432603737\n",
      "spread:0.092270562572592983023685923, future2.979965614177398974216301868, lp total:5.959931228354797948432603737\n",
      "spread:0.093182766780519970991057764, future2.979965614177398974216301868, lp total:5.959931228354797948432603737\n",
      "spread:0.094049290034902612411660318, future2.979965614177398974216301868, lp total:5.959931228354797948432603737\n",
      "spread:0.095035990159277545424344839, future2.979965614177398974216301868, lp total:5.959931228354797948432603737\n",
      "spread:0.097118989534037261383060015, future2.979965614177398974216301868, lp total:5.959931228354797948432603737\n",
      "spread:0.099097470059773347951527825, future2.979965614177398974216301868, lp total:5.959931228354797948432603737\n",
      "spread:0.100894836608269118534664482, future2.979965614177398974216301868, lp total:5.959931228354797948432603737\n",
      "spread:0.102602060140054839502748006, future2.979965614177398974216301868, lp total:5.959931228354797948432603737\n",
      "spread:0.104223674652986936740463147, future2.979965614177398974216301868, lp total:5.959931228354797948432603737\n",
      "spread:0.105763984818178142277983168, future2.979965614177398974216301868, lp total:5.959931228354797948432603737\n",
      "spread:0.107227077703779151043548909, future2.979965614177398974216301868, lp total:5.959931228354797948432603737\n",
      "spread:0.108371481926716758152386422, future2.979965614177398974216301868, lp total:5.959931228354797948432603737\n",
      "spread:0.109458554547020298750888053, future2.979965614177398974216301868, lp total:5.959931228354797948432603737\n",
      "spread:0.110245936871415360862776360, future2.979965614177398974216301868, lp total:5.959931228354797948432603737\n"
     ]
    },
    {
     "name": "stderr",
     "output_type": "stream",
     "text": [
      "  0%|▍                                                                                                           | 581/132480 [00:15<28:29, 77.16it/s]"
     ]
    },
    {
     "name": "stdout",
     "output_type": "stream",
     "text": [
      "spread:0.111239116649383139030953628, future2.979965614177398974216301868, lp total:5.959931228354797948432603737\n",
      "spread:0.112673153792960643198971686, future2.979965614177398974216301868, lp total:5.959931228354797948432603737\n",
      "spread:0.114035314151146538445171341, future2.979965614177398974216301868, lp total:5.959931228354797948432603737\n",
      "spread:0.115247442985176046302371476, future2.979965614177398974216301868, lp total:5.959931228354797948432603737\n",
      "spread:0.115663367380640509050382977, future2.979965614177398974216301868, lp total:5.959931228354797948432603737\n",
      "spread:0.116058480838390301451723535, future2.979965614177398974216301868, lp total:5.959931228354797948432603737\n",
      "spread:0.116433825341115847756345834, future2.979965614177398974216301868, lp total:5.959931228354797948432603737\n",
      "spread:0.116463744022319708833384664, future2.979965614177398974216301868, lp total:5.959931228354797948432603737\n",
      "spread:0.116492166693303489635656964, future2.979965614177398974216301868, lp total:5.959931228354797948432603737\n",
      "spread:0.116600818069336411524002080, future2.979965614177398974216301868, lp total:5.959931228354797948432603737\n",
      "spread:0.116704035872150501921581964, future2.979965614177398974216301868, lp total:5.959931228354797948432603737\n",
      "spread:0.116802091878355335855796596, future2.979965614177398974216301868, lp total:5.959931228354797948432603737\n",
      "spread:0.117385289081756789517387848, future2.979965614177398974216301868, lp total:5.959931228354797948432603737\n",
      "spread:0.117939297487185389554752122, future2.979965614177398974216301868, lp total:5.959931228354797948432603737\n"
     ]
    },
    {
     "name": "stderr",
     "output_type": "stream",
     "text": [
      "  0%|▍                                                                                                           | 589/132480 [00:16<47:46, 46.02it/s]"
     ]
    },
    {
     "name": "stdout",
     "output_type": "stream",
     "text": [
      "spread:0.118138885020697295702749129, future2.979965614177398974216301868, lp total:5.959931228354797948432603737\n",
      "spread:0.118246836509783568992294784, future2.979965614177398974216301868, lp total:5.959931228354797948432603737\n",
      "spread:0.118349389432848432808866584, future2.979965614177398974216301868, lp total:5.959931228354797948432603737\n",
      "spread:0.117712287572824188886929910, future2.979965614177398974216301868, lp total:5.959931228354797948432603737\n",
      "spread:0.117188594636982858666037309, future2.979965614177398974216301868, lp total:5.959931228354797948432603737\n",
      "spread:0.117180774125655499005785089, future2.979965614177398974216301868, lp total:5.959931228354797948432603737\n"
     ]
    },
    {
     "name": "stderr",
     "output_type": "stream",
     "text": [
      "  0%|▍                                                                                                           | 596/132480 [00:16<52:58, 41.49it/s]"
     ]
    },
    {
     "name": "stdout",
     "output_type": "stream",
     "text": [
      "spread:0.117173344634689223765837025, future2.979965614177398974216301868, lp total:5.959931228354797948432603737\n",
      "spread:0.117166286613576645476627057, future2.979965614177398974216301868, lp total:5.959931228354797948432603737\n",
      "spread:0.117159581489280454862489093, future2.979965614177398974216301868, lp total:5.959931228354797948432603737\n",
      "spread:0.116745099116483951040561739, future2.979965614177398974216301868, lp total:5.959931228354797948432603737\n",
      "spread:0.115046586759105653535701148, future2.979965614177398974216301868, lp total:5.959931228354797948432603737\n",
      "spread:0.113432754532015084169065856, future2.979965614177398974216301868, lp total:5.959931228354797948432603737\n",
      "spread:0.111899392308948845530835452, future2.979965614177398974216301868, lp total:5.959931228354797948432603737\n"
     ]
    },
    {
     "name": "stderr",
     "output_type": "stream",
     "text": [
      "  0%|▍                                                                                                           | 608/132480 [00:16<46:28, 47.29it/s]"
     ]
    },
    {
     "name": "stdout",
     "output_type": "stream",
     "text": [
      "spread:0.110931756015186816510165709, future2.979965614177398974216301868, lp total:5.959931228354797948432603737\n",
      "spread:0.110012421877392269683041451, future2.979965614177398974216301868, lp total:5.959931228354797948432603737\n",
      "spread:0.109138982544365156233218853, future2.979965614177398974216301868, lp total:5.959931228354797948432603737\n",
      "spread:0.108309150277639828840296709, future2.979965614177398974216301868, lp total:5.959931228354797948432603737\n",
      "spread:0.107520751044238289157119960, future2.979965614177398974216301868, lp total:5.959931228354797948432603737\n",
      "spread:0.106771718897660913595599035, future2.979965614177398974216301868, lp total:5.959931228354797948432603737\n",
      "spread:0.106060090633386178012748374, future2.979965614177398974216301868, lp total:5.959931228354797948432603737\n",
      "spread:0.105628856204584406215472317, future2.979965614177398974216301868, lp total:5.959931228354797948432603737\n",
      "spread:0.105300804350735125156319880, future2.979965614177398974216301868, lp total:5.959931228354797948432603737\n",
      "spread:0.104989145935927398490326868, future2.979965614177398974216301868, lp total:5.959931228354797948432603737\n",
      "spread:0.104693062180295754016747239, future2.979965614177398974216301868, lp total:5.959931228354797948432603737\n"
     ]
    },
    {
     "name": "stderr",
     "output_type": "stream",
     "text": [
      "  0%|▌                                                                                                           | 620/132480 [00:16<47:52, 45.90it/s]"
     ]
    },
    {
     "name": "stdout",
     "output_type": "stream",
     "text": [
      "spread:0.104411775156045006969070667, future2.979965614177398974216301868, lp total:5.959931228354797948432603737\n",
      "spread:0.103410009506823208989122701, future2.979965614177398974216301868, lp total:5.959931228354797948432603737\n",
      "spread:0.101887313553047928729272048, future2.979965614177398974216301868, lp total:5.959931228354797948432603737\n",
      "spread:0.100440555183434192735195154, future2.979965614177398974216301868, lp total:5.959931228354797948432603737\n",
      "spread:0.099065956707647607145564135, future2.979965614177398974216301868, lp total:5.959931228354797948432603737\n",
      "spread:0.097759927454578446589863065, future2.979965614177398974216301868, lp total:5.959931228354797948432603737\n",
      "spread:0.095133357946954055034265058, future2.979965614177398974216301868, lp total:5.959931228354797948432603737\n",
      "spread:0.092719000097948751011999388, future2.979965614177398974216301868, lp total:5.959931228354797948432603737\n",
      "spread:0.090424864432977065865991400, future2.979965614177398974216301868, lp total:5.959931228354797948432603737\n",
      "spread:0.088652618035740131437648676, future2.979965614177398974216301868, lp total:5.959931228354797948432603737\n",
      "spread:0.087050278144841387050623362, future2.979965614177398974216301868, lp total:5.959931228354797948432603737\n",
      "spread:0.085527836962682959644035879, future2.979965614177398974216301868, lp total:5.959931228354797948432603737\n"
     ]
    },
    {
     "name": "stderr",
     "output_type": "stream",
     "text": [
      "  0%|▌                                                                                                           | 626/132480 [00:17<52:23, 41.94it/s]"
     ]
    },
    {
     "name": "stdout",
     "output_type": "stream",
     "text": [
      "spread:0.082369652073585218533913272, future2.979965614177398974216301868, lp total:5.959931228354797948432603737\n",
      "spread:0.079531446127351160710199339, future2.979965614177398974216301868, lp total:5.959931228354797948432603737\n",
      "spread:0.077323520669051106024912870, future2.979965614177398974216301868, lp total:5.959931228354797948432603737\n",
      "spread:0.075062497247467257562138637, future2.979965614177398974216301868, lp total:5.959931228354797948432603737\n",
      "spread:0.073485114622960879310232995, future2.979965614177398974216301868, lp total:5.959931228354797948432603737\n",
      "spread:0.072394546621014070415817520, future2.979965614177398974216301868, lp total:5.959931228354797948432603737\n",
      "spread:0.071113465853295981258828568, future2.979965614177398974216301868, lp total:5.959931228354797948432603737\n",
      "spread:0.069814658955466977168523724, future2.979965614177398974216301868, lp total:5.959931228354797948432603737\n"
     ]
    },
    {
     "name": "stderr",
     "output_type": "stream",
     "text": [
      "  0%|▌                                                                                                         | 631/132480 [00:17<1:08:05, 32.27it/s]"
     ]
    },
    {
     "name": "stdout",
     "output_type": "stream",
     "text": [
      "spread:0.068580649063433090211426161, future2.979965614177398974216301868, lp total:5.959931228354797948432603737\n",
      "spread:0.067408210278041486182437744, future2.979965614177398974216301868, lp total:5.959931228354797948432603737\n",
      "spread:0.064825560435895332309361217, future2.979965614177398974216301868, lp total:5.959931228354797948432603737\n",
      "spread:0.062371476337834163643034365, future2.979965614177398974216301868, lp total:5.959931228354797948432603737\n",
      "spread:0.060365897999851144999049936, future2.979965614177398974216301868, lp total:5.959931228354797948432603737\n",
      "spread:0.059521794679822436404440328, future2.979965614177398974216301868, lp total:5.959931228354797948432603737\n"
     ]
    },
    {
     "name": "stderr",
     "output_type": "stream",
     "text": [
      "  0%|▌                                                                                                         | 639/132480 [00:17<1:19:03, 27.79it/s]"
     ]
    },
    {
     "name": "stdout",
     "output_type": "stream",
     "text": [
      "spread:0.058883274866494810615637618, future2.979965614177398974216301868, lp total:5.959931228354797948432603737\n",
      "spread:0.057296412122464958060499120, future2.979965614177398974216301868, lp total:5.959931228354797948432603737\n",
      "spread:0.054646288508310012097494557, future2.979965614177398974216301868, lp total:5.959931228354797948432603737\n",
      "spread:0.051149834170960083104233531, future2.979965614177398974216301868, lp total:5.959931228354797948432603737\n",
      "spread:0.048887296387315770905467406, future2.979965614177398974216301868, lp total:5.959931228354797948432603737\n",
      "spread:0.047390602556899701622639851, future2.979965614177398974216301868, lp total:5.959931228354797948432603737\n",
      "spread:0.045152082544731314113927420, future2.979965614177398974216301868, lp total:5.959931228354797948432603737\n",
      "spread:0.042535447634332155110742268, future2.979965614177398974216301868, lp total:5.959931228354797948432603737\n"
     ]
    },
    {
     "name": "stderr",
     "output_type": "stream",
     "text": [
      "  0%|▌                                                                                                         | 646/132480 [00:17<1:26:28, 25.41it/s]"
     ]
    },
    {
     "name": "stdout",
     "output_type": "stream",
     "text": [
      "spread:0.038418601891643747152005220, future2.979965614177398974216301868, lp total:5.959931228354797948432603737\n",
      "spread:0.033936005976043637417776167, future2.979965614177398974216301868, lp total:5.959931228354797948432603737\n",
      "spread:0.028861651718428693768366411, future2.979965614177398974216301868, lp total:5.959931228354797948432603737\n",
      "spread:0.024690402444551465588561901, future2.979965614177398974216301868, lp total:5.959931228354797948432603737\n",
      "spread:0.020400273601146222293793907, future2.979965614177398974216301868, lp total:5.959931228354797948432603737\n",
      "spread:0.013637472210003406554536601, future2.979965614177398974216301868, lp total:5.959931228354797948432603737\n",
      "spread:0.003233958240420222739605685, future2.979965614177398974216301868, lp total:5.959931228354797948432603737\n",
      "spread:-0.006253415164371562191143606, future2.979965614177398974216301868, lp total:5.959931228354797948432603737\n",
      "spread:-0.015841682447404652761516492, future2.979965614177398974216301868, lp total:5.959931228354797948432603737\n"
     ]
    },
    {
     "name": "stderr",
     "output_type": "stream",
     "text": [
      "  0%|▌                                                                                                         | 652/132480 [00:18<1:09:55, 31.42it/s]"
     ]
    },
    {
     "name": "stdout",
     "output_type": "stream",
     "text": [
      "spread:-0.025850318606541154379690677, future2.979965614177398974216301868, lp total:5.959931228354797948432603737\n",
      "spread:-0.035610339278186424647440683, future2.979965614177398974216301868, lp total:5.959931228354797948432603737\n",
      "spread:-0.044646904026709204088040931, future2.979965614177398974216301868, lp total:5.959931228354797948432603737\n",
      "spread:-0.052832208566756736367240389, future2.979965614177398974216301868, lp total:5.959931228354797948432603737\n",
      "spread:-0.059962907023253010826134734, future2.979965614177398974216301868, lp total:5.959931228354797948432603737\n",
      "spread:-0.066985715060386362838101667, future2.979965614177398974216301868, lp total:5.959931228354797948432603737\n"
     ]
    },
    {
     "name": "stderr",
     "output_type": "stream",
     "text": [
      "  0%|▌                                                                                                         | 662/132480 [00:18<1:07:51, 32.38it/s]"
     ]
    },
    {
     "name": "stdout",
     "output_type": "stream",
     "text": [
      "spread:-0.073661558161742974459427168, future2.979965614177398974216301868, lp total:5.959931228354797948432603737\n",
      "spread:-0.080170429930870628839999914, future2.979965614177398974216301868, lp total:5.959931228354797948432603737\n",
      "spread:-0.086520553768388351833925031, future2.979965614177398974216301868, lp total:5.959931228354797948432603737\n",
      "spread:-0.091740278613701251887433781, future2.979965614177398974216301868, lp total:5.959931228354797948432603737\n",
      "spread:-0.096537896203031474535908866, future2.979965614177398974216301868, lp total:5.959931228354797948432603737\n",
      "spread:-0.100852282355192924319782365, future2.979965614177398974216301868, lp total:5.959931228354797948432603737\n",
      "spread:-0.105197911934401838461576675, future2.979965614177398974216301868, lp total:5.959931228354797948432603737\n"
     ]
    },
    {
     "name": "stderr",
     "output_type": "stream",
     "text": [
      "  1%|▌                                                                                                         | 666/132480 [00:18<1:15:08, 29.24it/s]"
     ]
    },
    {
     "name": "stdout",
     "output_type": "stream",
     "text": [
      "spread:-0.110554241604077966800667946, future2.979965614177398974216301868, lp total:5.959931228354797948432603737\n",
      "spread:-0.115972080534852786253444647, future2.979965614177398974216301868, lp total:5.959931228354797948432603737\n",
      "spread:-0.120630882208635642544601944, future2.979965614177398974216301868, lp total:5.959931228354797948432603737\n",
      "spread:-0.127509977106739930389148328, future2.979965614177398974216301868, lp total:5.959931228354797948432603737\n",
      "spread:-0.134049116157917854899497834, future2.979965614177398974216301868, lp total:5.959931228354797948432603737\n",
      "spread:-0.142956728094805317455240315, future2.979965614177398974216301868, lp total:5.959931228354797948432603737\n"
     ]
    },
    {
     "name": "stderr",
     "output_type": "stream",
     "text": [
      "  1%|▌                                                                                                         | 677/132480 [00:18<1:02:38, 35.07it/s]"
     ]
    },
    {
     "name": "stdout",
     "output_type": "stream",
     "text": [
      "spread:-0.149630646784795806855419462, future2.979965614177398974216301868, lp total:5.959931228354797948432603737\n",
      "spread:-0.156464826401472719968998477, future2.979965614177398974216301868, lp total:5.959931228354797948432603737\n",
      "spread:-0.162388980600137078139821375, future2.979965614177398974216301868, lp total:5.959931228354797948432603737\n",
      "spread:-0.167528834110090432366880254, future2.979965614177398974216301868, lp total:5.959931228354797948432603737\n",
      "spread:-0.173723381841632673841958193, future2.979965614177398974216301868, lp total:5.959931228354797948432603737\n",
      "spread:-0.179120357527404492053015120, future2.979965614177398974216301868, lp total:5.959931228354797948432603737\n",
      "spread:-0.184331845890913092777843124, future2.979965614177398974216301868, lp total:5.959931228354797948432603737\n",
      "spread:-0.187398483565450120219228686, future2.979965614177398974216301868, lp total:5.959931228354797948432603737\n"
     ]
    },
    {
     "name": "stderr",
     "output_type": "stream",
     "text": [
      "  1%|▌                                                                                                         | 686/132480 [00:19<1:10:00, 31.38it/s]"
     ]
    },
    {
     "name": "stdout",
     "output_type": "stream",
     "text": [
      "spread:-0.189737459913611619874731074, future2.979965614177398974216301868, lp total:5.959931228354797948432603737\n",
      "spread:-0.189490416174649615307502326, future2.979965614177398974216301868, lp total:5.959931228354797948432603737\n",
      "spread:-0.189502986238295389642334048, future2.979965614177398974216301868, lp total:5.959931228354797948432603737\n",
      "spread:-0.190503268937731752710975371, future2.979965614177398974216301868, lp total:5.959931228354797948432603737\n",
      "spread:-0.192029697551212199197742556, future2.979965614177398974216301868, lp total:5.959931228354797948432603737\n",
      "spread:-0.193397716598249802343337729, future2.979965614177398974216301868, lp total:5.959931228354797948432603737\n",
      "spread:-0.194697492447112177526488307, future2.979965614177398974216301868, lp total:5.959931228354797948432603737\n",
      "spread:-0.195273719506563342511615642, future2.979965614177398974216301868, lp total:5.959931228354797948432603737\n",
      "spread:-0.196068246030305959074599689, future2.979965614177398974216301868, lp total:5.959931228354797948432603737\n"
     ]
    },
    {
     "name": "stderr",
     "output_type": "stream",
     "text": [
      "  1%|▌                                                                                                         | 694/132480 [00:19<1:11:09, 30.86it/s]"
     ]
    },
    {
     "name": "stdout",
     "output_type": "stream",
     "text": [
      "spread:-0.197234780085832016043205249, future2.979965614177398974216301868, lp total:5.959931228354797948432603737\n",
      "spread:-0.197601865096392470155564305, future2.979965614177398974216301868, lp total:5.959931228354797948432603737\n",
      "spread:-0.197950607212702899263218468, future2.979965614177398974216301868, lp total:5.959931228354797948432603737\n",
      "spread:-0.197787390922827693340478497, future2.979965614177398974216301868, lp total:5.959931228354797948432603737\n",
      "spread:-0.197549890244522429678934128, future2.979965614177398974216301868, lp total:5.959931228354797948432603737\n",
      "spread:-0.197406715109017981830620764, future2.979965614177398974216301868, lp total:5.959931228354797948432603737\n",
      "spread:-0.197270700457798311138734438, future2.979965614177398974216301868, lp total:5.959931228354797948432603737\n",
      "spread:-0.198541865987340035141710791, future2.979965614177398974216301868, lp total:5.959931228354797948432603737\n"
     ]
    },
    {
     "name": "stderr",
     "output_type": "stream",
     "text": [
      "  1%|▌                                                                                                         | 698/132480 [00:19<1:10:29, 31.16it/s]"
     ]
    },
    {
     "name": "stdout",
     "output_type": "stream",
     "text": [
      "spread:-0.198761227407263198082215233, future2.979965614177398974216301868, lp total:5.959931228354797948432603737\n",
      "spread:-0.199299213642358724374647468, future2.979965614177398974216301868, lp total:5.959931228354797948432603737\n",
      "spread:-0.199892706942656295746402291, future2.979965614177398974216301868, lp total:5.959931228354797948432603737\n",
      "spread:-0.200291775216267970093905505, future2.979965614177398974216301868, lp total:5.959931228354797948432603737\n",
      "spread:-0.200506087280174790502411000, future2.979965614177398974216301868, lp total:5.959931228354797948432603737\n",
      "spread:-0.199555098620858131298003473, future2.979965614177398974216301868, lp total:5.959931228354797948432603737\n"
     ]
    },
    {
     "name": "stderr",
     "output_type": "stream",
     "text": [
      "  1%|▌                                                                                                         | 706/132480 [00:19<1:17:34, 28.31it/s]"
     ]
    },
    {
     "name": "stdout",
     "output_type": "stream",
     "text": [
      "spread:-0.197247838751355406517047360, future2.979965614177398974216301868, lp total:5.959931228354797948432603737\n",
      "spread:-0.195056390411732039027545200, future2.979965614177398974216301868, lp total:5.959931228354797948432603737\n",
      "spread:-0.192396427123315848431714351, future2.979965614177398974216301868, lp total:5.959931228354797948432603737\n",
      "spread:-0.189870058218991815005999033, future2.979965614177398974216301868, lp total:5.959931228354797948432603737\n",
      "spread:-0.186643849268530050270646443, future2.979965614177398974216301868, lp total:5.959931228354797948432603737\n",
      "spread:-0.182835354995439590668841941, future2.979965614177398974216301868, lp total:5.959931228354797948432603737\n"
     ]
    },
    {
     "name": "stderr",
     "output_type": "stream",
     "text": [
      "  1%|▌                                                                                                         | 716/132480 [00:20<1:06:13, 33.16it/s]"
     ]
    },
    {
     "name": "stdout",
     "output_type": "stream",
     "text": [
      "spread:-0.179135777695756705100038576, future2.979965614177398974216301868, lp total:5.959931228354797948432603737\n",
      "spread:-0.175622332963890788446169750, future2.979965614177398974216301868, lp total:5.959931228354797948432603737\n",
      "spread:-0.172202914839582740327606750, future2.979965614177398974216301868, lp total:5.959931228354797948432603737\n",
      "spread:-0.168955453438429370819493349, future2.979965614177398974216301868, lp total:5.959931228354797948432603737\n",
      "spread:-0.166036523985872867954560134, future2.979965614177398974216301868, lp total:5.959931228354797948432603737\n",
      "spread:-0.162851132486635442317444645, future2.979965614177398974216301868, lp total:5.959931228354797948432603737\n",
      "spread:-0.158916564809139062262821808, future2.979965614177398974216301868, lp total:5.959931228354797948432603737\n",
      "spread:-0.155180031208909292604062043, future2.979965614177398974216301868, lp total:5.959931228354797948432603737\n",
      "spread:-0.151631502008071027609820033, future2.979965614177398974216301868, lp total:5.959931228354797948432603737\n",
      "spread:-0.148261461585960114158309281, future2.979965614177398974216301868, lp total:5.959931228354797948432603737\n"
     ]
    },
    {
     "name": "stderr",
     "output_type": "stream",
     "text": [
      "  1%|▌                                                                                                         | 720/132480 [00:20<1:15:36, 29.04it/s]"
     ]
    },
    {
     "name": "stdout",
     "output_type": "stream",
     "text": [
      "spread:-0.144895663201229115862171338, future2.979965614177398974216301868, lp total:5.959931228354797948432603737\n",
      "spread:-0.141699110674565305674828611, future2.979965614177398974216301868, lp total:5.959931228354797948432603737\n",
      "spread:-0.138910923263755532932929839, future2.979965614177398974216301868, lp total:5.959931228354797948432603737\n",
      "spread:-0.136262801367223825876536809, future2.979965614177398974216301868, lp total:5.959931228354797948432603737\n"
     ]
    },
    {
     "name": "stderr",
     "output_type": "stream",
     "text": [
      "  1%|▌                                                                                                         | 727/132480 [00:20<1:28:22, 24.85it/s]"
     ]
    },
    {
     "name": "stdout",
     "output_type": "stream",
     "text": [
      "spread:-0.133252491539503624412557970, future2.979965614177398974216301868, lp total:5.959931228354797948432603737\n",
      "spread:-0.130228382155549026715426990, future2.979965614177398974216301868, lp total:5.959931228354797948432603737\n",
      "spread:-0.127356250308745266518761965, future2.979965614177398974216301868, lp total:5.959931228354797948432603737\n",
      "spread:-0.125617938452657142117796147, future2.979965614177398974216301868, lp total:5.959931228354797948432603737\n",
      "spread:-0.125777789298774328743456437, future2.979965614177398974216301868, lp total:5.959931228354797948432603737\n",
      "spread:-0.125518378506655155999643656, future2.979965614177398974216301868, lp total:5.959931228354797948432603737\n",
      "spread:-0.125189668708924748264302409, future2.979965614177398974216301868, lp total:5.959931228354797948432603737\n",
      "spread:-0.125041941689103756130409235, future2.979965614177398974216301868, lp total:5.959931228354797948432603737\n",
      "spread:-0.124654787363360903201278994, future2.979965614177398974216301868, lp total:5.959931228354797948432603737\n"
     ]
    },
    {
     "name": "stderr",
     "output_type": "stream",
     "text": [
      "  1%|▌                                                                                                         | 732/132480 [00:20<1:25:56, 25.55it/s]"
     ]
    },
    {
     "name": "stdout",
     "output_type": "stream",
     "text": [
      "spread:-0.124204719119019982302694179, future2.979965614177398974216301868, lp total:5.959931228354797948432603737\n",
      "spread:-0.123118648667877658513004210, future2.979965614177398974216301868, lp total:5.959931228354797948432603737\n",
      "spread:-0.122498576436554162850800326, future2.979965614177398974216301868, lp total:5.959931228354797948432603737\n",
      "spread:-0.122074116193639448763628547, future2.979965614177398974216301868, lp total:5.959931228354797948432603737\n",
      "spread:-0.121917691883723619163128728, future2.979965614177398974216301868, lp total:5.959931228354797948432603737\n",
      "spread:-0.122344678112237461757613011, future2.979965614177398974216301868, lp total:5.959931228354797948432603737\n",
      "spread:-0.122668123453157606851420632, future2.979965614177398974216301868, lp total:5.959931228354797948432603737\n",
      "spread:-0.123057614643631072744540238, future2.979965614177398974216301868, lp total:5.959931228354797948432603737\n",
      "spread:-0.124085066824338971365953172, future2.979965614177398974216301868, lp total:5.959931228354797948432603737\n",
      "spread:-0.125882403208126502202831110, future2.979965614177398974216301868, lp total:5.959931228354797948432603737\n",
      "spread:-0.127590145646768491440017053, future2.979965614177398974216301868, lp total:5.959931228354797948432603737\n"
     ]
    },
    {
     "name": "stderr",
     "output_type": "stream",
     "text": [
      "  1%|▌                                                                                                         | 747/132480 [00:21<1:01:20, 35.79it/s]"
     ]
    },
    {
     "name": "stdout",
     "output_type": "stream",
     "text": [
      "spread:-0.129212747296281751455222942, future2.979965614177398974216301868, lp total:5.959931228354797948432603737\n",
      "spread:-0.130754441233541066232045618, future2.979965614177398974216301868, lp total:5.959931228354797948432603737\n",
      "spread:-0.132137121189384216119412540, future2.979965614177398974216301868, lp total:5.959931228354797948432603737\n",
      "spread:-0.133532968458525608114645692, future2.979965614177398974216301868, lp total:5.959931228354797948432603737\n",
      "spread:-0.134859187900935816326077040, future2.979965614177398974216301868, lp total:5.959931228354797948432603737\n",
      "spread:-0.136119244895570261516440551, future2.979965614177398974216301868, lp total:5.959931228354797948432603737\n",
      "spread:-0.137316433109382154472167446, future2.979965614177398974216301868, lp total:5.959931228354797948432603737\n"
     ]
    },
    {
     "name": "stderr",
     "output_type": "stream",
     "text": [
      "  1%|▌                                                                                                           | 753/132480 [00:21<54:15, 40.47it/s]"
     ]
    },
    {
     "name": "stdout",
     "output_type": "stream",
     "text": [
      "spread:-0.138207329995085416071770955, future2.979965614177398974216301868, lp total:5.959931228354797948432603737\n",
      "spread:-0.136749108338812153033163960, future2.979965614177398974216301868, lp total:5.959931228354797948432603737\n",
      "spread:-0.132144387259176865754115814, future2.979965614177398974216301868, lp total:5.959931228354797948432603737\n",
      "spread:-0.127275536939756935835744068, future2.979965614177398974216301868, lp total:5.959931228354797948432603737\n",
      "spread:-0.124799243347557266092348579, future2.979965614177398974216301868, lp total:5.959931228354797948432603737\n",
      "spread:-0.122364814062812600100414310, future2.979965614177398974216301868, lp total:5.959931228354797948432603737\n",
      "spread:-0.118897494884879052962482155, future2.979965614177398974216301868, lp total:5.959931228354797948432603737\n",
      "spread:-0.116594446980020851368925936, future2.979965614177398974216301868, lp total:5.959931228354797948432603737\n",
      "spread:-0.114406999466443656235698490, future2.979965614177398974216301868, lp total:5.959931228354797948432603737\n",
      "spread:-0.111917168184773847838575911, future2.979965614177398974216301868, lp total:5.959931228354797948432603737\n"
     ]
    },
    {
     "name": "stderr",
     "output_type": "stream",
     "text": [
      "  1%|▌                                                                                                           | 766/132480 [00:21<51:46, 42.40it/s]"
     ]
    },
    {
     "name": "stdout",
     "output_type": "stream",
     "text": [
      "spread:-0.109552352143127723558604518, future2.979965614177398974216301868, lp total:5.959931228354797948432603737\n",
      "spread:-0.107306249351056689398466162, future2.979965614177398974216301868, lp total:5.959931228354797948432603737\n",
      "spread:-0.107312714859812193163453345, future2.979965614177398974216301868, lp total:5.959931228354797948432603737\n",
      "spread:-0.107647606476195968237421795, future2.979965614177398974216301868, lp total:5.959931228354797948432603737\n",
      "spread:-0.109771764281744038995785393, future2.979965614177398974216301868, lp total:5.959931228354797948432603737\n",
      "spread:-0.111461944570764082363267147, future2.979965614177398974216301868, lp total:5.959931228354797948432603737\n",
      "spread:-0.112903712191469832387835397, future2.979965614177398974216301868, lp total:5.959931228354797948432603737\n",
      "spread:-0.114355653667144680335847746, future2.979965614177398974216301868, lp total:5.959931228354797948432603737\n",
      "spread:-0.116309641996505542817689372, future2.979965614177398974216301868, lp total:5.959931228354797948432603737\n",
      "spread:-0.118002130605616611967839194, future2.979965614177398974216301868, lp total:5.959931228354797948432603737\n",
      "spread:-0.120758628173712234583460220, future2.979965614177398974216301868, lp total:5.959931228354797948432603737\n",
      "spread:-0.123377942846085342465001630, future2.979965614177398974216301868, lp total:5.959931228354797948432603737\n"
     ]
    },
    {
     "name": "stderr",
     "output_type": "stream",
     "text": [
      "  1%|▋                                                                                                           | 778/132480 [00:21<48:14, 45.49it/s]"
     ]
    },
    {
     "name": "stdout",
     "output_type": "stream",
     "text": [
      "spread:-0.125866871405111630091597909, future2.979965614177398974216301868, lp total:5.959931228354797948432603737\n",
      "spread:-0.127329079582798673114261994, future2.979965614177398974216301868, lp total:5.959931228354797948432603737\n",
      "spread:-0.128882592039092093246261620, future2.979965614177398974216301868, lp total:5.959931228354797948432603737\n",
      "spread:-0.131261498785559889310203289, future2.979965614177398974216301868, lp total:5.959931228354797948432603737\n",
      "spread:-0.134915757811127747075882043, future2.979965614177398974216301868, lp total:5.959931228354797948432603737\n",
      "spread:-0.138470378815866394938042679, future2.979965614177398974216301868, lp total:5.959931228354797948432603737\n",
      "spread:-0.140371673343701293715329223, future2.979965614177398974216301868, lp total:5.959931228354797948432603737\n",
      "spread:-0.142588706674089643240762597, future2.979965614177398974216301868, lp total:5.959931228354797948432603737\n",
      "spread:-0.145105690578727500048576620, future2.979965614177398974216301868, lp total:5.959931228354797948432603737\n",
      "spread:-0.147497360145966097067003148, future2.979965614177398974216301868, lp total:5.959931228354797948432603737\n",
      "spread:-0.151410278006898879910720053, future2.979965614177398974216301868, lp total:5.959931228354797948432603737\n",
      "spread:-0.155456659248774564703741181, future2.979965614177398974216301868, lp total:5.959931228354797948432603737\n",
      "spread:-0.158646118978109103872992180, future2.979965614177398974216301868, lp total:5.959931228354797948432603737\n"
     ]
    },
    {
     "name": "stderr",
     "output_type": "stream",
     "text": [
      "  1%|▋                                                                                                           | 785/132480 [00:21<43:04, 50.96it/s]"
     ]
    },
    {
     "name": "stdout",
     "output_type": "stream",
     "text": [
      "spread:-0.162333129914481946665481833, future2.979965614177398974216301868, lp total:5.959931228354797948432603737\n",
      "spread:-0.166410867293765846568682344, future2.979965614177398974216301868, lp total:5.959931228354797948432603737\n",
      "spread:-0.169711988578562651492749343, future2.979965614177398974216301868, lp total:5.959931228354797948432603737\n",
      "spread:-0.172766900496393244036451545, future2.979965614177398974216301868, lp total:5.959931228354797948432603737\n",
      "spread:-0.176162306594864460887240898, future2.979965614177398974216301868, lp total:5.959931228354797948432603737\n",
      "spread:-0.179388914878322236416247110, future2.979965614177398974216301868, lp total:5.959931228354797948432603737\n"
     ]
    },
    {
     "name": "stderr",
     "output_type": "stream",
     "text": [
      "  1%|▋                                                                                                           | 796/132480 [00:22<56:08, 39.09it/s]"
     ]
    },
    {
     "name": "stdout",
     "output_type": "stream",
     "text": [
      "spread:-0.182537166705617560431894775, future2.979965614177398974216301868, lp total:5.959931228354797948432603737\n",
      "spread:-0.185610952443910231973517256, future2.979965614177398974216301868, lp total:5.959931228354797948432603737\n",
      "spread:-0.188696087725990390313640691, future2.979965614177398974216301868, lp total:5.959931228354797948432603737\n",
      "spread:-0.192284608572842031440612598, future2.979965614177398974216301868, lp total:5.959931228354797948432603737\n",
      "spread:-0.196761448262605427208463863, future2.979965614177398974216301868, lp total:5.959931228354797948432603737\n",
      "spread:-0.201918040820404908095567204, future2.979965614177398974216301868, lp total:5.959931228354797948432603737\n",
      "spread:-0.206244956054987413275363448, future2.979965614177398974216301868, lp total:5.959931228354797948432603737\n",
      "spread:-0.210357103494415909047726556, future2.979965614177398974216301868, lp total:5.959931228354797948432603737\n",
      "spread:-0.214265068565479724397241032, future2.979965614177398974216301868, lp total:5.959931228354797948432603737\n",
      "spread:-0.218471546922716784116172964, future2.979965614177398974216301868, lp total:5.959931228354797948432603737\n",
      "spread:-0.221976388345694312740397552, future2.979965614177398974216301868, lp total:5.959931228354797948432603737\n",
      "spread:-0.224402564170061305269084916, future2.979965614177398974216301868, lp total:5.959931228354797948432603737\n",
      "spread:-0.224648482168082331993166733, future2.979965614177398974216301868, lp total:5.959931228354797948432603737\n"
     ]
    },
    {
     "name": "stderr",
     "output_type": "stream",
     "text": [
      "  1%|▋                                                                                                           | 809/132480 [00:22<50:14, 43.68it/s]"
     ]
    },
    {
     "name": "stdout",
     "output_type": "stream",
     "text": [
      "spread:-0.226530081141334386680133294, future2.979965614177398974216301868, lp total:5.959931228354797948432603737\n",
      "spread:-0.227494159681253585914898365, future2.979965614177398974216301868, lp total:5.959931228354797948432603737\n",
      "spread:-0.228574934973243177019244531, future2.979965614177398974216301868, lp total:5.959931228354797948432603737\n",
      "spread:-0.230754780927308172783709623, future2.979965614177398974216301868, lp total:5.959931228354797948432603737\n",
      "spread:-0.232661379253165308931529031, future2.979965614177398974216301868, lp total:5.959931228354797948432603737\n",
      "spread:-0.234308240698893756323075548, future2.979965614177398974216301868, lp total:5.959931228354797948432603737\n",
      "spread:-0.236696364981065138704243335, future2.979965614177398974216301868, lp total:5.959931228354797948432603737\n",
      "spread:-0.238883242745716661173972381, future2.979965614177398974216301868, lp total:5.959931228354797948432603737\n",
      "spread:-0.241537371301872755656329306, future2.979965614177398974216301868, lp total:5.959931228354797948432603737\n",
      "spread:-0.248247071235955172785963109, future2.979965614177398974216301868, lp total:5.959931228354797948432603737\n",
      "spread:-0.255198648034285906853722197, future2.979965614177398974216301868, lp total:5.959931228354797948432603737\n"
     ]
    },
    {
     "name": "stderr",
     "output_type": "stream",
     "text": [
      "  1%|▋                                                                                                         | 818/132480 [00:22<1:05:41, 33.40it/s]"
     ]
    },
    {
     "name": "stdout",
     "output_type": "stream",
     "text": [
      "spread:-0.258851182496591873146870133, future2.979965614177398974216301868, lp total:5.959931228354797948432603737\n",
      "spread:-0.262897852235888149102748959, future2.979965614177398974216301868, lp total:5.959931228354797948432603737\n",
      "spread:-0.266743566269141751086345380, future2.979965614177398974216301868, lp total:5.959931228354797948432603737\n",
      "spread:-0.269163428445186357582242383, future2.979965614177398974216301868, lp total:5.959931228354797948432603737\n",
      "spread:-0.274834586375052328888059547, future2.979965614177398974216301868, lp total:5.959931228354797948432603737\n",
      "spread:-0.279403279740089674924449143, future2.979965614177398974216301868, lp total:5.959931228354797948432603737\n"
     ]
    },
    {
     "name": "stderr",
     "output_type": "stream",
     "text": [
      "  1%|▋                                                                                                         | 822/132480 [00:23<1:16:34, 28.66it/s]"
     ]
    },
    {
     "name": "stdout",
     "output_type": "stream",
     "text": [
      "spread:-0.282099138624631795597673726, future2.979965614177398974216301868, lp total:5.959931228354797948432603737\n",
      "spread:-0.283093780067590293265691124, future2.979965614177398974216301868, lp total:5.959931228354797948432603737\n",
      "spread:-0.279735565527064828229483661, future2.979965614177398974216301868, lp total:5.959931228354797948432603737\n",
      "spread:-0.278534301151624752196996859, future2.979965614177398974216301868, lp total:5.959931228354797948432603737\n",
      "spread:-0.276565471692136192847111267, future2.979965614177398974216301868, lp total:5.959931228354797948432603737\n",
      "spread:-0.273618372848522513680644753, future2.979965614177398974216301868, lp total:5.959931228354797948432603737\n",
      "spread:-0.270902232909609333642409264, future2.979965614177398974216301868, lp total:5.959931228354797948432603737\n",
      "spread:-0.268571037646039930227299701, future2.979965614177398974216301868, lp total:5.959931228354797948432603737\n",
      "spread:-0.265859855036235968785424218, future2.979965614177398974216301868, lp total:5.959931228354797948432603737\n",
      "spread:-0.260463938835315423638758342, future2.979965614177398974216301868, lp total:5.959931228354797948432603737\n"
     ]
    },
    {
     "name": "stderr",
     "output_type": "stream",
     "text": [
      "  1%|▋                                                                                                         | 834/132480 [00:23<1:04:03, 34.25it/s]"
     ]
    },
    {
     "name": "stdout",
     "output_type": "stream",
     "text": [
      "spread:-0.256253459438821098473265418, future2.979965614177398974216301868, lp total:5.959931228354797948432603737\n",
      "spread:-0.252254994809039805868096978, future2.979965614177398974216301868, lp total:5.959931228354797948432603737\n",
      "spread:-0.246548686703422569774509778, future2.979965614177398974216301868, lp total:5.959931228354797948432603737\n",
      "spread:-0.240964312838321955648069903, future2.979965614177398974216301868, lp total:5.959931228354797948432603737\n",
      "spread:-0.234082870953470828403067866, future2.979965614177398974216301868, lp total:5.959931228354797948432603737\n",
      "spread:-0.227632605325427763049822541, future2.979965614177398974216301868, lp total:5.959931228354797948432603737\n",
      "spread:-0.221092907018075331352717583, future2.979965614177398974216301868, lp total:5.959931228354797948432603737\n",
      "spread:-0.213387437973414444850943653, future2.979965614177398974216301868, lp total:5.959931228354797948432603737\n",
      "spread:-0.206155381070288914417336130, future2.979965614177398974216301868, lp total:5.959931228354797948432603737\n"
     ]
    },
    {
     "name": "stderr",
     "output_type": "stream",
     "text": [
      "  1%|▋                                                                                                           | 841/132480 [00:23<52:33, 41.74it/s]"
     ]
    },
    {
     "name": "stdout",
     "output_type": "stream",
     "text": [
      "spread:-0.200617709537162223387021903, future2.979965614177398974216301868, lp total:5.959931228354797948432603737\n",
      "spread:-0.196354023909531915219641949, future2.979965614177398974216301868, lp total:5.959931228354797948432603737\n",
      "spread:-0.189153114958124824185375970, future2.979965614177398974216301868, lp total:5.959931228354797948432603737\n",
      "spread:-0.182233575919470155908158476, future2.979965614177398974216301868, lp total:5.959931228354797948432603737\n",
      "spread:-0.174335099750236392067079742, future2.979965614177398974216301868, lp total:5.959931228354797948432603737\n",
      "spread:-0.167750044304704793748393802, future2.979965614177398974216301868, lp total:5.959931228354797948432603737\n",
      "spread:-0.161249065649674808492815784, future2.979965614177398974216301868, lp total:5.959931228354797948432603737\n"
     ]
    },
    {
     "name": "stderr",
     "output_type": "stream",
     "text": [
      "  1%|▋                                                                                                         | 852/132480 [00:23<1:03:43, 34.43it/s]"
     ]
    },
    {
     "name": "stdout",
     "output_type": "stream",
     "text": [
      "spread:-0.152087014638759547538839916, future2.979965614177398974216301868, lp total:5.959931228354797948432603737\n",
      "spread:-0.141892754721160459719370959, future2.979965614177398974216301868, lp total:5.959931228354797948432603737\n",
      "spread:-0.131967385639343701255376115, future2.979965614177398974216301868, lp total:5.959931228354797948432603737\n",
      "spread:-0.122629728149595363690353579, future2.979965614177398974216301868, lp total:5.959931228354797948432603737\n",
      "spread:-0.113018453097042508709255500, future2.979965614177398974216301868, lp total:5.959931228354797948432603737\n",
      "spread:-0.102232786959283426294853056, future2.979965614177398974216301868, lp total:5.959931228354797948432603737\n",
      "spread:-0.091996226699624084910240982, future2.979965614177398974216301868, lp total:5.959931228354797948432603737\n",
      "spread:-0.081532466721820029808769719, future2.979965614177398974216301868, lp total:5.959931228354797948432603737\n"
     ]
    },
    {
     "name": "stderr",
     "output_type": "stream",
     "text": [
      "  1%|▋                                                                                                         | 856/132480 [00:24<1:08:53, 31.84it/s]"
     ]
    },
    {
     "name": "stdout",
     "output_type": "stream",
     "text": [
      "spread:-0.073343648166527920933684478, future2.979965614177398974216301868, lp total:5.959931228354797948432603737\n",
      "spread:-0.067473165354181490183391499, future2.979965614177398974216301868, lp total:5.959931228354797948432603737\n",
      "spread:-0.060824428783513815236095017, future2.979965614177398974216301868, lp total:5.959931228354797948432603737\n",
      "spread:-0.054677193641896349921811694, future2.979965614177398974216301868, lp total:5.959931228354797948432603737\n",
      "spread:-0.051644889610887057482777896, future2.979965614177398974216301868, lp total:5.959931228354797948432603737\n",
      "spread:-0.049587901326621944831843780, future2.979965614177398974216301868, lp total:5.959931228354797948432603737\n",
      "spread:-0.048538295228006560816270082, future2.979965614177398974216301868, lp total:5.959931228354797948432603737\n",
      "spread:-0.047376950680646887956973678, future2.979965614177398974216301868, lp total:5.959931228354797948432603737\n"
     ]
    },
    {
     "name": "stderr",
     "output_type": "stream",
     "text": [
      "  1%|▋                                                                                                           | 872/132480 [00:24<52:08, 42.07it/s]"
     ]
    },
    {
     "name": "stdout",
     "output_type": "stream",
     "text": [
      "spread:-0.046191628412398592712728425, future2.979965614177398974216301868, lp total:5.959931228354797948432603737\n",
      "spread:-0.043750246813995080484174194, future2.979965614177398974216301868, lp total:5.959931228354797948432603737\n",
      "spread:-0.041020050360158065052139349, future2.979965614177398974216301868, lp total:5.959931228354797948432603737\n",
      "spread:-0.038920521080483825985508749, future2.979965614177398974216301868, lp total:5.959931228354797948432603737\n",
      "spread:-0.039061404575512416231112467, future2.979965614177398974216301868, lp total:5.959931228354797948432603737\n",
      "spread:-0.040260866287029479603878792, future2.979965614177398974216301868, lp total:5.959931228354797948432603737\n",
      "spread:-0.041728136456490293400176634, future2.979965614177398974216301868, lp total:5.959931228354797948432603737\n",
      "spread:-0.044350026490385266727698789, future2.979965614177398974216301868, lp total:5.959931228354797948432603737\n",
      "spread:-0.045203584439141867537517829, future2.979965614177398974216301868, lp total:5.959931228354797948432603737\n",
      "spread:-0.045030305938847482186644247, future2.979965614177398974216301868, lp total:5.959931228354797948432603737\n",
      "spread:-0.044865693905626507105892879, future2.979965614177398974216301868, lp total:5.959931228354797948432603737\n",
      "spread:-0.044955465032753611940798903, future2.979965614177398974216301868, lp total:5.959931228354797948432603737\n",
      "spread:-0.045942722122936162016414611, future2.979965614177398974216301868, lp total:5.959931228354797948432603737\n",
      "spread:-0.046388784757486949147694283, future2.979965614177398974216301868, lp total:5.959931228354797948432603737\n",
      "spread:-0.045252970362333166504627080, future2.979965614177398974216301868, lp total:5.959931228354797948432603737\n",
      "spread:-0.044748904158324424983503800, future2.979965614177398974216301868, lp total:5.959931228354797948432603737\n"
     ]
    },
    {
     "name": "stderr",
     "output_type": "stream",
     "text": [
      "  1%|▋                                                                                                           | 878/132480 [00:24<48:59, 44.77it/s]"
     ]
    },
    {
     "name": "stdout",
     "output_type": "stream",
     "text": [
      "spread:-0.044680422909918297138717300, future2.979965614177398974216301868, lp total:5.959931228354797948432603737\n",
      "spread:-0.043712328629309421303594950, future2.979965614177398974216301868, lp total:5.959931228354797948432603737\n",
      "spread:-0.042710585428405397754525831, future2.979965614177398974216301868, lp total:5.959931228354797948432603737\n",
      "spread:-0.039621074582133442880524464, future2.979965614177398974216301868, lp total:5.959931228354797948432603737\n",
      "spread:-0.037509519515406606085849314, future2.979965614177398974216301868, lp total:5.959931228354797948432603737\n"
     ]
    },
    {
     "name": "stderr",
     "output_type": "stream",
     "text": [
      "  1%|▋                                                                                                         | 883/132480 [00:24<1:01:44, 35.52it/s]"
     ]
    },
    {
     "name": "stdout",
     "output_type": "stream",
     "text": [
      "spread:-0.033940478542690446227020116, future2.979965614177398974216301868, lp total:5.959931228354797948432603737\n",
      "spread:-0.030550968105599320803240115, future2.979965614177398974216301868, lp total:5.959931228354797948432603737\n",
      "spread:-0.027331906021760731258338480, future2.979965614177398974216301868, lp total:5.959931228354797948432603737\n",
      "spread:-0.024356956702221218049148429, future2.979965614177398974216301868, lp total:5.959931228354797948432603737\n"
     ]
    },
    {
     "name": "stderr",
     "output_type": "stream",
     "text": [
      "  1%|▋                                                                                                         | 892/132480 [00:25<1:11:28, 30.68it/s]"
     ]
    },
    {
     "name": "stdout",
     "output_type": "stream",
     "text": [
      "spread:-0.018482781737018363118507833, future2.979965614177398974216301868, lp total:5.959931228354797948432603737\n",
      "spread:-0.015376713226143665715507400, future2.979965614177398974216301868, lp total:5.959931228354797948432603737\n",
      "spread:-0.010285794185407962757693363, future2.979965614177398974216301868, lp total:5.959931228354797948432603737\n",
      "spread:-0.005451616723778593204199244, future2.979965614177398974216301868, lp total:5.959931228354797948432603737\n",
      "spread:-0.000366753206527842606742858, future2.979965614177398974216301868, lp total:5.959931228354797948432603737\n",
      "spread:0.004461676064207289997809187, future2.979965614177398974216301868, lp total:5.959931228354797948432603737\n",
      "spread:0.009129059393254919604482056, future2.979965614177398974216301868, lp total:5.959931228354797948432603737\n",
      "spread:0.013478908804939151046984384, future2.979965614177398974216301868, lp total:5.959931228354797948432603737\n"
     ]
    },
    {
     "name": "stderr",
     "output_type": "stream",
     "text": [
      "  1%|▋                                                                                                         | 899/132480 [00:25<1:15:34, 29.02it/s]"
     ]
    },
    {
     "name": "stdout",
     "output_type": "stream",
     "text": [
      "spread:0.018021172436205909489701953, future2.979965614177398974216301868, lp total:5.959931228354797948432603737\n",
      "spread:0.021923225064902994424415175, future2.979965614177398974216301868, lp total:5.959931228354797948432603737\n",
      "spread:0.025957835559295560233187068, future2.979965614177398974216301868, lp total:5.959931228354797948432603737\n",
      "spread:0.029213951052096508678122556, future2.979965614177398974216301868, lp total:5.959931228354797948432603737\n",
      "spread:0.031731512749452933491297781, future2.979965614177398974216301868, lp total:5.959931228354797948432603737\n",
      "spread:0.034204739074180395532533913, future2.979965614177398974216301868, lp total:5.959931228354797948432603737\n",
      "spread:0.036964212908929473580806692, future2.979965614177398974216301868, lp total:5.959931228354797948432603737\n"
     ]
    },
    {
     "name": "stderr",
     "output_type": "stream",
     "text": [
      "  1%|▋                                                                                                         | 906/132480 [00:25<1:07:24, 32.53it/s]"
     ]
    },
    {
     "name": "stdout",
     "output_type": "stream",
     "text": [
      "spread:0.038436622853779617199518400, future2.979965614177398974216301868, lp total:5.959931228354797948432603737\n",
      "spread:0.039097822174081159066354618, future2.979965614177398974216301868, lp total:5.959931228354797948432603737\n",
      "spread:0.038825535282025347975292333, future2.979965614177398974216301868, lp total:5.959931228354797948432603737\n",
      "spread:0.037749096076099399530431500, future2.979965614177398974216301868, lp total:5.959931228354797948432603737\n",
      "spread:0.036726380470076646762295765, future2.979965614177398974216301868, lp total:5.959931228354797948432603737\n",
      "spread:0.035264329005883943858701851, future2.979965614177398974216301868, lp total:5.959931228354797948432603737\n",
      "spread:0.034283884159552657460942036, future2.979965614177398974216301868, lp total:5.959931228354797948432603737\n",
      "spread:0.033352379965355579550506010, future2.979965614177398974216301868, lp total:5.959931228354797948432603737\n",
      "spread:0.033121776322489156644497639, future2.979965614177398974216301868, lp total:5.959931228354797948432603737\n"
     ]
    },
    {
     "name": "stderr",
     "output_type": "stream",
     "text": [
      "  1%|▋                                                                                                           | 919/132480 [00:25<55:52, 39.25it/s]"
     ]
    },
    {
     "name": "stdout",
     "output_type": "stream",
     "text": [
      "spread:0.034458869249569859579375978, future2.979965614177398974216301868, lp total:5.959931228354797948432603737\n",
      "spread:0.035646993428987440497174587, future2.979965614177398974216301868, lp total:5.959931228354797948432603737\n",
      "spread:0.037185436960785357344686573, future2.979965614177398974216301868, lp total:5.959931228354797948432603737\n",
      "spread:0.038646757454950779806546624, future2.979965614177398974216301868, lp total:5.959931228354797948432603737\n",
      "spread:0.038151602189294439183375866, future2.979965614177398974216301868, lp total:5.959931228354797948432603737\n",
      "spread:0.036945326557394573335574672, future2.979965614177398974216301868, lp total:5.959931228354797948432603737\n",
      "spread:0.034166022994550410305713323, future2.979965614177398974216301868, lp total:5.959931228354797948432603737\n",
      "spread:0.031280247455739948984829375, future2.979965614177398974216301868, lp total:5.959931228354797948432603737\n",
      "spread:0.028538053805997216406759748, future2.979965614177398974216301868, lp total:5.959931228354797948432603737\n",
      "spread:0.025605902165503594974621320, future2.979965614177398974216301868, lp total:5.959931228354797948432603737\n",
      "spread:0.022656417366880698914181591, future2.979965614177398974216301868, lp total:5.959931228354797948432603737\n",
      "spread:0.019935291265886190062507817, future2.979965614177398974216301868, lp total:5.959931228354797948432603737\n"
     ]
    },
    {
     "name": "stderr",
     "output_type": "stream",
     "text": [
      "  1%|▊                                                                                                           | 924/132480 [00:25<57:23, 38.20it/s]"
     ]
    },
    {
     "name": "stdout",
     "output_type": "stream",
     "text": [
      "spread:0.017431242768245646484570550, future2.979965614177398974216301868, lp total:5.959931228354797948432603737\n",
      "spread:0.015460314994617935710282723, future2.979965614177398974216301868, lp total:5.959931228354797948432603737\n",
      "spread:0.013015728471794289231866334, future2.979965614177398974216301868, lp total:5.959931228354797948432603737\n",
      "spread:0.010856254295443771494362933, future2.979965614177398974216301868, lp total:5.959931228354797948432603737\n",
      "spread:0.008804358258673781189550489, future2.979965614177398974216301868, lp total:5.959931228354797948432603737\n",
      "spread:0.008163388013214943212046883, future2.979965614177398974216301868, lp total:5.959931228354797948432603737\n",
      "spread:0.007145235498853984154257880, future2.979965614177398974216301868, lp total:5.959931228354797948432603737\n"
     ]
    },
    {
     "name": "stderr",
     "output_type": "stream",
     "text": [
      "  1%|▋                                                                                                         | 934/132480 [00:26<1:09:56, 31.35it/s]"
     ]
    },
    {
     "name": "stdout",
     "output_type": "stream",
     "text": [
      "spread:0.005850653205782981574775216, future2.979965614177398974216301868, lp total:5.959931228354797948432603737\n",
      "spread:0.002904390147345719015997063, future2.979965614177398974216301868, lp total:5.959931228354797948432603737\n",
      "spread:0.000186376419021069540480252, future2.979965614177398974216301868, lp total:5.959931228354797948432603737\n",
      "spread:-0.003212939931884521194963470, future2.979965614177398974216301868, lp total:5.959931228354797948432603737\n",
      "spread:-0.006443270341170368470902509, future2.979965614177398974216301868, lp total:5.959931228354797948432603737\n",
      "spread:-0.009594632209460303398641566, future2.979965614177398974216301868, lp total:5.959931228354797948432603737\n",
      "spread:-0.013079222770044470709734669, future2.979965614177398974216301868, lp total:5.959931228354797948432603737\n",
      "spread:-0.016390613154776685591906828, future2.979965614177398974216301868, lp total:5.959931228354797948432603737\n",
      "spread:-0.020108971402087538883956284, future2.979965614177398974216301868, lp total:5.959931228354797948432603737\n",
      "spread:-0.022089712873957044721273875, future2.979965614177398974216301868, lp total:5.959931228354797948432603737\n"
     ]
    },
    {
     "name": "stderr",
     "output_type": "stream",
     "text": [
      "  1%|▊                                                                                                           | 951/132480 [00:26<44:59, 48.73it/s]"
     ]
    },
    {
     "name": "stdout",
     "output_type": "stream",
     "text": [
      "spread:-0.024053561923324816705201650, future2.979965614177398974216301868, lp total:5.959931228354797948432603737\n",
      "spread:-0.025919545313081650140038175, future2.979965614177398974216301868, lp total:5.959931228354797948432603737\n",
      "spread:-0.027692524547883924449422549, future2.979965614177398974216301868, lp total:5.959931228354797948432603737\n",
      "spread:-0.029295269109822381515152621, future2.979965614177398974216301868, lp total:5.959931228354797948432603737\n",
      "spread:-0.030818094065071377527654416, future2.979965614177398974216301868, lp total:5.959931228354797948432603737\n",
      "spread:-0.032101202967504090473251138, future2.979965614177398974216301868, lp total:5.959931228354797948432603737\n",
      "spread:-0.032582867975111535727505221, future2.979965614177398974216301868, lp total:5.959931228354797948432603737\n",
      "spread:-0.032384434880314262746560301, future2.979965614177398974216301868, lp total:5.959931228354797948432603737\n",
      "spread:-0.030800264720585278922030792, future2.979965614177398974216301868, lp total:5.959931228354797948432603737\n",
      "spread:-0.029295515605415691464823364, future2.979965614177398974216301868, lp total:5.959931228354797948432603737\n",
      "spread:-0.027701899959479804547090494, future2.979965614177398974216301868, lp total:5.959931228354797948432603737\n",
      "spread:-0.026598805762369604677888318, future2.979965614177398974216301868, lp total:5.959931228354797948432603737\n",
      "spread:-0.026043422245788017100799675, future2.979965614177398974216301868, lp total:5.959931228354797948432603737\n",
      "spread:-0.025597878992718188287430350, future2.979965614177398974216301868, lp total:5.959931228354797948432603737\n",
      "spread:-0.026158539447087473204782839, future2.979965614177398974216301868, lp total:5.959931228354797948432603737\n"
     ]
    },
    {
     "name": "stderr",
     "output_type": "stream",
     "text": [
      "  1%|▊                                                                                                           | 967/132480 [00:26<37:07, 59.03it/s]"
     ]
    },
    {
     "name": "stdout",
     "output_type": "stream",
     "text": [
      "spread:-0.026691193508920775084784129, future2.979965614177398974216301868, lp total:5.959931228354797948432603737\n",
      "spread:-0.028098282837182642884820758, future2.979965614177398974216301868, lp total:5.959931228354797948432603737\n",
      "spread:-0.029271407430799843510955710, future2.979965614177398974216301868, lp total:5.959931228354797948432603737\n",
      "spread:-0.030385992380361117825409277, future2.979965614177398974216301868, lp total:5.959931228354797948432603737\n",
      "spread:-0.030379445659954255471206279, future2.979965614177398974216301868, lp total:5.959931228354797948432603737\n",
      "spread:-0.030455233856188488512700086, future2.979965614177398974216301868, lp total:5.959931228354797948432603737\n",
      "spread:-0.030609233661001216004232797, future2.979965614177398974216301868, lp total:5.959931228354797948432603737\n",
      "spread:-0.032557653574669460450397367, future2.979965614177398974216301868, lp total:5.959931228354797948432603737\n",
      "spread:-0.034245268970380396337542838, future2.979965614177398974216301868, lp total:5.959931228354797948432603737\n",
      "spread:-0.036748880226321237239649271, future2.979965614177398974216301868, lp total:5.959931228354797948432603737\n",
      "spread:-0.040762462021126005073610092, future2.979965614177398974216301868, lp total:5.959931228354797948432603737\n",
      "spread:-0.043841268092291563991562301, future2.979965614177398974216301868, lp total:5.959931228354797948432603737\n",
      "spread:-0.047747677691378359707568173, future2.979965614177398974216301868, lp total:5.959931228354797948432603737\n",
      "spread:-0.052031849368692621932959762, future2.979965614177398974216301868, lp total:5.959931228354797948432603737\n",
      "spread:-0.054958990067313978120132388, future2.979965614177398974216301868, lp total:5.959931228354797948432603737\n",
      "spread:-0.058231252473270880492353072, future2.979965614177398974216301868, lp total:5.959931228354797948432603737\n",
      "spread:-0.060113065115220994386388102, future2.979965614177398974216301868, lp total:5.959931228354797948432603737\n",
      "spread:-0.062719905309500555072826441, future2.979965614177398974216301868, lp total:5.959931228354797948432603737\n",
      "spread:-0.066669277305694014473980519, future2.979965614177398974216301868, lp total:5.959931228354797948432603737\n",
      "spread:-0.071321340617224604765451431, future2.979965614177398974216301868, lp total:5.959931228354797948432603737\n"
     ]
    },
    {
     "name": "stderr",
     "output_type": "stream",
     "text": [
      "  1%|▊                                                                                                           | 989/132480 [00:27<30:49, 71.10it/s]"
     ]
    },
    {
     "name": "stdout",
     "output_type": "stream",
     "text": [
      "spread:-0.076559295532562507742140843, future2.979965614177398974216301868, lp total:5.959931228354797948432603737\n",
      "spread:-0.081945908247234739797662933, future2.979965614177398974216301868, lp total:5.959931228354797948432603737\n",
      "spread:-0.086493797878147757667036082, future2.979965614177398974216301868, lp total:5.959931228354797948432603737\n",
      "spread:-0.091224704149806512080152271, future2.979965614177398974216301868, lp total:5.959931228354797948432603737\n",
      "spread:-0.096538049345582092045416864, future2.979965614177398974216301868, lp total:5.959931228354797948432603737\n",
      "spread:-0.102894490912842168474425919, future2.979965614177398974216301868, lp total:5.959931228354797948432603737\n",
      "spread:-0.108201523590750169509673664, future2.979965614177398974216301868, lp total:5.959931228354797948432603737\n",
      "spread:-0.112100502674930968768957114, future2.979965614177398974216301868, lp total:5.959931228354797948432603737\n",
      "spread:-0.115887686217019546924505907, future2.979965614177398974216301868, lp total:5.959931228354797948432603737\n",
      "spread:-0.119077169951925639002434030, future2.979965614177398974216301868, lp total:5.959931228354797948432603737\n",
      "spread:-0.122108039082953972762338328, future2.979965614177398974216301868, lp total:5.959931228354797948432603737\n",
      "spread:-0.124496162314733515350373877, future2.979965614177398974216301868, lp total:5.959931228354797948432603737\n",
      "spread:-0.125698249516860513792581668, future2.979965614177398974216301868, lp total:5.959931228354797948432603737\n",
      "spread:-0.126840354413707569514465986, future2.979965614177398974216301868, lp total:5.959931228354797948432603737\n",
      "spread:-0.128582433608600449850492722, future2.979965614177398974216301868, lp total:5.959931228354797948432603737\n",
      "spread:-0.130401856338189602511161338, future2.979965614177398974216301868, lp total:5.959931228354797948432603737\n",
      "spread:-0.132869188316915858118970612, future2.979965614177398974216301868, lp total:5.959931228354797948432603737\n"
     ]
    },
    {
     "name": "stderr",
     "output_type": "stream",
     "text": [
      "  1%|▊                                                                                                           | 997/132480 [00:27<31:58, 68.54it/s]"
     ]
    },
    {
     "name": "stdout",
     "output_type": "stream",
     "text": [
      "spread:-0.135213667849540768196525720, future2.979965614177398974216301868, lp total:5.959931228354797948432603737\n",
      "spread:-0.137359317005983537821310380, future2.979965614177398974216301868, lp total:5.959931228354797948432603737\n",
      "spread:-0.140464596263175765011871465, future2.979965614177398974216301868, lp total:5.959931228354797948432603737\n",
      "spread:-0.141444926584818444676009437, future2.979965614177398974216301868, lp total:5.959931228354797948432603737\n",
      "spread:-0.143854731539844643720874933, future2.979965614177398974216301868, lp total:5.959931228354797948432603737\n",
      "spread:-0.147046986393797466186870787, future2.979965614177398974216301868, lp total:5.959931228354797948432603737\n",
      "spread:-0.150490503123936226429177077, future2.979965614177398974216301868, lp total:5.959931228354797948432603737\n",
      "spread:-0.154172791884390299932244920, future2.979965614177398974216301868, lp total:5.959931228354797948432603737\n",
      "spread:-0.157344063911006917773150270, future2.979965614177398974216301868, lp total:5.959931228354797948432603737\n",
      "spread:-0.160357621141801857325320497, future2.979965614177398974216301868, lp total:5.959931228354797948432603737\n",
      "spread:-0.163221266908887174708758640, future2.979965614177398974216301868, lp total:5.959931228354797948432603737\n",
      "spread:-0.166270726233962820900343419, future2.979965614177398974216301868, lp total:5.959931228354797948432603737\n"
     ]
    },
    {
     "name": "stderr",
     "output_type": "stream",
     "text": [
      "  1%|▊                                                                                                          | 1005/132480 [00:27<34:17, 63.91it/s]"
     ]
    },
    {
     "name": "stdout",
     "output_type": "stream",
     "text": [
      "spread:-0.168018598540385923479230912, future2.979965614177398974216301868, lp total:5.959931228354797948432603737\n",
      "spread:-0.169185990542223368849909643, future2.979965614177398974216301868, lp total:5.959931228354797948432603737\n",
      "spread:-0.169142809150905881123587045, future2.979965614177398974216301868, lp total:5.959931228354797948432603737\n",
      "spread:-0.169431171968601824789018706, future2.979965614177398974216301868, lp total:5.959931228354797948432603737\n",
      "spread:-0.170034395008261444257800161, future2.979965614177398974216301868, lp total:5.959931228354797948432603737\n"
     ]
    },
    {
     "name": "stderr",
     "output_type": "stream",
     "text": [
      "  1%|▊                                                                                                          | 1012/132480 [00:27<45:57, 47.68it/s]"
     ]
    },
    {
     "name": "stdout",
     "output_type": "stream",
     "text": [
      "spread:-0.170607487588340958601539093, future2.979965614177398974216301868, lp total:5.959931228354797948432603737\n",
      "spread:-0.171151953241724460190955478, future2.979965614177398974216301868, lp total:5.959931228354797948432603737\n",
      "spread:-0.172738670667446459503264863, future2.979965614177398974216301868, lp total:5.959931228354797948432603737\n",
      "spread:-0.174575112614623320821151140, future2.979965614177398974216301868, lp total:5.959931228354797948432603737\n",
      "spread:-0.175826620862459433645877696, future2.979965614177398974216301868, lp total:5.959931228354797948432603737\n",
      "spread:-0.176521962361922221294379661, future2.979965614177398974216301868, lp total:5.959931228354797948432603737\n",
      "spread:-0.176935598213810827044909596, future2.979965614177398974216301868, lp total:5.959931228354797948432603737\n",
      "spread:-0.178727260564109620359756740, future2.979965614177398974216301868, lp total:5.959931228354797948432603737\n",
      "spread:-0.180429610515753380972381901, future2.979965614177398974216301868, lp total:5.959931228354797948432603737\n"
     ]
    },
    {
     "name": "stderr",
     "output_type": "stream",
     "text": [
      "  1%|▊                                                                                                          | 1023/132480 [00:27<55:42, 39.33it/s]"
     ]
    },
    {
     "name": "stdout",
     "output_type": "stream",
     "text": [
      "spread:-0.182047087356756065154001377, future2.979965614177398974216301868, lp total:5.959931228354797948432603737\n",
      "spread:-0.183748391323327551021805616, future2.979965614177398974216301868, lp total:5.959931228354797948432603737\n",
      "spread:-0.184871269164218859697934140, future2.979965614177398974216301868, lp total:5.959931228354797948432603737\n",
      "spread:-0.187253908552702098607457636, future2.979965614177398974216301868, lp total:5.959931228354797948432603737\n",
      "spread:-0.191652358126904497412157522, future2.979965614177398974216301868, lp total:5.959931228354797948432603737\n",
      "spread:-0.195832516527802945551462263, future2.979965614177398974216301868, lp total:5.959931228354797948432603737\n",
      "spread:-0.200871238404993581811944098, future2.979965614177398974216301868, lp total:5.959931228354797948432603737\n",
      "spread:-0.205742154670793902536954240, future2.979965614177398974216301868, lp total:5.959931228354797948432603737\n",
      "spread:-0.208400836188478545185692602, future2.979965614177398974216301868, lp total:5.959931228354797948432603737\n",
      "spread:-0.211256006910024506609042456, future2.979965614177398974216301868, lp total:5.959931228354797948432603737\n",
      "spread:-0.213146605739602819908421771, future2.979965614177398974216301868, lp total:5.959931228354797948432603737\n",
      "spread:-0.215107563571192095161693344, future2.979965614177398974216301868, lp total:5.959931228354797948432603737\n"
     ]
    },
    {
     "name": "stderr",
     "output_type": "stream",
     "text": [
      "  1%|▊                                                                                                          | 1038/132480 [00:28<49:34, 44.18it/s]"
     ]
    },
    {
     "name": "stdout",
     "output_type": "stream",
     "text": [
      "spread:-0.217546712609118863175485061, future2.979965614177398974216301868, lp total:5.959931228354797948432603737\n",
      "spread:-0.220768852265049386449007030, future2.979965614177398974216301868, lp total:5.959931228354797948432603737\n",
      "spread:-0.224405997650404218078248440, future2.979965614177398974216301868, lp total:5.959931228354797948432603737\n",
      "spread:-0.228026737014204367196535275, future2.979965614177398974216301868, lp total:5.959931228354797948432603737\n",
      "spread:-0.229739947652799282215347890, future2.979965614177398974216301868, lp total:5.959931228354797948432603737\n",
      "spread:-0.231614786409588748920183077, future2.979965614177398974216301868, lp total:5.959931228354797948432603737\n",
      "spread:-0.233643192134963182775576573, future2.979965614177398974216301868, lp total:5.959931228354797948432603737\n",
      "spread:-0.235899825632348677278715497, future2.979965614177398974216301868, lp total:5.959931228354797948432603737\n",
      "spread:-0.240017693425393398762729004, future2.979965614177398974216301868, lp total:5.959931228354797948432603737\n"
     ]
    },
    {
     "name": "stderr",
     "output_type": "stream",
     "text": [
      "  1%|▊                                                                                                        | 1043/132480 [00:28<1:00:14, 36.37it/s]"
     ]
    },
    {
     "name": "stdout",
     "output_type": "stream",
     "text": [
      "spread:-0.245983041793321565317428562, future2.979965614177398974216301868, lp total:5.959931228354797948432603737\n",
      "spread:-0.252800727741937733218543376, future2.979965614177398974216301868, lp total:5.959931228354797948432603737\n",
      "spread:-0.260510097239992594725415611, future2.979965614177398974216301868, lp total:5.959931228354797948432603737\n",
      "spread:-0.269312116779752744133992768, future2.979965614177398974216301868, lp total:5.959931228354797948432603737\n",
      "spread:-0.276452196486432658949396137, future2.979965614177398974216301868, lp total:5.959931228354797948432603737\n",
      "spread:-0.282501271995860080366888512, future2.979965614177398974216301868, lp total:5.959931228354797948432603737\n",
      "spread:-0.288415174126102070471182655, future2.979965614177398974216301868, lp total:5.959931228354797948432603737\n",
      "spread:-0.295103445119340221605221603, future2.979965614177398974216301868, lp total:5.959931228354797948432603737\n",
      "spread:-0.301461063450081144776572657, future2.979965614177398974216301868, lp total:5.959931228354797948432603737\n"
     ]
    },
    {
     "name": "stderr",
     "output_type": "stream",
     "text": [
      "  1%|▊                                                                                                          | 1056/132480 [00:28<52:33, 41.67it/s]"
     ]
    },
    {
     "name": "stdout",
     "output_type": "stream",
     "text": [
      "spread:-0.307339924438478399966177672, future2.979965614177398974216301868, lp total:5.959931228354797948432603737\n",
      "spread:-0.314241752542214047819976447, future2.979965614177398974216301868, lp total:5.959931228354797948432603737\n",
      "spread:-0.319652159341725295933916411, future2.979965614177398974216301868, lp total:5.959931228354797948432603737\n",
      "spread:-0.327422872725610841402710623, future2.979965614177398974216301868, lp total:5.959931228354797948432603737\n",
      "spread:-0.332509186940526562681904231, future2.979965614177398974216301868, lp total:5.959931228354797948432603737\n",
      "spread:-0.337590279977701853238372470, future2.979965614177398974216301868, lp total:5.959931228354797948432603737\n",
      "spread:-0.343406921533657574724786953, future2.979965614177398974216301868, lp total:5.959931228354797948432603737\n",
      "spread:-0.348194726318922312641126572, future2.979965614177398974216301868, lp total:5.959931228354797948432603737\n",
      "spread:-0.352333047791489307343263172, future2.979965614177398974216301868, lp total:5.959931228354797948432603737\n",
      "spread:-0.355936021959856536140707135, future2.979965614177398974216301868, lp total:5.959931228354797948432603737\n",
      "spread:-0.359607425866399622690042667, future2.979965614177398974216301868, lp total:5.959931228354797948432603737\n",
      "spread:-0.362683739590623516393647329, future2.979965614177398974216301868, lp total:5.959931228354797948432603737\n",
      "spread:-0.365524456499991119373988445, future2.979965614177398974216301868, lp total:5.959931228354797948432603737\n",
      "spread:-0.369709357281416727496607890, future2.979965614177398974216301868, lp total:5.959931228354797948432603737\n",
      "spread:-0.372778617300413775059113329, future2.979965614177398974216301868, lp total:5.959931228354797948432603737\n"
     ]
    },
    {
     "name": "stderr",
     "output_type": "stream",
     "text": [
      "  1%|▊                                                                                                          | 1070/132480 [00:29<48:12, 45.43it/s]"
     ]
    },
    {
     "name": "stdout",
     "output_type": "stream",
     "text": [
      "spread:-0.376355735270566883164236515, future2.979965614177398974216301868, lp total:5.959931228354797948432603737\n",
      "spread:-0.380497811881207696726541100, future2.979965614177398974216301868, lp total:5.959931228354797948432603737\n",
      "spread:-0.386659532747986106355109318, future2.979965614177398974216301868, lp total:5.959931228354797948432603737\n",
      "spread:-0.390785117920137062802668709, future2.979965614177398974216301868, lp total:5.959931228354797948432603737\n",
      "spread:-0.396684829207118652834383058, future2.979965614177398974216301868, lp total:5.959931228354797948432603737\n",
      "spread:-0.402292472096347073447096468, future2.979965614177398974216301868, lp total:5.959931228354797948432603737\n",
      "spread:-0.406632449267376551891478976, future2.979965614177398974216301868, lp total:5.959931228354797948432603737\n",
      "spread:-0.409186799406834811040852176, future2.979965614177398974216301868, lp total:5.959931228354797948432603737\n",
      "spread:-0.413101937441186002006463174, future2.979965614177398974216301868, lp total:5.959931228354797948432603737\n",
      "spread:-0.418473541254141129839802828, future2.979965614177398974216301868, lp total:5.959931228354797948432603737\n",
      "spread:-0.421679261901891233702545600, future2.979965614177398974216301868, lp total:5.959931228354797948432603737\n",
      "spread:-0.426295613032638278518319646, future2.979965614177398974216301868, lp total:5.959931228354797948432603737\n"
     ]
    },
    {
     "name": "stderr",
     "output_type": "stream",
     "text": [
      "  1%|▉                                                                                                          | 1086/132480 [00:29<37:48, 57.93it/s]"
     ]
    },
    {
     "name": "stdout",
     "output_type": "stream",
     "text": [
      "spread:-0.429029508542256524688755664, future2.979965614177398974216301868, lp total:5.959931228354797948432603737\n",
      "spread:-0.431461785485322314419548272, future2.979965614177398974216301868, lp total:5.959931228354797948432603737\n",
      "spread:-0.433772943732786009182558732, future2.979965614177398974216301868, lp total:5.959931228354797948432603737\n",
      "spread:-0.435471956667261860884866643, future2.979965614177398974216301868, lp total:5.959931228354797948432603737\n",
      "spread:-0.436505953607615495018719269, future2.979965614177398974216301868, lp total:5.959931228354797948432603737\n",
      "spread:-0.436990590907585736639181617, future2.979965614177398974216301868, lp total:5.959931228354797948432603737\n",
      "spread:-0.438363383256288806474134405, future2.979965614177398974216301868, lp total:5.959931228354797948432603737\n",
      "spread:-0.440330728723749716079596544, future2.979965614177398974216301868, lp total:5.959931228354797948432603737\n",
      "spread:-0.441371020322558734666814270, future2.979965614177398974216301868, lp total:5.959931228354797948432603737\n",
      "spread:-0.443022716791235784656735481, future2.979965614177398974216301868, lp total:5.959931228354797948432603737\n",
      "spread:-0.444757835707440336323883002, future2.979965614177398974216301868, lp total:5.959931228354797948432603737\n",
      "spread:-0.446737965954009378940460683, future2.979965614177398974216301868, lp total:5.959931228354797948432603737\n",
      "spread:-0.448370750395988744450639479, future2.979965614177398974216301868, lp total:5.959931228354797948432603737\n",
      "spread:-0.449922118622708047143584401, future2.979965614177398974216301868, lp total:5.959931228354797948432603737\n",
      "spread:-0.451230257903611998358289644, future2.979965614177398974216301868, lp total:5.959931228354797948432603737\n"
     ]
    },
    {
     "name": "stderr",
     "output_type": "stream",
     "text": [
      "  1%|▉                                                                                                          | 1100/132480 [00:29<41:01, 53.36it/s]"
     ]
    },
    {
     "name": "stdout",
     "output_type": "stream",
     "text": [
      "spread:-0.452473133346520050121076925, future2.979965614177398974216301868, lp total:5.959931228354797948432603737\n",
      "spread:-0.453322105831066678250209277, future2.979965614177398974216301868, lp total:5.959931228354797948432603737\n",
      "spread:-0.454626512745340274173257321, future2.979965614177398974216301868, lp total:5.959931228354797948432603737\n",
      "spread:-0.455782881052364544779949047, future2.979965614177398974216301868, lp total:5.959931228354797948432603737\n",
      "spread:-0.455636089570301985047056298, future2.979965614177398974216301868, lp total:5.959931228354797948432603737\n",
      "spread:-0.453500341917943873105463685, future2.979965614177398974216301868, lp total:5.959931228354797948432603737\n",
      "spread:-0.458851144529114384597663174, future2.979965614177398974216301868, lp total:5.959931228354797948432603737\n",
      "spread:-0.457469805258222005919289419, future2.979965614177398974216301868, lp total:5.959931228354797948432603737\n",
      "spread:-0.456823044893450389417538729, future2.979965614177398974216301868, lp total:5.959931228354797948432603737\n",
      "spread:-0.459030762524387110075382980, future2.979965614177398974216301868, lp total:5.959931228354797948432603737\n",
      "spread:-0.461211386355036856306545490, future2.979965614177398974216301868, lp total:5.959931228354797948432603737\n",
      "spread:-0.463863461835215860815202332, future2.979965614177398974216301868, lp total:5.959931228354797948432603737\n",
      "spread:-0.465554524960443499837897508, future2.979965614177398974216301868, lp total:5.959931228354797948432603737\n"
     ]
    },
    {
     "name": "stderr",
     "output_type": "stream",
     "text": [
      "  1%|▉                                                                                                          | 1106/132480 [00:29<47:13, 46.36it/s]"
     ]
    },
    {
     "name": "stdout",
     "output_type": "stream",
     "text": [
      "spread:-0.467244220230515373962198014, future2.979965614177398974216301868, lp total:5.959931228354797948432603737\n",
      "spread:-0.468517790450555027094121571, future2.979965614177398974216301868, lp total:5.959931228354797948432603737\n",
      "spread:-0.469810808068832431802565432, future2.979965614177398974216301868, lp total:5.959931228354797948432603737\n",
      "spread:-0.471039314564046086849423865, future2.979965614177398974216301868, lp total:5.959931228354797948432603737\n",
      "spread:-0.472206521889283561529623913, future2.979965614177398974216301868, lp total:5.959931228354797948432603737\n",
      "spread:-0.473730450387507216504030905, future2.979965614177398974216301868, lp total:5.959931228354797948432603737\n",
      "spread:-0.476339417082601358478718657, future2.979965614177398974216301868, lp total:5.959931228354797948432603737\n",
      "spread:-0.478652696430742282227442906, future2.979965614177398974216301868, lp total:5.959931228354797948432603737\n"
     ]
    },
    {
     "name": "stderr",
     "output_type": "stream",
     "text": [
      "  1%|▉                                                                                                          | 1116/132480 [00:30<59:44, 36.65it/s]"
     ]
    },
    {
     "name": "stdout",
     "output_type": "stream",
     "text": [
      "spread:-0.486801736097529975429813007, future2.979965614177398974216301868, lp total:5.959931228354797948432603737\n",
      "spread:-0.487763495772051264594428522, future2.979965614177398974216301868, lp total:5.959931228354797948432603737\n",
      "spread:-0.488511090018539332242884297, future2.979965614177398974216301868, lp total:5.959931228354797948432603737\n",
      "spread:-0.489719755129220873378727461, future2.979965614177398974216301868, lp total:5.959931228354797948432603737\n",
      "spread:-0.490951158051699881374565276, future2.979965614177398974216301868, lp total:5.959931228354797948432603737\n",
      "spread:-0.491456440037185841943992593, future2.979965614177398974216301868, lp total:5.959931228354797948432603737\n"
     ]
    },
    {
     "name": "stderr",
     "output_type": "stream",
     "text": [
      "  1%|▉                                                                                                        | 1120/132480 [00:30<1:05:22, 33.49it/s]"
     ]
    },
    {
     "name": "stdout",
     "output_type": "stream",
     "text": [
      "spread:-0.491603941627664649638129337, future2.979965614177398974216301868, lp total:5.959931228354797948432603737\n",
      "spread:-0.490495941781531567873406576, future2.979965614177398974216301868, lp total:5.959931228354797948432603737\n",
      "spread:-0.489443444465772185772754402, future2.979965614177398974216301868, lp total:5.959931228354797948432603737\n",
      "spread:-0.488526911559872534897827056, future2.979965614177398974216301868, lp total:5.959931228354797948432603737\n",
      "spread:-0.489236382670365403349653791, future2.979965614177398974216301868, lp total:5.959931228354797948432603737\n",
      "spread:-0.489910422274832886132372085, future2.979965614177398974216301868, lp total:5.959931228354797948432603737\n",
      "spread:-0.491298389592592615907151021, future2.979965614177398974216301868, lp total:5.959931228354797948432603737\n"
     ]
    },
    {
     "name": "stderr",
     "output_type": "stream",
     "text": [
      "  1%|▉                                                                                                          | 1132/132480 [00:30<51:59, 42.11it/s]"
     ]
    },
    {
     "name": "stdout",
     "output_type": "stream",
     "text": [
      "spread:-0.496015353425813943132698947, future2.979965614177398974216301868, lp total:5.959931228354797948432603737\n",
      "spread:-0.500332792584343293504237724, future2.979965614177398974216301868, lp total:5.959931228354797948432603737\n",
      "spread:-0.503938942853419512028636521, future2.979965614177398974216301868, lp total:5.959931228354797948432603737\n",
      "spread:-0.508359851156678012631149840, future2.979965614177398974216301868, lp total:5.959931228354797948432603737\n",
      "spread:-0.512561346367628012636301262, future2.979965614177398974216301868, lp total:5.959931228354797948432603737\n",
      "spread:-0.516554240920253308985130902, future2.979965614177398974216301868, lp total:5.959931228354797948432603737\n",
      "spread:-0.519602635127074483979130160, future2.979965614177398974216301868, lp total:5.959931228354797948432603737\n",
      "spread:-0.523328659883294202041130560, future2.979965614177398974216301868, lp total:5.959931228354797948432603737\n",
      "spread:-0.527118254410432962863637624, future2.979965614177398974216301868, lp total:5.959931228354797948432603737\n",
      "spread:-0.530304874869899618637461908, future2.979965614177398974216301868, lp total:5.959931228354797948432603737\n",
      "spread:-0.531006548108134606720835646, future2.979965614177398974216301868, lp total:5.959931228354797948432603737\n",
      "spread:-0.530840787472002716900975162, future2.979965614177398974216301868, lp total:5.959931228354797948432603737\n",
      "spread:-0.530433453144204941541001330, future2.979965614177398974216301868, lp total:5.959931228354797948432603737\n",
      "spread:-0.529296517352659883822348704, future2.979965614177398974216301868, lp total:5.959931228354797948432603737\n",
      "spread:-0.527299132577982994883892963, future2.979965614177398974216301868, lp total:5.959931228354797948432603737\n",
      "spread:-0.524817761324376564225277521, future2.979965614177398974216301868, lp total:5.959931228354797948432603737\n",
      "spread:-0.523128443749682802707746378, future2.979965614177398974216301868, lp total:5.959931228354797948432603737\n",
      "spread:-0.523439784944538275947103173, future2.979965614177398974216301868, lp total:5.959931228354797948432603737\n"
     ]
    },
    {
     "name": "stderr",
     "output_type": "stream",
     "text": [
      "  1%|▉                                                                                                          | 1154/132480 [00:30<31:19, 69.86it/s]"
     ]
    },
    {
     "name": "stdout",
     "output_type": "stream",
     "text": [
      "spread:-0.523069592600726063539621519, future2.979965614177398974216301868, lp total:5.959931228354797948432603737\n",
      "spread:-0.522468061689499402526270120, future2.979965614177398974216301868, lp total:5.959931228354797948432603737\n",
      "spread:-0.521979927473398500950410407, future2.979965614177398974216301868, lp total:5.959931228354797948432603737\n",
      "spread:-0.521516219851794476771827522, future2.979965614177398974216301868, lp total:5.959931228354797948432603737\n",
      "spread:-0.522407199163651217248298123, future2.979965614177398974216301868, lp total:5.959931228354797948432603737\n",
      "spread:-0.523253695762168408824466184, future2.979965614177398974216301868, lp total:5.959931228354797948432603737\n",
      "spread:-0.523475559112388789541085837, future2.979965614177398974216301868, lp total:5.959931228354797948432603737\n",
      "spread:-0.523103576923987871495910963, future2.979965614177398974216301868, lp total:5.959931228354797948432603737\n",
      "spread:-0.521083159498282717720193937, future2.979965614177398974216301868, lp total:5.959931228354797948432603737\n",
      "spread:-0.519164103551311655116617766, future2.979965614177398974216301868, lp total:5.959931228354797948432603737\n",
      "spread:-0.517924927748611908150420883, future2.979965614177398974216301868, lp total:5.959931228354797948432603737\n",
      "spread:-0.517081131095698383051655676, future2.979965614177398974216301868, lp total:5.959931228354797948432603737\n",
      "spread:-0.515196011313671524357382156, future2.979965614177398974216301868, lp total:5.959931228354797948432603737\n",
      "spread:-0.513405444093844277408569693, future2.979965614177398974216301868, lp total:5.959931228354797948432603737\n",
      "spread:-0.511621293364589921225323661, future2.979965614177398974216301868, lp total:5.959931228354797948432603737\n",
      "spread:-0.509676469428872602734264772, future2.979965614177398974216301868, lp total:5.959931228354797948432603737\n",
      "spread:-0.508579308619070226415451031, future2.979965614177398974216301868, lp total:5.959931228354797948432603737\n",
      "spread:-0.508286518046786677837505275, future2.979965614177398974216301868, lp total:5.959931228354797948432603737\n",
      "spread:-0.508258033207762696045137458, future2.979965614177398974216301868, lp total:5.959931228354797948432603737\n",
      "spread:-0.508480561850375634700995835, future2.979965614177398974216301868, lp total:5.959931228354797948432603737\n"
     ]
    },
    {
     "name": "stderr",
     "output_type": "stream",
     "text": [
      "  1%|▉                                                                                                          | 1171/132480 [00:30<29:28, 74.24it/s]"
     ]
    },
    {
     "name": "stdout",
     "output_type": "stream",
     "text": [
      "spread:-0.508608777914524797520930319, future2.979965614177398974216301868, lp total:5.959931228354797948432603737\n",
      "spread:-0.509395898687006817876510735, future2.979965614177398974216301868, lp total:5.959931228354797948432603737\n",
      "spread:-0.510143715147468781032975966, future2.979965614177398974216301868, lp total:5.959931228354797948432603737\n",
      "spread:-0.511186703662918885147623462, future2.979965614177398974216301868, lp total:5.959931228354797948432603737\n",
      "spread:-0.512177633571575308227015143, future2.979965614177398974216301868, lp total:5.959931228354797948432603737\n",
      "spread:-0.513119098961142423213886584, future2.979965614177398974216301868, lp total:5.959931228354797948432603737\n",
      "spread:-0.514096696076194090621732487, future2.979965614177398974216301868, lp total:5.959931228354797948432603737\n",
      "spread:-0.516520661992243406081181849, future2.979965614177398974216301868, lp total:5.959931228354797948432603737\n",
      "spread:-0.518657878721524391913299195, future2.979965614177398974216301868, lp total:5.959931228354797948432603737\n",
      "spread:-0.519691539636407188243322291, future2.979965614177398974216301868, lp total:5.959931228354797948432603737\n",
      "spread:-0.520008215133046304607512638, future2.979965614177398974216301868, lp total:5.959931228354797948432603737\n",
      "spread:-0.520309065224434589528170131, future2.979965614177398974216301868, lp total:5.959931228354797948432603737\n",
      "spread:-0.520594880365143412260280560, future2.979965614177398974216301868, lp total:5.959931228354797948432603737\n",
      "spread:-0.520616743459553498907154127, future2.979965614177398974216301868, lp total:5.959931228354797948432603737\n"
     ]
    },
    {
     "name": "stderr",
     "output_type": "stream",
     "text": [
      "  1%|▉                                                                                                          | 1179/132480 [00:31<37:09, 58.88it/s]"
     ]
    },
    {
     "name": "stdout",
     "output_type": "stream",
     "text": [
      "spread:-0.520554275184321532911960152, future2.979965614177398974216301868, lp total:5.959931228354797948432603737\n",
      "spread:-0.519578806435613648899887320, future2.979965614177398974216301868, lp total:5.959931228354797948432603737\n",
      "spread:-0.518818813991512165305150328, future2.979965614177398974216301868, lp total:5.959931228354797948432603737\n",
      "spread:-0.518096869371939180485727351, future2.979965614177398974216301868, lp total:5.959931228354797948432603737\n",
      "spread:-0.517660911193380375266494723, future2.979965614177398974216301868, lp total:5.959931228354797948432603737\n",
      "spread:-0.517330030178323187239964312, future2.979965614177398974216301868, lp total:5.959931228354797948432603737\n",
      "spread:-0.516016061512476255257084446, future2.979965614177398974216301868, lp total:5.959931228354797948432603737\n",
      "spread:-0.515850707747745526302002778, future2.979965614177398974216301868, lp total:5.959931228354797948432603737\n",
      "spread:-0.518021298649239260566263721, future2.979965614177398974216301868, lp total:5.959931228354797948432603737\n",
      "spread:-0.520747819953362106489708414, future2.979965614177398974216301868, lp total:5.959931228354797948432603737\n",
      "spread:-0.521926576859517608896882302, future2.979965614177398974216301868, lp total:5.959931228354797948432603737\n"
     ]
    },
    {
     "name": "stderr",
     "output_type": "stream",
     "text": [
      "  1%|▉                                                                                                          | 1212/132480 [00:31<24:14, 90.24it/s]"
     ]
    },
    {
     "name": "stdout",
     "output_type": "stream",
     "text": [
      "spread:-0.524043590438799490500950861, future2.979965614177398974216301868, lp total:5.959931228354797948432603737\n",
      "spread:-0.525805916361622780828056278, future2.979965614177398974216301868, lp total:5.959931228354797948432603737\n",
      "spread:-0.526649056661811405042382653, future2.979965614177398974216301868, lp total:5.959931228354797948432603737\n",
      "spread:-0.527283729256932208107944592, future2.979965614177398974216301868, lp total:5.959931228354797948432603737\n",
      "spread:-0.528552033379176430160060187, future2.979965614177398974216301868, lp total:5.959931228354797948432603737\n",
      "spread:-0.529757056524330003365663736, future2.979965614177398974216301868, lp total:5.959931228354797948432603737\n",
      "spread:-0.532148383777634964819106027, future2.979965614177398974216301868, lp total:5.959931228354797948432603737\n",
      "spread:-0.534088340519229662974536682, future2.979965614177398974216301868, lp total:5.959931228354797948432603737\n",
      "spread:-0.535516019845246857731447316, future2.979965614177398974216301868, lp total:5.959931228354797948432603737\n",
      "spread:-0.536706173674153475212173339, future2.979965614177398974216301868, lp total:5.959931228354797948432603737\n",
      "spread:-0.537587387497393028671694313, future2.979965614177398974216301868, lp total:5.959931228354797948432603737\n",
      "spread:-0.538258187395993323722449614, future2.979965614177398974216301868, lp total:5.959931228354797948432603737\n",
      "spread:-0.538895484834653630854897853, future2.979965614177398974216301868, lp total:5.959931228354797948432603737\n",
      "spread:-0.539916985145793573304919801, future2.979965614177398974216301868, lp total:5.959931228354797948432603737\n",
      "spread:-0.540887497481408292768653563, future2.979965614177398974216301868, lp total:5.959931228354797948432603737\n",
      "spread:-0.539977261442488032170108152, future2.979965614177398974216301868, lp total:5.959931228354797948432603737\n",
      "spread:-0.538779085821518597632499472, future2.979965614177398974216301868, lp total:5.959931228354797948432603737\n",
      "spread:-0.540388514317633823524616351, future2.979965614177398974216301868, lp total:5.959931228354797948432603737\n",
      "spread:-0.542582595804015667072686830, future2.979965614177398974216301868, lp total:5.959931228354797948432603737\n",
      "spread:-0.543836006415783112385242254, future2.979965614177398974216301868, lp total:5.959931228354797948432603737\n",
      "spread:-0.545026877531717166445372512, future2.979965614177398974216301868, lp total:5.959931228354797948432603737\n",
      "spread:-0.546158323371873514024403131, future2.979965614177398974216301868, lp total:5.959931228354797948432603737\n",
      "spread:-0.547233303685882769890773914, future2.979965614177398974216301868, lp total:5.959931228354797948432603737\n",
      "spread:-0.549169458136540929082360645, future2.979965614177398974216301868, lp total:5.959931228354797948432603737\n",
      "spread:-0.551507804262667219649147378, future2.979965614177398974216301868, lp total:5.959931228354797948432603737\n",
      "spread:-0.553895889729514538458887132, future2.979965614177398974216301868, lp total:5.959931228354797948432603737\n",
      "spread:-0.557825701817953223090536424, future2.979965614177398974216301868, lp total:5.959931228354797948432603737\n",
      "spread:-0.558734417916980134042290340, future2.979965614177398974216301868, lp total:5.959931228354797948432603737\n",
      "spread:-0.559597767052337680163764651, future2.979965614177398974216301868, lp total:5.959931228354797948432603737\n",
      "spread:-0.560334749114876100912118564, future2.979965614177398974216301868, lp total:5.959931228354797948432603737\n",
      "spread:-0.560701782318596496857996460, future2.979965614177398974216301868, lp total:5.959931228354797948432603737\n"
     ]
    },
    {
     "name": "stderr",
     "output_type": "stream",
     "text": [
      "  1%|▉                                                                                                          | 1231/132480 [00:31<31:46, 68.85it/s]"
     ]
    },
    {
     "name": "stdout",
     "output_type": "stream",
     "text": [
      "spread:-0.561466900191407940157476696, future2.979965614177398974216301868, lp total:5.959931228354797948432603737\n",
      "spread:-0.561694045045398709554161483, future2.979965614177398974216301868, lp total:5.959931228354797948432603737\n",
      "spread:-0.560992860951582022551367736, future2.979965614177398974216301868, lp total:5.959931228354797948432603737\n",
      "spread:-0.559325435045521093185391984, future2.979965614177398974216301868, lp total:5.959931228354797948432603737\n",
      "spread:-0.556404950250409842806674155, future2.979965614177398974216301868, lp total:5.959931228354797948432603737\n",
      "spread:-0.553714779014447986037264454, future2.979965614177398974216301868, lp total:5.959931228354797948432603737\n",
      "spread:-0.551159719567591726132470562, future2.979965614177398974216301868, lp total:5.959931228354797948432603737\n",
      "spread:-0.548732957296891254089468866, future2.979965614177398974216301868, lp total:5.959931228354797948432603737\n",
      "spread:-0.545174358041450802933721850, future2.979965614177398974216301868, lp total:5.959931228354797948432603737\n",
      "spread:-0.541543878895615769918554457, future2.979965614177398974216301868, lp total:5.959931228354797948432603737\n",
      "spread:-0.538764635323238135893560483, future2.979965614177398974216301868, lp total:5.959931228354797948432603737\n",
      "spread:-0.536292034237783975285995388, future2.979965614177398974216301868, lp total:5.959931228354797948432603737\n",
      "spread:-0.534944929888897272521089399, future2.979965614177398974216301868, lp total:5.959931228354797948432603737\n",
      "spread:-0.532997961310411797782889637, future2.979965614177398974216301868, lp total:5.959931228354797948432603737\n",
      "spread:-0.530814842343822155862616730, future2.979965614177398974216301868, lp total:5.959931228354797948432603737\n",
      "spread:-0.528741276877297246953706612, future2.979965614177398974216301868, lp total:5.959931228354797948432603737\n",
      "spread:-0.526855183297157966857982717, future2.979965614177398974216301868, lp total:5.959931228354797948432603737\n",
      "spread:-0.526730501405290335145783992, future2.979965614177398974216301868, lp total:5.959931228354797948432603737\n"
     ]
    },
    {
     "name": "stderr",
     "output_type": "stream",
     "text": [
      "  1%|█                                                                                                          | 1247/132480 [00:32<43:02, 50.83it/s]"
     ]
    },
    {
     "name": "stdout",
     "output_type": "stream",
     "text": [
      "spread:-0.526362232549010167108370209, future2.979965614177398974216301868, lp total:5.959931228354797948432603737\n",
      "spread:-0.526012388451620505276082950, future2.979965614177398974216301868, lp total:5.959931228354797948432603737\n",
      "spread:-0.526262821970554486919982596, future2.979965614177398974216301868, lp total:5.959931228354797948432603737\n",
      "spread:-0.526500739046839855297859437, future2.979965614177398974216301868, lp total:5.959931228354797948432603737\n",
      "spread:-0.526143965436677966595009454, future2.979965614177398974216301868, lp total:5.959931228354797948432603737\n",
      "spread:-0.525471853528585664065230736, future2.979965614177398974216301868, lp total:5.959931228354797948432603737\n",
      "spread:-0.524250043474771855571655624, future2.979965614177398974216301868, lp total:5.959931228354797948432603737\n",
      "spread:-0.523089448480722604338339135, future2.979965614177398974216301868, lp total:5.959931228354797948432603737\n",
      "spread:-0.521986995629528506242850409, future2.979965614177398974216301868, lp total:5.959931228354797948432603737\n",
      "spread:-0.522022491737151048494168393, future2.979965614177398974216301868, lp total:5.959931228354797948432603737\n",
      "spread:-0.521972972573374555794458876, future2.979965614177398974216301868, lp total:5.959931228354797948432603737\n",
      "spread:-0.521343032416925353937667559, future2.979965614177398974216301868, lp total:5.959931228354797948432603737\n",
      "spread:-0.520827912021811297541348198, future2.979965614177398974216301868, lp total:5.959931228354797948432603737\n"
     ]
    },
    {
     "name": "stderr",
     "output_type": "stream",
     "text": [
      "  1%|█                                                                                                          | 1262/132480 [00:32<41:05, 53.22it/s]"
     ]
    },
    {
     "name": "stdout",
     "output_type": "stream",
     "text": [
      "spread:-0.520754884093922870036048625, future2.979965614177398974216301868, lp total:5.959931228354797948432603737\n",
      "spread:-0.522265737669993280902358975, future2.979965614177398974216301868, lp total:5.959931228354797948432603737\n",
      "spread:-0.524863993226882973447264208, future2.979965614177398974216301868, lp total:5.959931228354797948432603737\n",
      "spread:-0.527415914179912058460226485, future2.979965614177398974216301868, lp total:5.959931228354797948432603737\n",
      "spread:-0.530670688707752505314306327, future2.979965614177398974216301868, lp total:5.959931228354797948432603737\n",
      "spread:-0.533763608584725634184462277, future2.979965614177398974216301868, lp total:5.959931228354797948432603737\n",
      "spread:-0.536121511414375183608769388, future2.979965614177398974216301868, lp total:5.959931228354797948432603737\n",
      "spread:-0.538777226079948971081020938, future2.979965614177398974216301868, lp total:5.959931228354797948432603737\n",
      "spread:-0.540802315393861770620006905, future2.979965614177398974216301868, lp total:5.959931228354797948432603737\n",
      "spread:-0.541728633047601245307730228, future2.979965614177398974216301868, lp total:5.959931228354797948432603737\n",
      "spread:-0.542608706389259423123748968, future2.979965614177398974216301868, lp total:5.959931228354797948432603737\n",
      "spread:-0.540861505948992704292792872, future2.979965614177398974216301868, lp total:5.959931228354797948432603737\n",
      "spread:-0.538534149688785782005825101, future2.979965614177398974216301868, lp total:5.959931228354797948432603737\n",
      "spread:-0.536240123528752091827342776, future2.979965614177398974216301868, lp total:5.959931228354797948432603737\n",
      "spread:-0.535145785192404352950980606, future2.979965614177398974216301868, lp total:5.959931228354797948432603737\n"
     ]
    },
    {
     "name": "stderr",
     "output_type": "stream",
     "text": [
      "  1%|█                                                                                                          | 1280/132480 [00:32<33:30, 65.26it/s]"
     ]
    },
    {
     "name": "stdout",
     "output_type": "stream",
     "text": [
      "spread:-0.533105282798413118418206728, future2.979965614177398974216301868, lp total:5.959931228354797948432603737\n",
      "spread:-0.531000243779802951382648270, future2.979965614177398974216301868, lp total:5.959931228354797948432603737\n",
      "spread:-0.528917375273456378343098929, future2.979965614177398974216301868, lp total:5.959931228354797948432603737\n",
      "spread:-0.526939012094530126841780710, future2.979965614177398974216301868, lp total:5.959931228354797948432603737\n",
      "spread:-0.525059893594115099119398199, future2.979965614177398974216301868, lp total:5.959931228354797948432603737\n",
      "spread:-0.522190010889251864452629850, future2.979965614177398974216301868, lp total:5.959931228354797948432603737\n",
      "spread:-0.519464309472681999696289135, future2.979965614177398974216301868, lp total:5.959931228354797948432603737\n",
      "spread:-0.517376211321035389844525143, future2.979965614177398974216301868, lp total:5.959931228354797948432603737\n",
      "spread:-0.515392881924572099089096727, future2.979965614177398974216301868, lp total:5.959931228354797948432603737\n",
      "spread:-0.513592440914576299811934760, future2.979965614177398974216301868, lp total:5.959931228354797948432603737\n",
      "spread:-0.510547274116577534075835514, future2.979965614177398974216301868, lp total:5.959931228354797948432603737\n",
      "spread:-0.507655139572171657871850526, future2.979965614177398974216301868, lp total:5.959931228354797948432603737\n",
      "spread:-0.504741378550996991050083158, future2.979965614177398974216301868, lp total:5.959931228354797948432603737\n",
      "spread:-0.504390896626355142341036919, future2.979965614177398974216301868, lp total:5.959931228354797948432603737\n",
      "spread:-0.504057949054096088524637382, future2.979965614177398974216301868, lp total:5.959931228354797948432603737\n",
      "spread:-0.503242174416204213826783577, future2.979965614177398974216301868, lp total:5.959931228354797948432603737\n",
      "spread:-0.503133114233072026404740320, future2.979965614177398974216301868, lp total:5.959931228354797948432603737\n"
     ]
    },
    {
     "name": "stderr",
     "output_type": "stream",
     "text": [
      "  1%|█                                                                                                          | 1288/132480 [00:32<41:13, 53.03it/s]"
     ]
    },
    {
     "name": "stdout",
     "output_type": "stream",
     "text": [
      "spread:-0.505439138517482203958200689, future2.979965614177398974216301868, lp total:5.959931228354797948432603737\n",
      "spread:-0.507630305675028115266346373, future2.979965614177398974216301868, lp total:5.959931228354797948432603737\n",
      "spread:-0.509795322823019956895480388, future2.979965614177398974216301868, lp total:5.959931228354797948432603737\n",
      "spread:-0.511769457677039602977224522, future2.979965614177398974216301868, lp total:5.959931228354797948432603737\n",
      "spread:-0.513063738052876928734019531, future2.979965614177398974216301868, lp total:5.959931228354797948432603737\n",
      "spread:-0.514127221490399410961994494, future2.979965614177398974216301868, lp total:5.959931228354797948432603737\n",
      "spread:-0.514472365918768367199757212, future2.979965614177398974216301868, lp total:5.959931228354797948432603737\n",
      "spread:-0.514550656528644657125388119, future2.979965614177398974216301868, lp total:5.959931228354797948432603737\n",
      "spread:-0.514375355632914584284037875, future2.979965614177398974216301868, lp total:5.959931228354797948432603737\n",
      "spread:-0.514208822347032757694053651, future2.979965614177398974216301868, lp total:5.959931228354797948432603737\n",
      "spread:-0.514549889129534384377124276, future2.979965614177398974216301868, lp total:5.959931228354797948432603737\n",
      "spread:-0.515206615485590099670758342, future2.979965614177398974216301868, lp total:5.959931228354797948432603737\n",
      "spread:-0.516329393616826275716446437, future2.979965614177398974216301868, lp total:5.959931228354797948432603737\n",
      "spread:-0.517313007292241139327829798, future2.979965614177398974216301868, lp total:5.959931228354797948432603737\n",
      "spread:-0.518330658821918849805171680, future2.979965614177398974216301868, lp total:5.959931228354797948432603737\n",
      "spread:-0.518964887971226185890683556, future2.979965614177398974216301868, lp total:5.959931228354797948432603737\n"
     ]
    },
    {
     "name": "stderr",
     "output_type": "stream",
     "text": [
      "  1%|█                                                                                                          | 1306/132480 [00:33<35:01, 62.42it/s]"
     ]
    },
    {
     "name": "stdout",
     "output_type": "stream",
     "text": [
      "spread:-0.519567439236284185778200798, future2.979965614177398974216301868, lp total:5.959931228354797948432603737\n",
      "spread:-0.520056708640887675760614933, future2.979965614177398974216301868, lp total:5.959931228354797948432603737\n",
      "spread:-0.520521534554404187849240543, future2.979965614177398974216301868, lp total:5.959931228354797948432603737\n",
      "spread:-0.521379017231546755024865066, future2.979965614177398974216301868, lp total:5.959931228354797948432603737\n",
      "spread:-0.522193687140894582101970490, future2.979965614177398974216301868, lp total:5.959931228354797948432603737\n",
      "spread:-0.522967678944426648517008109, future2.979965614177398974216301868, lp total:5.959931228354797948432603737\n",
      "spread:-0.524617471864967805294260708, future2.979965614177398974216301868, lp total:5.959931228354797948432603737\n",
      "spread:-0.525686255927703628472860044, future2.979965614177398974216301868, lp total:5.959931228354797948432603737\n",
      "spread:-0.526951126715892145954890615, future2.979965614177398974216301868, lp total:5.959931228354797948432603737\n",
      "spread:-0.528152887474331656315056435, future2.979965614177398974216301868, lp total:5.959931228354797948432603737\n",
      "spread:-0.529710332324008289155785860, future2.979965614177398974216301868, lp total:5.959931228354797948432603737\n",
      "spread:-0.531190107336027979638900249, future2.979965614177398974216301868, lp total:5.959931228354797948432603737\n",
      "spread:-0.533177816862132661176144524, future2.979965614177398974216301868, lp total:5.959931228354797948432603737\n",
      "spread:-0.535398781169297300854315809, future2.979965614177398974216301868, lp total:5.959931228354797948432603737\n",
      "spread:-0.537509108817848902827978421, future2.979965614177398974216301868, lp total:5.959931228354797948432603737\n",
      "spread:-0.539514291631707637973685290, future2.979965614177398974216301868, lp total:5.959931228354797948432603737\n",
      "spread:-0.539256159694442510303874018, future2.979965614177398974216301868, lp total:5.959931228354797948432603737\n",
      "spread:-0.539010939911616715175974071, future2.979965614177398974216301868, lp total:5.959931228354797948432603737\n",
      "spread:-0.539277670605173660343650637, future2.979965614177398974216301868, lp total:5.959931228354797948432603737\n"
     ]
    },
    {
     "name": "stderr",
     "output_type": "stream",
     "text": [
      "  1%|█                                                                                                          | 1327/132480 [00:33<32:41, 66.88it/s]"
     ]
    },
    {
     "name": "stdout",
     "output_type": "stream",
     "text": [
      "spread:-0.538614749708826367141006284, future2.979965614177398974216301868, lp total:5.959931228354797948432603737\n",
      "spread:-0.539483875614428452593350344, future2.979965614177398974216301868, lp total:5.959931228354797948432603737\n",
      "spread:-0.540309608234431845664271094, future2.979965614177398974216301868, lp total:5.959931228354797948432603737\n",
      "spread:-0.540178302364012002557811677, future2.979965614177398974216301868, lp total:5.959931228354797948432603737\n",
      "spread:-0.540053563225129390319407593, future2.979965614177398974216301868, lp total:5.959931228354797948432603737\n",
      "spread:-0.538517918615186699772968471, future2.979965614177398974216301868, lp total:5.959931228354797948432603737\n",
      "spread:-0.537142665039315485138997050, future2.979965614177398974216301868, lp total:5.959931228354797948432603737\n",
      "spread:-0.536586605742228857103001564, future2.979965614177398974216301868, lp total:5.959931228354797948432603737\n",
      "spread:-0.538720836297328846595139811, future2.979965614177398974216301868, lp total:5.959931228354797948432603737\n",
      "spread:-0.542243182542080121608662822, future2.979965614177398974216301868, lp total:5.959931228354797948432603737\n",
      "spread:-0.544594124739088179519585157, future2.979965614177398974216301868, lp total:5.959931228354797948432603737\n",
      "spread:-0.546578677374781626141624279, future2.979965614177398974216301868, lp total:5.959931228354797948432603737\n",
      "spread:-0.548298061886434239425817830, future2.979965614177398974216301868, lp total:5.959931228354797948432603737\n"
     ]
    },
    {
     "name": "stderr",
     "output_type": "stream",
     "text": [
      "  1%|█                                                                                                          | 1337/132480 [00:33<29:37, 73.77it/s]"
     ]
    },
    {
     "name": "stdout",
     "output_type": "stream",
     "text": [
      "spread:-0.551344237629537593969388423, future2.979965614177398974216301868, lp total:5.959931228354797948432603737\n",
      "spread:-0.555400760909231787028796326, future2.979965614177398974216301868, lp total:5.959931228354797948432603737\n",
      "spread:-0.559255830370678780622196364, future2.979965614177398974216301868, lp total:5.959931228354797948432603737\n",
      "spread:-0.564991837577164822978470294, future2.979965614177398974216301868, lp total:5.959931228354797948432603737\n",
      "spread:-0.570443787979196935308095848, future2.979965614177398974216301868, lp total:5.959931228354797948432603737\n",
      "spread:-0.575791366563719888659303394, future2.979965614177398974216301868, lp total:5.959931228354797948432603737\n",
      "spread:-0.579214334086644823657078985, future2.979965614177398974216301868, lp total:5.959931228354797948432603737\n",
      "spread:-0.582716340740656339419374983, future2.979965614177398974216301868, lp total:5.959931228354797948432603737\n",
      "spread:-0.584630734693763806982211852, future2.979965614177398974216301868, lp total:5.959931228354797948432603737\n",
      "spread:-0.584783611655856087827403582, future2.979965614177398974216301868, lp total:5.959931228354797948432603737\n",
      "spread:-0.585512340906872837999725269, future2.979965614177398974216301868, lp total:5.959931228354797948432603737\n",
      "spread:-0.587037637784963069486772264, future2.979965614177398974216301868, lp total:5.959931228354797948432603737\n",
      "spread:-0.588903108920222303222010849, future2.979965614177398974216301868, lp total:5.959931228354797948432603737\n",
      "spread:-0.590675596375207463005519319, future2.979965614177398974216301868, lp total:5.959931228354797948432603737\n",
      "spread:-0.591943346457703170706021770, future2.979965614177398974216301868, lp total:5.959931228354797948432603737\n",
      "spread:-0.594230133800800749569494782, future2.979965614177398974216301868, lp total:5.959931228354797948432603737\n"
     ]
    },
    {
     "name": "stderr",
     "output_type": "stream",
     "text": [
      "  1%|█                                                                                                          | 1352/132480 [00:33<37:05, 58.92it/s]"
     ]
    },
    {
     "name": "stdout",
     "output_type": "stream",
     "text": [
      "spread:-0.594903821178539524280217843, future2.979965614177398974216301868, lp total:5.959931228354797948432603737\n",
      "spread:-0.595460495294014272074774741, future2.979965614177398974216301868, lp total:5.959931228354797948432603737\n",
      "spread:-0.595989361508658828917499193, future2.979965614177398974216301868, lp total:5.959931228354797948432603737\n",
      "spread:-0.596575182120783691955097070, future2.979965614177398974216301868, lp total:5.959931228354797948432603737\n",
      "spread:-0.598131681982928002160033868, future2.979965614177398974216301868, lp total:5.959931228354797948432603737\n",
      "spread:-0.599610558596715186501222956, future2.979965614177398974216301868, lp total:5.959931228354797948432603737\n",
      "spread:-0.601015673494827114379595926, future2.979965614177398974216301868, lp total:5.959931228354797948432603737\n",
      "spread:-0.600849799050238054322438278, future2.979965614177398974216301868, lp total:5.959931228354797948432603737\n",
      "spread:-0.600525302231736327577048772, future2.979965614177398974216301868, lp total:5.959931228354797948432603737\n",
      "spread:-0.600217039020584175447230646, future2.979965614177398974216301868, lp total:5.959931228354797948432603737\n",
      "spread:-0.598086154682690719176796235, future2.979965614177398974216301868, lp total:5.959931228354797948432603737\n",
      "spread:-0.596647323399634177822710512, future2.979965614177398974216301868, lp total:5.959931228354797948432603737\n"
     ]
    },
    {
     "name": "stderr",
     "output_type": "stream",
     "text": [
      "  1%|█                                                                                                          | 1373/132480 [00:34<27:59, 78.08it/s]"
     ]
    },
    {
     "name": "stdout",
     "output_type": "stream",
     "text": [
      "spread:-0.594361057587865363026724946, future2.979965614177398974216301868, lp total:5.959931228354797948432603737\n",
      "spread:-0.592941820747986934231796308, future2.979965614177398974216301868, lp total:5.959931228354797948432603737\n",
      "spread:-0.590590655191580021067822537, future2.979965614177398974216301868, lp total:5.959931228354797948432603737\n",
      "spread:-0.587186101073198472210720013, future2.979965614177398974216301868, lp total:5.959931228354797948432603737\n",
      "spread:-0.583450389829523771777963614, future2.979965614177398974216301868, lp total:5.959931228354797948432603737\n",
      "spread:-0.580990351848459287510055175, future2.979965614177398974216301868, lp total:5.959931228354797948432603737\n",
      "spread:-0.578235706404422966243861061, future2.979965614177398974216301868, lp total:5.959931228354797948432603737\n",
      "spread:-0.575619425252536103238096147, future2.979965614177398974216301868, lp total:5.959931228354797948432603737\n",
      "spread:-0.572967305586451040874406874, future2.979965614177398974216301868, lp total:5.959931228354797948432603737\n",
      "spread:-0.570364773826462874512301429, future2.979965614177398974216301868, lp total:5.959931228354797948432603737\n",
      "spread:-0.568811947708199463228322481, future2.979965614177398974216301868, lp total:5.959931228354797948432603737\n",
      "spread:-0.566752321994479530657543558, future2.979965614177398974216301868, lp total:5.959931228354797948432603737\n",
      "spread:-0.563625817412557382424407130, future2.979965614177398974216301868, lp total:5.959931228354797948432603737\n",
      "spread:-0.559652474154634847740149366, future2.979965614177398974216301868, lp total:5.959931228354797948432603737\n",
      "spread:-0.557217049541118081651028370, future2.979965614177398974216301868, lp total:5.959931228354797948432603737\n",
      "spread:-0.553649894669023583751313336, future2.979965614177398974216301868, lp total:5.959931228354797948432603737\n",
      "spread:-0.549258014644187103798847695, future2.979965614177398974216301868, lp total:5.959931228354797948432603737\n",
      "spread:-0.545087336359342660317945134, future2.979965614177398974216301868, lp total:5.959931228354797948432603737\n",
      "spread:-0.539535633230177384449196392, future2.979965614177398974216301868, lp total:5.959931228354797948432603737\n",
      "spread:-0.535770710498694037193973244, future2.979965614177398974216301868, lp total:5.959931228354797948432603737\n",
      "spread:-0.532613143667351580285461236, future2.979965614177398974216301868, lp total:5.959931228354797948432603737\n",
      "spread:-0.529864882931022931518590044, future2.979965614177398974216301868, lp total:5.959931228354797948432603737\n",
      "spread:-0.527254665238853399079157018, future2.979965614177398974216301868, lp total:5.959931228354797948432603737\n",
      "spread:-0.524942475756820241063211954, future2.979965614177398974216301868, lp total:5.959931228354797948432603737\n",
      "spread:-0.522245501328054024817905335, future2.979965614177398974216301868, lp total:5.959931228354797948432603737\n",
      "spread:-0.518681698903456779207871393, future2.979965614177398974216301868, lp total:5.959931228354797948432603737\n",
      "spread:-0.513122376401614557145365415, future2.979965614177398974216301868, lp total:5.959931228354797948432603737\n",
      "spread:-0.512768790339586852544859317, future2.979965614177398974216301868, lp total:5.959931228354797948432603737\n",
      "spread:-0.509681520961367659783714252, future2.979965614177398974216301868, lp total:5.959931228354797948432603737\n",
      "spread:-0.505579931493862410921513723, future2.979965614177398974216301868, lp total:5.959931228354797948432603737\n",
      "spread:-0.502770439351870389175081303, future2.979965614177398974216301868, lp total:5.959931228354797948432603737\n"
     ]
    },
    {
     "name": "stderr",
     "output_type": "stream",
     "text": [
      "  1%|█▏                                                                                                         | 1400/132480 [00:34<21:53, 99.76it/s]"
     ]
    },
    {
     "name": "stdout",
     "output_type": "stream",
     "text": [
      "spread:-0.499016728108630228342233773, future2.979965614177398974216301868, lp total:5.959931228354797948432603737\n",
      "spread:-0.494783535509204953006215633, future2.979965614177398974216301868, lp total:5.959931228354797948432603737\n",
      "spread:-0.489927677204178038115681202, future2.979965614177398974216301868, lp total:5.959931228354797948432603737\n",
      "spread:-0.484480333892037664547348680, future2.979965614177398974216301868, lp total:5.959931228354797948432603737\n",
      "spread:-0.478973276586642158724724166, future2.979965614177398974216301868, lp total:5.959931228354797948432603737\n",
      "spread:-0.472656446511610636850099800, future2.979965614177398974216301868, lp total:5.959931228354797948432603737\n",
      "spread:-0.466156625517160284631749767, future2.979965614177398974216301868, lp total:5.959931228354797948432603737\n",
      "spread:-0.460152651340025242877610253, future2.979965614177398974216301868, lp total:5.959931228354797948432603737\n",
      "spread:-0.455120539472054297486380570, future2.979965614177398974216301868, lp total:5.959931228354797948432603737\n",
      "spread:-0.450342149700060461235227611, future2.979965614177398974216301868, lp total:5.959931228354797948432603737\n",
      "spread:-0.448305525813085853261255450, future2.979965614177398974216301868, lp total:5.959931228354797948432603737\n",
      "spread:-0.445871534582500175111564476, future2.979965614177398974216301868, lp total:5.959931228354797948432603737\n",
      "spread:-0.443559738336385952180570604, future2.979965614177398974216301868, lp total:5.959931228354797948432603737\n",
      "spread:-0.441530457011140704627243778, future2.979965614177398974216301868, lp total:5.959931228354797948432603737\n",
      "spread:-0.439602984177249389775638888, future2.979965614177398974216301868, lp total:5.959931228354797948432603737\n",
      "spread:-0.437938586604594549296440774, future2.979965614177398974216301868, lp total:5.959931228354797948432603737\n",
      "spread:-0.436357640642185254843940948, future2.979965614177398974216301868, lp total:5.959931228354797948432603737\n",
      "spread:-0.433857422160425901984293130, future2.979965614177398974216301868, lp total:5.959931228354797948432603737\n",
      "spread:-0.429899805208002152548959596, future2.979965614177398974216301868, lp total:5.959931228354797948432603737\n",
      "spread:-0.426641383379758956856163221, future2.979965614177398974216301868, lp total:5.959931228354797948432603737\n",
      "spread:-0.423380180373643195751926641, future2.979965614177398974216301868, lp total:5.959931228354797948432603737\n"
     ]
    },
    {
     "name": "stderr",
     "output_type": "stream",
     "text": [
      "  1%|█▏                                                                                                        | 1424/132480 [00:34<21:02, 103.80it/s]"
     ]
    },
    {
     "name": "stdout",
     "output_type": "stream",
     "text": [
      "spread:-0.420366203285995454608366148, future2.979965614177398974216301868, lp total:5.959931228354797948432603737\n",
      "spread:-0.417253899268981745646093894, future2.979965614177398974216301868, lp total:5.959931228354797948432603737\n",
      "spread:-0.414381268585411064780702335, future2.979965614177398974216301868, lp total:5.959931228354797948432603737\n",
      "spread:-0.412567948514666619018780312, future2.979965614177398974216301868, lp total:5.959931228354797948432603737\n",
      "spread:-0.410845569709427343541658779, future2.979965614177398974216301868, lp total:5.959931228354797948432603737\n",
      "spread:-0.408461227806673427332295717, future2.979965614177398974216301868, lp total:5.959931228354797948432603737\n",
      "spread:-0.406196578954477762174550661, future2.979965614177398974216301868, lp total:5.959931228354797948432603737\n",
      "spread:-0.404710539757712396748222793, future2.979965614177398974216301868, lp total:5.959931228354797948432603737\n",
      "spread:-0.403382060723596130801395695, future2.979965614177398974216301868, lp total:5.959931228354797948432603737\n",
      "spread:-0.401954018130663449577479128, future2.979965614177398974216301868, lp total:5.959931228354797948432603737\n",
      "spread:-0.400597548445879425421547906, future2.979965614177398974216301868, lp total:5.959931228354797948432603737\n",
      "spread:-0.399225997034758447928827577, future2.979965614177398974216301868, lp total:5.959931228354797948432603737\n",
      "spread:-0.397840123539608101643395267, future2.979965614177398974216301868, lp total:5.959931228354797948432603737\n",
      "spread:-0.396523704581233199608510423, future2.979965614177398974216301868, lp total:5.959931228354797948432603737\n",
      "spread:-0.395024091865409075550154144, future2.979965614177398974216301868, lp total:5.959931228354797948432603737\n",
      "spread:-0.395590736040150052538743700, future2.979965614177398974216301868, lp total:5.959931228354797948432603737\n",
      "spread:-0.395548769180980362513632331, future2.979965614177398974216301868, lp total:5.959931228354797948432603737\n",
      "spread:-0.397000351320126530046113108, future2.979965614177398974216301868, lp total:5.959931228354797948432603737\n",
      "spread:-0.399868685708805568837865242, future2.979965614177398974216301868, lp total:5.959931228354797948432603737\n",
      "spread:-0.403255506601096621999714479, future2.979965614177398974216301868, lp total:5.959931228354797948432603737\n",
      "spread:-0.408455231542867626370927299, future2.979965614177398974216301868, lp total:5.959931228354797948432603737\n",
      "spread:-0.411993653388711829504882174, future2.979965614177398974216301868, lp total:5.959931228354797948432603737\n"
     ]
    },
    {
     "name": "stderr",
     "output_type": "stream",
     "text": [
      "  1%|█▏                                                                                                        | 1435/132480 [00:34<21:31, 101.43it/s]"
     ]
    },
    {
     "name": "stdout",
     "output_type": "stream",
     "text": [
      "spread:-0.414115536379043670833420212, future2.979965614177398974216301868, lp total:5.959931228354797948432603737\n",
      "spread:-0.416628265914104509009989258, future2.979965614177398974216301868, lp total:5.959931228354797948432603737\n",
      "spread:-0.418602014447047033275300349, future2.979965614177398974216301868, lp total:5.959931228354797948432603737\n",
      "spread:-0.419400252466384580250288002, future2.979965614177398974216301868, lp total:5.959931228354797948432603737\n",
      "spread:-0.420158631927133721348904105, future2.979965614177398974216301868, lp total:5.959931228354797948432603737\n",
      "spread:-0.419883565554527857025072366, future2.979965614177398974216301868, lp total:5.959931228354797948432603737\n",
      "spread:-0.419705263670612896163465675, future2.979965614177398974216301868, lp total:5.959931228354797948432603737\n",
      "spread:-0.419120784929085915697330339, future2.979965614177398974216301868, lp total:5.959931228354797948432603737\n",
      "spread:-0.420224702690671733478244071, future2.979965614177398974216301868, lp total:5.959931228354797948432603737\n",
      "spread:-0.421273526583365046187272523, future2.979965614177398974216301868, lp total:5.959931228354797948432603737\n"
     ]
    },
    {
     "name": "stderr",
     "output_type": "stream",
     "text": [
      "  1%|█▏                                                                                                         | 1455/132480 [00:34<29:41, 73.55it/s]"
     ]
    },
    {
     "name": "stdout",
     "output_type": "stream",
     "text": [
      "spread:-0.424670757947147531720433597, future2.979965614177398974216301868, lp total:5.959931228354797948432603737\n",
      "spread:-0.426906169026627259686414636, future2.979965614177398974216301868, lp total:5.959931228354797948432603737\n",
      "spread:-0.428367538033774195256281825, future2.979965614177398974216301868, lp total:5.959931228354797948432603737\n",
      "spread:-0.429756017336145210290155020, future2.979965614177398974216301868, lp total:5.959931228354797948432603737\n",
      "spread:-0.430163011262298255940529070, future2.979965614177398974216301868, lp total:5.959931228354797948432603737\n",
      "spread:-0.429885628188395820829207386, future2.979965614177398974216301868, lp total:5.959931228354797948432603737\n",
      "spread:-0.428292595087663464474817003, future2.979965614177398974216301868, lp total:5.959931228354797948432603737\n",
      "spread:-0.427028827827608935468663875, future2.979965614177398974216301868, lp total:5.959931228354797948432603737\n",
      "spread:-0.426326924627489037571044127, future2.979965614177398974216301868, lp total:5.959931228354797948432603737\n",
      "spread:-0.425743216260958645610950723, future2.979965614177398974216301868, lp total:5.959931228354797948432603737\n",
      "spread:-0.424773373589635279176684665, future2.979965614177398974216301868, lp total:5.959931228354797948432603737\n",
      "spread:-0.421272866221753453795876217, future2.979965614177398974216301868, lp total:5.959931228354797948432603737\n",
      "spread:-0.417948409593253730848837331, future2.979965614177398974216301868, lp total:5.959931228354797948432603737\n",
      "spread:-0.409697178808242150484852369, future2.979965614177398974216301868, lp total:5.959931228354797948432603737\n",
      "spread:-0.402115221378058509992985402, future2.979965614177398974216301868, lp total:5.959931228354797948432603737\n",
      "spread:-0.394666321544157133225456923, future2.979965614177398974216301868, lp total:5.959931228354797948432603737\n",
      "spread:-0.384999960436446588934661374, future2.979965614177398974216301868, lp total:5.959931228354797948432603737\n"
     ]
    },
    {
     "name": "stderr",
     "output_type": "stream",
     "text": [
      "  1%|█▏                                                                                                         | 1466/132480 [00:35<26:49, 81.40it/s]"
     ]
    },
    {
     "name": "stdout",
     "output_type": "stream",
     "text": [
      "spread:-0.377999512289204777906231228, future2.979965614177398974216301868, lp total:5.959931228354797948432603737\n",
      "spread:-0.374437205464638056270735214, future2.979965614177398974216301868, lp total:5.959931228354797948432603737\n",
      "spread:-0.372467090550296634419236422, future2.979965614177398974216301868, lp total:5.959931228354797948432603737\n",
      "spread:-0.368683876233906196061326300, future2.979965614177398974216301868, lp total:5.959931228354797948432603737\n",
      "spread:-0.366088733908341576312380334, future2.979965614177398974216301868, lp total:5.959931228354797948432603737\n",
      "spread:-0.364039207145720072259722134, future2.979965614177398974216301868, lp total:5.959931228354797948432603737\n",
      "spread:-0.362092508873777851817748004, future2.979965614177398974216301868, lp total:5.959931228354797948432603737\n",
      "spread:-0.358664866896623627687842395, future2.979965614177398974216301868, lp total:5.959931228354797948432603737\n",
      "spread:-0.356821734592221061156702342, future2.979965614177398974216301868, lp total:5.959931228354797948432603737\n",
      "spread:-0.355651777210954117048469793, future2.979965614177398974216301868, lp total:5.959931228354797948432603737\n",
      "spread:-0.354540432489599105486601566, future2.979965614177398974216301868, lp total:5.959931228354797948432603737\n",
      "spread:-0.353484758585663782916667610, future2.979965614177398974216301868, lp total:5.959931228354797948432603737\n",
      "spread:-0.352399046742892035105307307, future2.979965614177398974216301868, lp total:5.959931228354797948432603737\n",
      "spread:-0.351699302785369914703364574, future2.979965614177398974216301868, lp total:5.959931228354797948432603737\n",
      "spread:-0.351945754385413502079861620, future2.979965614177398974216301868, lp total:5.959931228354797948432603737\n",
      "spread:-0.352759252007407226613339708, future2.979965614177398974216301868, lp total:5.959931228354797948432603737\n",
      "spread:-0.354524521914204241446038498, future2.979965614177398974216301868, lp total:5.959931228354797948432603737\n",
      "spread:-0.356201789732187222935106529, future2.979965614177398974216301868, lp total:5.959931228354797948432603737\n",
      "spread:-0.359612494037540206999684876, future2.979965614177398974216301868, lp total:5.959931228354797948432603737\n",
      "spread:-0.362027917045417108819673469, future2.979965614177398974216301868, lp total:5.959931228354797948432603737\n",
      "spread:-0.363579100511662449882185127, future2.979965614177398974216301868, lp total:5.959931228354797948432603737\n"
     ]
    },
    {
     "name": "stderr",
     "output_type": "stream",
     "text": [
      "  1%|█▏                                                                                                         | 1488/132480 [00:35<32:44, 66.68it/s]"
     ]
    },
    {
     "name": "stdout",
     "output_type": "stream",
     "text": [
      "spread:-0.364804769897396970599730444, future2.979965614177398974216301868, lp total:5.959931228354797948432603737\n",
      "spread:-0.365969281789167477971391582, future2.979965614177398974216301868, lp total:5.959931228354797948432603737\n",
      "spread:-0.367572028350478333105189410, future2.979965614177398974216301868, lp total:5.959931228354797948432603737\n",
      "spread:-0.369094852984199333284664056, future2.979965614177398974216301868, lp total:5.959931228354797948432603737\n",
      "spread:-0.370789867502521808473232631, future2.979965614177398974216301868, lp total:5.959931228354797948432603737\n",
      "spread:-0.372400372188461332568697372, future2.979965614177398974216301868, lp total:5.959931228354797948432603737\n",
      "spread:-0.373930569099389055317855810, future2.979965614177398974216301868, lp total:5.959931228354797948432603737\n",
      "spread:-0.375384452467115889141948668, future2.979965614177398974216301868, lp total:5.959931228354797948432603737\n",
      "spread:-0.376600312586943935694022688, future2.979965614177398974216301868, lp total:5.959931228354797948432603737\n",
      "spread:-0.377755503623544733229762291, future2.979965614177398974216301868, lp total:5.959931228354797948432603737\n"
     ]
    },
    {
     "name": "stderr",
     "output_type": "stream",
     "text": [
      "  1%|█▏                                                                                                         | 1496/132480 [00:35<32:14, 67.70it/s]"
     ]
    },
    {
     "name": "stdout",
     "output_type": "stream",
     "text": [
      "spread:-0.380589690563095066798647151, future2.979965614177398974216301868, lp total:5.959931228354797948432603737\n",
      "spread:-0.383613328928122844653362266, future2.979965614177398974216301868, lp total:5.959931228354797948432603737\n",
      "spread:-0.386899596366286121589841891, future2.979965614177398974216301868, lp total:5.959931228354797948432603737\n",
      "spread:-0.390187666640665077213281524, future2.979965614177398974216301868, lp total:5.959931228354797948432603737\n",
      "spread:-0.394385669631076428409651373, future2.979965614177398974216301868, lp total:5.959931228354797948432603737\n",
      "spread:-0.397301431860424633529216686, future2.979965614177398974216301868, lp total:5.959931228354797948432603737\n",
      "spread:-0.399162266223763262137836261, future2.979965614177398974216301868, lp total:5.959931228354797948432603737\n",
      "spread:-0.400930348956046005044991061, future2.979965614177398974216301868, lp total:5.959931228354797948432603737\n",
      "spread:-0.402610289425163471168713506, future2.979965614177398974216301868, lp total:5.959931228354797948432603737\n",
      "spread:-0.404206469271507821081286530, future2.979965614177398974216301868, lp total:5.959931228354797948432603737\n",
      "spread:-0.405805854726933860789697486, future2.979965614177398974216301868, lp total:5.959931228354797948432603737\n",
      "spread:-0.407242672585110047596933849, future2.979965614177398974216301868, lp total:5.959931228354797948432603737\n",
      "spread:-0.408690645246615465146396327, future2.979965614177398974216301868, lp total:5.959931228354797948432603737\n",
      "spread:-0.409983561764565090014151879, future2.979965614177398974216301868, lp total:5.959931228354797948432603737\n",
      "spread:-0.410880526613510904762013137, future2.979965614177398974216301868, lp total:5.959931228354797948432603737\n",
      "spread:-0.412064181956327548912000990, future2.979965614177398974216301868, lp total:5.959931228354797948432603737\n",
      "spread:-0.413188771851117853374444690, future2.979965614177398974216301868, lp total:5.959931228354797948432603737\n"
     ]
    },
    {
     "name": "stderr",
     "output_type": "stream",
     "text": [
      "  1%|█▏                                                                                                         | 1506/132480 [00:35<33:34, 65.01it/s]"
     ]
    },
    {
     "name": "stdout",
     "output_type": "stream",
     "text": [
      "spread:-0.414257238149624247678732471, future2.979965614177398974216301868, lp total:5.959931228354797948432603737\n",
      "spread:-0.415272376721962063870809911, future2.979965614177398974216301868, lp total:5.959931228354797948432603737\n",
      "spread:-0.416236844647741172469163513, future2.979965614177398974216301868, lp total:5.959931228354797948432603737\n",
      "spread:-0.416406840764364898433074584, future2.979965614177398974216301868, lp total:5.959931228354797948432603737\n",
      "spread:-0.416651296534514571906569700, future2.979965614177398974216301868, lp total:5.959931228354797948432603737\n",
      "spread:-0.416634635153233755067164075, future2.979965614177398974216301868, lp total:5.959931228354797948432603737\n",
      "spread:-0.416618806864258514298821140, future2.979965614177398974216301868, lp total:5.959931228354797948432603737\n",
      "spread:-0.414942679425061257167889197, future2.979965614177398974216301868, lp total:5.959931228354797948432603737\n"
     ]
    },
    {
     "name": "stderr",
     "output_type": "stream",
     "text": [
      "  1%|█▏                                                                                                         | 1519/132480 [00:36<47:39, 45.79it/s]"
     ]
    },
    {
     "name": "stdout",
     "output_type": "stream",
     "text": [
      "spread:-0.412602207488540637455510186, future2.979965614177398974216301868, lp total:5.959931228354797948432603737\n",
      "spread:-0.409880047834508479816672534, future2.979965614177398974216301868, lp total:5.959931228354797948432603737\n",
      "spread:-0.407294616496266597343120923, future2.979965614177398974216301868, lp total:5.959931228354797948432603737\n",
      "spread:-0.406750126382143617289289815, future2.979965614177398974216301868, lp total:5.959931228354797948432603737\n",
      "spread:-0.407725633882303517186839524, future2.979965614177398974216301868, lp total:5.959931228354797948432603737\n",
      "spread:-0.409894609436329853246609743, future2.979965614177398974216301868, lp total:5.959931228354797948432603737\n"
     ]
    },
    {
     "name": "stderr",
     "output_type": "stream",
     "text": [
      "  1%|█▏                                                                                                         | 1531/132480 [00:36<49:53, 43.74it/s]"
     ]
    },
    {
     "name": "stdout",
     "output_type": "stream",
     "text": [
      "spread:-0.413030878997922155880040655, future2.979965614177398974216301868, lp total:5.959931228354797948432603737\n",
      "spread:-0.415928463352764181054683950, future2.979965614177398974216301868, lp total:5.959931228354797948432603737\n",
      "spread:-0.417357372982494419438566774, future2.979965614177398974216301868, lp total:5.959931228354797948432603737\n",
      "spread:-0.418051941898206063146438130, future2.979965614177398974216301868, lp total:5.959931228354797948432603737\n",
      "spread:-0.419789120434928264738790363, future2.979965614177398974216301868, lp total:5.959931228354797948432603737\n",
      "spread:-0.421439692699406800974825526, future2.979965614177398974216301868, lp total:5.959931228354797948432603737\n",
      "spread:-0.423007964428174420714889341, future2.979965614177398974216301868, lp total:5.959931228354797948432603737\n",
      "spread:-0.424580879109993166428282300, future2.979965614177398974216301868, lp total:5.959931228354797948432603737\n",
      "spread:-0.426075355157509194720437687, future2.979965614177398974216301868, lp total:5.959931228354797948432603737\n",
      "spread:-0.428157998203042526439940751, future2.979965614177398974216301868, lp total:5.959931228354797948432603737\n",
      "spread:-0.430219690457357840651362942, future2.979965614177398974216301868, lp total:5.959931228354797948432603737\n",
      "spread:-0.432592703760437847352292578, future2.979965614177398974216301868, lp total:5.959931228354797948432603737\n",
      "spread:-0.436667454167336310657470778, future2.979965614177398974216301868, lp total:5.959931228354797948432603737\n",
      "spread:-0.441283560981843744993354501, future2.979965614177398974216301868, lp total:5.959931228354797948432603737\n"
     ]
    },
    {
     "name": "stderr",
     "output_type": "stream",
     "text": [
      "  1%|█▎                                                                                                         | 1558/132480 [00:36<27:01, 80.76it/s]"
     ]
    },
    {
     "name": "stdout",
     "output_type": "stream",
     "text": [
      "spread:-0.444430303132704575720790861, future2.979965614177398974216301868, lp total:5.959931228354797948432603737\n",
      "spread:-0.448578555980466925100933515, future2.979965614177398974216301868, lp total:5.959931228354797948432603737\n",
      "spread:-0.452603523631093927042069621, future2.979965614177398974216301868, lp total:5.959931228354797948432603737\n",
      "spread:-0.455766653696331764237864930, future2.979965614177398974216301868, lp total:5.959931228354797948432603737\n",
      "spread:-0.459765466527638112551984662, future2.979965614177398974216301868, lp total:5.959931228354797948432603737\n",
      "spread:-0.466126712987007545777394633, future2.979965614177398974216301868, lp total:5.959931228354797948432603737\n",
      "spread:-0.472668388166054358787650134, future2.979965614177398974216301868, lp total:5.959931228354797948432603737\n",
      "spread:-0.480453461764841705441142981, future2.979965614177398974216301868, lp total:5.959931228354797948432603737\n",
      "spread:-0.489172591120544546827753124, future2.979965614177398974216301868, lp total:5.959931228354797948432603737\n",
      "spread:-0.498367955660719991307449516, future2.979965614177398974216301868, lp total:5.959931228354797948432603737\n",
      "spread:-0.507769348785623678879339323, future2.979965614177398974216301868, lp total:5.959931228354797948432603737\n",
      "spread:-0.515306544709065853017743705, future2.979965614177398974216301868, lp total:5.959931228354797948432603737\n",
      "spread:-0.521563002276331611504796903, future2.979965614177398974216301868, lp total:5.959931228354797948432603737\n",
      "spread:-0.530893708567547444173331623, future2.979965614177398974216301868, lp total:5.959931228354797948432603737\n",
      "spread:-0.539765149050019876465858708, future2.979965614177398974216301868, lp total:5.959931228354797948432603737\n",
      "spread:-0.548941811458699913205739726, future2.979965614177398974216301868, lp total:5.959931228354797948432603737\n",
      "spread:-0.557831652627535706716426310, future2.979965614177398974216301868, lp total:5.959931228354797948432603737\n",
      "spread:-0.566861238773436918028285789, future2.979965614177398974216301868, lp total:5.959931228354797948432603737\n",
      "spread:-0.574868055816428226430696961, future2.979965614177398974216301868, lp total:5.959931228354797948432603737\n",
      "spread:-0.582397205836342072224474333, future2.979965614177398974216301868, lp total:5.959931228354797948432603737\n",
      "spread:-0.591290235239557649969816741, future2.979965614177398974216301868, lp total:5.959931228354797948432603737\n",
      "spread:-0.599001218760325197425503850, future2.979965614177398974216301868, lp total:5.959931228354797948432603737\n",
      "spread:-0.605503683691410021253149652, future2.979965614177398974216301868, lp total:5.959931228354797948432603737\n",
      "spread:-0.610523521743220194541189691, future2.979965614177398974216301868, lp total:5.959931228354797948432603737\n",
      "spread:-0.613798866451167894852169802, future2.979965614177398974216301868, lp total:5.959931228354797948432603737\n",
      "spread:-0.618988467140416812519131122, future2.979965614177398974216301868, lp total:5.959931228354797948432603737\n",
      "spread:-0.624003851887306581370953615, future2.979965614177398974216301868, lp total:5.959931228354797948432603737\n",
      "spread:-0.628687503433274909504507725, future2.979965614177398974216301868, lp total:5.959931228354797948432603737\n",
      "spread:-0.634301370263865321741151533, future2.979965614177398974216301868, lp total:5.959931228354797948432603737\n"
     ]
    },
    {
     "name": "stderr",
     "output_type": "stream",
     "text": [
      "  1%|█▎                                                                                                         | 1577/132480 [00:36<26:49, 81.31it/s]"
     ]
    },
    {
     "name": "stdout",
     "output_type": "stream",
     "text": [
      "spread:-0.638141437301890192078912922, future2.979965614177398974216301868, lp total:5.959931228354797948432603737\n",
      "spread:-0.641208191419082259777120964, future2.979965614177398974216301868, lp total:5.959931228354797948432603737\n",
      "spread:-0.644205654456508554322488036, future2.979965614177398974216301868, lp total:5.959931228354797948432603737\n",
      "spread:-0.646137425587144335381169107, future2.979965614177398974216301868, lp total:5.959931228354797948432603737\n",
      "spread:-0.647889534297670615684658099, future2.979965614177398974216301868, lp total:5.959931228354797948432603737\n",
      "spread:-0.647884738928866828385291155, future2.979965614177398974216301868, lp total:5.959931228354797948432603737\n",
      "spread:-0.649716522052091335971455967, future2.979965614177398974216301868, lp total:5.959931228354797948432603737\n",
      "spread:-0.651206766106570846326480585, future2.979965614177398974216301868, lp total:5.959931228354797948432603737\n",
      "spread:-0.652956348104487876847909353, future2.979965614177398974216301868, lp total:5.959931228354797948432603737\n",
      "spread:-0.654618705490347427734207541, future2.979965614177398974216301868, lp total:5.959931228354797948432603737\n",
      "spread:-0.657365371661704730631074739, future2.979965614177398974216301868, lp total:5.959931228354797948432603737\n",
      "spread:-0.659058160926079185419934315, future2.979965614177398974216301868, lp total:5.959931228354797948432603737\n",
      "spread:-0.660666548916833141878731036, future2.979965614177398974216301868, lp total:5.959931228354797948432603737\n",
      "spread:-0.662111283592560476831781361, future2.979965614177398974216301868, lp total:5.959931228354797948432603737\n",
      "spread:-0.663483955012394323192270247, future2.979965614177398974216301868, lp total:5.959931228354797948432603737\n",
      "spread:-0.664287173417232414652972418, future2.979965614177398974216301868, lp total:5.959931228354797948432603737\n",
      "spread:-0.663796541481892391338761299, future2.979965614177398974216301868, lp total:5.959931228354797948432603737\n",
      "spread:-0.663330461145823896113974246, future2.979965614177398974216301868, lp total:5.959931228354797948432603737\n",
      "spread:-0.663222177181531827925730018, future2.979965614177398974216301868, lp total:5.959931228354797948432603737\n",
      "spread:-0.663704335333964991374064306, future2.979965614177398974216301868, lp total:5.959931228354797948432603737\n",
      "spread:-0.664413025094778959919066080, future2.979965614177398974216301868, lp total:5.959931228354797948432603737\n",
      "spread:-0.664668557902402730819872225, future2.979965614177398974216301868, lp total:5.959931228354797948432603737\n"
     ]
    },
    {
     "name": "stderr",
     "output_type": "stream",
     "text": [
      "  1%|█▎                                                                                                         | 1593/132480 [00:37<42:45, 51.01it/s]"
     ]
    },
    {
     "name": "stdout",
     "output_type": "stream",
     "text": [
      "spread:-0.664994889613980611743496840, future2.979965614177398974216301868, lp total:5.959931228354797948432603737\n",
      "spread:-0.665304913589233964111581911, future2.979965614177398974216301868, lp total:5.959931228354797948432603737\n",
      "spread:-0.667269314915316786198861812, future2.979965614177398974216301868, lp total:5.959931228354797948432603737\n",
      "spread:-0.669886376889540853238084021, future2.979965614177398974216301868, lp total:5.959931228354797948432603737\n",
      "spread:-0.672373154931620301051081578, future2.979965614177398974216301868, lp total:5.959931228354797948432603737\n",
      "spread:-0.674736107935582735553864073, future2.979965614177398974216301868, lp total:5.959931228354797948432603737\n",
      "spread:-0.677148189596600329423463480, future2.979965614177398974216301868, lp total:5.959931228354797948432603737\n",
      "spread:-0.683601298568219080616729614, future2.979965614177398974216301868, lp total:5.959931228354797948432603737\n",
      "spread:-0.690731574011270384317053806, future2.979965614177398974216301868, lp total:5.959931228354797948432603737\n"
     ]
    },
    {
     "name": "stderr",
     "output_type": "stream",
     "text": [
      "  1%|█▎                                                                                                         | 1602/132480 [00:37<37:58, 57.44it/s]"
     ]
    },
    {
     "name": "stdout",
     "output_type": "stream",
     "text": [
      "spread:-0.701072945418233107837984399, future2.979965614177398974216301868, lp total:5.959931228354797948432603737\n",
      "spread:-0.712146934061246622600366835, future2.979965614177398974216301868, lp total:5.959931228354797948432603737\n",
      "spread:-0.719776789985563537902156564, future2.979965614177398974216301868, lp total:5.959931228354797948432603737\n",
      "spread:-0.726531468819694977626250313, future2.979965614177398974216301868, lp total:5.959931228354797948432603737\n",
      "spread:-0.731620702304518944713683200, future2.979965614177398974216301868, lp total:5.959931228354797948432603737\n",
      "spread:-0.737789697651639651430967901, future2.979965614177398974216301868, lp total:5.959931228354797948432603737\n",
      "spread:-0.744651686570644501582263936, future2.979965614177398974216301868, lp total:5.959931228354797948432603737\n",
      "spread:-0.749175633751351459921810855, future2.979965614177398974216301868, lp total:5.959931228354797948432603737\n",
      "spread:-0.753558486683104979803543822, future2.979965614177398974216301868, lp total:5.959931228354797948432603737\n",
      "spread:-0.757723789567524167920825602, future2.979965614177398974216301868, lp total:5.959931228354797948432603737\n",
      "spread:-0.762016055175824300125497444, future2.979965614177398974216301868, lp total:5.959931228354797948432603737\n",
      "spread:-0.766345587058662148990570090, future2.979965614177398974216301868, lp total:5.959931228354797948432603737\n",
      "spread:-0.770543661933819710269449438, future2.979965614177398974216301868, lp total:5.959931228354797948432603737\n",
      "spread:-0.776118248175957838360691309, future2.979965614177398974216301868, lp total:5.959931228354797948432603737\n",
      "spread:-0.782916357911022611334611435, future2.979965614177398974216301868, lp total:5.959931228354797948432603737\n",
      "spread:-0.788795143106651063427280016, future2.979965614177398974216301868, lp total:5.959931228354797948432603737\n",
      "spread:-0.793548568034168881613156553, future2.979965614177398974216301868, lp total:5.959931228354797948432603737\n",
      "spread:-0.798984232955915156353303199, future2.979965614177398974216301868, lp total:5.959931228354797948432603737\n"
     ]
    },
    {
     "name": "stderr",
     "output_type": "stream",
     "text": [
      "  1%|█▎                                                                                                         | 1619/132480 [00:37<43:12, 50.47it/s]"
     ]
    },
    {
     "name": "stdout",
     "output_type": "stream",
     "text": [
      "spread:-0.803983637238522170757320695, future2.979965614177398974216301868, lp total:5.959931228354797948432603737\n",
      "spread:-0.809319487056751718723802783, future2.979965614177398974216301868, lp total:5.959931228354797948432603737\n",
      "spread:-0.814307408417536923600598024, future2.979965614177398974216301868, lp total:5.959931228354797948432603737\n",
      "spread:-0.818964456963008771870026904, future2.979965614177398974216301868, lp total:5.959931228354797948432603737\n",
      "spread:-0.823724676631297942594154482, future2.979965614177398974216301868, lp total:5.959931228354797948432603737\n",
      "spread:-0.829918724565503471710617989, future2.979965614177398974216301868, lp total:5.959931228354797948432603737\n",
      "spread:-0.836140041734154342651584770, future2.979965614177398974216301868, lp total:5.959931228354797948432603737\n",
      "spread:-0.839378240172761409442520342, future2.979965614177398974216301868, lp total:5.959931228354797948432603737\n",
      "spread:-0.842287883189902556564338481, future2.979965614177398974216301868, lp total:5.959931228354797948432603737\n",
      "spread:-0.845052744008405210352062492, future2.979965614177398974216301868, lp total:5.959931228354797948432603737\n",
      "spread:-0.850023478302102976187683468, future2.979965614177398974216301868, lp total:5.959931228354797948432603737\n",
      "spread:-0.854914948595207193711943550, future2.979965614177398974216301868, lp total:5.959931228354797948432603737\n"
     ]
    },
    {
     "name": "stderr",
     "output_type": "stream",
     "text": [
      "  1%|█▎                                                                                                         | 1637/132480 [00:38<35:36, 61.24it/s]"
     ]
    },
    {
     "name": "stdout",
     "output_type": "stream",
     "text": [
      "spread:-0.858559562435783600250008021, future2.979965614177398974216301868, lp total:5.959931228354797948432603737\n",
      "spread:-0.861939278740098398614683536, future2.979965614177398974216301868, lp total:5.959931228354797948432603737\n",
      "spread:-0.867828346715436344334376274, future2.979965614177398974216301868, lp total:5.959931228354797948432603737\n",
      "spread:-0.873342236908373091130767537, future2.979965614177398974216301868, lp total:5.959931228354797948432603737\n",
      "spread:-0.879084604636418132870701157, future2.979965614177398974216301868, lp total:5.959931228354797948432603737\n",
      "spread:-0.883454766418727501412362263, future2.979965614177398974216301868, lp total:5.959931228354797948432603737\n",
      "spread:-0.888026696264151859999399790, future2.979965614177398974216301868, lp total:5.959931228354797948432603737\n",
      "spread:-0.894463156273025578116771195, future2.979965614177398974216301868, lp total:5.959931228354797948432603737\n",
      "spread:-0.900664815172355992478801160, future2.979965614177398974216301868, lp total:5.959931228354797948432603737\n",
      "spread:-0.906475921469516251297909588, future2.979965614177398974216301868, lp total:5.959931228354797948432603737\n",
      "spread:-0.913086574455072515689968615, future2.979965614177398974216301868, lp total:5.959931228354797948432603737\n",
      "spread:-0.920373377144903225624557545, future2.979965614177398974216301868, lp total:5.959931228354797948432603737\n",
      "spread:-0.926965780210030315407995385, future2.979965614177398974216301868, lp total:5.959931228354797948432603737\n",
      "spread:-0.931557151326549535945109523, future2.979965614177398974216301868, lp total:5.959931228354797948432603737\n",
      "spread:-0.935501295726817249531683715, future2.979965614177398974216301868, lp total:5.959931228354797948432603737\n",
      "spread:-0.939333438474402750622781842, future2.979965614177398974216301868, lp total:5.959931228354797948432603737\n",
      "spread:-0.942723311384849148183551502, future2.979965614177398974216301868, lp total:5.959931228354797948432603737\n",
      "spread:-0.945944637928927039788743399, future2.979965614177398974216301868, lp total:5.959931228354797948432603737\n"
     ]
    },
    {
     "name": "stderr",
     "output_type": "stream",
     "text": [
      "  1%|█▎                                                                                                         | 1653/132480 [00:38<35:38, 61.18it/s]"
     ]
    },
    {
     "name": "stdout",
     "output_type": "stream",
     "text": [
      "spread:-0.949845529062499062972940483, future2.979965614177398974216301868, lp total:5.959931228354797948432603737\n",
      "spread:-0.954978936486597984724888640, future2.979965614177398974216301868, lp total:5.959931228354797948432603737\n",
      "spread:-0.959186630575216414701051247, future2.979965614177398974216301868, lp total:5.959931228354797948432603737\n",
      "spread:-0.963017457773236349044961772, future2.979965614177398974216301868, lp total:5.959931228354797948432603737\n",
      "spread:-0.966321868540712761389374386, future2.979965614177398974216301868, lp total:5.959931228354797948432603737\n",
      "spread:-0.969377894314037729694020424, future2.979965614177398974216301868, lp total:5.959931228354797948432603737\n",
      "spread:-0.972954355402606054445059100, future2.979965614177398974216301868, lp total:5.959931228354797948432603737\n",
      "spread:-0.976437095753466071740041425, future2.979965614177398974216301868, lp total:5.959931228354797948432603737\n",
      "spread:-0.980922911123181930600649443, future2.979965614177398974216301868, lp total:5.959931228354797948432603737\n",
      "spread:-0.985522001166749503620204395, future2.979965614177398974216301868, lp total:5.959931228354797948432603737\n",
      "spread:-0.989136615974470355106138245, future2.979965614177398974216301868, lp total:5.959931228354797948432603737\n",
      "spread:-0.992319271215900304261462019, future2.979965614177398974216301868, lp total:5.959931228354797948432603737\n",
      "spread:-0.993406445006754913384714580, future2.979965614177398974216301868, lp total:5.959931228354797948432603737\n",
      "spread:-0.994102004177640465316816519, future2.979965614177398974216301868, lp total:5.959931228354797948432603737\n"
     ]
    },
    {
     "name": "stderr",
     "output_type": "stream",
     "text": [
      "  1%|█▎                                                                                                         | 1670/132480 [00:38<30:34, 71.29it/s]"
     ]
    },
    {
     "name": "stdout",
     "output_type": "stream",
     "text": [
      "spread:-0.996364235725062950292190249, future2.979965614177398974216301868, lp total:5.959931228354797948432603737\n",
      "spread:-0.998513776860234828015229306, future2.979965614177398974216301868, lp total:5.959931228354797948432603737\n",
      "spread:-0.999038600628465899350029442, future2.979965614177398974216301868, lp total:5.959931228354797948432603737\n",
      "spread:-0.999537205870675001005196408, future2.979965614177398974216301868, lp total:5.959931228354797948432603737\n",
      "spread:-1.000010901305090751961716366, future2.979965614177398974216301868, lp total:5.959931228354797948432603737\n",
      "spread:-1.001388782674879174984342213, future2.979965614177398974216301868, lp total:5.959931228354797948432603737\n",
      "spread:-1.002697926184494618930519527, future2.979965614177398974216301868, lp total:5.959931228354797948432603737\n",
      "spread:-1.003857423209207215574285041, future2.979965614177398974216301868, lp total:5.959931228354797948432603737\n",
      "spread:-1.004959055988977718060017378, future2.979965614177398974216301868, lp total:5.959931228354797948432603737\n",
      "spread:-1.006343045779910880940968704, future2.979965614177398974216301868, lp total:5.959931228354797948432603737\n",
      "spread:-1.006983112386421989622266088, future2.979965614177398974216301868, lp total:5.959931228354797948432603737\n",
      "spread:-1.006746859580647733228915618, future2.979965614177398974216301868, lp total:5.959931228354797948432603737\n",
      "spread:-1.005339045115291039961870121, future2.979965614177398974216301868, lp total:5.959931228354797948432603737\n",
      "spread:-1.003832625230960753649899664, future2.979965614177398974216301868, lp total:5.959931228354797948432603737\n",
      "spread:-1.001047484935705693878136333, future2.979965614177398974216301868, lp total:5.959931228354797948432603737\n",
      "spread:-0.998402239658518110351690576, future2.979965614177398974216301868, lp total:5.959931228354797948432603737\n",
      "spread:-0.997327973976634662468293480, future2.979965614177398974216301868, lp total:5.959931228354797948432603737\n",
      "spread:-0.996645543704001728431464978, future2.979965614177398974216301868, lp total:5.959931228354797948432603737\n",
      "spread:-0.995997273261054937394894057, future2.979965614177398974216301868, lp total:5.959931228354797948432603737\n",
      "spread:-0.995972631260916581892162565, future2.979965614177398974216301868, lp total:5.959931228354797948432603737\n",
      "spread:-0.996624386153117582788173716, future2.979965614177398974216301868, lp total:5.959931228354797948432603737\n",
      "spread:-0.998339726186446788704628435, future2.979965614177398974216301868, lp total:5.959931228354797948432603737\n",
      "spread:-0.999548044804384897687676572, future2.979965614177398974216301868, lp total:5.959931228354797948432603737\n",
      "spread:-1.000611736321068642999688124, future2.979965614177398974216301868, lp total:5.959931228354797948432603737\n",
      "spread:-1.001622336353432820590733637, future2.979965614177398974216301868, lp total:5.959931228354797948432603737\n",
      "spread:-1.002582490411850950543718191, future2.979965614177398974216301868, lp total:5.959931228354797948432603737\n",
      "spread:-1.002819608446563470928323305, future2.979965614177398974216301868, lp total:5.959931228354797948432603737\n",
      "spread:-1.003044875204933736834950615, future2.979965614177398974216301868, lp total:5.959931228354797948432603737\n"
     ]
    },
    {
     "name": "stderr",
     "output_type": "stream",
     "text": [
      "  1%|█▎                                                                                                         | 1695/132480 [00:38<25:50, 84.36it/s]"
     ]
    },
    {
     "name": "stdout",
     "output_type": "stream",
     "text": [
      "spread:-1.002245249873617714893084452, future2.979965614177398974216301868, lp total:5.959931228354797948432603737\n",
      "spread:-1.001485658405861471500881612, future2.979965614177398974216301868, lp total:5.959931228354797948432603737\n",
      "spread:-1.000341470374412431856426425, future2.979965614177398974216301868, lp total:5.959931228354797948432603737\n",
      "spread:-0.999761675354430718811096063, future2.979965614177398974216301868, lp total:5.959931228354797948432603737\n",
      "spread:-0.998027340649633972875725415, future2.979965614177398974216301868, lp total:5.959931228354797948432603737\n",
      "spread:-0.995449093011074348131937479, future2.979965614177398974216301868, lp total:5.959931228354797948432603737\n",
      "spread:-0.992153414839765663092822266, future2.979965614177398974216301868, lp total:5.959931228354797948432603737\n",
      "spread:-0.989362169776528291289200297, future2.979965614177398974216301868, lp total:5.959931228354797948432603737\n",
      "spread:-0.987134296707328185368791909, future2.979965614177398974216301868, lp total:5.959931228354797948432603737\n",
      "spread:-0.985694761579504977690184026, future2.979965614177398974216301868, lp total:5.959931228354797948432603737\n",
      "spread:-0.984327373746081435625869275, future2.979965614177398974216301868, lp total:5.959931228354797948432603737\n",
      "spread:-0.983028509183689301392659949, future2.979965614177398974216301868, lp total:5.959931228354797948432603737\n",
      "spread:-0.982723824522337538328564223, future2.979965614177398974216301868, lp total:5.959931228354797948432603737\n",
      "spread:-0.982434381735202004107036901, future2.979965614177398974216301868, lp total:5.959931228354797948432603737\n"
     ]
    },
    {
     "name": "stderr",
     "output_type": "stream",
     "text": [
      "  1%|█▎                                                                                                         | 1702/132480 [00:38<49:52, 43.70it/s]\n"
     ]
    },
    {
     "name": "stdout",
     "output_type": "stream",
     "text": [
      "spread:-0.983171850948156380029257253, future2.979965614177398974216301868, lp total:5.959931228354797948432603737\n",
      "spread:-0.984378318175361583121239405, future2.979965614177398974216301868, lp total:5.959931228354797948432603737\n",
      "spread:-0.983330413750318768065600321, future2.979965614177398974216301868, lp total:5.959931228354797948432603737\n",
      "spread:-0.984191777811960903641300549, future2.979965614177398974216301868, lp total:5.959931228354797948432603737\n",
      "spread:-0.985852939957412355928121626, future2.979965614177398974216301868, lp total:5.959931228354797948432603737\n"
     ]
    }
   ],
   "source": [
    "a = 1.21\n",
    "hedge_spread_split = 2.6\n",
    "hedge_spread_rate = 0.86\n",
    "alpha = -1\n",
    "ema_max_spread_rate=0.2\n",
    "period_n = 9\n",
    "\n",
    "instance=backtest_boll(a=a,hedge_spread_split=hedge_spread_split,hedge_spread_rate=hedge_spread_rate,alpha=alpha,boll_period_n=period_n)\n",
    "\n",
    "df_merge = generate_dfmerge(instance)\n",
    "\n",
    "# fig = df_merge[['price_rate','total_value_eth_profit_rate','total_value_profit_rate']].plot().get_figure()\n",
    "\n",
    "# fig.savefig('./fig/test.pdf')\n",
    "\n",
    "plot = df_merge[['price_rate','total_value_eth_profit_rate','net_value_rate','total_value_profit_rate']].plot()\n",
    "\n",
    "plot.write_image(f\"./fig/{NET_VALUE_BASE}_{DATE_START}_{DATE_END}_{a}_{hedge_spread_split}_{hedge_spread_rate}_{alpha}_{period_n}.png\")\n",
    "\n",
    "plot.show()"
   ]
  },
  {
   "cell_type": "markdown",
   "metadata": {},
   "source": [
    "# A2 test"
   ]
  },
  {
   "cell_type": "code",
   "execution_count": null,
   "metadata": {},
   "outputs": [],
   "source": [
    "a = 1.21\n",
    "hedge_spread_split = 2.6\n",
    "hedge_spread_rate = 0.86\n",
    "alpha = 0.037\n",
    "ema_max_spread_rate=0.027\n",
    "period_n2 = 9\n",
    "\n",
    "instance2=backtest_boll(a=a,hedge_spread_split=hedge_spread_split,hedge_spread_rate=hedge_spread_rate,alpha=alpha,boll_period_n=period_n2)\n",
    "\n",
    "df_merge2 = generate_dfmerge(instance2)\n",
    "\n",
    "# fig = df_merge[['price_rate','total_value_eth_profit_rate','total_value_profit_rate']].plot().get_figure()\n",
    "\n",
    "# fig.savefig('./fig/test.pdf')\n",
    "\n",
    "plot2 = df_merge2[['price_rate','total_value_eth_profit_rate','net_value_rate','total_value_profit_rate']].plot()\n",
    "\n",
    "plot2.write_image(f\"./fig/{NET_VALUE_BASE}_{DATE_START}_{DATE_END}_{a}_{hedge_spread_split}_{hedge_spread_rate}_{alpha}_{period_n2}.png\")\n",
    "\n",
    "plot2.show()"
   ]
  },
  {
   "cell_type": "markdown",
   "metadata": {},
   "source": [
    "# a3 ema hedge"
   ]
  },
  {
   "cell_type": "code",
   "execution_count": null,
   "metadata": {},
   "outputs": [],
   "source": [
    "a = 1.21\n",
    "hedge_spread_split = 2.6\n",
    "hedge_spread_rate = 0.86\n",
    "alpha3 = 0.037\n",
    "ema_max_spread_rate2=0.2\n",
    "\n",
    "instance3=backtest_instance(a,hedge_spread_split,hedge_spread_rate,alpha3)\n",
    "\n",
    "df_merge3 = generate_dfmerge(instance3)\n",
    "\n",
    "\n",
    "\n",
    "plot3 = df_merge3[['price_rate','total_value_eth_profit_rate','net_value_rate','total_value_profit_rate']].plot()\n",
    "\n",
    "plot3.write_image(f\"./fig/{NET_VALUE_BASE}_{DATE_START}_{DATE_END}_{a}_{hedge_spread_split}_{hedge_spread_rate}_{alpha3}.png\")\n",
    "\n",
    "plot3.show()"
   ]
  },
  {
   "cell_type": "code",
   "execution_count": null,
   "metadata": {},
   "outputs": [],
   "source": []
  }
 ],
 "metadata": {
  "kernelspec": {
   "display_name": "Python 3.10.6 ('py310btc')",
   "language": "python",
   "name": "python3"
  },
  "language_info": {
   "codemirror_mode": {
    "name": "ipython",
    "version": 3
   },
   "file_extension": ".py",
   "mimetype": "text/x-python",
   "name": "python",
   "nbconvert_exporter": "python",
   "pygments_lexer": "ipython3",
   "version": "3.10.6"
  },
  "orig_nbformat": 4,
  "vscode": {
   "interpreter": {
    "hash": "abcf340a9bfefc31ecafadbd09739eb19479e953f794e77621cd271022fdffd8"
   }
  }
 },
 "nbformat": 4,
 "nbformat_minor": 2
}
