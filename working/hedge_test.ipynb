{
 "cells": [
  {
   "cell_type": "code",
   "execution_count": 81,
   "metadata": {},
   "outputs": [],
   "source": [
    "from hedge_stand import HedgeST,HedgeSTBoll\n",
    "from datetime import date, datetime\n",
    "from demeter import TokenInfo, PoolBaseInfo, Actuator, Strategy, Asset, AccountStatus, BuyAction, SellAction, RowData, \\\n",
    "    ChainType\n",
    "import optunity\n",
    "import optunity.metrics\n",
    "from decimal import Decimal\n",
    "import pandas as pd\n",
    "import  matplotlib.pylab as plt\n",
    "# import logging \n",
    "# from logging import handlers\n",
    "from load_data import pool_id_1_eth_u_500,pool_id_1_wbtc_u_3000\n",
    "\n",
    "from strategy_ploter import  plot_position_return_decomposition\n",
    "\n",
    "import quantstats as qs\n",
    "qs.extend_pandas()\n",
    "\n",
    "%matplotlib inline\n",
    "\n",
    "def backtest_boll(a, hedge_spread_split,hedge_spread_rate,alpha,boll_period_n):\n",
    "    # global RUNNING_TIME\n",
    "    # print(f\"==================spread running time {RUNNING_TIME}==================\")\n",
    "\n",
    "    decimal_a = Decimal(a).quantize(Decimal('0.00'))\n",
    "    decimal_hedge_spread_split = Decimal(hedge_spread_split).quantize(Decimal('0.0'))\n",
    "    decimal_hedge_spread_rate = Decimal(hedge_spread_rate).quantize(Decimal('0.00'))\n",
    "\n",
    "    ema_max_spread_rate = round(0.2,4)\n",
    "\n",
    "\n",
    "\n",
    "    #收益计算基础参数\n",
    "    # net_value_base = 'ETH'\n",
    "\n",
    "    runner_instance = Actuator(PAIR_POOL)\n",
    "    # runner_instance.enable_notify = False\n",
    "    runner_instance.strategy = HedgeSTBoll(a=decimal_a,hedge_spread_split = decimal_hedge_spread_split,hedge_spread_rate=decimal_hedge_spread_rate,alpha=alpha,ema_max_spread_rate=ema_max_spread_rate,period_n=int(boll_period_n))\n",
    "    runner_instance.set_assets([Asset(USDC, 1000000)])\n",
    "    save_path = f\"../demeter/data/ETH/{POOL_ID}\"\n",
    "    runner_instance.data_path = save_path\n",
    "    runner_instance.load_data(ChainType.Ethereum.name,\n",
    "                                POOL_ID,\n",
    "                                DATE_START,\n",
    "                               DATE_END)\n",
    "    runner_instance.run(enable_notify=False)\n",
    "\n",
    "    hedge_count = runner_instance.strategy.hedge_count\n",
    "    outside_ema_count = runner_instance.strategy.outside_ema_count\n",
    "\n",
    "    # df_status = pd.DataFrame(runner_instance.account_status_list)\n",
    "\n",
    "    total_net_value = runner_instance.final_status.net_value\n",
    "    \n",
    "    final_total_usdc_value = round(total_net_value + runner_instance.strategy.e.df['total'].iloc[-1],3)\n",
    "    \n",
    "    final_price = runner_instance.final_status.price\n",
    "\n",
    "    final_total_eth_value = round(final_total_usdc_value / final_price,3)\n",
    "\n",
    "\n",
    "    notice = f\"ema+alpha:{RUNNING_TIME} times, a:{decimal_a}, hedge_spread_split:{decimal_hedge_spread_split}, hedge_spread_rate:{decimal_hedge_spread_rate},alpa:{alpha}\"\n",
    "    result =f\" result: outside_ema_count:{outside_ema_count},hedge count:{hedge_count} final_total_eth_value:{final_total_eth_value},final_total_usdc_value:{final_total_usdc_value}\"  \n",
    "    print(notice)\n",
    "    print(result)\n",
    "    # if SEND_NOTICE:\n",
    "    #     send_notice('CEX_Notify',notice)\n",
    "\n",
    "    # RUNNING_TIME +=1\n",
    "\n",
    "    # if NET_VALUE_BASE == 'USDC':\n",
    "    #     print(final_total_usdc_value)\n",
    "    #     return float(final_total_usdc_value)\n",
    "    #     # profit_rate_usdc = profit_usdc / runner_instance.strategy.init_total_usdc\n",
    "    # else:\n",
    "    #     print(float(final_total_usdc_value / final_price))\n",
    "    #     return float(final_total_usdc_value / final_price)\n",
    "\n",
    "\n",
    "    return runner_instance\n",
    "\n",
    "\n",
    "def backtest_instance(a, hedge_spread_split,hedge_spread_rate,alpha):\n",
    "    # global RUNNING_TIME\n",
    "    # print(f\"==================spread running time {RUNNING_TIME}==================\")\n",
    "\n",
    "    decimal_a = Decimal(a).quantize(Decimal('0.00'))\n",
    "    decimal_hedge_spread_split = Decimal(hedge_spread_split).quantize(Decimal('0.0'))\n",
    "    decimal_hedge_spread_rate = Decimal(hedge_spread_rate).quantize(Decimal('0.00'))\n",
    "\n",
    "    alpha = round(alpha,4)\n",
    "    # ema_max_spread_rate = round(ema_max_spread_rate,4)\n",
    "\n",
    "    eth = TokenInfo(name=\"eth\", decimal=18)\n",
    "    usdc = TokenInfo(name=\"usdc\", decimal=6)\n",
    "    pool = PoolBaseInfo(usdc, eth, 0.05, usdc)\n",
    "\n",
    "    #收益计算基础参数\n",
    "    # net_value_base = 'ETH'\n",
    "\n",
    "    runner_instance = Actuator(pool)\n",
    "    # runner_instance.enable_notify = False\n",
    "    runner_instance.strategy = HedgeST(decimal_a,decimal_hedge_spread_split,decimal_hedge_spread_rate,alpha)\n",
    "    runner_instance.set_assets([Asset(usdc, 1000000)])\n",
    "    save_path = f\"../demeter/data/ETH/{pool_id_1_eth_u_500}\"\n",
    "    runner_instance.data_path = save_path\n",
    "    runner_instance.load_data(ChainType.Ethereum.name,\n",
    "                                pool_id_1_eth_u_500,\n",
    "                                DATE_START,\n",
    "                               DATE_END)\n",
    "    runner_instance.run(enable_notify=False)\n",
    "\n",
    "    hedge_count = runner_instance.strategy.hedge_count\n",
    "    outside_ema_count = runner_instance.strategy.outside_ema_count\n",
    "\n",
    "    # df_status = pd.DataFrame(runner_instance.account_status_list)\n",
    "\n",
    "    total_net_value = runner_instance.final_status.net_value\n",
    "    \n",
    "    final_total_usdc_value = round(total_net_value + runner_instance.strategy.e.df['total'].iloc[-1],3)\n",
    "    \n",
    "    final_price = runner_instance.final_status.price\n",
    "\n",
    "    final_total_eth_value = round(final_total_usdc_value / final_price,3)\n",
    "\n",
    "    #处理df_status\n",
    "    df_status = pd.DataFrame(runner_instance.account_status_list)\n",
    "    df_merge = pd.merge(e.df, df_status, on='timestamp', how='inner')\n",
    "\n",
    "    df_merge['total_value'] = df_merge['total'] + df_merge['net_value']\n",
    "    df_merge['total_value_eth'] = df_merge['total_value'] / df_merge['price']\n",
    "\n",
    "    df_merge.set_index('timestamp', inplace=True)\n",
    "\n",
    "\n",
    "\n",
    "\n",
    "    notice = f\"ema+alpha:{RUNNING_TIME} times, a:{decimal_a}, hedge_spread_split:{decimal_hedge_spread_split}, hedge_spread_rate:{decimal_hedge_spread_rate},alpa:{alpha}\"\n",
    "    result =f\" result: outside_ema_count:{outside_ema_count},hedge count:{hedge_count} final_total_eth_value:{final_total_eth_value},final_total_usdc_value:{final_total_usdc_value}\"  \n",
    "    print(notice)\n",
    "    print(result)\n",
    "    # if SEND_NOTICE:\n",
    "    #     send_notice('CEX_Notify',notice)\n",
    "\n",
    "    # RUNNING_TIME +=1\n",
    "\n",
    "    # if NET_VALUE_BASE == 'USDC':\n",
    "    #     print(final_total_usdc_value)\n",
    "    #     return float(final_total_usdc_value)\n",
    "    #     # profit_rate_usdc = profit_usdc / runner_instance.strategy.init_total_usdc\n",
    "    # else:\n",
    "    #     print(float(final_total_usdc_value / final_price))\n",
    "    #     return float(final_total_usdc_value / final_price)\n",
    "\n",
    "\n",
    "    return runner_instance\n",
    "\n",
    "\n",
    "\n"
   ]
  },
  {
   "cell_type": "code",
   "execution_count": 82,
   "metadata": {},
   "outputs": [],
   "source": [
    "\n",
    "def generate_dfmerge(runner_instance):\n",
    "    e = runner_instance.strategy.e\n",
    "\n",
    "    total_net_value = runner_instance.final_status.net_value\n",
    "        \n",
    "    final_total_usdc_value = total_net_value + runner_instance.strategy.e.df['total'].iloc[-1]\n",
    "\n",
    "\n",
    "    final_price = runner_instance.final_status.price\n",
    "    # if net_value_base == 'USDC':\n",
    "    profit_usdc = round(final_total_usdc_value- runner_instance.strategy.init_total_usdc,3)\n",
    "    profit_rate_usdc = round(profit_usdc / runner_instance.strategy.init_total_usdc,3)\n",
    "    # else:\n",
    "    profit_eth = round(final_total_usdc_value/final_price - runner_instance.strategy.init_total_symbol,3)\n",
    "    profit_rate_eth = round(profit_eth / runner_instance.strategy.init_total_symbol,3)\n",
    "\n",
    "    print(f\"USDC profit: {profit_usdc}, profit_rate: {profit_rate_usdc}\")\n",
    "\n",
    "    print(f\"ETH profit: {profit_eth}, profit_rate: {profit_rate_eth}\")\n",
    "\n",
    "    df_status = pd.DataFrame(runner_instance.account_status_list)\n",
    "    df_merge = pd.merge(e.df, df_status, on='timestamp', how='inner')\n",
    "\n",
    "    df_merge['total_value'] = df_merge['total'] + df_merge['net_value']\n",
    "\n",
    "    df_merge.set_index('timestamp', inplace=True)\n",
    "\n",
    "    df_merge['total_value_profit_rate'] = df_merge['total_value'] / runner_instance.strategy.init_total_usdc\n",
    "\n",
    "\n",
    "    df_merge['total_value_eth'] = df_merge['total_value'] / df_merge['price']\n",
    "\n",
    "    df_merge['net_value_eth'] = df_merge['net_value'] / df_merge['price']\n",
    "\n",
    "    df_merge['total_value_eth_profit_rate'] = df_merge['total_value_eth'] / runner_instance.strategy.init_total_symbol\n",
    "\n",
    "    df_merge_f = df_merge.apply(pd.to_numeric, downcast='float')\n",
    "   \n",
    "    df_merge_f['net_value_rate'] = df_merge_f['net_value'] / df_merge_f['net_value'].iloc[0]\n",
    "\n",
    "    df_merge_f['price_rate'] = df_merge_f['price'] / df_merge_f['price'].iloc[0]\n",
    "    return df_merge_f"
   ]
  },
  {
   "cell_type": "code",
   "execution_count": 83,
   "metadata": {},
   "outputs": [],
   "source": [
    "# pd.options.plotting.backend = \"plotly\"\n",
    "\n",
    "CHAIN_ID = 'ETH'\n",
    "NET_VALUE_BASE = 'WBTC'\n",
    "RUNNING_TIME = 1\n",
    "SEND_NOTICE = False\n",
    "str_date_start = '2022-9-1'\n",
    "str_date_end = '2022-11-30'\n",
    "POOL_ID = pool_id_1_wbtc_u_3000\n",
    "#eth pool\n",
    "# eth = TokenInfo(name='eth', decimal=18)\n",
    "# USDC = TokenInfo(name=\"usdc\", decimal=6)\n",
    "# PAIR_POOL = PoolBaseInfo(USDC, eth, 0.05, USDC)\n",
    "\n",
    "# wbtc pool\n",
    "wbtc = TokenInfo(name='wbtc', decimal=8)\n",
    "USDC = TokenInfo(name=\"usdc\", decimal=6)\n",
    "PAIR_POOL = PoolBaseInfo(wbtc, USDC, 0.3, USDC)\n",
    "\n",
    "DATE_START = datetime.strptime(str_date_start, \"%Y-%m-%d\").date()\n",
    "\n",
    "DATE_END = datetime.strptime(str_date_end, \"%Y-%m-%d\").date()"
   ]
  },
  {
   "cell_type": "markdown",
   "metadata": {},
   "source": [
    "# A1 test"
   ]
  },
  {
   "cell_type": "code",
   "execution_count": 84,
   "metadata": {},
   "outputs": [
    {
     "name": "stderr",
     "output_type": "stream",
     "text": [
      "2022-12-19 00:24:44,175 - INFO - start load files from 2022-09-01 to 2022-11-30...\n"
     ]
    },
    {
     "name": "stdout",
     "output_type": "stream",
     "text": [
      "init parameters: a:1.20, hedge_spread_split:2.5, hedge_spread_rate:0.91,alpa:0.037,period_n:17\n",
      "\n"
     ]
    },
    {
     "name": "stderr",
     "output_type": "stream",
     "text": [
      "2022-12-19 00:24:47,349 - INFO - load file complete, preparing...\n",
      "2022-12-19 00:24:54,504 - INFO - data has benn prepared\n",
      "2022-12-19 00:24:54,505 - INFO - init strategy...\n"
     ]
    },
    {
     "name": "stdout",
     "output_type": "stream",
     "text": [
      "add ema column with alpha 0.037\n",
      "130976\n"
     ]
    },
    {
     "name": "stderr",
     "output_type": "stream",
     "text": [
      "2022-12-19 00:24:56,316 - INFO - start main loop...\n"
     ]
    },
    {
     "name": "stdout",
     "output_type": "stream",
     "text": [
      "hedge rebalance ETH -24.80777935392767014527344056 20124.73558706320389991576924 profit: 0E-49\n",
      "after rebalance=> lp total symbol:49.61555870785534029054688112, future amount:24.80777935392767014527344056, status:AccountStatus(timestamp=None, base_balance=Decimal('498500.0000000000000000000001'), quote_balance=Decimal('24.84504692431414135730940466'), base_uncollected=Decimal('0'), quote_uncollected=Decimal('0'), base_in_position=Decimal('0'), quote_in_position=Decimal('0'), net_value=Decimal('998500.0000000000000000000000'), price=Decimal('20124.73558706320389991576924'))\n",
      "prepare to add LP: rate:1.20 price:20124.73558706320389991576924 down:16770.61298921933658326314103 up:24149.68270447584467989892309 init symbol amount:59.62811261835393980921343405,init usdc amount:1200000.000000000011102230246\n",
      "eth_value 0.08750596819272489767571750 usdc value 0\n"
     ]
    },
    {
     "name": "stderr",
     "output_type": "stream",
     "text": [
      " 77%|████████████████████████████████████████████████████████████████████████████████▌                        | 100433/130976 [22:04<10:07, 50.28it/s]"
     ]
    },
    {
     "name": "stdout",
     "output_type": "stream",
     "text": [
      "2022-11-09 18:44:00  => last hedge sell ETH,price: 16508.23899030218579883673468,c_amount:51.89321764369758462938176507,f_amount:24.80777935392767014527344056,ema:16765.781966636863, trade amoutn: 27.08543828976991448410832451, hedge count:1\n",
      "2022-11-09 18:44:00 out of range, price:16508.23899030218579883673468,ema:16765.781966636863 symbol:51.89321764369758462938176507, usdc:0\n",
      "hedge rebalance ETH -32.98013002618515576783893545 16508.23899030218579883673468 profit: -89717.24960667766744650593763\n",
      "after rebalance=> lp total symbol:61.40494218068582285800810301, future amount:30.70247109034291142900405150, status:AccountStatus(timestamp=None, base_balance=Decimal('506210.5808675613339079672827'), quote_balance=Decimal('30.74082463520224653550044124'), base_uncollected=Decimal('0'), quote_uncollected=Decimal('0'), base_in_position=Decimal('0'), quote_in_position=Decimal('0'), net_value=Decimal('1013687.460704449027350196650'), price=Decimal('16508.23899030218579883673468'))\n",
      "prepare to add LP: rate:1.20 price:16508.23899030218579883673468,ema:16765.781966636863, self.down_price:13756.86582525182149903061223,self.up_price 19809.88678836262295860408162 \n",
      "after add LP: AccountStatus(timestamp=None, base_balance=Decimal('0'), quote_balance=Decimal('0.09276404410865218776600265'), base_uncollected=Decimal('0'), quote_uncollected=Decimal('0'), base_in_position=Decimal('506210.5808665185711586327874'), quote_in_position=Decimal('30.64806059109359434773443856'), net_value=Decimal('1013687.460703406264600862154'), price=Decimal('16508.23899030218579883673468'))\n"
     ]
    },
    {
     "name": "stderr",
     "output_type": "stream",
     "text": [
      "100%|█████████████████████████████████████████████████████████████████████████████████████████████████████████| 130976/130976 [35:15<00:00, 61.90it/s]\n",
      "2022-12-19 01:00:12,095 - INFO - main loop finished, start calculate evaluating indicator...\n",
      "2022-12-19 01:00:13,887 - INFO - run evaluating indicator\n",
      "2022-12-19 01:00:14,080 - INFO - back testing finish\n"
     ]
    },
    {
     "name": "stdout",
     "output_type": "stream",
     "text": [
      "ema+alpha:1 times, a:1.20, hedge_spread_split:2.5, hedge_spread_rate:0.91,alpa:0.037\n",
      " result: outside_ema_count:0,hedge count:1 final_total_eth_value:87.943,final_total_usdc_value:1510875.967\n",
      "USDC profit: 310875.967, profit_rate: 0.259\n",
      "ETH profit: 28.315, profit_rate: 0.475\n"
     ]
    }
   ],
   "source": [
    "a = 1.2\n",
    "hedge_spread_split = 2.5\n",
    "hedge_spread_rate = 0.91\n",
    "alpha = 0.037\n",
    "ema_max_spread_rate=0.2\n",
    "period_n = 17\n",
    "\n",
    "instance=backtest_boll(a=a,hedge_spread_split=hedge_spread_split,hedge_spread_rate=hedge_spread_rate,alpha=alpha,boll_period_n=period_n)\n",
    "\n",
    "df_merge = generate_dfmerge(instance)\n",
    "\n",
    "# fig = df_merge[['price_rate','total_value_eth_profit_rate','total_value_profit_rate']].plot().get_figure()\n",
    "\n",
    "# fig.savefig('./fig/test.pdf')\n",
    "\n",
    "# plot = df_merge[['price_rate','total_value_eth_profit_rate','net_value_rate','total_value_profit_rate']].plot()\n",
    "\n",
    "# plot.write_image(f\"./fig/{NET_VALUE_BASE}_{DATE_START}_{DATE_END}_{a}_{hedge_spread_split}_{hedge_spread_rate}_{alpha}_{period_n}.png\")\n",
    "\n",
    "# plot.show()"
   ]
  },
  {
   "cell_type": "code",
   "execution_count": 85,
   "metadata": {},
   "outputs": [
    {
     "data": {
      "text/html": [
       "<div>\n",
       "<style scoped>\n",
       "    .dataframe tbody tr th:only-of-type {\n",
       "        vertical-align: middle;\n",
       "    }\n",
       "\n",
       "    .dataframe tbody tr th {\n",
       "        vertical-align: top;\n",
       "    }\n",
       "\n",
       "    .dataframe thead th {\n",
       "        text-align: right;\n",
       "    }\n",
       "</style>\n",
       "<table border=\"1\" class=\"dataframe\">\n",
       "  <thead>\n",
       "    <tr style=\"text-align: right;\">\n",
       "      <th></th>\n",
       "      <th>margin</th>\n",
       "      <th>total</th>\n",
       "      <th>leverage</th>\n",
       "      <th>realised_profit</th>\n",
       "      <th>unrealised_profit</th>\n",
       "      <th>base_balance</th>\n",
       "      <th>quote_balance</th>\n",
       "      <th>base_uncollected</th>\n",
       "      <th>quote_uncollected</th>\n",
       "      <th>base_in_position</th>\n",
       "      <th>quote_in_position</th>\n",
       "      <th>net_value</th>\n",
       "      <th>price</th>\n",
       "      <th>total_value</th>\n",
       "      <th>total_value_profit_rate</th>\n",
       "      <th>total_value_eth</th>\n",
       "      <th>net_value_eth</th>\n",
       "      <th>total_value_eth_profit_rate</th>\n",
       "      <th>net_value_rate</th>\n",
       "      <th>price_rate</th>\n",
       "    </tr>\n",
       "    <tr>\n",
       "      <th>timestamp</th>\n",
       "      <th></th>\n",
       "      <th></th>\n",
       "      <th></th>\n",
       "      <th></th>\n",
       "      <th></th>\n",
       "      <th></th>\n",
       "      <th></th>\n",
       "      <th></th>\n",
       "      <th></th>\n",
       "      <th></th>\n",
       "      <th></th>\n",
       "      <th></th>\n",
       "      <th></th>\n",
       "      <th></th>\n",
       "      <th></th>\n",
       "      <th></th>\n",
       "      <th></th>\n",
       "      <th></th>\n",
       "      <th></th>\n",
       "      <th></th>\n",
       "    </tr>\n",
       "  </thead>\n",
       "  <tbody>\n",
       "    <tr>\n",
       "      <th>2022-09-01 01:04:00</th>\n",
       "      <td>24962.500000</td>\n",
       "      <td>199625.562500</td>\n",
       "      <td>2.500</td>\n",
       "      <td>-374.437500</td>\n",
       "      <td>0.000000</td>\n",
       "      <td>0.0</td>\n",
       "      <td>0.087506</td>\n",
       "      <td>1.50000</td>\n",
       "      <td>0.000000</td>\n",
       "      <td>498500.0000</td>\n",
       "      <td>24.757542</td>\n",
       "      <td>998501.5</td>\n",
       "      <td>20124.736328</td>\n",
       "      <td>1198127.0</td>\n",
       "      <td>0.998439</td>\n",
       "      <td>59.535046</td>\n",
       "      <td>49.615635</td>\n",
       "      <td>0.998439</td>\n",
       "      <td>1.000000</td>\n",
       "      <td>1.000000</td>\n",
       "    </tr>\n",
       "    <tr>\n",
       "      <th>2022-09-01 01:05:00</th>\n",
       "      <td>24962.500000</td>\n",
       "      <td>199625.562500</td>\n",
       "      <td>2.500</td>\n",
       "      <td>-374.437500</td>\n",
       "      <td>0.000000</td>\n",
       "      <td>0.0</td>\n",
       "      <td>0.087506</td>\n",
       "      <td>1.50000</td>\n",
       "      <td>0.000000</td>\n",
       "      <td>498500.0000</td>\n",
       "      <td>24.757542</td>\n",
       "      <td>998501.5</td>\n",
       "      <td>20124.736328</td>\n",
       "      <td>1198127.0</td>\n",
       "      <td>0.998439</td>\n",
       "      <td>59.535046</td>\n",
       "      <td>49.615635</td>\n",
       "      <td>0.998439</td>\n",
       "      <td>1.000000</td>\n",
       "      <td>1.000000</td>\n",
       "    </tr>\n",
       "    <tr>\n",
       "      <th>2022-09-01 01:06:00</th>\n",
       "      <td>24962.500000</td>\n",
       "      <td>199625.562500</td>\n",
       "      <td>2.500</td>\n",
       "      <td>-374.437500</td>\n",
       "      <td>0.000000</td>\n",
       "      <td>0.0</td>\n",
       "      <td>0.087506</td>\n",
       "      <td>1.50000</td>\n",
       "      <td>0.000000</td>\n",
       "      <td>498500.0000</td>\n",
       "      <td>24.757542</td>\n",
       "      <td>998501.5</td>\n",
       "      <td>20124.736328</td>\n",
       "      <td>1198127.0</td>\n",
       "      <td>0.998439</td>\n",
       "      <td>59.535046</td>\n",
       "      <td>49.615635</td>\n",
       "      <td>0.998439</td>\n",
       "      <td>1.000000</td>\n",
       "      <td>1.000000</td>\n",
       "    </tr>\n",
       "    <tr>\n",
       "      <th>2022-09-01 01:07:00</th>\n",
       "      <td>24962.500000</td>\n",
       "      <td>199625.562500</td>\n",
       "      <td>2.500</td>\n",
       "      <td>-374.437500</td>\n",
       "      <td>0.000000</td>\n",
       "      <td>0.0</td>\n",
       "      <td>0.087506</td>\n",
       "      <td>1.50000</td>\n",
       "      <td>0.000000</td>\n",
       "      <td>498500.0000</td>\n",
       "      <td>24.757542</td>\n",
       "      <td>998501.5</td>\n",
       "      <td>20124.736328</td>\n",
       "      <td>1198127.0</td>\n",
       "      <td>0.998439</td>\n",
       "      <td>59.535046</td>\n",
       "      <td>49.615635</td>\n",
       "      <td>0.998439</td>\n",
       "      <td>1.000000</td>\n",
       "      <td>1.000000</td>\n",
       "    </tr>\n",
       "    <tr>\n",
       "      <th>2022-09-01 01:08:00</th>\n",
       "      <td>24962.500000</td>\n",
       "      <td>199625.562500</td>\n",
       "      <td>2.500</td>\n",
       "      <td>-374.437500</td>\n",
       "      <td>0.000000</td>\n",
       "      <td>0.0</td>\n",
       "      <td>0.087506</td>\n",
       "      <td>1.50000</td>\n",
       "      <td>0.000000</td>\n",
       "      <td>498500.0000</td>\n",
       "      <td>24.757542</td>\n",
       "      <td>998501.5</td>\n",
       "      <td>20124.736328</td>\n",
       "      <td>1198127.0</td>\n",
       "      <td>0.998439</td>\n",
       "      <td>59.535046</td>\n",
       "      <td>49.615635</td>\n",
       "      <td>0.998439</td>\n",
       "      <td>1.000000</td>\n",
       "      <td>1.000000</td>\n",
       "    </tr>\n",
       "    <tr>\n",
       "      <th>...</th>\n",
       "      <td>...</td>\n",
       "      <td>...</td>\n",
       "      <td>...</td>\n",
       "      <td>...</td>\n",
       "      <td>...</td>\n",
       "      <td>...</td>\n",
       "      <td>...</td>\n",
       "      <td>...</td>\n",
       "      <td>...</td>\n",
       "      <td>...</td>\n",
       "      <td>...</td>\n",
       "      <td>...</td>\n",
       "      <td>...</td>\n",
       "      <td>...</td>\n",
       "      <td>...</td>\n",
       "      <td>...</td>\n",
       "      <td>...</td>\n",
       "      <td>...</td>\n",
       "      <td>...</td>\n",
       "      <td>...</td>\n",
       "    </tr>\n",
       "    <tr>\n",
       "      <th>2022-11-30 23:55:00</th>\n",
       "      <td>25342.185547</td>\n",
       "      <td>129795.515625</td>\n",
       "      <td>3.904</td>\n",
       "      <td>-90835.367188</td>\n",
       "      <td>20630.882812</td>\n",
       "      <td>0.0</td>\n",
       "      <td>0.092764</td>\n",
       "      <td>171166.34375</td>\n",
       "      <td>10.356569</td>\n",
       "      <td>623233.4375</td>\n",
       "      <td>23.699318</td>\n",
       "      <td>1381080.5</td>\n",
       "      <td>17180.201172</td>\n",
       "      <td>1510876.0</td>\n",
       "      <td>1.259063</td>\n",
       "      <td>87.942856</td>\n",
       "      <td>80.387909</td>\n",
       "      <td>1.474856</td>\n",
       "      <td>1.383153</td>\n",
       "      <td>0.853686</td>\n",
       "    </tr>\n",
       "    <tr>\n",
       "      <th>2022-11-30 23:56:00</th>\n",
       "      <td>25342.185547</td>\n",
       "      <td>129795.515625</td>\n",
       "      <td>3.904</td>\n",
       "      <td>-90835.367188</td>\n",
       "      <td>20630.882812</td>\n",
       "      <td>0.0</td>\n",
       "      <td>0.092764</td>\n",
       "      <td>171166.34375</td>\n",
       "      <td>10.356569</td>\n",
       "      <td>623233.4375</td>\n",
       "      <td>23.699318</td>\n",
       "      <td>1381080.5</td>\n",
       "      <td>17180.201172</td>\n",
       "      <td>1510876.0</td>\n",
       "      <td>1.259063</td>\n",
       "      <td>87.942856</td>\n",
       "      <td>80.387909</td>\n",
       "      <td>1.474856</td>\n",
       "      <td>1.383153</td>\n",
       "      <td>0.853686</td>\n",
       "    </tr>\n",
       "    <tr>\n",
       "      <th>2022-11-30 23:57:00</th>\n",
       "      <td>25342.185547</td>\n",
       "      <td>129795.515625</td>\n",
       "      <td>3.904</td>\n",
       "      <td>-90835.367188</td>\n",
       "      <td>20630.882812</td>\n",
       "      <td>0.0</td>\n",
       "      <td>0.092764</td>\n",
       "      <td>171166.34375</td>\n",
       "      <td>10.356569</td>\n",
       "      <td>623233.4375</td>\n",
       "      <td>23.699318</td>\n",
       "      <td>1381080.5</td>\n",
       "      <td>17180.201172</td>\n",
       "      <td>1510876.0</td>\n",
       "      <td>1.259063</td>\n",
       "      <td>87.942856</td>\n",
       "      <td>80.387909</td>\n",
       "      <td>1.474856</td>\n",
       "      <td>1.383153</td>\n",
       "      <td>0.853686</td>\n",
       "    </tr>\n",
       "    <tr>\n",
       "      <th>2022-11-30 23:58:00</th>\n",
       "      <td>25342.185547</td>\n",
       "      <td>129795.515625</td>\n",
       "      <td>3.904</td>\n",
       "      <td>-90835.367188</td>\n",
       "      <td>20630.882812</td>\n",
       "      <td>0.0</td>\n",
       "      <td>0.092764</td>\n",
       "      <td>171166.34375</td>\n",
       "      <td>10.356569</td>\n",
       "      <td>623233.4375</td>\n",
       "      <td>23.699318</td>\n",
       "      <td>1381080.5</td>\n",
       "      <td>17180.201172</td>\n",
       "      <td>1510876.0</td>\n",
       "      <td>1.259063</td>\n",
       "      <td>87.942856</td>\n",
       "      <td>80.387909</td>\n",
       "      <td>1.474856</td>\n",
       "      <td>1.383153</td>\n",
       "      <td>0.853686</td>\n",
       "    </tr>\n",
       "    <tr>\n",
       "      <th>2022-11-30 23:59:00</th>\n",
       "      <td>25342.185547</td>\n",
       "      <td>129795.515625</td>\n",
       "      <td>3.904</td>\n",
       "      <td>-90835.367188</td>\n",
       "      <td>20630.882812</td>\n",
       "      <td>0.0</td>\n",
       "      <td>0.092764</td>\n",
       "      <td>171166.34375</td>\n",
       "      <td>10.356569</td>\n",
       "      <td>623233.4375</td>\n",
       "      <td>23.699318</td>\n",
       "      <td>1381080.5</td>\n",
       "      <td>17180.201172</td>\n",
       "      <td>1510876.0</td>\n",
       "      <td>1.259063</td>\n",
       "      <td>87.942856</td>\n",
       "      <td>80.387909</td>\n",
       "      <td>1.474856</td>\n",
       "      <td>1.383153</td>\n",
       "      <td>0.853686</td>\n",
       "    </tr>\n",
       "  </tbody>\n",
       "</table>\n",
       "<p>130976 rows × 20 columns</p>\n",
       "</div>"
      ],
      "text/plain": [
       "                           margin          total  leverage  realised_profit  \\\n",
       "timestamp                                                                     \n",
       "2022-09-01 01:04:00  24962.500000  199625.562500     2.500      -374.437500   \n",
       "2022-09-01 01:05:00  24962.500000  199625.562500     2.500      -374.437500   \n",
       "2022-09-01 01:06:00  24962.500000  199625.562500     2.500      -374.437500   \n",
       "2022-09-01 01:07:00  24962.500000  199625.562500     2.500      -374.437500   \n",
       "2022-09-01 01:08:00  24962.500000  199625.562500     2.500      -374.437500   \n",
       "...                           ...            ...       ...              ...   \n",
       "2022-11-30 23:55:00  25342.185547  129795.515625     3.904    -90835.367188   \n",
       "2022-11-30 23:56:00  25342.185547  129795.515625     3.904    -90835.367188   \n",
       "2022-11-30 23:57:00  25342.185547  129795.515625     3.904    -90835.367188   \n",
       "2022-11-30 23:58:00  25342.185547  129795.515625     3.904    -90835.367188   \n",
       "2022-11-30 23:59:00  25342.185547  129795.515625     3.904    -90835.367188   \n",
       "\n",
       "                     unrealised_profit  base_balance  quote_balance  \\\n",
       "timestamp                                                             \n",
       "2022-09-01 01:04:00           0.000000           0.0       0.087506   \n",
       "2022-09-01 01:05:00           0.000000           0.0       0.087506   \n",
       "2022-09-01 01:06:00           0.000000           0.0       0.087506   \n",
       "2022-09-01 01:07:00           0.000000           0.0       0.087506   \n",
       "2022-09-01 01:08:00           0.000000           0.0       0.087506   \n",
       "...                                ...           ...            ...   \n",
       "2022-11-30 23:55:00       20630.882812           0.0       0.092764   \n",
       "2022-11-30 23:56:00       20630.882812           0.0       0.092764   \n",
       "2022-11-30 23:57:00       20630.882812           0.0       0.092764   \n",
       "2022-11-30 23:58:00       20630.882812           0.0       0.092764   \n",
       "2022-11-30 23:59:00       20630.882812           0.0       0.092764   \n",
       "\n",
       "                     base_uncollected  quote_uncollected  base_in_position  \\\n",
       "timestamp                                                                    \n",
       "2022-09-01 01:04:00           1.50000           0.000000       498500.0000   \n",
       "2022-09-01 01:05:00           1.50000           0.000000       498500.0000   \n",
       "2022-09-01 01:06:00           1.50000           0.000000       498500.0000   \n",
       "2022-09-01 01:07:00           1.50000           0.000000       498500.0000   \n",
       "2022-09-01 01:08:00           1.50000           0.000000       498500.0000   \n",
       "...                               ...                ...               ...   \n",
       "2022-11-30 23:55:00      171166.34375          10.356569       623233.4375   \n",
       "2022-11-30 23:56:00      171166.34375          10.356569       623233.4375   \n",
       "2022-11-30 23:57:00      171166.34375          10.356569       623233.4375   \n",
       "2022-11-30 23:58:00      171166.34375          10.356569       623233.4375   \n",
       "2022-11-30 23:59:00      171166.34375          10.356569       623233.4375   \n",
       "\n",
       "                     quote_in_position  net_value         price  total_value  \\\n",
       "timestamp                                                                      \n",
       "2022-09-01 01:04:00          24.757542   998501.5  20124.736328    1198127.0   \n",
       "2022-09-01 01:05:00          24.757542   998501.5  20124.736328    1198127.0   \n",
       "2022-09-01 01:06:00          24.757542   998501.5  20124.736328    1198127.0   \n",
       "2022-09-01 01:07:00          24.757542   998501.5  20124.736328    1198127.0   \n",
       "2022-09-01 01:08:00          24.757542   998501.5  20124.736328    1198127.0   \n",
       "...                                ...        ...           ...          ...   \n",
       "2022-11-30 23:55:00          23.699318  1381080.5  17180.201172    1510876.0   \n",
       "2022-11-30 23:56:00          23.699318  1381080.5  17180.201172    1510876.0   \n",
       "2022-11-30 23:57:00          23.699318  1381080.5  17180.201172    1510876.0   \n",
       "2022-11-30 23:58:00          23.699318  1381080.5  17180.201172    1510876.0   \n",
       "2022-11-30 23:59:00          23.699318  1381080.5  17180.201172    1510876.0   \n",
       "\n",
       "                     total_value_profit_rate  total_value_eth  net_value_eth  \\\n",
       "timestamp                                                                      \n",
       "2022-09-01 01:04:00                 0.998439        59.535046      49.615635   \n",
       "2022-09-01 01:05:00                 0.998439        59.535046      49.615635   \n",
       "2022-09-01 01:06:00                 0.998439        59.535046      49.615635   \n",
       "2022-09-01 01:07:00                 0.998439        59.535046      49.615635   \n",
       "2022-09-01 01:08:00                 0.998439        59.535046      49.615635   \n",
       "...                                      ...              ...            ...   \n",
       "2022-11-30 23:55:00                 1.259063        87.942856      80.387909   \n",
       "2022-11-30 23:56:00                 1.259063        87.942856      80.387909   \n",
       "2022-11-30 23:57:00                 1.259063        87.942856      80.387909   \n",
       "2022-11-30 23:58:00                 1.259063        87.942856      80.387909   \n",
       "2022-11-30 23:59:00                 1.259063        87.942856      80.387909   \n",
       "\n",
       "                     total_value_eth_profit_rate  net_value_rate  price_rate  \n",
       "timestamp                                                                     \n",
       "2022-09-01 01:04:00                     0.998439        1.000000    1.000000  \n",
       "2022-09-01 01:05:00                     0.998439        1.000000    1.000000  \n",
       "2022-09-01 01:06:00                     0.998439        1.000000    1.000000  \n",
       "2022-09-01 01:07:00                     0.998439        1.000000    1.000000  \n",
       "2022-09-01 01:08:00                     0.998439        1.000000    1.000000  \n",
       "...                                          ...             ...         ...  \n",
       "2022-11-30 23:55:00                     1.474856        1.383153    0.853686  \n",
       "2022-11-30 23:56:00                     1.474856        1.383153    0.853686  \n",
       "2022-11-30 23:57:00                     1.474856        1.383153    0.853686  \n",
       "2022-11-30 23:58:00                     1.474856        1.383153    0.853686  \n",
       "2022-11-30 23:59:00                     1.474856        1.383153    0.853686  \n",
       "\n",
       "[130976 rows x 20 columns]"
      ]
     },
     "execution_count": 85,
     "metadata": {},
     "output_type": "execute_result"
    }
   ],
   "source": [
    "df_merge\n"
   ]
  },
  {
   "cell_type": "code",
   "execution_count": 86,
   "metadata": {},
   "outputs": [
    {
     "data": {
      "image/png": "[encoded data removed]",
      "text/plain": [
       "<Figure size 1000x800 with 3 Axes>"
      ]
     },
     "metadata": {},
     "output_type": "display_data"
    }
   ],
   "source": [
    "qs.plots.snapshot(df_merge['total_value_eth'])"
   ]
  },
  {
   "cell_type": "code",
   "execution_count": 87,
   "metadata": {},
   "outputs": [],
   "source": [
    "\n",
    "\n",
    "filename = f\"{NET_VALUE_BASE}_{DATE_START}_{DATE_END}_{a}_{hedge_spread_split}_{hedge_spread_rate}_{alpha}_{period_n}.html\"\n",
    "# df_merge['total_value'].plot_snapshot()\n",
    "qs.reports.html(df_merge['total_value_eth'],benchmark=df_merge['net_value_eth'],mode='full',periods_per_year=365, download_filename=f\"./reports/{filename}\",output='report')\n"
   ]
  },
  {
   "cell_type": "markdown",
   "metadata": {},
   "source": [
    "# A2 test"
   ]
  },
  {
   "cell_type": "code",
   "execution_count": 88,
   "metadata": {},
   "outputs": [
    {
     "data": {
      "text/plain": [
       "0.35270401714660476"
      ]
     },
     "execution_count": 88,
     "metadata": {},
     "output_type": "execute_result"
    }
   ],
   "source": [
    "df_merge['total_value_eth'].sharpe()"
   ]
  },
  {
   "cell_type": "code",
   "execution_count": 89,
   "metadata": {},
   "outputs": [
    {
     "name": "stderr",
     "output_type": "stream",
     "text": [
      "2022-12-19 01:01:45,694 - INFO - start load files from 2022-09-01 to 2022-11-30...\n"
     ]
    },
    {
     "name": "stdout",
     "output_type": "stream",
     "text": [
      "init parameters: a:1.20, hedge_spread_split:2.5, hedge_spread_rate:0.86,alpa:0.037,period_n:9\n",
      "\n"
     ]
    },
    {
     "name": "stderr",
     "output_type": "stream",
     "text": [
      "2022-12-19 01:01:48,654 - INFO - load file complete, preparing...\n",
      "2022-12-19 01:01:56,205 - INFO - data has benn prepared\n",
      "2022-12-19 01:01:56,207 - INFO - init strategy...\n"
     ]
    },
    {
     "name": "stdout",
     "output_type": "stream",
     "text": [
      "add ema column with alpha 0.037\n",
      "130976\n"
     ]
    },
    {
     "name": "stderr",
     "output_type": "stream",
     "text": [
      "2022-12-19 01:01:58,104 - INFO - start main loop...\n"
     ]
    },
    {
     "name": "stdout",
     "output_type": "stream",
     "text": [
      "hedge rebalance ETH -24.80777935392767014527344056 20124.73558706320389991576924 profit: 0E-49\n",
      "after rebalance=> lp total symbol:49.61555870785534029054688112, future amount:24.80777935392767014527344056, status:AccountStatus(timestamp=None, base_balance=Decimal('498500.0000000000000000000001'), quote_balance=Decimal('24.84504692431414135730940466'), base_uncollected=Decimal('0'), quote_uncollected=Decimal('0'), base_in_position=Decimal('0'), quote_in_position=Decimal('0'), net_value=Decimal('998500.0000000000000000000000'), price=Decimal('20124.73558706320389991576924'))\n",
      "prepare to add LP: rate:1.20 price:20124.73558706320389991576924 down:16770.61298921933658326314103 up:24149.68270447584467989892309 init symbol amount:59.62811261835393980921343405,init usdc amount:1200000.000000000011102230246\n",
      "eth_value 0.08750596819272489767571750 usdc value 0\n"
     ]
    },
    {
     "name": "stderr",
     "output_type": "stream",
     "text": [
      " 76%|████████████████████████████████████████████████████████████████████████████████▏                         | 99020/130976 [18:59<09:16, 57.38it/s]"
     ]
    },
    {
     "name": "stdout",
     "output_type": "stream",
     "text": [
      "2022-11-08 19:13:00 hedge lower sell ETH,c_amount:34.73751514876452559634241898,f_amount:24.80777935392767014527344056, upper:21866.21,middle:20902.65,lower,19939.09, trade price: 18514.49343733963877522822754,ema:18782.41576796065,trade amount: 8.516594088905767262113988349, hedge count:1\n"
     ]
    },
    {
     "name": "stderr",
     "output_type": "stream",
     "text": [
      " 76%|████████████████████████████████████████████████████████████████████████████████▊                         | 99926/130976 [19:12<07:08, 72.47it/s]"
     ]
    },
    {
     "name": "stdout",
     "output_type": "stream",
     "text": [
      "2022-11-09 10:15:00 hedge lower sell ETH,c_amount:43.28370893546467913626462952,f_amount:16.29118526502190288315945221, upper:22725.15,middle:20889.79,lower,19054.43, trade price: 17218.03677650906547665565829,ema:17736.87870009171,trade amount: 8.516594088905767262113988349, hedge count:2\n"
     ]
    },
    {
     "name": "stderr",
     "output_type": "stream",
     "text": [
      " 77%|████████████████████████████████████████████████████████████████████████████████▌                        | 100419/130976 [19:19<06:30, 78.29it/s]"
     ]
    },
    {
     "name": "stdout",
     "output_type": "stream",
     "text": [
      "2022-11-09 18:42:00 hedge lower sell ETH,c_amount:51.76666455330097433450656516,f_amount:7.774591176116135621045463861, upper:22725.15,middle:20889.79,lower,19054.43, trade price: 16582.68973182262723122608433,ema:16783.092066007284,trade amount: 8.516594088905767262113988349, hedge count:3\n",
      "2022-11-09 18:44:00  => last hedge sell ETH,price: 16508.23899030218579883673468,c_amount:51.89321764369758462938176507,f_amount:-0.742002912789631641068524488,ema:16765.781966636863, trade amoutn: 1.535656023052612697766359462, hedge count:4\n",
      "2022-11-09 18:44:00 out of range, price:16508.23899030218579883673468,ema:16765.781966636863 symbol:51.89321764369758462938176507, usdc:0\n",
      "hedge rebalance ETH -32.98013002618515576783893545 16508.23899030218579883673468 profit: -65951.66846672203303054114011\n",
      "after rebalance=> lp total symbol:61.40494218068582285800810301, future amount:30.70247109034291142900405150, status:AccountStatus(timestamp=None, base_balance=Decimal('506210.5808675613339079672827'), quote_balance=Decimal('30.74082463520224653550044124'), base_uncollected=Decimal('0'), quote_uncollected=Decimal('0'), base_in_position=Decimal('0'), quote_in_position=Decimal('0'), net_value=Decimal('1013687.460704449027350196650'), price=Decimal('16508.23899030218579883673468'))\n",
      "prepare to add LP: rate:1.20 price:16508.23899030218579883673468,ema:16765.781966636863, self.down_price:13756.86582525182149903061223,self.up_price 19809.88678836262295860408162 \n",
      "after add LP: AccountStatus(timestamp=None, base_balance=Decimal('0'), quote_balance=Decimal('0.09276404410865218776600265'), base_uncollected=Decimal('0'), quote_uncollected=Decimal('0'), base_in_position=Decimal('506210.5808665185711586327874'), quote_in_position=Decimal('30.64806059109359434773443856'), net_value=Decimal('1013687.460703406264600862154'), price=Decimal('16508.23899030218579883673468'))\n"
     ]
    },
    {
     "name": "stderr",
     "output_type": "stream",
     "text": [
      " 78%|█████████████████████████████████████████████████████████████████████████████████▍                       | 101658/130976 [19:36<05:43, 85.26it/s]"
     ]
    },
    {
     "name": "stdout",
     "output_type": "stream",
     "text": [
      "2022-11-10 15:10:00 hedge mid buy ETH,c_amount:20.69706025700455884633576194,f_amount:30.70247109034291142900405150, upper:23977.50,middle:20671.25,lower:,17365.00, trade price:17802.80117464143726549109693,ema:17483.282849614883, trade amount:8.516594088905767262113988349, hedge count:5\n"
     ]
    },
    {
     "name": "stderr",
     "output_type": "stream",
     "text": [
      " 89%|█████████████████████████████████████████████████████████████████████████████████████████████▎           | 116454/130976 [26:19<08:14, 29.35it/s]"
     ]
    },
    {
     "name": "stdout",
     "output_type": "stream",
     "text": [
      "2022-11-20 21:52:00 hedge mid sell ETH,c_amount:32.10196846944037220653468397,f_amount:39.21906517924867869111803985, upper:16546.99,middle:16271.32,lower:,15995.66, trade price: 16259.22351991028313186070776,ema:16372.635074373029,trade amount: 8.516594088905767262113988349, hedge count:6\n"
     ]
    },
    {
     "name": "stderr",
     "output_type": "stream",
     "text": [
      " 90%|██████████████████████████████████████████████████████████████████████████████████████████████▌          | 117924/130976 [26:59<05:57, 36.47it/s]"
     ]
    },
    {
     "name": "stdout",
     "output_type": "stream",
     "text": [
      "2022-11-21 22:19:00 hedge lower sell ETH,c_amount:40.62121674326611011360538718,f_amount:30.70247109034291142900405150, upper:16614.01,middle:16122.97,lower,15631.93, trade price: 15526.72377438903279776976006,ema:15610.63267876558,trade amount: 8.516594088905767262113988349, hedge count:7\n"
     ]
    },
    {
     "name": "stderr",
     "output_type": "stream",
     "text": [
      " 92%|█████████████████████████████████████████████████████████████████████████████████████████████████        | 121030/130976 [28:49<03:19, 49.79it/s]"
     ]
    },
    {
     "name": "stdout",
     "output_type": "stream",
     "text": [
      "2022-11-24 02:07:00 hedge up buy ETH, c_amount:29.29811245462589367178999308,f_amount:22.18587700143714416689006315,upper:16511.76,middle:15894.97,lower:,15278.17, trade price:16739.29407254600912475831375,ema:16635.660694075556, trade amount:8.516594088905767262113988349, hedge count:8\n"
     ]
    },
    {
     "name": "stderr",
     "output_type": "stream",
     "text": [
      "100%|█████████████████████████████████████████████████████████████████████████████████████████████████████████| 130976/130976 [33:26<00:00, 65.28it/s]\n",
      "2022-12-19 01:35:24,572 - INFO - main loop finished, start calculate evaluating indicator...\n",
      "2022-12-19 01:35:26,359 - INFO - run evaluating indicator\n",
      "2022-12-19 01:35:26,651 - INFO - back testing finish\n"
     ]
    },
    {
     "name": "stdout",
     "output_type": "stream",
     "text": [
      "ema+alpha:1 times, a:1.20, hedge_spread_split:2.5, hedge_spread_rate:0.86,alpa:0.037\n",
      " result: outside_ema_count:0,hedge count:8 final_total_eth_value:87.934,final_total_usdc_value:1510727.064\n",
      "USDC profit: 310727.064, profit_rate: 0.259\n",
      "ETH profit: 28.306, profit_rate: 0.475\n"
     ]
    }
   ],
   "source": [
    "a = 1.20\n",
    "hedge_spread_split = 2.5\n",
    "hedge_spread_rate = 0.86\n",
    "alpha = 0.037\n",
    "ema_max_spread_rate=0.2\n",
    "period_n2 = 9\n",
    "\n",
    "instance2=backtest_boll(a=a,hedge_spread_split=hedge_spread_split,hedge_spread_rate=hedge_spread_rate,alpha=alpha,boll_period_n=period_n2)\n",
    "\n",
    "df_merge2 = generate_dfmerge(instance2)\n",
    "\n",
    "# fig = df_merge[['price_rate','total_value_eth_profit_rate','total_value_profit_rate']].plot().get_figure()\n",
    "\n",
    "# fig.savefig('./fig/test.pdf')\n",
    "\n",
    "# plot2 = df_merge2[['price_rate','total_value_eth_profit_rate','net_value_rate','total_value_profit_rate']].plot()\n",
    "\n",
    "# plot2.write_image(f\"./fig/{NET_VALUE_BASE}_{DATE_START}_{DATE_END}_{a}_{hedge_spread_split}_{hedge_spread_rate}_{alpha}_{period_n2}.png\")\n",
    "\n",
    "# plot2.show()\n",
    "filename = f\"{NET_VALUE_BASE}_{DATE_START}_{DATE_END}_{a}_{hedge_spread_split}_{hedge_spread_rate}_{alpha}_{period_n2}.html\"\n",
    "# df_merge['total_value'].plot_snapshot()\n",
    "qs.reports.html(df_merge2['total_value_eth'],benchmark=df_merge2['net_value_eth'],mode='full',periods_per_year=365, download_filename=f\"./reports/{filename}\",output='report')"
   ]
  },
  {
   "cell_type": "code",
   "execution_count": null,
   "metadata": {},
   "outputs": [],
   "source": [
    "qs.reports.html(df_merge2['total_value_eth'],benchmark=df_merge2['net_value_eth'],mode='full',periods_per_year=365, download_filename=f\"./reports/{filename}\",output='report')"
   ]
  },
  {
   "cell_type": "markdown",
   "metadata": {},
   "source": [
    "# a3 ema hedge"
   ]
  },
  {
   "cell_type": "code",
   "execution_count": 90,
   "metadata": {},
   "outputs": [
    {
     "name": "stderr",
     "output_type": "stream",
     "text": [
      "2022-12-19 01:36:33,127 - INFO - start load files from 2022-09-01 to 2022-11-30...\n"
     ]
    },
    {
     "name": "stdout",
     "output_type": "stream",
     "text": [
      "init parameters: a:1.20, hedge_spread_split:2.5, hedge_spread_rate:0.86,alpa:0.037,period_n:1440\n",
      "\n"
     ]
    },
    {
     "ename": "FileNotFoundError",
     "evalue": "[Errno 2] No such file or directory: '../demeter/data/ETH/0x88e6a0c2ddd26feeb64f039a2c41296fcb3f5640/Ethereum-0x88e6a0c2ddd26feeb64f039a2c41296fcb3f5640-2022-11-14.csv'",
     "output_type": "error",
     "traceback": [
      "\u001b[0;31m---------------------------------------------------------------------------\u001b[0m",
      "\u001b[0;31mFileNotFoundError\u001b[0m                         Traceback (most recent call last)",
      "\u001b[1;32m/Users/scottliyq/go/hardhat_space/demeter/working/hedge_test.ipynb Cell 13\u001b[0m in \u001b[0;36m<cell line: 7>\u001b[0;34m()\u001b[0m\n\u001b[1;32m      <a href='vscode-notebook-cell:/Users/scottliyq/go/hardhat_space/demeter/working/hedge_test.ipynb#X13sZmlsZQ%3D%3D?line=3'>4</a>\u001b[0m alpha3 \u001b[39m=\u001b[39m \u001b[39m0.037\u001b[39m\n\u001b[1;32m      <a href='vscode-notebook-cell:/Users/scottliyq/go/hardhat_space/demeter/working/hedge_test.ipynb#X13sZmlsZQ%3D%3D?line=4'>5</a>\u001b[0m ema_max_spread_rate2\u001b[39m=\u001b[39m\u001b[39m0.2\u001b[39m\n\u001b[0;32m----> <a href='vscode-notebook-cell:/Users/scottliyq/go/hardhat_space/demeter/working/hedge_test.ipynb#X13sZmlsZQ%3D%3D?line=6'>7</a>\u001b[0m instance3\u001b[39m=\u001b[39mbacktest_instance(a,hedge_spread_split,hedge_spread_rate,alpha3)\n\u001b[1;32m      <a href='vscode-notebook-cell:/Users/scottliyq/go/hardhat_space/demeter/working/hedge_test.ipynb#X13sZmlsZQ%3D%3D?line=8'>9</a>\u001b[0m df_merge3 \u001b[39m=\u001b[39m generate_dfmerge(instance3)\n\u001b[1;32m     <a href='vscode-notebook-cell:/Users/scottliyq/go/hardhat_space/demeter/working/hedge_test.ipynb#X13sZmlsZQ%3D%3D?line=10'>11</a>\u001b[0m filename \u001b[39m=\u001b[39m \u001b[39mf\u001b[39m\u001b[39m\"\u001b[39m\u001b[39m{\u001b[39;00mNET_VALUE_BASE\u001b[39m}\u001b[39;00m\u001b[39m_\u001b[39m\u001b[39m{\u001b[39;00mDATE_START\u001b[39m}\u001b[39;00m\u001b[39m_\u001b[39m\u001b[39m{\u001b[39;00mDATE_END\u001b[39m}\u001b[39;00m\u001b[39m_\u001b[39m\u001b[39m{\u001b[39;00ma\u001b[39m}\u001b[39;00m\u001b[39m_\u001b[39m\u001b[39m{\u001b[39;00mhedge_spread_split\u001b[39m}\u001b[39;00m\u001b[39m_\u001b[39m\u001b[39m{\u001b[39;00mhedge_spread_rate\u001b[39m}\u001b[39;00m\u001b[39m_\u001b[39m\u001b[39m{\u001b[39;00malpha\u001b[39m}\u001b[39;00m\u001b[39m.html\u001b[39m\u001b[39m\"\u001b[39m\n",
      "\u001b[1;32m/Users/scottliyq/go/hardhat_space/demeter/working/hedge_test.ipynb Cell 13\u001b[0m in \u001b[0;36mbacktest_instance\u001b[0;34m(a, hedge_spread_split, hedge_spread_rate, alpha)\u001b[0m\n\u001b[1;32m    <a href='vscode-notebook-cell:/Users/scottliyq/go/hardhat_space/demeter/working/hedge_test.ipynb#X13sZmlsZQ%3D%3D?line=104'>105</a>\u001b[0m save_path \u001b[39m=\u001b[39m \u001b[39mf\u001b[39m\u001b[39m\"\u001b[39m\u001b[39m../demeter/data/ETH/\u001b[39m\u001b[39m{\u001b[39;00mpool_id_1_eth_u_500\u001b[39m}\u001b[39;00m\u001b[39m\"\u001b[39m\n\u001b[1;32m    <a href='vscode-notebook-cell:/Users/scottliyq/go/hardhat_space/demeter/working/hedge_test.ipynb#X13sZmlsZQ%3D%3D?line=105'>106</a>\u001b[0m runner_instance\u001b[39m.\u001b[39mdata_path \u001b[39m=\u001b[39m save_path\n\u001b[0;32m--> <a href='vscode-notebook-cell:/Users/scottliyq/go/hardhat_space/demeter/working/hedge_test.ipynb#X13sZmlsZQ%3D%3D?line=106'>107</a>\u001b[0m runner_instance\u001b[39m.\u001b[39;49mload_data(ChainType\u001b[39m.\u001b[39;49mEthereum\u001b[39m.\u001b[39;49mname,\n\u001b[1;32m    <a href='vscode-notebook-cell:/Users/scottliyq/go/hardhat_space/demeter/working/hedge_test.ipynb#X13sZmlsZQ%3D%3D?line=107'>108</a>\u001b[0m                             pool_id_1_eth_u_500,\n\u001b[1;32m    <a href='vscode-notebook-cell:/Users/scottliyq/go/hardhat_space/demeter/working/hedge_test.ipynb#X13sZmlsZQ%3D%3D?line=108'>109</a>\u001b[0m                             DATE_START,\n\u001b[1;32m    <a href='vscode-notebook-cell:/Users/scottliyq/go/hardhat_space/demeter/working/hedge_test.ipynb#X13sZmlsZQ%3D%3D?line=109'>110</a>\u001b[0m                            DATE_END)\n\u001b[1;32m    <a href='vscode-notebook-cell:/Users/scottliyq/go/hardhat_space/demeter/working/hedge_test.ipynb#X13sZmlsZQ%3D%3D?line=110'>111</a>\u001b[0m runner_instance\u001b[39m.\u001b[39mrun(enable_notify\u001b[39m=\u001b[39m\u001b[39mFalse\u001b[39;00m)\n\u001b[1;32m    <a href='vscode-notebook-cell:/Users/scottliyq/go/hardhat_space/demeter/working/hedge_test.ipynb#X13sZmlsZQ%3D%3D?line=112'>113</a>\u001b[0m hedge_count \u001b[39m=\u001b[39m runner_instance\u001b[39m.\u001b[39mstrategy\u001b[39m.\u001b[39mhedge_count\n",
      "File \u001b[0;32m~/opt/miniconda3/envs/py310btc/lib/python3.10/site-packages/demeter/core/actuator.py:272\u001b[0m, in \u001b[0;36mActuator.load_data\u001b[0;34m(self, chain, contract_addr, start_date, end_date)\u001b[0m\n\u001b[1;32m    270\u001b[0m \u001b[39mwhile\u001b[39;00m day \u001b[39m<\u001b[39m\u001b[39m=\u001b[39m end_date:\n\u001b[1;32m    271\u001b[0m     path \u001b[39m=\u001b[39m \u001b[39mf\u001b[39m\u001b[39m\"\u001b[39m\u001b[39m{\u001b[39;00m\u001b[39mself\u001b[39m\u001b[39m.\u001b[39mdata_path\u001b[39m}\u001b[39;00m\u001b[39m/\u001b[39m\u001b[39m{\u001b[39;00mchain\u001b[39m}\u001b[39;00m\u001b[39m-\u001b[39m\u001b[39m{\u001b[39;00mcontract_addr\u001b[39m}\u001b[39;00m\u001b[39m-\u001b[39m\u001b[39m{\u001b[39;00mday\u001b[39m.\u001b[39mstrftime(\u001b[39m'\u001b[39m\u001b[39m%\u001b[39m\u001b[39mY-\u001b[39m\u001b[39m%\u001b[39m\u001b[39mm-\u001b[39m\u001b[39m%d\u001b[39;00m\u001b[39m'\u001b[39m)\u001b[39m}\u001b[39;00m\u001b[39m.csv\u001b[39m\u001b[39m\"\u001b[39m\n\u001b[0;32m--> 272\u001b[0m     day_df \u001b[39m=\u001b[39m pd\u001b[39m.\u001b[39;49mread_csv(path, converters\u001b[39m=\u001b[39;49m{\u001b[39m'\u001b[39;49m\u001b[39minAmount0\u001b[39;49m\u001b[39m'\u001b[39;49m: decimal_from_value,\n\u001b[1;32m    273\u001b[0m                                            \u001b[39m'\u001b[39;49m\u001b[39minAmount1\u001b[39;49m\u001b[39m'\u001b[39;49m: decimal_from_value,\n\u001b[1;32m    274\u001b[0m                                            \u001b[39m'\u001b[39;49m\u001b[39mnetAmount0\u001b[39;49m\u001b[39m'\u001b[39;49m: decimal_from_value,\n\u001b[1;32m    275\u001b[0m                                            \u001b[39m'\u001b[39;49m\u001b[39mnetAmount1\u001b[39;49m\u001b[39m'\u001b[39;49m: decimal_from_value,\n\u001b[1;32m    276\u001b[0m                                            \u001b[39m\"\u001b[39;49m\u001b[39mcurrentLiquidity\u001b[39;49m\u001b[39m\"\u001b[39;49m: decimal_from_value})\n\u001b[1;32m    277\u001b[0m     df \u001b[39m=\u001b[39m pd\u001b[39m.\u001b[39mconcat([df, day_df])\n\u001b[1;32m    278\u001b[0m     day \u001b[39m=\u001b[39m day \u001b[39m+\u001b[39m timedelta(days\u001b[39m=\u001b[39m\u001b[39m1\u001b[39m)\n",
      "File \u001b[0;32m~/opt/miniconda3/envs/py310btc/lib/python3.10/site-packages/pandas/util/_decorators.py:311\u001b[0m, in \u001b[0;36mdeprecate_nonkeyword_arguments.<locals>.decorate.<locals>.wrapper\u001b[0;34m(*args, **kwargs)\u001b[0m\n\u001b[1;32m    305\u001b[0m \u001b[39mif\u001b[39;00m \u001b[39mlen\u001b[39m(args) \u001b[39m>\u001b[39m num_allow_args:\n\u001b[1;32m    306\u001b[0m     warnings\u001b[39m.\u001b[39mwarn(\n\u001b[1;32m    307\u001b[0m         msg\u001b[39m.\u001b[39mformat(arguments\u001b[39m=\u001b[39marguments),\n\u001b[1;32m    308\u001b[0m         \u001b[39mFutureWarning\u001b[39;00m,\n\u001b[1;32m    309\u001b[0m         stacklevel\u001b[39m=\u001b[39mstacklevel,\n\u001b[1;32m    310\u001b[0m     )\n\u001b[0;32m--> 311\u001b[0m \u001b[39mreturn\u001b[39;00m func(\u001b[39m*\u001b[39;49margs, \u001b[39m*\u001b[39;49m\u001b[39m*\u001b[39;49mkwargs)\n",
      "File \u001b[0;32m~/opt/miniconda3/envs/py310btc/lib/python3.10/site-packages/pandas/io/parsers/readers.py:678\u001b[0m, in \u001b[0;36mread_csv\u001b[0;34m(filepath_or_buffer, sep, delimiter, header, names, index_col, usecols, squeeze, prefix, mangle_dupe_cols, dtype, engine, converters, true_values, false_values, skipinitialspace, skiprows, skipfooter, nrows, na_values, keep_default_na, na_filter, verbose, skip_blank_lines, parse_dates, infer_datetime_format, keep_date_col, date_parser, dayfirst, cache_dates, iterator, chunksize, compression, thousands, decimal, lineterminator, quotechar, quoting, doublequote, escapechar, comment, encoding, encoding_errors, dialect, error_bad_lines, warn_bad_lines, on_bad_lines, delim_whitespace, low_memory, memory_map, float_precision, storage_options)\u001b[0m\n\u001b[1;32m    663\u001b[0m kwds_defaults \u001b[39m=\u001b[39m _refine_defaults_read(\n\u001b[1;32m    664\u001b[0m     dialect,\n\u001b[1;32m    665\u001b[0m     delimiter,\n\u001b[0;32m   (...)\u001b[0m\n\u001b[1;32m    674\u001b[0m     defaults\u001b[39m=\u001b[39m{\u001b[39m\"\u001b[39m\u001b[39mdelimiter\u001b[39m\u001b[39m\"\u001b[39m: \u001b[39m\"\u001b[39m\u001b[39m,\u001b[39m\u001b[39m\"\u001b[39m},\n\u001b[1;32m    675\u001b[0m )\n\u001b[1;32m    676\u001b[0m kwds\u001b[39m.\u001b[39mupdate(kwds_defaults)\n\u001b[0;32m--> 678\u001b[0m \u001b[39mreturn\u001b[39;00m _read(filepath_or_buffer, kwds)\n",
      "File \u001b[0;32m~/opt/miniconda3/envs/py310btc/lib/python3.10/site-packages/pandas/io/parsers/readers.py:575\u001b[0m, in \u001b[0;36m_read\u001b[0;34m(filepath_or_buffer, kwds)\u001b[0m\n\u001b[1;32m    572\u001b[0m _validate_names(kwds\u001b[39m.\u001b[39mget(\u001b[39m\"\u001b[39m\u001b[39mnames\u001b[39m\u001b[39m\"\u001b[39m, \u001b[39mNone\u001b[39;00m))\n\u001b[1;32m    574\u001b[0m \u001b[39m# Create the parser.\u001b[39;00m\n\u001b[0;32m--> 575\u001b[0m parser \u001b[39m=\u001b[39m TextFileReader(filepath_or_buffer, \u001b[39m*\u001b[39;49m\u001b[39m*\u001b[39;49mkwds)\n\u001b[1;32m    577\u001b[0m \u001b[39mif\u001b[39;00m chunksize \u001b[39mor\u001b[39;00m iterator:\n\u001b[1;32m    578\u001b[0m     \u001b[39mreturn\u001b[39;00m parser\n",
      "File \u001b[0;32m~/opt/miniconda3/envs/py310btc/lib/python3.10/site-packages/pandas/io/parsers/readers.py:932\u001b[0m, in \u001b[0;36mTextFileReader.__init__\u001b[0;34m(self, f, engine, **kwds)\u001b[0m\n\u001b[1;32m    929\u001b[0m     \u001b[39mself\u001b[39m\u001b[39m.\u001b[39moptions[\u001b[39m\"\u001b[39m\u001b[39mhas_index_names\u001b[39m\u001b[39m\"\u001b[39m] \u001b[39m=\u001b[39m kwds[\u001b[39m\"\u001b[39m\u001b[39mhas_index_names\u001b[39m\u001b[39m\"\u001b[39m]\n\u001b[1;32m    931\u001b[0m \u001b[39mself\u001b[39m\u001b[39m.\u001b[39mhandles: IOHandles \u001b[39m|\u001b[39m \u001b[39mNone\u001b[39;00m \u001b[39m=\u001b[39m \u001b[39mNone\u001b[39;00m\n\u001b[0;32m--> 932\u001b[0m \u001b[39mself\u001b[39m\u001b[39m.\u001b[39m_engine \u001b[39m=\u001b[39m \u001b[39mself\u001b[39;49m\u001b[39m.\u001b[39;49m_make_engine(f, \u001b[39mself\u001b[39;49m\u001b[39m.\u001b[39;49mengine)\n",
      "File \u001b[0;32m~/opt/miniconda3/envs/py310btc/lib/python3.10/site-packages/pandas/io/parsers/readers.py:1216\u001b[0m, in \u001b[0;36mTextFileReader._make_engine\u001b[0;34m(self, f, engine)\u001b[0m\n\u001b[1;32m   1212\u001b[0m     mode \u001b[39m=\u001b[39m \u001b[39m\"\u001b[39m\u001b[39mrb\u001b[39m\u001b[39m\"\u001b[39m\n\u001b[1;32m   1213\u001b[0m \u001b[39m# error: No overload variant of \"get_handle\" matches argument types\u001b[39;00m\n\u001b[1;32m   1214\u001b[0m \u001b[39m# \"Union[str, PathLike[str], ReadCsvBuffer[bytes], ReadCsvBuffer[str]]\"\u001b[39;00m\n\u001b[1;32m   1215\u001b[0m \u001b[39m# , \"str\", \"bool\", \"Any\", \"Any\", \"Any\", \"Any\", \"Any\"\u001b[39;00m\n\u001b[0;32m-> 1216\u001b[0m \u001b[39mself\u001b[39m\u001b[39m.\u001b[39mhandles \u001b[39m=\u001b[39m get_handle(  \u001b[39m# type: ignore[call-overload]\u001b[39;49;00m\n\u001b[1;32m   1217\u001b[0m     f,\n\u001b[1;32m   1218\u001b[0m     mode,\n\u001b[1;32m   1219\u001b[0m     encoding\u001b[39m=\u001b[39;49m\u001b[39mself\u001b[39;49m\u001b[39m.\u001b[39;49moptions\u001b[39m.\u001b[39;49mget(\u001b[39m\"\u001b[39;49m\u001b[39mencoding\u001b[39;49m\u001b[39m\"\u001b[39;49m, \u001b[39mNone\u001b[39;49;00m),\n\u001b[1;32m   1220\u001b[0m     compression\u001b[39m=\u001b[39;49m\u001b[39mself\u001b[39;49m\u001b[39m.\u001b[39;49moptions\u001b[39m.\u001b[39;49mget(\u001b[39m\"\u001b[39;49m\u001b[39mcompression\u001b[39;49m\u001b[39m\"\u001b[39;49m, \u001b[39mNone\u001b[39;49;00m),\n\u001b[1;32m   1221\u001b[0m     memory_map\u001b[39m=\u001b[39;49m\u001b[39mself\u001b[39;49m\u001b[39m.\u001b[39;49moptions\u001b[39m.\u001b[39;49mget(\u001b[39m\"\u001b[39;49m\u001b[39mmemory_map\u001b[39;49m\u001b[39m\"\u001b[39;49m, \u001b[39mFalse\u001b[39;49;00m),\n\u001b[1;32m   1222\u001b[0m     is_text\u001b[39m=\u001b[39;49mis_text,\n\u001b[1;32m   1223\u001b[0m     errors\u001b[39m=\u001b[39;49m\u001b[39mself\u001b[39;49m\u001b[39m.\u001b[39;49moptions\u001b[39m.\u001b[39;49mget(\u001b[39m\"\u001b[39;49m\u001b[39mencoding_errors\u001b[39;49m\u001b[39m\"\u001b[39;49m, \u001b[39m\"\u001b[39;49m\u001b[39mstrict\u001b[39;49m\u001b[39m\"\u001b[39;49m),\n\u001b[1;32m   1224\u001b[0m     storage_options\u001b[39m=\u001b[39;49m\u001b[39mself\u001b[39;49m\u001b[39m.\u001b[39;49moptions\u001b[39m.\u001b[39;49mget(\u001b[39m\"\u001b[39;49m\u001b[39mstorage_options\u001b[39;49m\u001b[39m\"\u001b[39;49m, \u001b[39mNone\u001b[39;49;00m),\n\u001b[1;32m   1225\u001b[0m )\n\u001b[1;32m   1226\u001b[0m \u001b[39massert\u001b[39;00m \u001b[39mself\u001b[39m\u001b[39m.\u001b[39mhandles \u001b[39mis\u001b[39;00m \u001b[39mnot\u001b[39;00m \u001b[39mNone\u001b[39;00m\n\u001b[1;32m   1227\u001b[0m f \u001b[39m=\u001b[39m \u001b[39mself\u001b[39m\u001b[39m.\u001b[39mhandles\u001b[39m.\u001b[39mhandle\n",
      "File \u001b[0;32m~/opt/miniconda3/envs/py310btc/lib/python3.10/site-packages/pandas/io/common.py:786\u001b[0m, in \u001b[0;36mget_handle\u001b[0;34m(path_or_buf, mode, encoding, compression, memory_map, is_text, errors, storage_options)\u001b[0m\n\u001b[1;32m    781\u001b[0m \u001b[39melif\u001b[39;00m \u001b[39misinstance\u001b[39m(handle, \u001b[39mstr\u001b[39m):\n\u001b[1;32m    782\u001b[0m     \u001b[39m# Check whether the filename is to be opened in binary mode.\u001b[39;00m\n\u001b[1;32m    783\u001b[0m     \u001b[39m# Binary mode does not support 'encoding' and 'newline'.\u001b[39;00m\n\u001b[1;32m    784\u001b[0m     \u001b[39mif\u001b[39;00m ioargs\u001b[39m.\u001b[39mencoding \u001b[39mand\u001b[39;00m \u001b[39m\"\u001b[39m\u001b[39mb\u001b[39m\u001b[39m\"\u001b[39m \u001b[39mnot\u001b[39;00m \u001b[39min\u001b[39;00m ioargs\u001b[39m.\u001b[39mmode:\n\u001b[1;32m    785\u001b[0m         \u001b[39m# Encoding\u001b[39;00m\n\u001b[0;32m--> 786\u001b[0m         handle \u001b[39m=\u001b[39m \u001b[39mopen\u001b[39;49m(\n\u001b[1;32m    787\u001b[0m             handle,\n\u001b[1;32m    788\u001b[0m             ioargs\u001b[39m.\u001b[39;49mmode,\n\u001b[1;32m    789\u001b[0m             encoding\u001b[39m=\u001b[39;49mioargs\u001b[39m.\u001b[39;49mencoding,\n\u001b[1;32m    790\u001b[0m             errors\u001b[39m=\u001b[39;49merrors,\n\u001b[1;32m    791\u001b[0m             newline\u001b[39m=\u001b[39;49m\u001b[39m\"\u001b[39;49m\u001b[39m\"\u001b[39;49m,\n\u001b[1;32m    792\u001b[0m         )\n\u001b[1;32m    793\u001b[0m     \u001b[39melse\u001b[39;00m:\n\u001b[1;32m    794\u001b[0m         \u001b[39m# Binary mode\u001b[39;00m\n\u001b[1;32m    795\u001b[0m         handle \u001b[39m=\u001b[39m \u001b[39mopen\u001b[39m(handle, ioargs\u001b[39m.\u001b[39mmode)\n",
      "\u001b[0;31mFileNotFoundError\u001b[0m: [Errno 2] No such file or directory: '../demeter/data/ETH/0x88e6a0c2ddd26feeb64f039a2c41296fcb3f5640/Ethereum-0x88e6a0c2ddd26feeb64f039a2c41296fcb3f5640-2022-11-14.csv'"
     ]
    }
   ],
   "source": [
    "a = 1.20\n",
    "hedge_spread_split = 2.5\n",
    "hedge_spread_rate = 0.86\n",
    "alpha3 = 0.037\n",
    "ema_max_spread_rate2=0.2\n",
    "\n",
    "instance3=backtest_instance(a,hedge_spread_split,hedge_spread_rate,alpha3)\n",
    "\n",
    "df_merge3 = generate_dfmerge(instance3)\n",
    "\n",
    "filename = f\"{NET_VALUE_BASE}_{DATE_START}_{DATE_END}_{a}_{hedge_spread_split}_{hedge_spread_rate}_{alpha}.html\"\n",
    "# df_merge['total_value'].plot_snapshot()\n",
    "qs.reports.html(df_merge['total_value'],benchmark=df_merge['price'],mode='full',periods_per_year=365, download_filename=f\"./reports/{filename}\",output='report')\n",
    "\n",
    "# plot3 = df_merge3[['price_rate','total_value_eth_profit_rate','net_value_rate','total_value_profit_rate']].plot()\n",
    "\n",
    "# plot3.write_image(f\"./fig/{NET_VALUE_BASE}_{DATE_START}_{DATE_END}_{a}_{hedge_spread_split}_{hedge_spread_rate}_{alpha3}.png\")\n",
    "\n",
    "# plot3.show()\n",
    "filename = f\"{NET_VALUE_BASE}_{DATE_START}_{DATE_END}_{a}_{hedge_spread_split}_{hedge_spread_rate}_{alpha3}.html\"\n",
    "# df_merge['total_value'].plot_snapshot()\n",
    "qs.reports.html(df_merge3['total_value_eth'],benchmark=df_merge3['net_value_eth'],mode='full',periods_per_year=365, download_filename=f\"./reports/{filename}\",output='report')"
   ]
  },
  {
   "cell_type": "code",
   "execution_count": null,
   "metadata": {},
   "outputs": [],
   "source": []
  }
 ],
 "metadata": {
  "kernelspec": {
   "display_name": "Python 3.10.6 ('py310btc')",
   "language": "python",
   "name": "python3"
  },
  "language_info": {
   "codemirror_mode": {
    "name": "ipython",
    "version": 3
   },
   "file_extension": ".py",
   "mimetype": "text/x-python",
   "name": "python",
   "nbconvert_exporter": "python",
   "pygments_lexer": "ipython3",
   "version": "3.10.6"
  },
  "orig_nbformat": 4,
  "vscode": {
   "interpreter": {
    "hash": "abcf340a9bfefc31ecafadbd09739eb19479e953f794e77621cd271022fdffd8"
   }
  }
 },
 "nbformat": 4,
 "nbformat_minor": 2
}
