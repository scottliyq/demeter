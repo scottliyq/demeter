{
 "cells": [
  {
   "cell_type": "code",
   "execution_count": 2,
   "metadata": {},
   "outputs": [],
   "source": [
    "from datetime import date, datetime\n",
    "from typing import Union\n",
    "# import  matplotlib.pylab as plt\n",
    "import demeter as dt\n",
    "import demeter.indicator\n",
    "from demeter import TokenInfo, PoolBaseInfo, Runner, Strategy, Asset, AccountStatus, BuyAction, SellAction, RowData, \\\n",
    "    ChainType\n",
    "import numpy as np\n",
    "import pandas as pd\n",
    "from decimal import Decimal\n",
    "import requests\n",
    "import optunity\n",
    "import optunity.metrics\n",
    "\n",
    "from demeter._typing import ZelosError, DECIMAL_ZERO, TimeUnitEnum\n",
    "from pandas import Timedelta\n",
    "\n",
    "import os\n",
    "from dotenv import load_dotenv\n",
    "\n",
    "from talib.abstract import BBANDS\n",
    "import talib\n",
    "from load_data import pool_id_1_eth_u_500\n",
    "# import logging \n",
    "# from logging import handlers\n",
    "\n",
    "from strategy_ploter import  plot_position_return_decomposition\n",
    "\n",
    "%matplotlib inline\n",
    "\n",
    "# logger = logging.getLogger()\n",
    "# logger.setLevel(logging.INFO) \n",
    "# logFile = './temp/hedge.log'\n",
    "\n",
    "\n",
    "# # 创建一个FileHandler,并将日志写入指定的日志文件中\n",
    "# fileHandler = logging.FileHandler(logFile, mode='a')\n",
    "# fileHandler.setLevel(logging.INFO) \n",
    " \n",
    "# #  或者创建一个StreamHandler,将日志输出到控制台\n",
    "# streamHandler = logging.StreamHandler()\n",
    "# streamHandler.setLevel(logging.INFO)\n",
    "\n",
    "# # 定义Handler的日志输出格式\n",
    "# formatter = logging.Formatter('%(asctime)s - %(name)s - %(levelname)s - %(message)s')\n",
    "# fileHandler.setFormatter(formatter)\n",
    " \n",
    "# # 定义日志滚动条件，这里按日期-天保留日志\n",
    "# timedRotatingFileHandler = handlers.TimedRotatingFileHandler(filename=logFile, when='D')\n",
    "# timedRotatingFileHandler.setLevel(logging.INFO)\n",
    "# timedRotatingFileHandler.setFormatter(formatter)\n",
    "\n",
    "# # 添加Handler\n",
    "# logger.addHandler(fileHandler)\n",
    "# logger.addHandler(streamHandler)\n",
    "# logger.addHandler(timedRotatingFileHandler)\n",
    "def ema(data: pd.Series, alpha:float) -> pd.Series:\n",
    "    \"\"\"\n",
    "    calculate simple moving average\n",
    "\n",
    "    :param data: data\n",
    "    :type data: Series\n",
    "    :param alpha: ema alpha\n",
    "    :type alpha: int\n",
    "    :return: simple moving average data\n",
    "    :rtype: Series\n",
    "    \"\"\"\n",
    "    if data.size < 2:\n",
    "        raise ZelosError(\"not enough data for simple_moving_average\")\n",
    "    # timespan: Timedelta = data.index[1] - data.index[0]\n",
    "    # if timespan.seconds % 60 != 0:\n",
    "    #     return ZelosError(\"no seconds is allowed\")\n",
    "    # span_in_minute = timespan.total_seconds() / 60\n",
    "    # if unit.value % span_in_minute != 0:\n",
    "    #     raise ZelosError(f\"ma span is {n}{unit.name}, but data span is {span_in_minute}minute, cannot divide exactly\")\n",
    "    # real_n = n * int(unit.value / span_in_minute)\n",
    "    # if data.size < real_n:\n",
    "    #     raise ZelosError(\"not enough data for simple_moving_average\")\n",
    "\n",
    "    # sum = Decimal(0)\n",
    "\n",
    "    prices_ema = data.ewm(alpha=alpha).mean()\n",
    "\n",
    "    return prices_ema\n",
    "\n",
    "def ma_rv(data: pd.Series, n=2880, unit=TimeUnitEnum.hour) -> pd.Series:\n",
    "    \"\"\"\n",
    "    calculate simple moving average\n",
    "\n",
    "    :param data: data\n",
    "    :type data: Series\n",
    "    :param n: window width, should set along with unit, eg: 5 hour, 2 minute\n",
    "    :type n: int\n",
    "    :param unit: unit of n, can be minute,hour,day\n",
    "    :type unit: TimeUnitEnum\n",
    "    :return: simple moving average data\n",
    "    :rtype: Series\n",
    "    \"\"\"\n",
    "    print(data.size)\n",
    "    if data.size < 2:\n",
    "        raise ZelosError(\"not enough data for simple_moving_average\")\n",
    "    # timespan: Timedelta = data.index[1] - data.index[0]\n",
    "    # if timespan.seconds % 60 != 0:\n",
    "    #     return ZelosError(\"no seconds is allowed\")\n",
    "    # span_in_minute = timespan.total_seconds() / 60\n",
    "    # if unit.value % span_in_minute != 0:\n",
    "    #     raise ZelosError(f\"ma span is {n}{unit.name}, but data span is {span_in_minute}minute, cannot divide exactly\")\n",
    "    # real_n = n * int(unit.value / span_in_minute)\n",
    "    # if data.size < real_n:\n",
    "    #     raise ZelosError(\"not enough data for simple_moving_average\")\n",
    "\n",
    "    # sum = Decimal(0)\n",
    "\n",
    "    # row_id = 0\n",
    "\n",
    "    # sma_array = []\n",
    "    # for index, value in data.iteritems():\n",
    "    #     if row_id < real_n - 1:\n",
    "    #         sma_array.append(DECIMAL_ZERO)\n",
    "    #         sum += value\n",
    "    #     elif row_id == real_n - 1:\n",
    "    #         sum += value\n",
    "    #         sma_array.append(sum / real_n)\n",
    "    #     else:\n",
    "    #         sum -= data.iloc[row_id - real_n]\n",
    "    #         sum += value\n",
    "    #         sma_array.append(sum / real_n)\n",
    "\n",
    "    #     row_id += 1\n",
    "    price_mean=data.rolling(n).mean()\n",
    "    price_std=data.rolling(n).std()\n",
    "    price_rv=price_std/price_mean\n",
    "\n",
    "    return price_rv\n",
    "\n",
    "\n",
    "\n",
    "\n",
    "\n",
    "\n"
   ]
  },
  {
   "cell_type": "code",
   "execution_count": 31,
   "metadata": {},
   "outputs": [
    {
     "name": "stderr",
     "output_type": "stream",
     "text": [
      "2022-11-27 20:26:30,425 - INFO - start load files from 2022-10-20 to 2022-10-30...\n"
     ]
    },
    {
     "name": "stdout",
     "output_type": "stream",
     "text": [
      " a:1.20, hedge_spread_split:3.0, hedge_spread_rate:0.80\n"
     ]
    },
    {
     "name": "stderr",
     "output_type": "stream",
     "text": [
      "2022-11-27 20:26:30,704 - INFO - load file complete, preparing...\n",
      "2022-11-27 20:26:31,483 - INFO - data has benn prepared\n",
      "2022-11-27 20:26:31,484 - INFO - init strategy...\n",
      "2022-11-27 20:26:31,671 - INFO - start main loop...\n"
     ]
    },
    {
     "name": "stdout",
     "output_type": "stream",
     "text": [
      "hedge rebalance ETH -3.890541977369084096259131654 1285.167986641585832479304081 profit: 0E-51\n",
      "prepare to add LP: rate:1.20 price:1285.167986641585832479304081 down:1070.973322201321527066086734 up:1542.201583969902998975164897 init symbol amount:9.337300745685801917409301599,init usdc amount:12000.00000000000011102230246\n",
      "eth_value 0 usdc value 0.118199317661942028291178\n"
     ]
    },
    {
     "name": "stderr",
     "output_type": "stream",
     "text": [
      " 36%|██████████████████████████████████████▋                                                                    | 5735/15840 [00:17<00:29, 346.71it/s]"
     ]
    },
    {
     "name": "stdout",
     "output_type": "stream",
     "text": [
      "2022-10-23 22:30:00 hedge buy ETH, 1364.361357115155014471583179, 1.037477860631755465487408418, 308.11\n"
     ]
    },
    {
     "name": "stderr",
     "output_type": "stream",
     "text": [
      " 52%|███████████████████████████████████████████████████████▊                                                   | 8255/15840 [00:25<00:23, 324.15it/s]"
     ]
    },
    {
     "name": "stdout",
     "output_type": "stream",
     "text": [
      "2022-10-25 17:00:00 hedge buy ETH, 1447.565947631439391534844499, 1.037477860631755465487408418, 718.14\n"
     ]
    },
    {
     "name": "stderr",
     "output_type": "stream",
     "text": [
      " 53%|████████████████████████████████████████████████████████▍                                                  | 8359/15840 [00:25<00:22, 331.19it/s]"
     ]
    },
    {
     "name": "stdout",
     "output_type": "stream",
     "text": [
      "2022-10-25 18:29:00 hedge buy ETH, 1509.202558299111363811045646, 1.037477860631755465487408418, 1085.83\n",
      "====>low:1587.053082650883048131393992, self.up_price:1542.201583969902998975164897\n",
      "2022-10-25 18:56:00 last hedge buy ETH, 1542.201583969902998975164897, trade_amount: 0.778108395473815498434206224, current_amount: 0.5661623165929358058525514185\n"
     ]
    },
    {
     "name": "stderr",
     "output_type": "stream",
     "text": [
      " 58%|██████████████████████████████████████████████████████████████▏                                            | 9203/15840 [00:28<00:20, 318.66it/s]"
     ]
    },
    {
     "name": "stdout",
     "output_type": "stream",
     "text": [
      "====>low:1551.279430279995286594006086, self.up_price:1542.201583969902998975164897\n",
      "remove lp position tick:202910,206557\n",
      "2022-10-26 08:38:00 out of range, 1551.124317848210465547451341, symbol:0, usdc:10474.79723010783570183405244\n",
      "hedge rebalance ETH 4.376464351516740091309185385 1551.124317848210465547451341 profit: 1386.351975588246205223224290\n",
      "prepare to add LP: rate:1.20 price:1551.124317848210465547451341 1292.603598206842054622876118 1861.349181417852558656941609 \n"
     ]
    },
    {
     "name": "stderr",
     "output_type": "stream",
     "text": [
      " 60%|████████████████████████████████████████████████████████████████▌                                          | 9561/15840 [00:29<00:20, 300.10it/s]"
     ]
    },
    {
     "name": "stdout",
     "output_type": "stream",
     "text": [
      "2022-10-26 14:40:00 hedge buy ETH, 1588.640850097900826109445747, 1.037477860631755465487408418, 1514.08\n"
     ]
    },
    {
     "name": "stderr",
     "output_type": "stream",
     "text": [
      "100%|██████████████████████████████████████████████████████████████████████████████████████████████████████████| 15840/15840 [00:51<00:00, 306.32it/s]\n",
      "2022-11-27 20:27:23,396 - INFO - main loop finished, start calculate evaluating indicator...\n",
      "2022-11-27 20:27:23,421 - INFO - run evaluating indicator\n",
      "2022-11-27 20:27:23,423 - INFO - back testing finish\n"
     ]
    }
   ],
   "source": [
    "class Exchange:\n",
    "\n",
    "\n",
    "    def __init__(self, trade_symbols, leverage=20, commission=0.00005,  initial_balance=10000, log=False):\n",
    "        self.initial_balance = initial_balance #初始的资产\n",
    "        self.commission = Decimal(commission)\n",
    "        self.leverage = leverage\n",
    "        self.trade_symbols = trade_symbols\n",
    "        self.date = ''\n",
    "        self.log = log\n",
    "        self.df = pd.DataFrame(columns=['margin','total','leverage','realised_profit','unrealised_profit'])\n",
    "        self.df.index.name='timestamp'\n",
    "        self.account = {'USDT':{'realised_profit':0, 'margin':0, 'unrealised_profit':0, 'total':initial_balance, 'leverage':0, 'fee':0}}\n",
    "        #保存symbol的eth price和diff\n",
    "        self.symbol_diff = {}\n",
    "        self.symbol_single_diff = {}\n",
    "        self.symbol_boll = {}\n",
    "        for symbol in trade_symbols:\n",
    "            self.account[symbol] = {'amount':0, 'hold_price':0, 'value':0, 'price':0, 'realised_profit':0, 'margin':0, 'unrealised_profit':0,'fee':0}\n",
    "            self.symbol_diff[symbol] = pd.DataFrame(columns=['symbol','index_price','symbol_index_price','diff'])\n",
    "            # self.symbol_diff[symbol].index = pd.to_datetime(price_usdt.index)\n",
    "\n",
    "            self.symbol_single_diff[symbol] = pd.DataFrame(columns=['symbol','normal_index_price','ema_index_price','symbol_price','diff_norm','diff_ewa'])\n",
    "            # self.symbol_single_diff[symbol].index = pd.to_datetime(price_usdt.index)\n",
    "            self.symbol_boll[symbol] = pd.DataFrame(columns=['symbol','normal_index_price','symbol_price','std'])\n",
    "\n",
    "    def Trade(self, symbol, direction, price, amount, msg=''):\n",
    "        if self.date and self.log:\n",
    "            print('%-20s%-5s%-5s%-10.8s%-8.6s %s'%(str(self.date), symbol, 'buy' if direction == 1 else 'sell', price, amount, msg))\n",
    "            \n",
    "        cover_amount = 0 if direction*self.account[symbol]['amount'] >=0 else min(abs(self.account[symbol]['amount']), amount)\n",
    "        open_amount = amount - cover_amount\n",
    "        \n",
    "        self.account['USDT']['realised_profit'] -= price*amount*self.commission #扣除手续费\n",
    "        self.account['USDT']['fee'] += price*amount*self.commission\n",
    "        self.account[symbol]['fee'] += price*amount*self.commission\n",
    "        \n",
    "        if cover_amount > 0: #先平仓\n",
    "            self.account['USDT']['realised_profit'] += -direction*(price - self.account[symbol]['hold_price'])*cover_amount  #利润\n",
    "            self.account['USDT']['margin'] -= cover_amount*self.account[symbol]['hold_price']/self.leverage #释放保证金\n",
    "            \n",
    "            self.account[symbol]['realised_profit'] += -direction*(price - self.account[symbol]['hold_price'])*cover_amount\n",
    "            self.account[symbol]['amount'] -= -direction*cover_amount\n",
    "            self.account[symbol]['margin'] -=  cover_amount*self.account[symbol]['hold_price']/self.leverage\n",
    "            self.account[symbol]['hold_price'] = 0 if self.account[symbol]['amount'] == 0 else self.account[symbol]['hold_price']\n",
    "            \n",
    "        if open_amount > 0:\n",
    "            total_cost = self.account[symbol]['hold_price']*direction*self.account[symbol]['amount'] + price*open_amount\n",
    "            total_amount = direction*self.account[symbol]['amount']+open_amount\n",
    "            \n",
    "            self.account['USDT']['margin'] +=  open_amount*price/self.leverage            \n",
    "            self.account[symbol]['hold_price'] = total_cost/total_amount\n",
    "            self.account[symbol]['amount'] += direction*open_amount\n",
    "            self.account[symbol]['margin'] +=  open_amount*price/self.leverage\n",
    "            \n",
    "        self.account[symbol]['unrealised_profit'] = (price - self.account[symbol]['hold_price'])*self.account[symbol]['amount']\n",
    "        self.account[symbol]['price'] = price\n",
    "        self.account[symbol]['value'] = abs(self.account[symbol]['amount'])*price\n",
    "        \n",
    "        return True\n",
    "    \n",
    "    def Buy(self, symbol, price, amount, msg=''):\n",
    "        self.Trade(symbol, 1, price, amount, msg)\n",
    "        \n",
    "    def Sell(self, symbol, price, amount, msg=''):\n",
    "        self.Trade(symbol, -1, price, amount, msg)\n",
    "        \n",
    "    def Update(self, date, close_price): #对资产进行更新\n",
    "        self.date = date\n",
    "        # todo close price为单个close price\n",
    "        self.close = close_price\n",
    "        self.account['USDT']['unrealised_profit'] = 0\n",
    "        for symbol in self.trade_symbols:\n",
    "            # if np.isnan(close_price[symbol]):\n",
    "            #     continue\n",
    "            self.account[symbol]['unrealised_profit'] = (close_price - self.account[symbol]['hold_price'])*self.account[symbol]['amount']\n",
    "            self.account[symbol]['price'] = close_price\n",
    "            self.account[symbol]['value'] = abs(self.account[symbol]['amount'])*close_price\n",
    "            self.account['USDT']['unrealised_profit'] += self.account[symbol]['unrealised_profit']\n",
    "        \n",
    "        self.account['USDT']['total'] = round(self.account['USDT']['realised_profit'] + self.initial_balance + self.account['USDT']['unrealised_profit'],6)\n",
    "        self.account['USDT']['leverage'] = round(self.account['USDT']['margin']/self.account['USDT']['total'],4)*self.leverage\n",
    "        self.df.loc[self.date] = [self.account['USDT']['margin'],self.account['USDT']['total'],self.account['USDT']['leverage'],self.account['USDT']['realised_profit'],self.account['USDT']['unrealised_profit']]\n",
    "\n",
    "    def UpdateDiff(self, date, symbol,index_price,symbol_index_price,diff): \n",
    "        \n",
    "        self.symbol_diff[symbol].loc[self.date] = [symbol,index_price,symbol_index_price,diff]\n",
    "\n",
    "    def UpdateSingleDiff(self, date, symbol,normal_index_price,ema_index_price, symbol_price, diff_norm, diff_ewa): \n",
    "        \n",
    "        self.symbol_single_diff[symbol].loc[self.date] = [symbol,normal_index_price,ema_index_price,symbol_price, diff_norm, diff_ewa]\n",
    "\n",
    "    def UpdateBoll(self, date, symbol, normal_index_price, symbol_price, std): \n",
    "        \n",
    "        self.symbol_boll[symbol].loc[self.date] = [symbol,normal_index_price,symbol_price, std]\n",
    "\n",
    "ETH = TokenInfo(name=\"eth\", decimal=18)\n",
    "usdc = TokenInfo(name=\"usdc\", decimal=6)\n",
    "\n",
    "\n",
    "class HedgeST(dt.Strategy):\n",
    "    MIN_TRADE_AMOUNT = 0.01\n",
    "    hedge_count = 0\n",
    "\n",
    "    def __init__(self, a, hedge_spread_split,hedge_spread_rate,alpha=-1,trade_symbol='ETH'):\n",
    "        super().__init__()\n",
    "        self.a = Decimal(a)\n",
    "        self.trade_symbol = trade_symbol\n",
    "        self.init_quote_number = 0\n",
    "        self.hedge_spread_split = hedge_spread_split\n",
    "        self.hedge_spread_rate = hedge_spread_rate\n",
    "        self.hedge_spread = 0\n",
    "        self.hedge_amount = 0\n",
    "        #init balance\n",
    "        self.init_total_symbol = 0\n",
    "        self.init_total_usdc = 0\n",
    "        self.up_price = 0\n",
    "        self.down_price = 0\n",
    "        self.alpha = alpha\n",
    "\n",
    "    def initialize(self):\n",
    "        prices = self.data.closeTick.map(lambda x: self.broker.tick_to_price(x))\n",
    "        self._add_column(\"ema\", ema(prices, 0.05))\n",
    "        P0 = self.broker.pool_status.price\n",
    "\n",
    "        status: AccountStatus = self.broker.get_account_status(P0)\n",
    "\n",
    "        \n",
    "        future_init_net_value = status.net_value * Decimal(0.2)\n",
    "        \n",
    "        self.e = Exchange({self.trade_symbol},initial_balance=future_init_net_value,commission=0.00075,log=False)\n",
    "\n",
    "\n",
    "        self.init_total_usdc = status.net_value + future_init_net_value\n",
    "        self.init_total_symbol =  self.init_total_usdc / P0\n",
    "       \n",
    "        self.rebalance(P0)#rebalance all reserve token#\n",
    "        # new_position(self, baseToken, quoteToken, usd_price_a, usd_price_b):\n",
    "        #what is  base/quote \"https://corporatefinanceinstitute.com/resources/knowledge/economics/currency-pair/\"\n",
    "        # print(P0)\n",
    "        self.down_price = P0 / self.a\n",
    "        self.up_price = P0 * self.a\n",
    "        print(f\"prepare to add LP: rate:{self.a} price:{P0} down:{self.down_price} up:{self.up_price} init symbol amount:{self.init_total_symbol},init usdc amount:{self.init_total_usdc}\")\n",
    "        self.add_liquidity(self.down_price, self.up_price)\n",
    "\n",
    "        print(\"eth_value\",self.broker.quote_asset.balance, \"usdc value\", self.broker.base_asset.balance)\n",
    "        account_status = self.broker.get_account_status()\n",
    "        self.init_quote_number = account_status.quote_in_position\n",
    "\n",
    "        self.hedge_spread = self.init_quote_number / self.hedge_spread_split \n",
    "        self.hedge_amount = self.hedge_spread * Decimal(self.hedge_spread_rate)\n",
    "\n",
    "        # price = self.broker.pool_status.price\n",
    "        # self.hedge_rebalance(price, self.init_quote_number)\n",
    "        # symbol = self.trade_symbol\n",
    "        # print(f\"{symbol}, {self.hedge_spread}\")\n",
    "        # e = self.e\n",
    "        # e.Buy(symbol, price, trade_amount, round(e.account[symbol]['realised_profit']+e.account[symbol]['unrealised_profit'],2))\n",
    "\n",
    "\n",
    "        # print(self.broker.get_account_status())\n",
    "        # super().__init__()\n",
    "    # def initialize(self):\n",
    "    #     P0 = self.broker.pool_status.price\n",
    "    #     self.rebalance(P0)#rebalance all reserve token#\n",
    "    #     # new_position(self, baseToken, quoteToken, usd_price_a, usd_price_b):\n",
    "    #     #what is  base/quote \"https://corporatefinanceinstitute.com/resources/knowledge/economics/currency-pair/\"\n",
    "    #     self.add_liquidity(P0 - self.a,\n",
    "    #                        P0 + self.a)\n",
    "    #     print(\"eth_value\",self.broker.quote_asset.balance)\n",
    "    #     super().__init__()\n",
    "    def hedge_rebalance(self, price, spot_amount_traded):\n",
    "        e = self.e\n",
    "        symbol = self.trade_symbol\n",
    "        future_amount = e.account[symbol]['amount']\n",
    "        amount_diff = future_amount - spot_amount_traded\n",
    "        if amount_diff > 0:\n",
    "            \n",
    "            e.Sell(symbol, price, abs(amount_diff), round(e.account[symbol]['realised_profit']+e.account[symbol]['unrealised_profit'],2))\n",
    "        elif amount_diff < 0:\n",
    "            e.Buy(symbol, price, abs(amount_diff), round(e.account[symbol]['realised_profit']+e.account[symbol]['unrealised_profit'],2))\n",
    "\n",
    "        print(f\"hedge rebalance {symbol} {amount_diff} {price} profit: {e.account[symbol]['realised_profit']+e.account[symbol]['unrealised_profit']}\")\n",
    "        # print(self.broker.get_account_status())\n",
    "\n",
    "\n",
    "    def next(self, row_data: Union[RowData, pd.Series]):\n",
    "        # print(row_data.price)\n",
    "        # if row_data.timestamp.minute != 0:\n",
    "        #     return\n",
    "        # print(\"eth_value\",self.broker.quote_asset.balance, \"usdc value\", self.broker.base_asset.balance)\n",
    "        # for position_info, position in self.broker.positions.items():\n",
    "        #         print(position_info, position)  # show all position\n",
    "\n",
    "        e = self.e\n",
    "\n",
    "        e.Update(row_data.timestamp,row_data.price)\n",
    "\n",
    "        current_amount = self.broker.get_account_status(row_data.price).quote_in_position\n",
    "\n",
    "        usdc_amount = self.broker.get_account_status(row_data.price).base_in_position\n",
    "        future_amount = self.e.account[self.trade_symbol]['amount']\n",
    "        spread = self.init_quote_number*2 -current_amount - future_amount\n",
    "        symbol = self.trade_symbol\n",
    "        price = row_data.price\n",
    "\n",
    "        # todo 处理价格跑出范围\n",
    "        # print(f\"====>rowdata.low:{row_data.low} rowdata.high:{row_data.high} rowdata.price:{row_data.price} rowdata.timestamp:{row_data.timestamp}\")\n",
    "        # todo row_data.low 大于 row_data.high\n",
    "        if row_data.high < self.down_price:\n",
    "            print(f\"====>high:{row_data.high}, self.down_price:{self.down_price}\")\n",
    "            amount_down = self.broker.get_account_status(self.down_price).quote_in_position\n",
    "            trade_amount = abs(self.init_quote_number*2 - amount_down - future_amount)\n",
    "            if trade_amount >= self.MIN_TRADE_AMOUNT:\n",
    "                trade_price = self.down_price\n",
    "                e.Sell(symbol, trade_price, trade_amount, round(e.account[symbol]['realised_profit']+e.account[symbol]['unrealised_profit'],2))\n",
    "                print(f\"{row_data.timestamp } last hedge sell {symbol}, trade_price:{trade_price}, trade_amount: {trade_amount}, current_amount: {current_amount}\")\n",
    "        elif row_data.low > self.up_price:\n",
    "            print(f\"====>low:{row_data.low}, self.up_price:{self.up_price}\")\n",
    "\n",
    "            amount_up = 0\n",
    "            trade_amount = self.init_quote_number*2 - future_amount\n",
    "            if trade_amount >= self.MIN_TRADE_AMOUNT:\n",
    "                trade_price = self.up_price\n",
    "\n",
    "                e.Buy(symbol, trade_price, abs(trade_amount), round(e.account[symbol]['realised_profit']+e.account[symbol]['unrealised_profit'],2))\n",
    "                print(f\"{row_data.timestamp } last hedge buy {symbol}, {trade_price}, trade_amount: {trade_amount}, current_amount: {current_amount}\")\n",
    " \n",
    "        if current_amount == 0 or usdc_amount == 0:\n",
    "            # out of range, hedge at first\n",
    "            # if spread > 0:\n",
    "            #     trade_amount = spread\n",
    "            #     e.Buy(symbol, price, trade_amount, round(e.account[symbol]['realised_profit']+e.account[symbol]['unrealised_profit'],2))\n",
    "            #     print(f\"{row_data.timestamp} last hedge buy {symbol}, {price}, {trade_amount}, {round(e.account[symbol]['realised_profit']+e.account[symbol]['unrealised_profit'],2)}\")\n",
    "            # else:\n",
    "            #     trade_amount = spread * -1\n",
    "            #     e.Sell(symbol, price, trade_amount, round(e.account[symbol]['realised_profit']+e.account[symbol]['unrealised_profit'],2))\n",
    "            #     print(f\"{row_data.timestamp } last hedge sell {symbol}, {price}, {trade_amount}, {round(e.account[symbol]['realised_profit']+e.account[symbol]['unrealised_profit'],2)}\")\n",
    "\n",
    "\n",
    "            if len(self.broker.positions) > 0:\n",
    "                keys = list(self.broker.positions.keys())\n",
    "                for k in keys:\n",
    "                    print(f\"remove lp position {k}\")\n",
    "                    self.remove_liquidity(k)\n",
    "            print(f\"{row_data.timestamp} out of range, {price}, symbol:{current_amount}, usdc:{usdc_amount}\")\n",
    "            self.rebalance(price)\n",
    "            self.down_price = price / self.a\n",
    "            self.up_price = price * self.a\n",
    "            print(f\"prepare to add LP: rate:{self.a} price:{price} {self.down_price} { self.up_price} \")\n",
    "            self.add_liquidity(self.down_price, self.up_price)\n",
    "        else:\n",
    "            if spread > self.hedge_spread:\n",
    "                trade_amount = self.hedge_amount\n",
    "                e.Buy(symbol, price, trade_amount, round(e.account[symbol]['realised_profit']+e.account[symbol]['unrealised_profit'],2))\n",
    "                print(f\"{row_data.timestamp} hedge buy {symbol}, {price}, {trade_amount}, {round(e.account[symbol]['realised_profit']+e.account[symbol]['unrealised_profit'],2)}\")\n",
    "            elif Decimal(-1)*self.hedge_spread >= spread:\n",
    "                trade_amount = self.hedge_amount\n",
    "                e.Sell(symbol, price, trade_amount, round(e.account[symbol]['realised_profit']+e.account[symbol]['unrealised_profit'],2))\n",
    "                print(f\"{row_data.timestamp } hedge sell {symbol},trade price: {price},trade amount: {trade_amount}, profit: {round(e.account[symbol]['realised_profit']+e.account[symbol]['unrealised_profit'],2)}\")\n",
    "\n",
    "        # print(f\"spread:{spread}, {self.hedge_spread}\")\n",
    "        # print(f\"spread: {spread},{self.init_quote_number},{current_amount},{future_amount}\")\n",
    "        # print(self.data.timestamp[row_data.row_id]) \n",
    "            # if row_data.timestamp.minute != 0:\n",
    "            #     return\n",
    "            # if len(self.broker.positions) > 0:\n",
    "            #     keys = list(self.broker.positions.keys())\n",
    "            #     for k in keys:\n",
    "            #         self.remove_liquidity(k)\n",
    "            #     self.rebalance(row_data.price)\n",
    "            # ma_price = row_data.ma5 if row_data.ma5 > 0 else row_data.price\n",
    "            # self.add_liquidity(ma_price - self.price_width,\n",
    "            #                 ma_price + self.price_width)\n",
    "    #重新计算并全仓入池\n",
    "    def rebalance(self, price):\n",
    "        status: AccountStatus = self.broker.get_account_status(price)\n",
    "        # self.init_total_symbol =  status.net_value / price\n",
    "        # self.init_total_usdc = status.net_value\n",
    "        # print(f\"net value rebalance:{status.net_value}\")\n",
    "        base_amount = status.net_value / 2\n",
    "        quote_amount = base_amount / price\n",
    "        quote_amount_diff = quote_amount - status.quote_balance\n",
    "        # print(f\"rebalance: {status}, \")\n",
    "        if quote_amount_diff > 0:\n",
    "            self.buy(quote_amount_diff)\n",
    "        elif quote_amount_diff < 0:\n",
    "            self.sell(0 - quote_amount_diff)\n",
    "        \n",
    "        self.hedge_rebalance(price, quote_amount)\n",
    "\n",
    "\n",
    "def send_notice(event_name, text):\n",
    "\n",
    "    load_dotenv()\n",
    "\n",
    "    ifttt_key = os.getenv('IFTTT_KEY')\n",
    "\n",
    "    \n",
    "    ifttt_key_funding_notify = ifttt_key\n",
    "    key = ifttt_key_funding_notify\n",
    "    url = \"https://maker.ifttt.com/trigger/\"+event_name+\"/with/key/\"+key+\"\"\n",
    "    payload = \"{\\n    \\\"value1\\\": \\\"\"+text+\"\\\"\\n}\"\n",
    "    headers = {\n",
    "    'Content-Type': \"application/json\",\n",
    "    'User-Agent': \"PostmanRuntime/7.15.0\",\n",
    "    'Accept': \"*/*\",\n",
    "    'Cache-Control': \"no-cache\",\n",
    "    'Postman-Token': \"a9477d0f-08ee-4960-b6f8-9fd85dc0d5cc,d376ec80-54e1-450a-8215-952ea91b01dd\",\n",
    "    'Host': \"maker.ifttt.com\",\n",
    "    'accept-encoding': \"gzip, deflate\",\n",
    "    'content-length': \"63\",\n",
    "    'Connection': \"keep-alive\",\n",
    "    'cache-control': \"no-cache\"\n",
    "    }\n",
    " \n",
    "    requests.request(\"POST\", url, data=payload.encode('utf-8'), headers=headers)\n",
    "\n",
    "# 初始化参数\n",
    "NET_VALUE_BASE = 'ETH'\n",
    "DATE_START = date(2022, 10, 1)\n",
    "DATE_END = date(2022, 10, 30)\n",
    "\n",
    "a=1.2\n",
    "hedge_spread_split=3\n",
    "hedge_spread_rate =0.8\n",
    "\n",
    "decimal_a = Decimal(a).quantize(Decimal('0.00'))\n",
    "decimal_hedge_spread_split = Decimal(hedge_spread_split).quantize(Decimal('0.0'))\n",
    "decimal_hedge_spread_rate = Decimal(hedge_spread_rate).quantize(Decimal('0.00'))\n",
    "\n",
    "print(f\" a:{decimal_a}, hedge_spread_split:{decimal_hedge_spread_split}, hedge_spread_rate:{decimal_hedge_spread_rate}\")\n",
    "\n",
    "# if __name__ == \"__main__\":\n",
    "# a[105,125],hedge_spread_split[20,50], hedge_spread_rate[50,100]\n",
    "# def backtest(a, hedge_spread_split,hedge_spread_rate):\n",
    "\n",
    "eth = TokenInfo(name=\"eth\", decimal=18)\n",
    "usdc = TokenInfo(name=\"usdc\", decimal=6)\n",
    "pool = PoolBaseInfo(usdc, eth, 0.05, usdc)\n",
    "#收益计算基础参数\n",
    "# net_value_base = 'ETH'\n",
    "runner_instance = Runner(pool)\n",
    "# runner_instance.enable_notify = False\n",
    "runner_instance.strategy = HedgeST(decimal_a,decimal_hedge_spread_split,decimal_hedge_spread_rate)\n",
    "\n",
    "runner_instance.set_assets([Asset(usdc, 10000)])\n",
    "save_path = f\"../demeter/data/ETH/{pool_id_1_eth_u_500}\"\n",
    "runner_instance.data_path = save_path\n",
    "runner_instance.load_data(ChainType.Ethereum.name,\n",
    "                            pool_id_1_eth_u_500,\n",
    "                            DATE_START,\n",
    "                           DATE_END)\n",
    "runner_instance.run(enable_notify=False)\n",
    "df_status = pd.DataFrame(runner_instance.account_status_list)\n",
    "total_net_value = runner_instance.final_status.net_value\n",
    "\n",
    "final_total_usdc_value = total_net_value + runner_instance.strategy.e.df['total'].iloc[-1]\n",
    "\n",
    "\n",
    "# final_price = runner_instance.final_status.price\n",
    "# if NET_VALUE_BASE == 'USDC':\n",
    "#     return float(final_total_usdc_value)\n",
    "#     # profit_rate_usdc = profit_usdc / runner_instance.strategy.init_total_usdc\n",
    "# else:\n",
    "#     return float(final_total_usdc_value / final_price)\n",
    "    # profit_rate_eth = profit_eth / runner_instance.strategy.init_total_symbol\n",
    "\n",
    "# df_status\n",
    "# df"
   ]
  },
  {
   "cell_type": "code",
   "execution_count": 4,
   "metadata": {},
   "outputs": [
    {
     "data": {
      "text/plain": [
       "2022-10-25 00:00:00    1344.452926020928114274669919\n",
       "2022-10-25 00:01:00    1344.452926020928114274669919\n",
       "2022-10-25 00:02:00    1343.915279268927991433813268\n",
       "2022-10-25 00:03:00    1342.840630693787890905184335\n",
       "2022-10-25 00:04:00    1340.962063041807544198624737\n",
       "                                   ...              \n",
       "2022-10-30 23:55:00    1591.343701175277363572611089\n",
       "2022-10-30 23:56:00    1592.139532176149352481650550\n",
       "2022-10-30 23:57:00    1592.139532176149352481650550\n",
       "2022-10-30 23:58:00    1590.548267970559009042443905\n",
       "2022-10-30 23:59:00    1590.548267970559009042443905\n",
       "Freq: T, Name: price, Length: 8640, dtype: object"
      ]
     },
     "execution_count": 4,
     "metadata": {},
     "output_type": "execute_result"
    }
   ],
   "source": [
    "prices = runner_instance.strategy.data['price']\n",
    "\n",
    "prices\n",
    "\n",
    "# prices_f = prices.apply(pd.to_numeric, downcast='float')"
   ]
  },
  {
   "cell_type": "code",
   "execution_count": 37,
   "metadata": {},
   "outputs": [
    {
     "data": {
      "text/plain": [
       "2022-10-25 00:00:00    1344.452926020928114274669919\n",
       "2022-10-25 01:00:00    1342.303628698721331704065051\n",
       "2022-10-25 02:00:00    1340.559854867211174974929798\n",
       "2022-10-25 03:00:00    1340.962063041807544198624737\n",
       "2022-10-25 04:00:00    1347.009686898167525116742965\n",
       "                                   ...              \n",
       "2022-10-30 19:00:00    1589.276401762745714578415706\n",
       "2022-10-30 20:00:00    1588.323169580752979705974756\n",
       "2022-10-30 21:00:00    1595.326838121423491061569914\n",
       "2022-10-30 22:00:00    1595.645919442316156974017138\n",
       "2022-10-30 23:00:00    1586.894393211561891942199772\n",
       "Freq: H, Name: price, Length: 144, dtype: object"
      ]
     },
     "execution_count": 37,
     "metadata": {},
     "output_type": "execute_result"
    }
   ],
   "source": [
    "pd.set_option('display.max_rows', 50)\n",
    "\n",
    "resample = prices.asfreq(freq='1h')\n",
    "\n",
    "resample\n",
    "\n",
    "\n"
   ]
  },
  {
   "cell_type": "code",
   "execution_count": 22,
   "metadata": {},
   "outputs": [
    {
     "data": {
      "text/plain": [
       "2022-10-25 00:00:00    1344.452926020928114274669919\n",
       "2022-10-25 00:01:00    1342.303628698721331704065051\n",
       "2022-10-25 00:02:00    1342.303628698721331704065051\n",
       "2022-10-25 00:03:00    1342.303628698721331704065051\n",
       "2022-10-25 00:04:00    1342.303628698721331704065051\n",
       "                                   ...              \n",
       "2022-10-30 22:56:00    1586.894393211561891942199772\n",
       "2022-10-30 22:57:00    1586.894393211561891942199772\n",
       "2022-10-30 22:58:00    1586.894393211561891942199772\n",
       "2022-10-30 22:59:00    1586.894393211561891942199772\n",
       "2022-10-30 23:00:00    1586.894393211561891942199772\n",
       "Freq: T, Name: price, Length: 8581, dtype: object"
      ]
     },
     "execution_count": 22,
     "metadata": {},
     "output_type": "execute_result"
    }
   ],
   "source": [
    "\n",
    "result = resample.bfill().resample('1T').bfill()\n",
    "result"
   ]
  },
  {
   "cell_type": "code",
   "execution_count": 49,
   "metadata": {},
   "outputs": [
    {
     "data": {
      "text/plain": [
       "2022-10-25 00:00:00            NaN\n",
       "2022-10-25 01:00:00            NaN\n",
       "2022-10-25 02:00:00            NaN\n",
       "2022-10-25 03:00:00            NaN\n",
       "2022-10-25 04:00:00            NaN\n",
       "                          ...     \n",
       "2022-10-30 19:00:00    1657.194034\n",
       "2022-10-30 20:00:00    1656.462933\n",
       "2022-10-30 21:00:00    1654.281842\n",
       "2022-10-30 22:00:00    1652.577125\n",
       "2022-10-30 23:00:00    1651.015995\n",
       "Freq: H, Length: 144, dtype: float64"
      ]
     },
     "execution_count": 49,
     "metadata": {},
     "output_type": "execute_result"
    }
   ],
   "source": [
    "resample = prices.asfreq(freq='1h')\n",
    "    \n",
    "upper,middle,lower = talib.BBANDS(resample,timeperiod=21,nbdevup=2, nbdevdn=2, matype=talib.MA_Type.T3)\n",
    "\n",
    "upper"
   ]
  },
  {
   "cell_type": "code",
   "execution_count": 51,
   "metadata": {},
   "outputs": [
    {
     "data": {
      "text/plain": [
       "2022-10-30 23:55:00    1651.015995\n",
       "2022-10-30 23:56:00    1651.015995\n",
       "2022-10-30 23:57:00    1651.015995\n",
       "2022-10-30 23:58:00    1651.015995\n",
       "2022-10-30 23:59:00    1651.015995\n",
       "Freq: T, dtype: float64"
      ]
     },
     "execution_count": 51,
     "metadata": {},
     "output_type": "execute_result"
    }
   ],
   "source": [
    "upper_serial = pd.Series(upper,index=prices.index).ffill().fillna(0)\n",
    "\n",
    "upper_serial.tail()"
   ]
  },
  {
   "cell_type": "code",
   "execution_count": 53,
   "metadata": {},
   "outputs": [
    {
     "name": "stdout",
     "output_type": "stream",
     "text": [
      "8640\n"
     ]
    },
    {
     "data": {
      "text/plain": [
       "2022-10-30 23:55:00    1651.015995\n",
       "2022-10-30 23:56:00    1651.015995\n",
       "2022-10-30 23:57:00    1651.015995\n",
       "2022-10-30 23:58:00    1651.015995\n",
       "2022-10-30 23:59:00    1651.015995\n",
       "Freq: T, dtype: float64"
      ]
     },
     "execution_count": 53,
     "metadata": {},
     "output_type": "execute_result"
    }
   ],
   "source": [
    "def bollband(data: pd.Series, n=24) -> pd.Series:\n",
    "    \"\"\"\n",
    "    calculate simple moving average\n",
    "\n",
    "    :param data: data\n",
    "    :type data: Series\n",
    "    :param n: window width, should set along with unit, eg: 5 hour, 2 minute\n",
    "    :type n: int\n",
    "    :param unit: unit of n, can be minute,hour,day\n",
    "    :type unit: TimeUnitEnum\n",
    "    :return: simple moving average data\n",
    "    :rtype: Series\n",
    "    \"\"\"\n",
    "    print(data.size)\n",
    "    if data.size < 2:\n",
    "        raise ZelosError(\"not enough data for simple_moving_average\")\n",
    "\n",
    "    resample_data = prices.asfreq(freq=f\"{n}h\")\n",
    "    \n",
    "    upper,middle,lower = talib.BBANDS(resample_data,timeperiod=21,nbdevup=2, nbdevdn=2, matype=talib.MA_Type.T3)\n",
    "    \n",
    "    serial_upper = pd.Series(upper,index=data.index).ffill().fillna(0)\n",
    "    serial_middle = pd.Series(middle,index=data.index).ffill().fillna(0)\n",
    "    serial_lower = pd.Series(lower,index=data.index).ffill().fillna(0)\n",
    "\n",
    "    return serial_upper,serial_middle,serial_lower\n",
    "\n",
    "upper,middle,lower = bollband(prices,1)\n",
    "\n",
    "upper.tail()"
   ]
  },
  {
   "cell_type": "code",
   "execution_count": 13,
   "metadata": {},
   "outputs": [
    {
     "name": "stdout",
     "output_type": "stream",
     "text": [
      "8640\n"
     ]
    },
    {
     "data": {
      "text/plain": [
       "2022-10-25 00:00:00    0.0\n",
       "2022-10-25 00:01:00    0.0\n",
       "2022-10-25 00:02:00    0.0\n",
       "2022-10-25 00:03:00    0.0\n",
       "2022-10-25 00:04:00    0.0\n",
       "                      ... \n",
       "2022-10-25 01:35:00    0.0\n",
       "2022-10-25 01:36:00    0.0\n",
       "2022-10-25 01:37:00    0.0\n",
       "2022-10-25 01:38:00    0.0\n",
       "2022-10-25 01:39:00    0.0\n",
       "Freq: T, Length: 100, dtype: float64"
      ]
     },
     "execution_count": 13,
     "metadata": {},
     "output_type": "execute_result"
    }
   ],
   "source": [
    "upper,middle,lower = bollband(prices,1440)\n",
    "\n",
    "upper.head(100)"
   ]
  },
  {
   "cell_type": "code",
   "execution_count": 7,
   "metadata": {},
   "outputs": [
    {
     "name": "stdout",
     "output_type": "stream",
     "text": [
      "8640\n"
     ]
    },
    {
     "data": {
      "text/plain": [
       "count    0.0\n",
       "mean     NaN\n",
       "std      NaN\n",
       "min      NaN\n",
       "25%      NaN\n",
       "50%      NaN\n",
       "75%      NaN\n",
       "max      NaN\n",
       "Name: price, dtype: float64"
      ]
     },
     "execution_count": 7,
     "metadata": {},
     "output_type": "execute_result"
    }
   ],
   "source": [
    "price_rv = ma_rv(prices,n=60*24*7)\n",
    "\n",
    "price_rv.describe()"
   ]
  },
  {
   "cell_type": "code",
   "execution_count": 8,
   "metadata": {},
   "outputs": [],
   "source": [
    "from demeter.broker import helper\n",
    "\n",
    "def tick_to_price(tick):\n",
    "\n",
    "    price = helper.tick_to_quote_price(tick, 6,18,True)\n",
    "\n",
    "    return price\n"
   ]
  },
  {
   "cell_type": "code",
   "execution_count": 9,
   "metadata": {},
   "outputs": [],
   "source": [
    "# file_dir=\"../demeter/data\"\n",
    "# all_file_list=os.listdir(file_dir)\n",
    "# for single_file in all_file_list:\n",
    "#     # 逐个读取 \n",
    "#     single_data_frame=pd.read_csv(os.path.join(file_dir,single_file))\n",
    "#     if single_file ==all_file_list[0]:\n",
    "# \t    all_data_frame=single_data_frame\n",
    "#     else:  #进行concat操作       \n",
    "#         all_data_frame=pd.concat([all_data_frame,\n",
    "#                     single_data_frame],ignore_index=True)\n",
    "\n",
    "# all_data_frame"
   ]
  },
  {
   "cell_type": "code",
   "execution_count": 10,
   "metadata": {},
   "outputs": [
    {
     "ename": "NameError",
     "evalue": "name 'all_data_frame' is not defined",
     "output_type": "error",
     "traceback": [
      "\u001b[0;31m---------------------------------------------------------------------------\u001b[0m",
      "\u001b[0;31mNameError\u001b[0m                                 Traceback (most recent call last)",
      "\u001b[1;32m/Users/scottliyq/go/hardhat_space/demeter/working/hedge_rv.ipynb Cell 9\u001b[0m in \u001b[0;36m<cell line: 1>\u001b[0;34m()\u001b[0m\n\u001b[0;32m----> <a href='vscode-notebook-cell:/Users/scottliyq/go/hardhat_space/demeter/working/hedge_rv.ipynb#X11sZmlsZQ%3D%3D?line=0'>1</a>\u001b[0m all_data_frame[\u001b[39m'\u001b[39m\u001b[39mclose_price\u001b[39m\u001b[39m'\u001b[39m] \u001b[39m=\u001b[39m all_data_frame[\u001b[39m'\u001b[39m\u001b[39mcloseTick\u001b[39m\u001b[39m'\u001b[39m]\u001b[39m.\u001b[39mapply(tick_to_price)\n",
      "\u001b[0;31mNameError\u001b[0m: name 'all_data_frame' is not defined"
     ]
    }
   ],
   "source": [
    "all_data_frame['close_price'] = all_data_frame['closeTick'].apply(tick_to_price)\n",
    "\n"
   ]
  },
  {
   "cell_type": "code",
   "execution_count": null,
   "metadata": {},
   "outputs": [],
   "source": [
    "price_rv = ma_rv(all_data_frame['close_price'],n=60*24*1)\n",
    "\n",
    "price_rv.describe()"
   ]
  },
  {
   "cell_type": "code",
   "execution_count": null,
   "metadata": {},
   "outputs": [],
   "source": []
  }
 ],
 "metadata": {
  "kernelspec": {
   "display_name": "Python 3.10.6 ('py310btc')",
   "language": "python",
   "name": "python3"
  },
  "language_info": {
   "codemirror_mode": {
    "name": "ipython",
    "version": 3
   },
   "file_extension": ".py",
   "mimetype": "text/x-python",
   "name": "python",
   "nbconvert_exporter": "python",
   "pygments_lexer": "ipython3",
   "version": "3.10.6"
  },
  "orig_nbformat": 4,
  "vscode": {
   "interpreter": {
    "hash": "abcf340a9bfefc31ecafadbd09739eb19479e953f794e77621cd271022fdffd8"
   }
  }
 },
 "nbformat": 4,
 "nbformat_minor": 2
}
